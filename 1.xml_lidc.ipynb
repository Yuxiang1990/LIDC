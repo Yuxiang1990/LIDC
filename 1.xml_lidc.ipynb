{
 "cells": [
  {
   "cell_type": "code",
   "execution_count": 1,
   "metadata": {
    "collapsed": true
   },
   "outputs": [],
   "source": [
    "lidc_path = \"/home/mengdi/DataShare/LIDC/LIDC-IDRI/DOI/LIDC-IDRI-0001\""
   ]
  },
  {
   "cell_type": "code",
   "execution_count": 2,
   "metadata": {
    "collapsed": true
   },
   "outputs": [],
   "source": [
    "import os\n",
    "import glob\n",
    "import json\n",
    "import warnings\n",
    "\n",
    "from bs4 import BeautifulSoup\n",
    "import dicom\n",
    "import numpy as np\n",
    "from matplotlib.path import Path\n",
    "import pandas as pd"
   ]
  },
  {
   "cell_type": "code",
   "execution_count": 3,
   "metadata": {
    "collapsed": true
   },
   "outputs": [],
   "source": [
    "class PathParser:\n",
    "\n",
    "    def __init__(self, folder):\n",
    "        self.folder = folder\n",
    "        self.target_folder = self._select_target_sub_folder(\n",
    "            glob.glob(folder + \"/*\"))\n",
    "        self.xml_path = self._get_xml_path()\n",
    "        self.dcm_paths = self._get_dcm_paths()\n",
    "\n",
    "    def _select_target_sub_folder(self, subfolders):\n",
    "        file_count = [len(glob.glob(p + '/*/*.dcm')) for p in subfolders]\n",
    "        target = max(zip(file_count, subfolders))\n",
    "        return target[1]\n",
    "\n",
    "    def _get_xml_path(self):\n",
    "        xml_path = glob.glob(self.target_folder + \"/*/*.xml\")\n",
    "#         assert len(xml_path) == 1, self.folder\n",
    "        return xml_path[0]\n",
    "\n",
    "    def _get_dcm_paths(self):\n",
    "        dcm_paths = glob.glob(self.target_folder + \"/*/*.dcm\")\n",
    "        assert dcm_paths, self.folder\n",
    "        return dcm_paths"
   ]
  },
  {
   "cell_type": "code",
   "execution_count": 15,
   "metadata": {},
   "outputs": [],
   "source": [
    "class XMLParser:\n",
    "\n",
    "    def __init__(self, path):\n",
    "        self.path = path\n",
    "        with open(path) as f:\n",
    "            self.soup = BeautifulSoup(f.read(), \"xml\")\n",
    "        self.parsed_dict = self._parse()\n",
    "\n",
    "    def pprint(self):\n",
    "        print(self.soup.prettify())\n",
    "\n",
    "    def _parse(self):\n",
    "        self.ret = {}\n",
    "        readingSessions = self.soup.find_all('readingSession')\n",
    "#         assert len(readingSessions) == 4, self.path\n",
    "        return {'readingSession':\n",
    "                [self._parse_unblindedReadNodule(sess.find_all('unblindedReadNodule'), sess.find_all('nonNodule'))\n",
    "                 for sess in readingSessions]}\n",
    "\n",
    "    def _parse_unblindedReadNodule(self, unblindedReadNodules, nonNodules):\n",
    "        nodule_large_than_3mm = [\n",
    "            node for node in unblindedReadNodules if node.find('characteristics')]\n",
    "        \n",
    "        nodule_small_than_3mm = [\n",
    "            node for node in unblindedReadNodules if not node.find('characteristics')]\n",
    "        \n",
    "        if not nodule_large_than_3mm:\n",
    "            warnings.warn(\"no large nodule for \" + self.path)\n",
    "        return {\"large_nodules\": [{\"nodule_feature\": self._parse_malignancy(nodule),\n",
    "                                   \"roi\": [self._parse_roi(roi) for roi in nodule.find_all('roi')]}\n",
    "                                  for nodule in nodule_large_than_3mm],\n",
    "               \"small_nodules\":[{\"roi\": [self._parse_roi(roi) for roi in nodule.find_all('roi')]} \n",
    "                                for nodule in nodule_small_than_3mm],\n",
    "               \"unnodles\":[{\"roi\": [self._parse_unnodule_roi(unnodule)]} \n",
    "                                for unnodule in nonNodules]}\n",
    "\n",
    "    def _parse_malignancy(self, nodule):\n",
    "        feature_list = ['subtlety', 'internalStructure', 'calcification', 'sphericity',\n",
    "                       'margin', 'lobulation', 'spiculation', 'texture', 'malignancy']\n",
    "        try:\n",
    "            feature = [{f: int(nodule.find('characteristics').find(f).string) for f in feature_list}]\n",
    "            return feature\n",
    "        except:\n",
    "            return []\n",
    "\n",
    "    def _parse_roi(self, roi):\n",
    "        imageZposition = float(roi.find('imageZposition').string)\n",
    "        xCoords = [int(x.string) for x in roi.find_all('xCoord')]\n",
    "        yCoords = [int(x.string) for x in roi.find_all('yCoord')]\n",
    "        assert len(xCoords) == len(yCoords), self.path\n",
    "        return {\"imageZposition\": imageZposition,\n",
    "                \"coords\": list(zip(xCoords, yCoords))}\n",
    "    \n",
    "    def _parse_unnodule_roi(self, unnodule):\n",
    "        imageZposition = float(unnodule.find('imageZposition').string)\n",
    "        xCoords = int(unnodule.find('xCoord').string)\n",
    "        yCoords = int(unnodule.find('yCoord').string)\n",
    "#         assert len(xCoords) == len(yCoords), self.path\n",
    "        return {\"imageZposition\": imageZposition,\n",
    "                \"coords\": list([xCoords, yCoords])}\n",
    "\n",
    "    def dump(self, filename):\n",
    "        with open(filename, 'w') as f:\n",
    "            f.write(self.dumps())\n",
    "\n",
    "    def dumps(self):\n",
    "        return json.dumps(self.parsed_dict, indent=4)"
   ]
  },
  {
   "cell_type": "markdown",
   "metadata": {},
   "source": [
    "# create xml_json"
   ]
  },
  {
   "cell_type": "code",
   "execution_count": 17,
   "metadata": {},
   "outputs": [
    {
     "name": "stderr",
     "output_type": "stream",
     "text": [
      "/home/mengdi/anaconda3/lib/python3.5/site-packages/ipykernel/__main__.py:28: UserWarning: no large nodule for /home/mengdi/DataShare/LIDC/LIDC-IDRI/DOI/LIDC-IDRI-0009/1.3.6.1.4.1.14519.5.2.1.6279.6001.225213110794629789874295007045/1.3.6.1.4.1.14519.5.2.1.6279.6001.286061375572911414226912429210/085.xml\n",
      "/home/mengdi/anaconda3/lib/python3.5/site-packages/ipykernel/__main__.py:28: UserWarning: no large nodule for /home/mengdi/DataShare/LIDC/LIDC-IDRI/DOI/LIDC-IDRI-0019/1.3.6.1.4.1.14519.5.2.1.6279.6001.192544770425703459348950670623/1.3.6.1.4.1.14519.5.2.1.6279.6001.330425234131526435132846006585/103.xml\n",
      "/home/mengdi/anaconda3/lib/python3.5/site-packages/ipykernel/__main__.py:28: UserWarning: no large nodule for /home/mengdi/DataShare/LIDC/LIDC-IDRI/DOI/LIDC-IDRI-0022/1.3.6.1.4.1.14519.5.2.1.6279.6001.765927507488089285529132136179/1.3.6.1.4.1.14519.5.2.1.6279.6001.296863826932699509516219450076/110.xml\n",
      "/home/mengdi/anaconda3/lib/python3.5/site-packages/ipykernel/__main__.py:28: UserWarning: no large nodule for /home/mengdi/DataShare/LIDC/LIDC-IDRI/DOI/LIDC-IDRI-0025/1.3.6.1.4.1.14519.5.2.1.6279.6001.635629010879455042713206694910/1.3.6.1.4.1.14519.5.2.1.6279.6001.564534197011295112247542153557/115.xml\n",
      "/home/mengdi/anaconda3/lib/python3.5/site-packages/ipykernel/__main__.py:28: UserWarning: no large nodule for /home/mengdi/DataShare/LIDC/LIDC-IDRI/DOI/LIDC-IDRI-0026/1.3.6.1.4.1.14519.5.2.1.6279.6001.279133908903915300821612602665/1.3.6.1.4.1.14519.5.2.1.6279.6001.101228986346984399347858840086/117.xml\n",
      "/home/mengdi/anaconda3/lib/python3.5/site-packages/ipykernel/__main__.py:28: UserWarning: no large nodule for /home/mengdi/DataShare/LIDC/LIDC-IDRI/DOI/LIDC-IDRI-0028/1.3.6.1.4.1.14519.5.2.1.6279.6001.313822485916980529517495660855/1.3.6.1.4.1.14519.5.2.1.6279.6001.203741923654363010377298352671/121.xml\n",
      "/home/mengdi/anaconda3/lib/python3.5/site-packages/ipykernel/__main__.py:28: UserWarning: no large nodule for /home/mengdi/DataShare/LIDC/LIDC-IDRI/DOI/LIDC-IDRI-0029/1.3.6.1.4.1.14519.5.2.1.6279.6001.788972240715000723677133060452/1.3.6.1.4.1.14519.5.2.1.6279.6001.264090899378396711987322794314/123.xml\n",
      "/home/mengdi/anaconda3/lib/python3.5/site-packages/ipykernel/__main__.py:28: UserWarning: no large nodule for /home/mengdi/DataShare/LIDC/LIDC-IDRI/DOI/LIDC-IDRI-0030/1.3.6.1.4.1.14519.5.2.1.6279.6001.573428694448853086196304337865/1.3.6.1.4.1.14519.5.2.1.6279.6001.986011151772797848993829243183/125.xml\n",
      "/home/mengdi/anaconda3/lib/python3.5/site-packages/ipykernel/__main__.py:28: UserWarning: no large nodule for /home/mengdi/DataShare/LIDC/LIDC-IDRI/DOI/LIDC-IDRI-0032/1.3.6.1.4.1.14519.5.2.1.6279.6001.188500211166440175211144953482/1.3.6.1.4.1.14519.5.2.1.6279.6001.803808126682275425758092691689/129.xml\n",
      "/home/mengdi/anaconda3/lib/python3.5/site-packages/ipykernel/__main__.py:28: UserWarning: no large nodule for /home/mengdi/DataShare/LIDC/LIDC-IDRI/DOI/LIDC-IDRI-0034/1.3.6.1.4.1.14519.5.2.1.6279.6001.229800514909823088973473373045/1.3.6.1.4.1.14519.5.2.1.6279.6001.338447145504282422142824032832/133.xml\n",
      "/home/mengdi/anaconda3/lib/python3.5/site-packages/ipykernel/__main__.py:28: UserWarning: no large nodule for /home/mengdi/DataShare/LIDC/LIDC-IDRI/DOI/LIDC-IDRI-0035/1.3.6.1.4.1.14519.5.2.1.6279.6001.131386286964058684099078579332/1.3.6.1.4.1.14519.5.2.1.6279.6001.161002239822118346732951898613/134.xml\n",
      "/home/mengdi/anaconda3/lib/python3.5/site-packages/ipykernel/__main__.py:28: UserWarning: no large nodule for /home/mengdi/DataShare/LIDC/LIDC-IDRI/DOI/LIDC-IDRI-0038/1.3.6.1.4.1.14519.5.2.1.6279.6001.127335250316932247803669656678/1.3.6.1.4.1.14519.5.2.1.6279.6001.117383608379722740629083782428/140.xml\n",
      "/home/mengdi/anaconda3/lib/python3.5/site-packages/ipykernel/__main__.py:28: UserWarning: no large nodule for /home/mengdi/DataShare/LIDC/LIDC-IDRI/DOI/LIDC-IDRI-0048/1.3.6.1.4.1.14519.5.2.1.6279.6001.208177797605474151106520124306/1.3.6.1.4.1.14519.5.2.1.6279.6001.250863365157630276148828903732/161.xml\n",
      "/home/mengdi/anaconda3/lib/python3.5/site-packages/ipykernel/__main__.py:28: UserWarning: no large nodule for /home/mengdi/DataShare/LIDC/LIDC-IDRI/DOI/LIDC-IDRI-0062/1.3.6.1.4.1.14519.5.2.1.6279.6001.121427641977993595256234865955/1.3.6.1.4.1.14519.5.2.1.6279.6001.210426531621179400035178209430/195.xml\n",
      "/home/mengdi/anaconda3/lib/python3.5/site-packages/ipykernel/__main__.py:28: UserWarning: no large nodule for /home/mengdi/DataShare/LIDC/LIDC-IDRI/DOI/LIDC-IDRI-0065/1.3.6.1.4.1.14519.5.2.1.6279.6001.107410301078591208486461903808/1.3.6.1.4.1.14519.5.2.1.6279.6001.163217526257871051722166468085/201.xml\n",
      "/home/mengdi/anaconda3/lib/python3.5/site-packages/ipykernel/__main__.py:28: UserWarning: no large nodule for /home/mengdi/DataShare/LIDC/LIDC-IDRI/DOI/LIDC-IDRI-0070/1.3.6.1.4.1.14519.5.2.1.6279.6001.101493103577576219860121359500/1.3.6.1.4.1.14519.5.2.1.6279.6001.178391668569567816549737454720/210.xml\n",
      "/home/mengdi/anaconda3/lib/python3.5/site-packages/ipykernel/__main__.py:28: UserWarning: no large nodule for /home/mengdi/DataShare/LIDC/LIDC-IDRI/DOI/LIDC-IDRI-0071/1.3.6.1.4.1.14519.5.2.1.6279.6001.194873495479991751098187519883/1.3.6.1.4.1.14519.5.2.1.6279.6001.290410217650314119074833254861/212.xml\n",
      "/home/mengdi/anaconda3/lib/python3.5/site-packages/ipykernel/__main__.py:28: UserWarning: no large nodule for /home/mengdi/DataShare/LIDC/LIDC-IDRI/DOI/LIDC-IDRI-0072/1.3.6.1.4.1.14519.5.2.1.6279.6001.124918015490899130716961145499/1.3.6.1.4.1.14519.5.2.1.6279.6001.153985109349433321657655488650/215.xml\n",
      "/home/mengdi/anaconda3/lib/python3.5/site-packages/ipykernel/__main__.py:28: UserWarning: no large nodule for /home/mengdi/DataShare/LIDC/LIDC-IDRI/DOI/LIDC-IDRI-0074/1.3.6.1.4.1.14519.5.2.1.6279.6001.155364374491657276710118621544/1.3.6.1.4.1.14519.5.2.1.6279.6001.339546614783708685476232944897/218.xml\n",
      "/home/mengdi/anaconda3/lib/python3.5/site-packages/ipykernel/__main__.py:28: UserWarning: no large nodule for /home/mengdi/DataShare/LIDC/LIDC-IDRI/DOI/LIDC-IDRI-0082/1.3.6.1.4.1.14519.5.2.1.6279.6001.305196230708291505432654379176/1.3.6.1.4.1.14519.5.2.1.6279.6001.652347820272212119124022644822/233.xml\n",
      "/home/mengdi/anaconda3/lib/python3.5/site-packages/ipykernel/__main__.py:28: UserWarning: no large nodule for /home/mengdi/DataShare/LIDC/LIDC-IDRI/DOI/LIDC-IDRI-0084/1.3.6.1.4.1.14519.5.2.1.6279.6001.198480745206106280149820227940/1.3.6.1.4.1.14519.5.2.1.6279.6001.288701997968615460794642979503/236.xml\n",
      "/home/mengdi/anaconda3/lib/python3.5/site-packages/ipykernel/__main__.py:28: UserWarning: no large nodule for /home/mengdi/DataShare/LIDC/LIDC-IDRI/DOI/LIDC-IDRI-0086/1.3.6.1.4.1.14519.5.2.1.6279.6001.442836465012574652961690947717/1.3.6.1.4.1.14519.5.2.1.6279.6001.145580766024236783540879444879/240.xml\n",
      "/home/mengdi/anaconda3/lib/python3.5/site-packages/ipykernel/__main__.py:28: UserWarning: no large nodule for /home/mengdi/DataShare/LIDC/LIDC-IDRI/DOI/LIDC-IDRI-0087/1.3.6.1.4.1.14519.5.2.1.6279.6001.229388260375062685257395968125/1.3.6.1.4.1.14519.5.2.1.6279.6001.194632613233275988184244485809/243.xml\n",
      "/home/mengdi/anaconda3/lib/python3.5/site-packages/ipykernel/__main__.py:28: UserWarning: no large nodule for /home/mengdi/DataShare/LIDC/LIDC-IDRI/DOI/LIDC-IDRI-0096/1.3.6.1.4.1.14519.5.2.1.6279.6001.264122020925099449244490627864/1.3.6.1.4.1.14519.5.2.1.6279.6001.310548927038333190233889983845/259.xml\n",
      "/home/mengdi/anaconda3/lib/python3.5/site-packages/ipykernel/__main__.py:28: UserWarning: no large nodule for /home/mengdi/DataShare/LIDC/LIDC-IDRI/DOI/LIDC-IDRI-0097/1.3.6.1.4.1.14519.5.2.1.6279.6001.282376078213521832826757169162/1.3.6.1.4.1.14519.5.2.1.6279.6001.461155505515403114280165935891/262.xml\n",
      "/home/mengdi/anaconda3/lib/python3.5/site-packages/ipykernel/__main__.py:28: UserWarning: no large nodule for /home/mengdi/DataShare/LIDC/LIDC-IDRI/DOI/LIDC-IDRI-0098/1.3.6.1.4.1.14519.5.2.1.6279.6001.217795632219483181846615097960/1.3.6.1.4.1.14519.5.2.1.6279.6001.286524966129599998397777745271/263.xml\n",
      "/home/mengdi/anaconda3/lib/python3.5/site-packages/ipykernel/__main__.py:28: UserWarning: no large nodule for /home/mengdi/DataShare/LIDC/LIDC-IDRI/DOI/LIDC-IDRI-0100/1.3.6.1.4.1.14519.5.2.1.6279.6001.318037728418742799972533240731/1.3.6.1.4.1.14519.5.2.1.6279.6001.622243923620914676263059698181/268.xml\n",
      "/home/mengdi/anaconda3/lib/python3.5/site-packages/ipykernel/__main__.py:28: UserWarning: no large nodule for /home/mengdi/DataShare/LIDC/LIDC-IDRI/DOI/LIDC-IDRI-0101/1.3.6.1.4.1.14519.5.2.1.6279.6001.584233139051825667176600857752/1.3.6.1.4.1.14519.5.2.1.6279.6001.340202188094259402036602717327/161.xml\n"
     ]
    },
    {
     "name": "stderr",
     "output_type": "stream",
     "text": [
      "/home/mengdi/anaconda3/lib/python3.5/site-packages/ipykernel/__main__.py:28: UserWarning: no large nodule for /home/mengdi/DataShare/LIDC/LIDC-IDRI/DOI/LIDC-IDRI-0102/1.3.6.1.4.1.14519.5.2.1.6279.6001.144098736774350495825430776051/1.3.6.1.4.1.14519.5.2.1.6279.6001.234400932423244218697302970157/270.xml\n",
      "/home/mengdi/anaconda3/lib/python3.5/site-packages/ipykernel/__main__.py:28: UserWarning: no large nodule for /home/mengdi/DataShare/LIDC/LIDC-IDRI/DOI/LIDC-IDRI-0105/1.3.6.1.4.1.14519.5.2.1.6279.6001.301771434938229546704232023262/1.3.6.1.4.1.14519.5.2.1.6279.6001.745109871503276594185453478952/277.xml\n",
      "/home/mengdi/anaconda3/lib/python3.5/site-packages/ipykernel/__main__.py:28: UserWarning: no large nodule for /home/mengdi/DataShare/LIDC/LIDC-IDRI/DOI/LIDC-IDRI-0110/1.3.6.1.4.1.14519.5.2.1.6279.6001.924939006160714533549353726515/1.3.6.1.4.1.14519.5.2.1.6279.6001.311102747717834916358933873912/162.xml\n",
      "/home/mengdi/anaconda3/lib/python3.5/site-packages/ipykernel/__main__.py:28: UserWarning: no large nodule for /home/mengdi/DataShare/LIDC/LIDC-IDRI/DOI/LIDC-IDRI-0113/1.3.6.1.4.1.14519.5.2.1.6279.6001.313935464622070730633776692194/1.3.6.1.4.1.14519.5.2.1.6279.6001.336225579776978874775723463327/291.xml\n",
      "/home/mengdi/anaconda3/lib/python3.5/site-packages/ipykernel/__main__.py:28: UserWarning: no large nodule for /home/mengdi/DataShare/LIDC/LIDC-IDRI/DOI/LIDC-IDRI-0123/1.3.6.1.4.1.14519.5.2.1.6279.6001.222363923835851360513495795866/1.3.6.1.4.1.14519.5.2.1.6279.6001.103115201714075993579787468219/007.xml\n",
      "/home/mengdi/anaconda3/lib/python3.5/site-packages/ipykernel/__main__.py:28: UserWarning: no large nodule for /home/mengdi/DataShare/LIDC/LIDC-IDRI/DOI/LIDC-IDRI-0125/1.3.6.1.4.1.14519.5.2.1.6279.6001.274533538808543280646156261676/1.3.6.1.4.1.14519.5.2.1.6279.6001.316393351033132458296975008261/011.xml\n",
      "/home/mengdi/anaconda3/lib/python3.5/site-packages/ipykernel/__main__.py:28: UserWarning: no large nodule for /home/mengdi/DataShare/LIDC/LIDC-IDRI/DOI/LIDC-IDRI-0127/1.3.6.1.4.1.14519.5.2.1.6279.6001.195975724868929317649402600442/1.3.6.1.4.1.14519.5.2.1.6279.6001.229343399861261429237689489892/173.xml\n",
      "/home/mengdi/anaconda3/lib/python3.5/site-packages/ipykernel/__main__.py:28: UserWarning: no large nodule for /home/mengdi/DataShare/LIDC/LIDC-IDRI/DOI/LIDC-IDRI-0136/1.3.6.1.4.1.14519.5.2.1.6279.6001.338445093314190310902086699869/1.3.6.1.4.1.14519.5.2.1.6279.6001.207201727479884428632451006739/165.xml\n",
      "/home/mengdi/anaconda3/lib/python3.5/site-packages/ipykernel/__main__.py:28: UserWarning: no large nodule for /home/mengdi/DataShare/LIDC/LIDC-IDRI/DOI/LIDC-IDRI-0138/1.3.6.1.4.1.14519.5.2.1.6279.6001.752603750437458841409277737148/1.3.6.1.4.1.14519.5.2.1.6279.6001.104780906131535625872840889059/034.xml\n",
      "/home/mengdi/anaconda3/lib/python3.5/site-packages/ipykernel/__main__.py:28: UserWarning: no large nodule for /home/mengdi/DataShare/LIDC/LIDC-IDRI/DOI/LIDC-IDRI-0143/1.3.6.1.4.1.14519.5.2.1.6279.6001.973595488903805096383507205745/1.3.6.1.4.1.14519.5.2.1.6279.6001.314836406260772370397541392345/044.xml\n",
      "/home/mengdi/anaconda3/lib/python3.5/site-packages/ipykernel/__main__.py:28: UserWarning: no large nodule for /home/mengdi/DataShare/LIDC/LIDC-IDRI/DOI/LIDC-IDRI-0147/1.3.6.1.4.1.14519.5.2.1.6279.6001.899353684702041035700102438716/1.3.6.1.4.1.14519.5.2.1.6279.6001.188059920088313909273628445208/052.xml\n",
      "/home/mengdi/anaconda3/lib/python3.5/site-packages/ipykernel/__main__.py:28: UserWarning: no large nodule for /home/mengdi/DataShare/LIDC/LIDC-IDRI/DOI/LIDC-IDRI-0150/1.3.6.1.4.1.14519.5.2.1.6279.6001.249778071616205114955151949358/1.3.6.1.4.1.14519.5.2.1.6279.6001.400871509992541458184881866614/166.xml\n",
      "/home/mengdi/anaconda3/lib/python3.5/site-packages/ipykernel/__main__.py:28: UserWarning: no large nodule for /home/mengdi/DataShare/LIDC/LIDC-IDRI/DOI/LIDC-IDRI-0155/1.3.6.1.4.1.14519.5.2.1.6279.6001.143992300791476122502099615811/1.3.6.1.4.1.14519.5.2.1.6279.6001.238042459915048190592571019348/065.xml\n",
      "/home/mengdi/anaconda3/lib/python3.5/site-packages/ipykernel/__main__.py:28: UserWarning: no large nodule for /home/mengdi/DataShare/LIDC/LIDC-IDRI/DOI/LIDC-IDRI-0157/1.3.6.1.4.1.14519.5.2.1.6279.6001.229037285595999197108233114060/1.3.6.1.4.1.14519.5.2.1.6279.6001.436403998650924660479049012235/070.xml\n",
      "/home/mengdi/anaconda3/lib/python3.5/site-packages/ipykernel/__main__.py:28: UserWarning: no large nodule for /home/mengdi/DataShare/LIDC/LIDC-IDRI/DOI/LIDC-IDRI-0165/1.3.6.1.4.1.14519.5.2.1.6279.6001.253123637959400428278268237946/1.3.6.1.4.1.14519.5.2.1.6279.6001.320967206808467952819309001585/086.xml\n",
      "/home/mengdi/anaconda3/lib/python3.5/site-packages/ipykernel/__main__.py:28: UserWarning: no large nodule for /home/mengdi/DataShare/LIDC/LIDC-IDRI/DOI/LIDC-IDRI-0166/1.3.6.1.4.1.14519.5.2.1.6279.6001.159154526664736300420420966290/1.3.6.1.4.1.14519.5.2.1.6279.6001.120842785645314664964010792308/088.xml\n",
      "/home/mengdi/anaconda3/lib/python3.5/site-packages/ipykernel/__main__.py:28: UserWarning: no large nodule for /home/mengdi/DataShare/LIDC/LIDC-IDRI/DOI/LIDC-IDRI-0167/1.3.6.1.4.1.14519.5.2.1.6279.6001.327833349640691088534060439127/1.3.6.1.4.1.14519.5.2.1.6279.6001.336198008634390022174744544656/090.xml\n",
      "/home/mengdi/anaconda3/lib/python3.5/site-packages/ipykernel/__main__.py:28: UserWarning: no large nodule for /home/mengdi/DataShare/LIDC/LIDC-IDRI/DOI/LIDC-IDRI-0173/1.3.6.1.4.1.14519.5.2.1.6279.6001.278420383577925795821592801973/1.3.6.1.4.1.14519.5.2.1.6279.6001.279953669991076107785464313394/102.xml\n",
      "/home/mengdi/anaconda3/lib/python3.5/site-packages/ipykernel/__main__.py:28: UserWarning: no large nodule for /home/mengdi/DataShare/LIDC/LIDC-IDRI/DOI/LIDC-IDRI-0174/1.3.6.1.4.1.14519.5.2.1.6279.6001.178508585973524477692282321864/1.3.6.1.4.1.14519.5.2.1.6279.6001.268838889380981659524993261082/103.xml\n",
      "/home/mengdi/anaconda3/lib/python3.5/site-packages/ipykernel/__main__.py:28: UserWarning: no large nodule for /home/mengdi/DataShare/LIDC/LIDC-IDRI/DOI/LIDC-IDRI-0176/1.3.6.1.4.1.14519.5.2.1.6279.6001.267745911637906357699108280139/1.3.6.1.4.1.14519.5.2.1.6279.6001.397202838387416555106806022938/107.xml\n",
      "/home/mengdi/anaconda3/lib/python3.5/site-packages/ipykernel/__main__.py:28: UserWarning: no large nodule for /home/mengdi/DataShare/LIDC/LIDC-IDRI/DOI/LIDC-IDRI-0178/1.3.6.1.4.1.14519.5.2.1.6279.6001.218441204865582835284481030822/1.3.6.1.4.1.14519.5.2.1.6279.6001.140527383975300992150799777603/111.xml\n",
      "/home/mengdi/anaconda3/lib/python3.5/site-packages/ipykernel/__main__.py:28: UserWarning: no large nodule for /home/mengdi/DataShare/LIDC/LIDC-IDRI/DOI/LIDC-IDRI-0180/1.3.6.1.4.1.14519.5.2.1.6279.6001.563554930011057425448972918752/1.3.6.1.4.1.14519.5.2.1.6279.6001.470912100568074901744259213968/116.xml\n",
      "/home/mengdi/anaconda3/lib/python3.5/site-packages/ipykernel/__main__.py:28: UserWarning: no large nodule for /home/mengdi/DataShare/LIDC/LIDC-IDRI/DOI/LIDC-IDRI-0189/1.3.6.1.4.1.14519.5.2.1.6279.6001.252138532085237959349640216202/1.3.6.1.4.1.14519.5.2.1.6279.6001.278660284797073139172446973682/131.xml\n",
      "/home/mengdi/anaconda3/lib/python3.5/site-packages/ipykernel/__main__.py:28: UserWarning: no large nodule for /home/mengdi/DataShare/LIDC/LIDC-IDRI/DOI/LIDC-IDRI-0197/1.3.6.1.4.1.14519.5.2.1.6279.6001.166470028796367356611092393530/1.3.6.1.4.1.14519.5.2.1.6279.6001.176362912420491262783064585333/147.xml\n",
      "/home/mengdi/anaconda3/lib/python3.5/site-packages/ipykernel/__main__.py:28: UserWarning: no large nodule for /home/mengdi/DataShare/LIDC/LIDC-IDRI/DOI/LIDC-IDRI-0198/1.3.6.1.4.1.14519.5.2.1.6279.6001.182529561822199780545440408033/1.3.6.1.4.1.14519.5.2.1.6279.6001.465032801496479029639448332481/149.xml\n",
      "/home/mengdi/anaconda3/lib/python3.5/site-packages/ipykernel/__main__.py:28: UserWarning: no large nodule for /home/mengdi/DataShare/LIDC/LIDC-IDRI/DOI/LIDC-IDRI-0200/1.3.6.1.4.1.14519.5.2.1.6279.6001.185852472264155752604841654643/1.3.6.1.4.1.14519.5.2.1.6279.6001.195913706607582347421429908613/153.xml\n",
      "/home/mengdi/anaconda3/lib/python3.5/site-packages/ipykernel/__main__.py:28: UserWarning: no large nodule for /home/mengdi/DataShare/LIDC/LIDC-IDRI/DOI/LIDC-IDRI-0202/1.3.6.1.4.1.14519.5.2.1.6279.6001.145676616748203729170191829666/1.3.6.1.4.1.14519.5.2.1.6279.6001.113697708991260454310623082679/157.xml\n"
     ]
    },
    {
     "name": "stderr",
     "output_type": "stream",
     "text": [
      "/home/mengdi/anaconda3/lib/python3.5/site-packages/ipykernel/__main__.py:28: UserWarning: no large nodule for /home/mengdi/DataShare/LIDC/LIDC-IDRI/DOI/LIDC-IDRI-0205/1.3.6.1.4.1.14519.5.2.1.6279.6001.769199091929930563098632346243/1.3.6.1.4.1.14519.5.2.1.6279.6001.472487466001405705666001578363/164.xml\n",
      "/home/mengdi/anaconda3/lib/python3.5/site-packages/ipykernel/__main__.py:28: UserWarning: no large nodule for /home/mengdi/DataShare/LIDC/LIDC-IDRI/DOI/LIDC-IDRI-0207/1.3.6.1.4.1.14519.5.2.1.6279.6001.324827271082263044582582668595/1.3.6.1.4.1.14519.5.2.1.6279.6001.122621219961396951727742490470/167.xml\n",
      "/home/mengdi/anaconda3/lib/python3.5/site-packages/ipykernel/__main__.py:28: UserWarning: no large nodule for /home/mengdi/DataShare/LIDC/LIDC-IDRI/DOI/LIDC-IDRI-0212/1.3.6.1.4.1.14519.5.2.1.6279.6001.902763751470786794946912471631/1.3.6.1.4.1.14519.5.2.1.6279.6001.261700367741314729940340271960/177.xml\n",
      "/home/mengdi/anaconda3/lib/python3.5/site-packages/ipykernel/__main__.py:28: UserWarning: no large nodule for /home/mengdi/DataShare/LIDC/LIDC-IDRI/DOI/LIDC-IDRI-0214/1.3.6.1.4.1.14519.5.2.1.6279.6001.642978488349899622121412557061/1.3.6.1.4.1.14519.5.2.1.6279.6001.311981398931043315779172047718/181.xml\n",
      "/home/mengdi/anaconda3/lib/python3.5/site-packages/ipykernel/__main__.py:28: UserWarning: no large nodule for /home/mengdi/DataShare/LIDC/LIDC-IDRI/DOI/LIDC-IDRI-0218/1.3.6.1.4.1.14519.5.2.1.6279.6001.193060940991432251540234479399/1.3.6.1.4.1.14519.5.2.1.6279.6001.172845185165807139298420209778/188.xml\n",
      "/home/mengdi/anaconda3/lib/python3.5/site-packages/ipykernel/__main__.py:28: UserWarning: no large nodule for /home/mengdi/DataShare/LIDC/LIDC-IDRI/DOI/LIDC-IDRI-0224/1.3.6.1.4.1.14519.5.2.1.6279.6001.123762279743859921595369834842/1.3.6.1.4.1.14519.5.2.1.6279.6001.188484197846284733942365679565/200.xml\n",
      "/home/mengdi/anaconda3/lib/python3.5/site-packages/ipykernel/__main__.py:28: UserWarning: no large nodule for /home/mengdi/DataShare/LIDC/LIDC-IDRI/DOI/LIDC-IDRI-0225/1.3.6.1.4.1.14519.5.2.1.6279.6001.308605464204651596157794779400/1.3.6.1.4.1.14519.5.2.1.6279.6001.161073793312426102774780216551/203.xml\n",
      "/home/mengdi/anaconda3/lib/python3.5/site-packages/ipykernel/__main__.py:28: UserWarning: no large nodule for /home/mengdi/DataShare/LIDC/LIDC-IDRI/DOI/LIDC-IDRI-0226/1.3.6.1.4.1.14519.5.2.1.6279.6001.230628711415147360622019058241/1.3.6.1.4.1.14519.5.2.1.6279.6001.124656777236468248920498636247/205.xml\n",
      "/home/mengdi/anaconda3/lib/python3.5/site-packages/ipykernel/__main__.py:28: UserWarning: no large nodule for /home/mengdi/DataShare/LIDC/LIDC-IDRI/DOI/LIDC-IDRI-0230/1.3.6.1.4.1.14519.5.2.1.6279.6001.135649280843401063699693855484/1.3.6.1.4.1.14519.5.2.1.6279.6001.328944769569002417592093467626/213.xml\n",
      "/home/mengdi/anaconda3/lib/python3.5/site-packages/ipykernel/__main__.py:28: UserWarning: no large nodule for /home/mengdi/DataShare/LIDC/LIDC-IDRI/DOI/LIDC-IDRI-0231/1.3.6.1.4.1.14519.5.2.1.6279.6001.198021313421875017435046583973/1.3.6.1.4.1.14519.5.2.1.6279.6001.246589849815292078281051154201/214.xml\n",
      "/home/mengdi/anaconda3/lib/python3.5/site-packages/ipykernel/__main__.py:28: UserWarning: no large nodule for /home/mengdi/DataShare/LIDC/LIDC-IDRI/DOI/LIDC-IDRI-0232/1.3.6.1.4.1.14519.5.2.1.6279.6001.456657617221039306684558366650/1.3.6.1.4.1.14519.5.2.1.6279.6001.177985905159808659201278495182/216.xml\n",
      "/home/mengdi/anaconda3/lib/python3.5/site-packages/ipykernel/__main__.py:28: UserWarning: no large nodule for /home/mengdi/DataShare/LIDC/LIDC-IDRI/DOI/LIDC-IDRI-0233/1.3.6.1.4.1.14519.5.2.1.6279.6001.191294111388782437161651532011/1.3.6.1.4.1.14519.5.2.1.6279.6001.188209889686363159853715266493/217.xml\n",
      "/home/mengdi/anaconda3/lib/python3.5/site-packages/ipykernel/__main__.py:28: UserWarning: no large nodule for /home/mengdi/DataShare/LIDC/LIDC-IDRI/DOI/LIDC-IDRI-0239/1.3.6.1.4.1.14519.5.2.1.6279.6001.267231659354181119372720805073/1.3.6.1.4.1.14519.5.2.1.6279.6001.307946352302138765071461362398/228.xml\n",
      "/home/mengdi/anaconda3/lib/python3.5/site-packages/ipykernel/__main__.py:28: UserWarning: no large nodule for /home/mengdi/DataShare/LIDC/LIDC-IDRI/DOI/LIDC-IDRI-0243/1.3.6.1.4.1.14519.5.2.1.6279.6001.190838841811080874400532510738/1.3.6.1.4.1.14519.5.2.1.6279.6001.939216568327879462530496768794/235.xml\n",
      "/home/mengdi/anaconda3/lib/python3.5/site-packages/ipykernel/__main__.py:28: UserWarning: no large nodule for /home/mengdi/DataShare/LIDC/LIDC-IDRI/DOI/LIDC-IDRI-0245/1.3.6.1.4.1.14519.5.2.1.6279.6001.188204058669364993757306038569/1.3.6.1.4.1.14519.5.2.1.6279.6001.320111824803959660037459294083/239.xml\n",
      "/home/mengdi/anaconda3/lib/python3.5/site-packages/ipykernel/__main__.py:28: UserWarning: no large nodule for /home/mengdi/DataShare/LIDC/LIDC-IDRI/DOI/LIDC-IDRI-0247/1.3.6.1.4.1.14519.5.2.1.6279.6001.567798120866426088049494542765/1.3.6.1.4.1.14519.5.2.1.6279.6001.292576688635952269497781991202/244.xml\n",
      "/home/mengdi/anaconda3/lib/python3.5/site-packages/ipykernel/__main__.py:28: UserWarning: no large nodule for /home/mengdi/DataShare/LIDC/LIDC-IDRI/DOI/LIDC-IDRI-0248/1.3.6.1.4.1.14519.5.2.1.6279.6001.202972199430488069905719748096/1.3.6.1.4.1.14519.5.2.1.6279.6001.174168737938619557573021395302/246.xml\n",
      "/home/mengdi/anaconda3/lib/python3.5/site-packages/ipykernel/__main__.py:28: UserWarning: no large nodule for /home/mengdi/DataShare/LIDC/LIDC-IDRI/DOI/LIDC-IDRI-0253/1.3.6.1.4.1.14519.5.2.1.6279.6001.146278570536997032868813883454/1.3.6.1.4.1.14519.5.2.1.6279.6001.143410010885830403003179808334/256.xml\n",
      "/home/mengdi/anaconda3/lib/python3.5/site-packages/ipykernel/__main__.py:28: UserWarning: no large nodule for /home/mengdi/DataShare/LIDC/LIDC-IDRI/DOI/LIDC-IDRI-0256/1.3.6.1.4.1.14519.5.2.1.6279.6001.247813601128055334769770235073/1.3.6.1.4.1.14519.5.2.1.6279.6001.822128649427327893802314908658/261.xml\n",
      "/home/mengdi/anaconda3/lib/python3.5/site-packages/ipykernel/__main__.py:28: UserWarning: no large nodule for /home/mengdi/DataShare/LIDC/LIDC-IDRI/DOI/LIDC-IDRI-0257/1.3.6.1.4.1.14519.5.2.1.6279.6001.429699865856208366565779600254/1.3.6.1.4.1.14519.5.2.1.6279.6001.614147706162329660656328811671/264.xml\n",
      "/home/mengdi/anaconda3/lib/python3.5/site-packages/ipykernel/__main__.py:28: UserWarning: no large nodule for /home/mengdi/DataShare/LIDC/LIDC-IDRI/DOI/LIDC-IDRI-0261/1.3.6.1.4.1.14519.5.2.1.6279.6001.303787857004156773187912154976/1.3.6.1.4.1.14519.5.2.1.6279.6001.280972147860943609388015648430/272.xml\n",
      "/home/mengdi/anaconda3/lib/python3.5/site-packages/ipykernel/__main__.py:28: UserWarning: no large nodule for /home/mengdi/DataShare/LIDC/LIDC-IDRI/DOI/LIDC-IDRI-0266/1.3.6.1.4.1.14519.5.2.1.6279.6001.318387528257740161829281579408/1.3.6.1.4.1.14519.5.2.1.6279.6001.341557859428950960906150406596/281.xml\n",
      "/home/mengdi/anaconda3/lib/python3.5/site-packages/ipykernel/__main__.py:28: UserWarning: no large nodule for /home/mengdi/DataShare/LIDC/LIDC-IDRI/DOI/LIDC-IDRI-0267/1.3.6.1.4.1.14519.5.2.1.6279.6001.324984193116544130562864675468/1.3.6.1.4.1.14519.5.2.1.6279.6001.245181799370098278918756923992/283.xml\n",
      "/home/mengdi/anaconda3/lib/python3.5/site-packages/ipykernel/__main__.py:28: UserWarning: no large nodule for /home/mengdi/DataShare/LIDC/LIDC-IDRI/DOI/LIDC-IDRI-0268/1.3.6.1.4.1.14519.5.2.1.6279.6001.240378069135678893749859521194/1.3.6.1.4.1.14519.5.2.1.6279.6001.203425588524695836343069893813/284.xml\n",
      "/home/mengdi/anaconda3/lib/python3.5/site-packages/ipykernel/__main__.py:28: UserWarning: no large nodule for /home/mengdi/DataShare/LIDC/LIDC-IDRI/DOI/LIDC-IDRI-0269/1.3.6.1.4.1.14519.5.2.1.6279.6001.272747692608963634087245721224/1.3.6.1.4.1.14519.5.2.1.6279.6001.249032660919473722154870746474/287.xml\n",
      "/home/mengdi/anaconda3/lib/python3.5/site-packages/ipykernel/__main__.py:28: UserWarning: no large nodule for /home/mengdi/DataShare/LIDC/LIDC-IDRI/DOI/LIDC-IDRI-0275/1.3.6.1.4.1.14519.5.2.1.6279.6001.104132635304747270459442606987/1.3.6.1.4.1.14519.5.2.1.6279.6001.315918264676377418120578391325/298.xml\n",
      "/home/mengdi/anaconda3/lib/python3.5/site-packages/ipykernel/__main__.py:28: UserWarning: no large nodule for /home/mengdi/DataShare/LIDC/LIDC-IDRI/DOI/LIDC-IDRI-0279/1.3.6.1.4.1.14519.5.2.1.6279.6001.188613405999287070939761806990/1.3.6.1.4.1.14519.5.2.1.6279.6001.248360766706804179966476685510/007.xml\n",
      "/home/mengdi/anaconda3/lib/python3.5/site-packages/ipykernel/__main__.py:28: UserWarning: no large nodule for /home/mengdi/DataShare/LIDC/LIDC-IDRI/DOI/LIDC-IDRI-0280/1.3.6.1.4.1.14519.5.2.1.6279.6001.120891719798974864125658202102/1.3.6.1.4.1.14519.5.2.1.6279.6001.200837896655745926888305239398/008.xml\n"
     ]
    },
    {
     "name": "stderr",
     "output_type": "stream",
     "text": [
      "/home/mengdi/anaconda3/lib/python3.5/site-packages/ipykernel/__main__.py:28: UserWarning: no large nodule for /home/mengdi/DataShare/LIDC/LIDC-IDRI/DOI/LIDC-IDRI-0288/1.3.6.1.4.1.14519.5.2.1.6279.6001.120781932093240979642841947845/1.3.6.1.4.1.14519.5.2.1.6279.6001.171667800241622018839592854574/024.xml\n",
      "/home/mengdi/anaconda3/lib/python3.5/site-packages/ipykernel/__main__.py:28: UserWarning: no large nodule for /home/mengdi/DataShare/LIDC/LIDC-IDRI/DOI/LIDC-IDRI-0290/1.3.6.1.4.1.14519.5.2.1.6279.6001.952440288393343800284327753087/1.3.6.1.4.1.14519.5.2.1.6279.6001.340012777775661021262977442176/029.xml\n",
      "/home/mengdi/anaconda3/lib/python3.5/site-packages/ipykernel/__main__.py:28: UserWarning: no large nodule for /home/mengdi/DataShare/LIDC/LIDC-IDRI/DOI/LIDC-IDRI-0291/1.3.6.1.4.1.14519.5.2.1.6279.6001.471106432014627176550866096857/1.3.6.1.4.1.14519.5.2.1.6279.6001.170825539570536865106681134236/030.xml\n",
      "/home/mengdi/anaconda3/lib/python3.5/site-packages/ipykernel/__main__.py:28: UserWarning: no large nodule for /home/mengdi/DataShare/LIDC/LIDC-IDRI/DOI/LIDC-IDRI-0292/1.3.6.1.4.1.14519.5.2.1.6279.6001.921287276013810837359841315530/1.3.6.1.4.1.14519.5.2.1.6279.6001.171177995014336749670107905732/031.xml\n",
      "/home/mengdi/anaconda3/lib/python3.5/site-packages/ipykernel/__main__.py:28: UserWarning: no large nodule for /home/mengdi/DataShare/LIDC/LIDC-IDRI/DOI/LIDC-IDRI-0293/1.3.6.1.4.1.14519.5.2.1.6279.6001.319937379258174690082873343101/1.3.6.1.4.1.14519.5.2.1.6279.6001.686193079844756926365065559979/032.xml\n",
      "/home/mengdi/anaconda3/lib/python3.5/site-packages/ipykernel/__main__.py:28: UserWarning: no large nodule for /home/mengdi/DataShare/LIDC/LIDC-IDRI/DOI/LIDC-IDRI-0295/1.3.6.1.4.1.14519.5.2.1.6279.6001.184813778824165059499766817473/1.3.6.1.4.1.14519.5.2.1.6279.6001.300693623747082239407271583452/034.xml\n",
      "/home/mengdi/anaconda3/lib/python3.5/site-packages/ipykernel/__main__.py:28: UserWarning: no large nodule for /home/mengdi/DataShare/LIDC/LIDC-IDRI/DOI/LIDC-IDRI-0297/1.3.6.1.4.1.14519.5.2.1.6279.6001.164156833754689412076055510609/1.3.6.1.4.1.14519.5.2.1.6279.6001.428038562098395445838061018440/036.xml\n",
      "/home/mengdi/anaconda3/lib/python3.5/site-packages/ipykernel/__main__.py:28: UserWarning: no large nodule for /home/mengdi/DataShare/LIDC/LIDC-IDRI/DOI/LIDC-IDRI-0301/1.3.6.1.4.1.14519.5.2.1.6279.6001.633670303116637733124704376946/1.3.6.1.4.1.14519.5.2.1.6279.6001.238019241099704094018548301753/040.xml\n",
      "/home/mengdi/anaconda3/lib/python3.5/site-packages/ipykernel/__main__.py:28: UserWarning: no large nodule for /home/mengdi/DataShare/LIDC/LIDC-IDRI/DOI/LIDC-IDRI-0302/1.3.6.1.4.1.14519.5.2.1.6279.6001.906824386019316813789030483695/1.3.6.1.4.1.14519.5.2.1.6279.6001.254929810944557499537650429296/041.xml\n",
      "/home/mengdi/anaconda3/lib/python3.5/site-packages/ipykernel/__main__.py:28: UserWarning: no large nodule for /home/mengdi/DataShare/LIDC/LIDC-IDRI/DOI/LIDC-IDRI-0303/1.3.6.1.4.1.14519.5.2.1.6279.6001.113559330012918930951543504919/1.3.6.1.4.1.14519.5.2.1.6279.6001.258063830035095530590787548770/042.xml\n",
      "/home/mengdi/anaconda3/lib/python3.5/site-packages/ipykernel/__main__.py:28: UserWarning: no large nodule for /home/mengdi/DataShare/LIDC/LIDC-IDRI/DOI/LIDC-IDRI-0304/1.3.6.1.4.1.14519.5.2.1.6279.6001.178854189219941544047372620516/1.3.6.1.4.1.14519.5.2.1.6279.6001.316911475886263032009840828684/043.xml\n",
      "/home/mengdi/anaconda3/lib/python3.5/site-packages/ipykernel/__main__.py:28: UserWarning: no large nodule for /home/mengdi/DataShare/LIDC/LIDC-IDRI/DOI/LIDC-IDRI-0306/1.3.6.1.4.1.14519.5.2.1.6279.6001.204577804822753373728243956413/1.3.6.1.4.1.14519.5.2.1.6279.6001.269689294231892620436462818860/045.xml\n",
      "/home/mengdi/anaconda3/lib/python3.5/site-packages/ipykernel/__main__.py:28: UserWarning: no large nodule for /home/mengdi/DataShare/LIDC/LIDC-IDRI/DOI/LIDC-IDRI-0307/1.3.6.1.4.1.14519.5.2.1.6279.6001.119304150360419538908259539201/1.3.6.1.4.1.14519.5.2.1.6279.6001.283878926524838648426928238498/046.xml\n",
      "/home/mengdi/anaconda3/lib/python3.5/site-packages/ipykernel/__main__.py:28: UserWarning: no large nodule for /home/mengdi/DataShare/LIDC/LIDC-IDRI/DOI/LIDC-IDRI-0312/1.3.6.1.4.1.14519.5.2.1.6279.6001.222626438572167217610357947558/1.3.6.1.4.1.14519.5.2.1.6279.6001.294188507421106424248264912111/051.xml\n",
      "/home/mengdi/anaconda3/lib/python3.5/site-packages/ipykernel/__main__.py:28: UserWarning: no large nodule for /home/mengdi/DataShare/LIDC/LIDC-IDRI/DOI/LIDC-IDRI-0316/1.3.6.1.4.1.14519.5.2.1.6279.6001.219338237072692813716512362570/1.3.6.1.4.1.14519.5.2.1.6279.6001.160216916075817913953530562493/056.xml\n",
      "/home/mengdi/anaconda3/lib/python3.5/site-packages/ipykernel/__main__.py:28: UserWarning: no large nodule for /home/mengdi/DataShare/LIDC/LIDC-IDRI/DOI/LIDC-IDRI-0317/1.3.6.1.4.1.14519.5.2.1.6279.6001.639539378810400142491972900031/1.3.6.1.4.1.14519.5.2.1.6279.6001.122763913896761494371822656720/057.xml\n",
      "/home/mengdi/anaconda3/lib/python3.5/site-packages/ipykernel/__main__.py:28: UserWarning: no large nodule for /home/mengdi/DataShare/LIDC/LIDC-IDRI/DOI/LIDC-IDRI-0318/1.3.6.1.4.1.14519.5.2.1.6279.6001.261859010096419762853634942928/1.3.6.1.4.1.14519.5.2.1.6279.6001.439153572396640163898529626096/058.xml\n",
      "/home/mengdi/anaconda3/lib/python3.5/site-packages/ipykernel/__main__.py:28: UserWarning: no large nodule for /home/mengdi/DataShare/LIDC/LIDC-IDRI/DOI/LIDC-IDRI-0320/1.3.6.1.4.1.14519.5.2.1.6279.6001.172879081603366631101823390088/1.3.6.1.4.1.14519.5.2.1.6279.6001.957384617596077920906744920611/060.xml\n",
      "/home/mengdi/anaconda3/lib/python3.5/site-packages/ipykernel/__main__.py:28: UserWarning: no large nodule for /home/mengdi/DataShare/LIDC/LIDC-IDRI/DOI/LIDC-IDRI-0322/1.3.6.1.4.1.14519.5.2.1.6279.6001.250641079526333087774142717799/1.3.6.1.4.1.14519.5.2.1.6279.6001.191301539558980174217770205256/062.xml\n",
      "/home/mengdi/anaconda3/lib/python3.5/site-packages/ipykernel/__main__.py:28: UserWarning: no large nodule for /home/mengdi/DataShare/LIDC/LIDC-IDRI/DOI/LIDC-IDRI-0324/1.3.6.1.4.1.14519.5.2.1.6279.6001.154819036420703297447036427861/1.3.6.1.4.1.14519.5.2.1.6279.6001.334166493392278943610545989413/064.xml\n",
      "/home/mengdi/anaconda3/lib/python3.5/site-packages/ipykernel/__main__.py:28: UserWarning: no large nodule for /home/mengdi/DataShare/LIDC/LIDC-IDRI/DOI/LIDC-IDRI-0327/1.3.6.1.4.1.14519.5.2.1.6279.6001.301171277391758789763526477213/1.3.6.1.4.1.14519.5.2.1.6279.6001.229664630348267553620068691756/067.xml\n",
      "/home/mengdi/anaconda3/lib/python3.5/site-packages/ipykernel/__main__.py:28: UserWarning: no large nodule for /home/mengdi/DataShare/LIDC/LIDC-IDRI/DOI/LIDC-IDRI-0328/1.3.6.1.4.1.14519.5.2.1.6279.6001.112657410053794387237858900758/1.3.6.1.4.1.14519.5.2.1.6279.6001.156322145453198768801776721493/069.xml\n",
      "/home/mengdi/anaconda3/lib/python3.5/site-packages/ipykernel/__main__.py:28: UserWarning: no large nodule for /home/mengdi/DataShare/LIDC/LIDC-IDRI/DOI/LIDC-IDRI-0329/1.3.6.1.4.1.14519.5.2.1.6279.6001.311543823141683719978679431015/1.3.6.1.4.1.14519.5.2.1.6279.6001.303865116731361029078599241306/068.xml\n",
      "/home/mengdi/anaconda3/lib/python3.5/site-packages/ipykernel/__main__.py:28: UserWarning: no large nodule for /home/mengdi/DataShare/LIDC/LIDC-IDRI/DOI/LIDC-IDRI-0330/1.3.6.1.4.1.14519.5.2.1.6279.6001.462307810912575525200563047628/1.3.6.1.4.1.14519.5.2.1.6279.6001.398955972049286139436103068984/070.xml\n",
      "/home/mengdi/anaconda3/lib/python3.5/site-packages/ipykernel/__main__.py:28: UserWarning: no large nodule for /home/mengdi/DataShare/LIDC/LIDC-IDRI/DOI/LIDC-IDRI-0331/1.3.6.1.4.1.14519.5.2.1.6279.6001.331193890877716548356823279876/1.3.6.1.4.1.14519.5.2.1.6279.6001.191617711875409989053242965150/071.xml\n",
      "/home/mengdi/anaconda3/lib/python3.5/site-packages/ipykernel/__main__.py:28: UserWarning: no large nodule for /home/mengdi/DataShare/LIDC/LIDC-IDRI/DOI/LIDC-IDRI-0333/1.3.6.1.4.1.14519.5.2.1.6279.6001.119282761272977253557254714163/1.3.6.1.4.1.14519.5.2.1.6279.6001.885292267869246639232975687131/074.xml\n",
      "/home/mengdi/anaconda3/lib/python3.5/site-packages/ipykernel/__main__.py:28: UserWarning: no large nodule for /home/mengdi/DataShare/LIDC/LIDC-IDRI/DOI/LIDC-IDRI-0335/1.3.6.1.4.1.14519.5.2.1.6279.6001.559695947493996195628793160329/1.3.6.1.4.1.14519.5.2.1.6279.6001.315187221221054114974341475212/076.xml\n",
      "/home/mengdi/anaconda3/lib/python3.5/site-packages/ipykernel/__main__.py:28: UserWarning: no large nodule for /home/mengdi/DataShare/LIDC/LIDC-IDRI/DOI/LIDC-IDRI-0336/1.3.6.1.4.1.14519.5.2.1.6279.6001.207704304796252670284174280337/1.3.6.1.4.1.14519.5.2.1.6279.6001.194465340552956447447896167830/077.xml\n"
     ]
    },
    {
     "name": "stderr",
     "output_type": "stream",
     "text": [
      "/home/mengdi/anaconda3/lib/python3.5/site-packages/ipykernel/__main__.py:28: UserWarning: no large nodule for /home/mengdi/DataShare/LIDC/LIDC-IDRI/DOI/LIDC-IDRI-0339/1.3.6.1.4.1.14519.5.2.1.6279.6001.183088557662694130014178072362/1.3.6.1.4.1.14519.5.2.1.6279.6001.130438550890816550994739120843/080.xml\n",
      "/home/mengdi/anaconda3/lib/python3.5/site-packages/ipykernel/__main__.py:28: UserWarning: no large nodule for /home/mengdi/DataShare/LIDC/LIDC-IDRI/DOI/LIDC-IDRI-0342/1.3.6.1.4.1.14519.5.2.1.6279.6001.275780758846986096340818362827/1.3.6.1.4.1.14519.5.2.1.6279.6001.897161587681142256575045076919/083.xml\n",
      "/home/mengdi/anaconda3/lib/python3.5/site-packages/ipykernel/__main__.py:28: UserWarning: no large nodule for /home/mengdi/DataShare/LIDC/LIDC-IDRI/DOI/LIDC-IDRI-0349/1.3.6.1.4.1.14519.5.2.1.6279.6001.288600044561367666308581395376/1.3.6.1.4.1.14519.5.2.1.6279.6001.296066944953051278419805374238/090.xml\n",
      "/home/mengdi/anaconda3/lib/python3.5/site-packages/ipykernel/__main__.py:28: UserWarning: no large nodule for /home/mengdi/DataShare/LIDC/LIDC-IDRI/DOI/LIDC-IDRI-0351/1.3.6.1.4.1.14519.5.2.1.6279.6001.125755525194735914218741665527/1.3.6.1.4.1.14519.5.2.1.6279.6001.236452051640243530449001532111/092.xml\n",
      "/home/mengdi/anaconda3/lib/python3.5/site-packages/ipykernel/__main__.py:28: UserWarning: no large nodule for /home/mengdi/DataShare/LIDC/LIDC-IDRI/DOI/LIDC-IDRI-0352/1.3.6.1.4.1.14519.5.2.1.6279.6001.461502489756528153281751961352/1.3.6.1.4.1.14519.5.2.1.6279.6001.272042302501586336192628818865/093.xml\n",
      "/home/mengdi/anaconda3/lib/python3.5/site-packages/ipykernel/__main__.py:28: UserWarning: no large nodule for /home/mengdi/DataShare/LIDC/LIDC-IDRI/DOI/LIDC-IDRI-0354/1.3.6.1.4.1.14519.5.2.1.6279.6001.267607850463096817515575285607/1.3.6.1.4.1.14519.5.2.1.6279.6001.112020141051733785092412736928/095.xml\n",
      "/home/mengdi/anaconda3/lib/python3.5/site-packages/ipykernel/__main__.py:28: UserWarning: no large nodule for /home/mengdi/DataShare/LIDC/LIDC-IDRI/DOI/LIDC-IDRI-0355/1.3.6.1.4.1.14519.5.2.1.6279.6001.246541809203697037171004327898/1.3.6.1.4.1.14519.5.2.1.6279.6001.147979688121667984912633630926/097.xml\n",
      "/home/mengdi/anaconda3/lib/python3.5/site-packages/ipykernel/__main__.py:28: UserWarning: no large nodule for /home/mengdi/DataShare/LIDC/LIDC-IDRI/DOI/LIDC-IDRI-0357/1.3.6.1.4.1.14519.5.2.1.6279.6001.145713291593525654962776610448/1.3.6.1.4.1.14519.5.2.1.6279.6001.125067060506283419853742462394/099.xml\n",
      "/home/mengdi/anaconda3/lib/python3.5/site-packages/ipykernel/__main__.py:28: UserWarning: no large nodule for /home/mengdi/DataShare/LIDC/LIDC-IDRI/DOI/LIDC-IDRI-0361/1.3.6.1.4.1.14519.5.2.1.6279.6001.209507203998549585970049778342/1.3.6.1.4.1.14519.5.2.1.6279.6001.177888806135892723698313903329/103.xml\n",
      "/home/mengdi/anaconda3/lib/python3.5/site-packages/ipykernel/__main__.py:28: UserWarning: no large nodule for /home/mengdi/DataShare/LIDC/LIDC-IDRI/DOI/LIDC-IDRI-0364/1.3.6.1.4.1.14519.5.2.1.6279.6001.198637388008333513506865604242/1.3.6.1.4.1.14519.5.2.1.6279.6001.306140003699110313373771452136/106.xml\n",
      "/home/mengdi/anaconda3/lib/python3.5/site-packages/ipykernel/__main__.py:28: UserWarning: no large nodule for /home/mengdi/DataShare/LIDC/LIDC-IDRI/DOI/LIDC-IDRI-0367/1.3.6.1.4.1.14519.5.2.1.6279.6001.542174473570958426088104535645/1.3.6.1.4.1.14519.5.2.1.6279.6001.205615524269596458818376243313/110.xml\n",
      "/home/mengdi/anaconda3/lib/python3.5/site-packages/ipykernel/__main__.py:28: UserWarning: no large nodule for /home/mengdi/DataShare/LIDC/LIDC-IDRI/DOI/LIDC-IDRI-0370/1.3.6.1.4.1.14519.5.2.1.6279.6001.203511118110447056499830468108/1.3.6.1.4.1.14519.5.2.1.6279.6001.297251044869095073091780740645/113.xml\n",
      "/home/mengdi/anaconda3/lib/python3.5/site-packages/ipykernel/__main__.py:28: UserWarning: no large nodule for /home/mengdi/DataShare/LIDC/LIDC-IDRI/DOI/LIDC-IDRI-0371/1.3.6.1.4.1.14519.5.2.1.6279.6001.407122010994373607607380330242/1.3.6.1.4.1.14519.5.2.1.6279.6001.483655032093002252444764787700/114.xml\n",
      "/home/mengdi/anaconda3/lib/python3.5/site-packages/ipykernel/__main__.py:28: UserWarning: no large nodule for /home/mengdi/DataShare/LIDC/LIDC-IDRI/DOI/LIDC-IDRI-0373/1.3.6.1.4.1.14519.5.2.1.6279.6001.248655117969906530264763921998/1.3.6.1.4.1.14519.5.2.1.6279.6001.799582546798528864710752164515/116.xml\n",
      "/home/mengdi/anaconda3/lib/python3.5/site-packages/ipykernel/__main__.py:28: UserWarning: no large nodule for /home/mengdi/DataShare/LIDC/LIDC-IDRI/DOI/LIDC-IDRI-0374/1.3.6.1.4.1.14519.5.2.1.6279.6001.288142673190348607009892502290/1.3.6.1.4.1.14519.5.2.1.6279.6001.231645134739451754302647733304/117.xml\n",
      "/home/mengdi/anaconda3/lib/python3.5/site-packages/ipykernel/__main__.py:28: UserWarning: no large nodule for /home/mengdi/DataShare/LIDC/LIDC-IDRI/DOI/LIDC-IDRI-0378/1.3.6.1.4.1.14519.5.2.1.6279.6001.229967962418363878052269915938/1.3.6.1.4.1.14519.5.2.1.6279.6001.135792297492008425859352725148/121.xml\n",
      "/home/mengdi/anaconda3/lib/python3.5/site-packages/ipykernel/__main__.py:28: UserWarning: no large nodule for /home/mengdi/DataShare/LIDC/LIDC-IDRI/DOI/LIDC-IDRI-0381/1.3.6.1.4.1.14519.5.2.1.6279.6001.236694495816915149507620783797/1.3.6.1.4.1.14519.5.2.1.6279.6001.141174904898798023569427533813/124.xml\n",
      "/home/mengdi/anaconda3/lib/python3.5/site-packages/ipykernel/__main__.py:28: UserWarning: no large nodule for /home/mengdi/DataShare/LIDC/LIDC-IDRI/DOI/LIDC-IDRI-0382/1.3.6.1.4.1.14519.5.2.1.6279.6001.194100831189794760734545720206/1.3.6.1.4.1.14519.5.2.1.6279.6001.242008481133355578039985255654/125.xml\n",
      "/home/mengdi/anaconda3/lib/python3.5/site-packages/ipykernel/__main__.py:28: UserWarning: no large nodule for /home/mengdi/DataShare/LIDC/LIDC-IDRI/DOI/LIDC-IDRI-0383/1.3.6.1.4.1.14519.5.2.1.6279.6001.290645258537791702736959842739/1.3.6.1.4.1.14519.5.2.1.6279.6001.223650122819238796121876338881/126.xml\n",
      "/home/mengdi/anaconda3/lib/python3.5/site-packages/ipykernel/__main__.py:28: UserWarning: no large nodule for /home/mengdi/DataShare/LIDC/LIDC-IDRI/DOI/LIDC-IDRI-0384/1.3.6.1.4.1.14519.5.2.1.6279.6001.140032007657380601732641072716/1.3.6.1.4.1.14519.5.2.1.6279.6001.205852555362702089950453265567/127.xml\n",
      "/home/mengdi/anaconda3/lib/python3.5/site-packages/ipykernel/__main__.py:28: UserWarning: no large nodule for /home/mengdi/DataShare/LIDC/LIDC-IDRI/DOI/LIDC-IDRI-0389/1.3.6.1.4.1.14519.5.2.1.6279.6001.164624906090117625361272863715/1.3.6.1.4.1.14519.5.2.1.6279.6001.741173887596751104298730976972/132.xml\n",
      "/home/mengdi/anaconda3/lib/python3.5/site-packages/ipykernel/__main__.py:28: UserWarning: no large nodule for /home/mengdi/DataShare/LIDC/LIDC-IDRI/DOI/LIDC-IDRI-0391/1.3.6.1.4.1.14519.5.2.1.6279.6001.226889452118226653325966834723/1.3.6.1.4.1.14519.5.2.1.6279.6001.334184846571549530235084187602/134.xml\n",
      "/home/mengdi/anaconda3/lib/python3.5/site-packages/ipykernel/__main__.py:28: UserWarning: no large nodule for /home/mengdi/DataShare/LIDC/LIDC-IDRI/DOI/LIDC-IDRI-0393/1.3.6.1.4.1.14519.5.2.1.6279.6001.709632041446581971088663252665/1.3.6.1.4.1.14519.5.2.1.6279.6001.200558451375970945040979397866/136.xml\n",
      "/home/mengdi/anaconda3/lib/python3.5/site-packages/ipykernel/__main__.py:28: UserWarning: no large nodule for /home/mengdi/DataShare/LIDC/LIDC-IDRI/DOI/LIDC-IDRI-0396/1.3.6.1.4.1.14519.5.2.1.6279.6001.191417614594472789714997861946/1.3.6.1.4.1.14519.5.2.1.6279.6001.638926179252009401630131318338/139.xml\n",
      "/home/mengdi/anaconda3/lib/python3.5/site-packages/ipykernel/__main__.py:28: UserWarning: no large nodule for /home/mengdi/DataShare/LIDC/LIDC-IDRI/DOI/LIDC-IDRI-0397/1.3.6.1.4.1.14519.5.2.1.6279.6001.111854046978561013667340276013/1.3.6.1.4.1.14519.5.2.1.6279.6001.306558074682524259000586270818/140.xml\n",
      "/home/mengdi/anaconda3/lib/python3.5/site-packages/ipykernel/__main__.py:28: UserWarning: no large nodule for /home/mengdi/DataShare/LIDC/LIDC-IDRI/DOI/LIDC-IDRI-0399/1.3.6.1.4.1.14519.5.2.1.6279.6001.334142682219743556615674397992/1.3.6.1.4.1.14519.5.2.1.6279.6001.237428977311365557972720635401/142.xml\n",
      "/home/mengdi/anaconda3/lib/python3.5/site-packages/ipykernel/__main__.py:28: UserWarning: no large nodule for /home/mengdi/DataShare/LIDC/LIDC-IDRI/DOI/LIDC-IDRI-0401/1.3.6.1.4.1.14519.5.2.1.6279.6001.344370459068774891776634727699/1.3.6.1.4.1.14519.5.2.1.6279.6001.120196332569034738680965284519/144.xml\n"
     ]
    },
    {
     "name": "stderr",
     "output_type": "stream",
     "text": [
      "/home/mengdi/anaconda3/lib/python3.5/site-packages/ipykernel/__main__.py:28: UserWarning: no large nodule for /home/mengdi/DataShare/LIDC/LIDC-IDRI/DOI/LIDC-IDRI-0410/1.3.6.1.4.1.14519.5.2.1.6279.6001.818775038273182869886464190336/1.3.6.1.4.1.14519.5.2.1.6279.6001.100620385482151095585000946543/153.xml\n",
      "/home/mengdi/anaconda3/lib/python3.5/site-packages/ipykernel/__main__.py:28: UserWarning: no large nodule for /home/mengdi/DataShare/LIDC/LIDC-IDRI/DOI/LIDC-IDRI-0413/1.3.6.1.4.1.14519.5.2.1.6279.6001.147078385001386003318643105546/1.3.6.1.4.1.14519.5.2.1.6279.6001.277445975068759205899107114231/156.xml\n",
      "/home/mengdi/anaconda3/lib/python3.5/site-packages/ipykernel/__main__.py:28: UserWarning: no large nodule for /home/mengdi/DataShare/LIDC/LIDC-IDRI/DOI/LIDC-IDRI-0414/1.3.6.1.4.1.14519.5.2.1.6279.6001.213735911041216674787295333807/1.3.6.1.4.1.14519.5.2.1.6279.6001.259737874318594997287940213435/157.xml\n",
      "/home/mengdi/anaconda3/lib/python3.5/site-packages/ipykernel/__main__.py:28: UserWarning: no large nodule for /home/mengdi/DataShare/LIDC/LIDC-IDRI/DOI/LIDC-IDRI-0416/1.3.6.1.4.1.14519.5.2.1.6279.6001.109276391800556245215148059611/1.3.6.1.4.1.14519.5.2.1.6279.6001.569096986145782511000054443951/159.xml\n",
      "/home/mengdi/anaconda3/lib/python3.5/site-packages/ipykernel/__main__.py:28: UserWarning: no large nodule for /home/mengdi/DataShare/LIDC/LIDC-IDRI/DOI/LIDC-IDRI-0417/1.3.6.1.4.1.14519.5.2.1.6279.6001.220535036761911718396433938390/1.3.6.1.4.1.14519.5.2.1.6279.6001.504324996863016748259361352296/160.xml\n",
      "/home/mengdi/anaconda3/lib/python3.5/site-packages/ipykernel/__main__.py:28: UserWarning: no large nodule for /home/mengdi/DataShare/LIDC/LIDC-IDRI/DOI/LIDC-IDRI-0418/1.3.6.1.4.1.14519.5.2.1.6279.6001.119299342156190521650531371464/1.3.6.1.4.1.14519.5.2.1.6279.6001.110499927630654433643791451680/161.xml\n",
      "/home/mengdi/anaconda3/lib/python3.5/site-packages/ipykernel/__main__.py:28: UserWarning: no large nodule for /home/mengdi/DataShare/LIDC/LIDC-IDRI/DOI/LIDC-IDRI-0420/1.3.6.1.4.1.14519.5.2.1.6279.6001.269884215256755446329937557120/1.3.6.1.4.1.14519.5.2.1.6279.6001.276556509002726404418399209377/163.xml\n",
      "/home/mengdi/anaconda3/lib/python3.5/site-packages/ipykernel/__main__.py:28: UserWarning: no large nodule for /home/mengdi/DataShare/LIDC/LIDC-IDRI/DOI/LIDC-IDRI-0422/1.3.6.1.4.1.14519.5.2.1.6279.6001.105692117636167783504567028835/1.3.6.1.4.1.14519.5.2.1.6279.6001.414288023902112119945238126594/165.xml\n",
      "/home/mengdi/anaconda3/lib/python3.5/site-packages/ipykernel/__main__.py:28: UserWarning: no large nodule for /home/mengdi/DataShare/LIDC/LIDC-IDRI/DOI/LIDC-IDRI-0425/1.3.6.1.4.1.14519.5.2.1.6279.6001.324010126067181018301854747805/1.3.6.1.4.1.14519.5.2.1.6279.6001.314519596680450457855054746285/168.xml\n",
      "/home/mengdi/anaconda3/lib/python3.5/site-packages/ipykernel/__main__.py:28: UserWarning: no large nodule for /home/mengdi/DataShare/LIDC/LIDC-IDRI/DOI/LIDC-IDRI-0428/1.3.6.1.4.1.14519.5.2.1.6279.6001.174964960962771041536551145824/1.3.6.1.4.1.14519.5.2.1.6279.6001.197987940182806628828566429132/171.xml\n",
      "/home/mengdi/anaconda3/lib/python3.5/site-packages/ipykernel/__main__.py:28: UserWarning: no large nodule for /home/mengdi/DataShare/LIDC/LIDC-IDRI/DOI/LIDC-IDRI-0431/1.3.6.1.4.1.14519.5.2.1.6279.6001.178054575127307086914328123377/1.3.6.1.4.1.14519.5.2.1.6279.6001.292049618819567427252971059233/174.xml\n",
      "/home/mengdi/anaconda3/lib/python3.5/site-packages/ipykernel/__main__.py:28: UserWarning: no large nodule for /home/mengdi/DataShare/LIDC/LIDC-IDRI/DOI/LIDC-IDRI-0432/1.3.6.1.4.1.14519.5.2.1.6279.6001.278314508776467367928735781601/1.3.6.1.4.1.14519.5.2.1.6279.6001.213022585153512920098588556742/175.xml\n",
      "/home/mengdi/anaconda3/lib/python3.5/site-packages/ipykernel/__main__.py:28: UserWarning: no large nodule for /home/mengdi/DataShare/LIDC/LIDC-IDRI/DOI/LIDC-IDRI-0441/1.3.6.1.4.1.14519.5.2.1.6279.6001.129149578931624472305611751964/1.3.6.1.4.1.14519.5.2.1.6279.6001.221945191226273284587353530424/184.xml\n",
      "/home/mengdi/anaconda3/lib/python3.5/site-packages/ipykernel/__main__.py:28: UserWarning: no large nodule for /home/mengdi/DataShare/LIDC/LIDC-IDRI/DOI/LIDC-IDRI-0444/1.3.6.1.4.1.14519.5.2.1.6279.6001.329613415894061309409362825998/1.3.6.1.4.1.14519.5.2.1.6279.6001.335866409407244673864352309754/188.xml\n",
      "/home/mengdi/anaconda3/lib/python3.5/site-packages/ipykernel/__main__.py:28: UserWarning: no large nodule for /home/mengdi/DataShare/LIDC/LIDC-IDRI/DOI/LIDC-IDRI-0445/1.3.6.1.4.1.14519.5.2.1.6279.6001.235161199041083161581467190209/1.3.6.1.4.1.14519.5.2.1.6279.6001.394470743585708729682444806008/189.xml\n",
      "/home/mengdi/anaconda3/lib/python3.5/site-packages/ipykernel/__main__.py:28: UserWarning: no large nodule for /home/mengdi/DataShare/LIDC/LIDC-IDRI/DOI/LIDC-IDRI-0446/1.3.6.1.4.1.14519.5.2.1.6279.6001.119049674920780852093306703519/1.3.6.1.4.1.14519.5.2.1.6279.6001.324649110927013926557500550446/190.xml\n",
      "/home/mengdi/anaconda3/lib/python3.5/site-packages/ipykernel/__main__.py:28: UserWarning: no large nodule for /home/mengdi/DataShare/LIDC/LIDC-IDRI/DOI/LIDC-IDRI-0449/1.3.6.1.4.1.14519.5.2.1.6279.6001.126627335783756807832314347589/1.3.6.1.4.1.14519.5.2.1.6279.6001.224259636925435364427994488842/193.xml\n",
      "/home/mengdi/anaconda3/lib/python3.5/site-packages/ipykernel/__main__.py:28: UserWarning: no large nodule for /home/mengdi/DataShare/LIDC/LIDC-IDRI/DOI/LIDC-IDRI-0455/1.3.6.1.4.1.14519.5.2.1.6279.6001.112453616158688887542944729059/1.3.6.1.4.1.14519.5.2.1.6279.6001.307921770358136677021532761235/199.xml\n",
      "/home/mengdi/anaconda3/lib/python3.5/site-packages/ipykernel/__main__.py:28: UserWarning: no large nodule for /home/mengdi/DataShare/LIDC/LIDC-IDRI/DOI/LIDC-IDRI-0457/1.3.6.1.4.1.14519.5.2.1.6279.6001.310641973458012698326158285915/1.3.6.1.4.1.14519.5.2.1.6279.6001.261678072503577216586082745513/201.xml\n",
      "/home/mengdi/anaconda3/lib/python3.5/site-packages/ipykernel/__main__.py:28: UserWarning: no large nodule for /home/mengdi/DataShare/LIDC/LIDC-IDRI/DOI/LIDC-IDRI-0458/1.3.6.1.4.1.14519.5.2.1.6279.6001.467953176348008114522042094789/1.3.6.1.4.1.14519.5.2.1.6279.6001.319066480138812986026181758474/202.xml\n",
      "/home/mengdi/anaconda3/lib/python3.5/site-packages/ipykernel/__main__.py:28: UserWarning: no large nodule for /home/mengdi/DataShare/LIDC/LIDC-IDRI/DOI/LIDC-IDRI-0459/1.3.6.1.4.1.14519.5.2.1.6279.6001.196095989034530030261387979708/1.3.6.1.4.1.14519.5.2.1.6279.6001.125356649712550043958727288500/203.xml\n",
      "/home/mengdi/anaconda3/lib/python3.5/site-packages/ipykernel/__main__.py:28: UserWarning: no large nodule for /home/mengdi/DataShare/LIDC/LIDC-IDRI/DOI/LIDC-IDRI-0465/1.3.6.1.4.1.14519.5.2.1.6279.6001.331578219476310915095973848726/1.3.6.1.4.1.14519.5.2.1.6279.6001.139713436241461669335487719526/209.xml\n",
      "/home/mengdi/anaconda3/lib/python3.5/site-packages/ipykernel/__main__.py:28: UserWarning: no large nodule for /home/mengdi/DataShare/LIDC/LIDC-IDRI/DOI/LIDC-IDRI-0468/1.3.6.1.4.1.14519.5.2.1.6279.6001.426292960722746490523326036933/1.3.6.1.4.1.14519.5.2.1.6279.6001.143782059748737055784173697516/212.xml\n",
      "/home/mengdi/anaconda3/lib/python3.5/site-packages/ipykernel/__main__.py:28: UserWarning: no large nodule for /home/mengdi/DataShare/LIDC/LIDC-IDRI/DOI/LIDC-IDRI-0471/1.3.6.1.4.1.14519.5.2.1.6279.6001.690051876029508763760267564639/1.3.6.1.4.1.14519.5.2.1.6279.6001.190937805243443708408459490152/215.xml\n",
      "/home/mengdi/anaconda3/lib/python3.5/site-packages/ipykernel/__main__.py:28: UserWarning: no large nodule for /home/mengdi/DataShare/LIDC/LIDC-IDRI/DOI/LIDC-IDRI-0472/1.3.6.1.4.1.14519.5.2.1.6279.6001.844119828140560846923067939070/1.3.6.1.4.1.14519.5.2.1.6279.6001.184019785706727365023450012318/216.xml\n",
      "/home/mengdi/anaconda3/lib/python3.5/site-packages/ipykernel/__main__.py:28: UserWarning: no large nodule for /home/mengdi/DataShare/LIDC/LIDC-IDRI/DOI/LIDC-IDRI-0478/1.3.6.1.4.1.14519.5.2.1.6279.6001.150842260481112310322112796796/1.3.6.1.4.1.14519.5.2.1.6279.6001.211071908915618528829547301883/222.xml\n",
      "/home/mengdi/anaconda3/lib/python3.5/site-packages/ipykernel/__main__.py:28: UserWarning: no large nodule for /home/mengdi/DataShare/LIDC/LIDC-IDRI/DOI/LIDC-IDRI-0479/1.3.6.1.4.1.14519.5.2.1.6279.6001.173476782913985657859750913739/1.3.6.1.4.1.14519.5.2.1.6279.6001.188385286346390202873004762827/223.xml\n"
     ]
    },
    {
     "name": "stderr",
     "output_type": "stream",
     "text": [
      "/home/mengdi/anaconda3/lib/python3.5/site-packages/ipykernel/__main__.py:28: UserWarning: no large nodule for /home/mengdi/DataShare/LIDC/LIDC-IDRI/DOI/LIDC-IDRI-0482/1.3.6.1.4.1.14519.5.2.1.6279.6001.189430712542278422214701249585/1.3.6.1.4.1.14519.5.2.1.6279.6001.319009811633846643966578282371/226.xml\n",
      "/home/mengdi/anaconda3/lib/python3.5/site-packages/ipykernel/__main__.py:28: UserWarning: no large nodule for /home/mengdi/DataShare/LIDC/LIDC-IDRI/DOI/LIDC-IDRI-0483/1.3.6.1.4.1.14519.5.2.1.6279.6001.302256916113808751290358737152/1.3.6.1.4.1.14519.5.2.1.6279.6001.608029415915051219877530734559/227.xml\n",
      "/home/mengdi/anaconda3/lib/python3.5/site-packages/ipykernel/__main__.py:28: UserWarning: no large nodule for /home/mengdi/DataShare/LIDC/LIDC-IDRI/DOI/LIDC-IDRI-0494/1.3.6.1.4.1.14519.5.2.1.6279.6001.241438921576606444541425654823/1.3.6.1.4.1.14519.5.2.1.6279.6001.145474881373882284343459153872/239.xml\n",
      "/home/mengdi/anaconda3/lib/python3.5/site-packages/ipykernel/__main__.py:28: UserWarning: no large nodule for /home/mengdi/DataShare/LIDC/LIDC-IDRI/DOI/LIDC-IDRI-0495/1.3.6.1.4.1.14519.5.2.1.6279.6001.150164970015823494629986891791/1.3.6.1.4.1.14519.5.2.1.6279.6001.111780708132595903430640048766/240.xml\n",
      "/home/mengdi/anaconda3/lib/python3.5/site-packages/ipykernel/__main__.py:28: UserWarning: no large nodule for /home/mengdi/DataShare/LIDC/LIDC-IDRI/DOI/LIDC-IDRI-0502/1.3.6.1.4.1.14519.5.2.1.6279.6001.246309121384607847712377186777/1.3.6.1.4.1.14519.5.2.1.6279.6001.259018373683540453277752706262/247.xml\n",
      "/home/mengdi/anaconda3/lib/python3.5/site-packages/ipykernel/__main__.py:28: UserWarning: no large nodule for /home/mengdi/DataShare/LIDC/LIDC-IDRI/DOI/LIDC-IDRI-0503/1.3.6.1.4.1.14519.5.2.1.6279.6001.125091393024330590664846028519/1.3.6.1.4.1.14519.5.2.1.6279.6001.150684298696437181894923266019/248.xml\n",
      "/home/mengdi/anaconda3/lib/python3.5/site-packages/ipykernel/__main__.py:28: UserWarning: no large nodule for /home/mengdi/DataShare/LIDC/LIDC-IDRI/DOI/LIDC-IDRI-0505/1.3.6.1.4.1.14519.5.2.1.6279.6001.331912290213688157146431129496/1.3.6.1.4.1.14519.5.2.1.6279.6001.314789075871001236641548593165/250.xml\n",
      "/home/mengdi/anaconda3/lib/python3.5/site-packages/ipykernel/__main__.py:28: UserWarning: no large nodule for /home/mengdi/DataShare/LIDC/LIDC-IDRI/DOI/LIDC-IDRI-0506/1.3.6.1.4.1.14519.5.2.1.6279.6001.211737652765157471485066193766/1.3.6.1.4.1.14519.5.2.1.6279.6001.291156498203266896953765649282/251.xml\n",
      "/home/mengdi/anaconda3/lib/python3.5/site-packages/ipykernel/__main__.py:28: UserWarning: no large nodule for /home/mengdi/DataShare/LIDC/LIDC-IDRI/DOI/LIDC-IDRI-0510/1.3.6.1.4.1.14519.5.2.1.6279.6001.373342454335320815569534817014/1.3.6.1.4.1.14519.5.2.1.6279.6001.161855583909753609742728521805/255.xml\n",
      "/home/mengdi/anaconda3/lib/python3.5/site-packages/ipykernel/__main__.py:28: UserWarning: no large nodule for /home/mengdi/DataShare/LIDC/LIDC-IDRI/DOI/LIDC-IDRI-0511/1.3.6.1.4.1.14519.5.2.1.6279.6001.160580646297142988675326833498/1.3.6.1.4.1.14519.5.2.1.6279.6001.657775098760536289051744981056/256.xml\n",
      "/home/mengdi/anaconda3/lib/python3.5/site-packages/ipykernel/__main__.py:28: UserWarning: no large nodule for /home/mengdi/DataShare/LIDC/LIDC-IDRI/DOI/LIDC-IDRI-0512/1.3.6.1.4.1.14519.5.2.1.6279.6001.184152184675693350402474499446/1.3.6.1.4.1.14519.5.2.1.6279.6001.373433682859788429397781158572/257.xml\n",
      "/home/mengdi/anaconda3/lib/python3.5/site-packages/ipykernel/__main__.py:28: UserWarning: no large nodule for /home/mengdi/DataShare/LIDC/LIDC-IDRI/DOI/LIDC-IDRI-0513/1.3.6.1.4.1.14519.5.2.1.6279.6001.139336671328588936769008918609/1.3.6.1.4.1.14519.5.2.1.6279.6001.109882169963817627559804568094/258.xml\n",
      "/home/mengdi/anaconda3/lib/python3.5/site-packages/ipykernel/__main__.py:28: UserWarning: no large nodule for /home/mengdi/DataShare/LIDC/LIDC-IDRI/DOI/LIDC-IDRI-0514/1.3.6.1.4.1.14519.5.2.1.6279.6001.534874679843463705647744487995/1.3.6.1.4.1.14519.5.2.1.6279.6001.526570782606728516388531252230/259.xml\n",
      "/home/mengdi/anaconda3/lib/python3.5/site-packages/ipykernel/__main__.py:28: UserWarning: no large nodule for /home/mengdi/DataShare/LIDC/LIDC-IDRI/DOI/LIDC-IDRI-0516/1.3.6.1.4.1.14519.5.2.1.6279.6001.110814261083396253384916416499/1.3.6.1.4.1.14519.5.2.1.6279.6001.811825890493256320617655474043/261.xml\n",
      "/home/mengdi/anaconda3/lib/python3.5/site-packages/ipykernel/__main__.py:28: UserWarning: no large nodule for /home/mengdi/DataShare/LIDC/LIDC-IDRI/DOI/LIDC-IDRI-0517/1.3.6.1.4.1.14519.5.2.1.6279.6001.849666522017598388280673804221/1.3.6.1.4.1.14519.5.2.1.6279.6001.202476538079060560282495099956/262.xml\n",
      "/home/mengdi/anaconda3/lib/python3.5/site-packages/ipykernel/__main__.py:28: UserWarning: no large nodule for /home/mengdi/DataShare/LIDC/LIDC-IDRI/DOI/LIDC-IDRI-0519/1.3.6.1.4.1.14519.5.2.1.6279.6001.373403474709639219417003839681/1.3.6.1.4.1.14519.5.2.1.6279.6001.710845873679853791427022019413/264.xml\n",
      "/home/mengdi/anaconda3/lib/python3.5/site-packages/ipykernel/__main__.py:28: UserWarning: no large nodule for /home/mengdi/DataShare/LIDC/LIDC-IDRI/DOI/LIDC-IDRI-0520/1.3.6.1.4.1.14519.5.2.1.6279.6001.314311311148468433820105763522/1.3.6.1.4.1.14519.5.2.1.6279.6001.222087811960706096424718056430/265.xml\n",
      "/home/mengdi/anaconda3/lib/python3.5/site-packages/ipykernel/__main__.py:28: UserWarning: no large nodule for /home/mengdi/DataShare/LIDC/LIDC-IDRI/DOI/LIDC-IDRI-0522/1.3.6.1.4.1.14519.5.2.1.6279.6001.139267808951641148096439810470/1.3.6.1.4.1.14519.5.2.1.6279.6001.663019255629770796363333877035/267.xml\n",
      "/home/mengdi/anaconda3/lib/python3.5/site-packages/ipykernel/__main__.py:28: UserWarning: no large nodule for /home/mengdi/DataShare/LIDC/LIDC-IDRI/DOI/LIDC-IDRI-0528/1.3.6.1.4.1.14519.5.2.1.6279.6001.260588761508265678453204226958/1.3.6.1.4.1.14519.5.2.1.6279.6001.235217371152464582553341729176/273.xml\n",
      "/home/mengdi/anaconda3/lib/python3.5/site-packages/ipykernel/__main__.py:28: UserWarning: no large nodule for /home/mengdi/DataShare/LIDC/LIDC-IDRI/DOI/LIDC-IDRI-0531/1.3.6.1.4.1.14519.5.2.1.6279.6001.117677112723692713709361521135/1.3.6.1.4.1.14519.5.2.1.6279.6001.203179378754043776171267611064/276.xml\n",
      "/home/mengdi/anaconda3/lib/python3.5/site-packages/ipykernel/__main__.py:28: UserWarning: no large nodule for /home/mengdi/DataShare/LIDC/LIDC-IDRI/DOI/LIDC-IDRI-0532/1.3.6.1.4.1.14519.5.2.1.6279.6001.403432615973617823449253024665/1.3.6.1.4.1.14519.5.2.1.6279.6001.139577698050713461261415990027/277.xml\n",
      "/home/mengdi/anaconda3/lib/python3.5/site-packages/ipykernel/__main__.py:28: UserWarning: no large nodule for /home/mengdi/DataShare/LIDC/LIDC-IDRI/DOI/LIDC-IDRI-0534/1.3.6.1.4.1.14519.5.2.1.6279.6001.321085339464682432111441689315/1.3.6.1.4.1.14519.5.2.1.6279.6001.255233548387770235844350895151/279.xml\n",
      "/home/mengdi/anaconda3/lib/python3.5/site-packages/ipykernel/__main__.py:28: UserWarning: no large nodule for /home/mengdi/DataShare/LIDC/LIDC-IDRI/DOI/LIDC-IDRI-0536/1.3.6.1.4.1.14519.5.2.1.6279.6001.487955332013226385531438132762/1.3.6.1.4.1.14519.5.2.1.6279.6001.162207236104936931957809623059/281.xml\n",
      "/home/mengdi/anaconda3/lib/python3.5/site-packages/ipykernel/__main__.py:28: UserWarning: no large nodule for /home/mengdi/DataShare/LIDC/LIDC-IDRI/DOI/LIDC-IDRI-0538/1.3.6.1.4.1.14519.5.2.1.6279.6001.849090059968404135199482374496/1.3.6.1.4.1.14519.5.2.1.6279.6001.339039410276356623209709113755/283.xml\n",
      "/home/mengdi/anaconda3/lib/python3.5/site-packages/ipykernel/__main__.py:28: UserWarning: no large nodule for /home/mengdi/DataShare/LIDC/LIDC-IDRI/DOI/LIDC-IDRI-0539/1.3.6.1.4.1.14519.5.2.1.6279.6001.774224171618605001583693363297/1.3.6.1.4.1.14519.5.2.1.6279.6001.283733738239331719775105586296/284.xml\n",
      "/home/mengdi/anaconda3/lib/python3.5/site-packages/ipykernel/__main__.py:28: UserWarning: no large nodule for /home/mengdi/DataShare/LIDC/LIDC-IDRI/DOI/LIDC-IDRI-0540/1.3.6.1.4.1.14519.5.2.1.6279.6001.613454117139546608546005903805/1.3.6.1.4.1.14519.5.2.1.6279.6001.330043769832606379655473292782/285.xml\n",
      "/home/mengdi/anaconda3/lib/python3.5/site-packages/ipykernel/__main__.py:28: UserWarning: no large nodule for /home/mengdi/DataShare/LIDC/LIDC-IDRI/DOI/LIDC-IDRI-0542/1.3.6.1.4.1.14519.5.2.1.6279.6001.280963839031344532519735389631/1.3.6.1.4.1.14519.5.2.1.6279.6001.970264865033574190975654369557/287.xml\n"
     ]
    },
    {
     "name": "stderr",
     "output_type": "stream",
     "text": [
      "/home/mengdi/anaconda3/lib/python3.5/site-packages/ipykernel/__main__.py:28: UserWarning: no large nodule for /home/mengdi/DataShare/LIDC/LIDC-IDRI/DOI/LIDC-IDRI-0544/1.3.6.1.4.1.14519.5.2.1.6279.6001.268602395458796193334776892547/1.3.6.1.4.1.14519.5.2.1.6279.6001.230078008964732806419498631442/289.xml\n",
      "/home/mengdi/anaconda3/lib/python3.5/site-packages/ipykernel/__main__.py:28: UserWarning: no large nodule for /home/mengdi/DataShare/LIDC/LIDC-IDRI/DOI/LIDC-IDRI-0545/1.3.6.1.4.1.14519.5.2.1.6279.6001.150506552813421138982733853172/1.3.6.1.4.1.14519.5.2.1.6279.6001.248425363469507808613979846863/290.xml\n",
      "/home/mengdi/anaconda3/lib/python3.5/site-packages/ipykernel/__main__.py:28: UserWarning: no large nodule for /home/mengdi/DataShare/LIDC/LIDC-IDRI/DOI/LIDC-IDRI-0547/1.3.6.1.4.1.14519.5.2.1.6279.6001.139007379520761595657549251638/1.3.6.1.4.1.14519.5.2.1.6279.6001.725236073737175770730904408416/292.xml\n",
      "/home/mengdi/anaconda3/lib/python3.5/site-packages/ipykernel/__main__.py:28: UserWarning: no large nodule for /home/mengdi/DataShare/LIDC/LIDC-IDRI/DOI/LIDC-IDRI-0548/1.3.6.1.4.1.14519.5.2.1.6279.6001.167119737014852581507895512906/1.3.6.1.4.1.14519.5.2.1.6279.6001.156821379677057223126714881626/293.xml\n",
      "/home/mengdi/anaconda3/lib/python3.5/site-packages/ipykernel/__main__.py:28: UserWarning: no large nodule for /home/mengdi/DataShare/LIDC/LIDC-IDRI/DOI/LIDC-IDRI-0551/1.3.6.1.4.1.14519.5.2.1.6279.6001.195049537858207829551926654069/1.3.6.1.4.1.14519.5.2.1.6279.6001.270788655216695628640355888562/296.xml\n",
      "/home/mengdi/anaconda3/lib/python3.5/site-packages/ipykernel/__main__.py:28: UserWarning: no large nodule for /home/mengdi/DataShare/LIDC/LIDC-IDRI/DOI/LIDC-IDRI-0552/1.3.6.1.4.1.14519.5.2.1.6279.6001.100623635004206394377317082803/1.3.6.1.4.1.14519.5.2.1.6279.6001.270152671889301412052226973069/297.xml\n",
      "/home/mengdi/anaconda3/lib/python3.5/site-packages/ipykernel/__main__.py:28: UserWarning: no large nodule for /home/mengdi/DataShare/LIDC/LIDC-IDRI/DOI/LIDC-IDRI-0553/1.3.6.1.4.1.14519.5.2.1.6279.6001.330311286390409730062500041756/1.3.6.1.4.1.14519.5.2.1.6279.6001.965620538050807352935663552285/298.xml\n",
      "/home/mengdi/anaconda3/lib/python3.5/site-packages/ipykernel/__main__.py:28: UserWarning: no large nodule for /home/mengdi/DataShare/LIDC/LIDC-IDRI/DOI/LIDC-IDRI-0554/1.3.6.1.4.1.14519.5.2.1.6279.6001.371593558888147552115426364555/1.3.6.1.4.1.14519.5.2.1.6279.6001.306788423710427765311352901943/299.xml\n",
      "/home/mengdi/anaconda3/lib/python3.5/site-packages/ipykernel/__main__.py:28: UserWarning: no large nodule for /home/mengdi/DataShare/LIDC/LIDC-IDRI/DOI/LIDC-IDRI-0558/1.3.6.1.4.1.14519.5.2.1.6279.6001.335511385175207746688439743644/1.3.6.1.4.1.14519.5.2.1.6279.6001.275849601663847251574860892603/003.xml\n",
      "/home/mengdi/anaconda3/lib/python3.5/site-packages/ipykernel/__main__.py:28: UserWarning: no large nodule for /home/mengdi/DataShare/LIDC/LIDC-IDRI/DOI/LIDC-IDRI-0560/1.3.6.1.4.1.14519.5.2.1.6279.6001.124043676181995670004300402875/1.3.6.1.4.1.14519.5.2.1.6279.6001.447468612991222399440694673357/005.xml\n",
      "/home/mengdi/anaconda3/lib/python3.5/site-packages/ipykernel/__main__.py:28: UserWarning: no large nodule for /home/mengdi/DataShare/LIDC/LIDC-IDRI/DOI/LIDC-IDRI-0561/1.3.6.1.4.1.14519.5.2.1.6279.6001.144339263252373695753934740141/1.3.6.1.4.1.14519.5.2.1.6279.6001.144438612068946916340281098509/006.xml\n",
      "/home/mengdi/anaconda3/lib/python3.5/site-packages/ipykernel/__main__.py:28: UserWarning: no large nodule for /home/mengdi/DataShare/LIDC/LIDC-IDRI/DOI/LIDC-IDRI-0563/1.3.6.1.4.1.14519.5.2.1.6279.6001.107508721613473648848595116695/1.3.6.1.4.1.14519.5.2.1.6279.6001.671278273674156798801285503514/008.xml\n",
      "/home/mengdi/anaconda3/lib/python3.5/site-packages/ipykernel/__main__.py:28: UserWarning: no large nodule for /home/mengdi/DataShare/LIDC/LIDC-IDRI/DOI/LIDC-IDRI-0564/1.3.6.1.4.1.14519.5.2.1.6279.6001.143557589851159686168415477519/1.3.6.1.4.1.14519.5.2.1.6279.6001.272259794130271010519952623746/009.xml\n",
      "/home/mengdi/anaconda3/lib/python3.5/site-packages/ipykernel/__main__.py:28: UserWarning: no large nodule for /home/mengdi/DataShare/LIDC/LIDC-IDRI/DOI/LIDC-IDRI-0566/1.3.6.1.4.1.14519.5.2.1.6279.6001.279988868485323680600035963215/1.3.6.1.4.1.14519.5.2.1.6279.6001.137375498893536422914241295628/011.xml\n",
      "/home/mengdi/anaconda3/lib/python3.5/site-packages/ipykernel/__main__.py:28: UserWarning: no large nodule for /home/mengdi/DataShare/LIDC/LIDC-IDRI/DOI/LIDC-IDRI-0567/1.3.6.1.4.1.14519.5.2.1.6279.6001.547848375366758290042983535032/1.3.6.1.4.1.14519.5.2.1.6279.6001.179683407589764683292800449011/012.xml\n",
      "/home/mengdi/anaconda3/lib/python3.5/site-packages/ipykernel/__main__.py:28: UserWarning: no large nodule for /home/mengdi/DataShare/LIDC/LIDC-IDRI/DOI/LIDC-IDRI-0570/1.3.6.1.4.1.14519.5.2.1.6279.6001.848745302315101424036793123771/1.3.6.1.4.1.14519.5.2.1.6279.6001.131150737314367975651717513386/015.xml\n",
      "/home/mengdi/anaconda3/lib/python3.5/site-packages/ipykernel/__main__.py:28: UserWarning: no large nodule for /home/mengdi/DataShare/LIDC/LIDC-IDRI/DOI/LIDC-IDRI-0571/1.3.6.1.4.1.14519.5.2.1.6279.6001.314071149857693870088107222867/1.3.6.1.4.1.14519.5.2.1.6279.6001.253317247142837717905329340520/016.xml\n",
      "/home/mengdi/anaconda3/lib/python3.5/site-packages/ipykernel/__main__.py:28: UserWarning: no large nodule for /home/mengdi/DataShare/LIDC/LIDC-IDRI/DOI/LIDC-IDRI-0572/1.3.6.1.4.1.14519.5.2.1.6279.6001.234994879536134968838889803884/1.3.6.1.4.1.14519.5.2.1.6279.6001.331079701650130000691651987949/017.xml\n",
      "/home/mengdi/anaconda3/lib/python3.5/site-packages/ipykernel/__main__.py:28: UserWarning: no large nodule for /home/mengdi/DataShare/LIDC/LIDC-IDRI/DOI/LIDC-IDRI-0573/1.3.6.1.4.1.14519.5.2.1.6279.6001.385607958794725144174496012285/1.3.6.1.4.1.14519.5.2.1.6279.6001.268589491017129166376960414534/018.xml\n",
      "/home/mengdi/anaconda3/lib/python3.5/site-packages/ipykernel/__main__.py:28: UserWarning: no large nodule for /home/mengdi/DataShare/LIDC/LIDC-IDRI/DOI/LIDC-IDRI-0574/1.3.6.1.4.1.14519.5.2.1.6279.6001.110552610218214013901193645855/1.3.6.1.4.1.14519.5.2.1.6279.6001.216526102138308489357443843021/019.xml\n",
      "/home/mengdi/anaconda3/lib/python3.5/site-packages/ipykernel/__main__.py:28: UserWarning: no large nodule for /home/mengdi/DataShare/LIDC/LIDC-IDRI/DOI/LIDC-IDRI-0575/1.3.6.1.4.1.14519.5.2.1.6279.6001.320868967976297780563487478878/1.3.6.1.4.1.14519.5.2.1.6279.6001.743969234977916254223533321294/020.xml\n",
      "/home/mengdi/anaconda3/lib/python3.5/site-packages/ipykernel/__main__.py:28: UserWarning: no large nodule for /home/mengdi/DataShare/LIDC/LIDC-IDRI/DOI/LIDC-IDRI-0581/1.3.6.1.4.1.14519.5.2.1.6279.6001.195418537319448622946575911056/1.3.6.1.4.1.14519.5.2.1.6279.6001.116492508532884962903000261147/026.xml\n",
      "/home/mengdi/anaconda3/lib/python3.5/site-packages/ipykernel/__main__.py:28: UserWarning: no large nodule for /home/mengdi/DataShare/LIDC/LIDC-IDRI/DOI/LIDC-IDRI-0584/1.3.6.1.4.1.14519.5.2.1.6279.6001.165584568388616938096482975079/1.3.6.1.4.1.14519.5.2.1.6279.6001.232011770495640253949434620907/029.xml\n",
      "/home/mengdi/anaconda3/lib/python3.5/site-packages/ipykernel/__main__.py:28: UserWarning: no large nodule for /home/mengdi/DataShare/LIDC/LIDC-IDRI/DOI/LIDC-IDRI-0588/1.3.6.1.4.1.14519.5.2.1.6279.6001.202087967488314629195929644257/1.3.6.1.4.1.14519.5.2.1.6279.6001.245546033414728092794968890929/032.xml\n",
      "/home/mengdi/anaconda3/lib/python3.5/site-packages/ipykernel/__main__.py:28: UserWarning: no large nodule for /home/mengdi/DataShare/LIDC/LIDC-IDRI/DOI/LIDC-IDRI-0589/1.3.6.1.4.1.14519.5.2.1.6279.6001.238301327130159920471970032018/1.3.6.1.4.1.14519.5.2.1.6279.6001.151669338315069779994664893123/033.xml\n",
      "/home/mengdi/anaconda3/lib/python3.5/site-packages/ipykernel/__main__.py:28: UserWarning: no large nodule for /home/mengdi/DataShare/LIDC/LIDC-IDRI/DOI/LIDC-IDRI-0591/1.3.6.1.4.1.14519.5.2.1.6279.6001.605832828213886887633700370869/1.3.6.1.4.1.14519.5.2.1.6279.6001.173556680294801532247454313511/035.xml\n",
      "/home/mengdi/anaconda3/lib/python3.5/site-packages/ipykernel/__main__.py:28: UserWarning: no large nodule for /home/mengdi/DataShare/LIDC/LIDC-IDRI/DOI/LIDC-IDRI-0593/1.3.6.1.4.1.14519.5.2.1.6279.6001.128546361353633775045659990592/1.3.6.1.4.1.14519.5.2.1.6279.6001.306520140119968755187868602181/037.xml\n"
     ]
    },
    {
     "name": "stderr",
     "output_type": "stream",
     "text": [
      "/home/mengdi/anaconda3/lib/python3.5/site-packages/ipykernel/__main__.py:28: UserWarning: no large nodule for /home/mengdi/DataShare/LIDC/LIDC-IDRI/DOI/LIDC-IDRI-0599/1.3.6.1.4.1.14519.5.2.1.6279.6001.254284452408440744726985192393/1.3.6.1.4.1.14519.5.2.1.6279.6001.139444426690868429919252698606/043.xml\n",
      "/home/mengdi/anaconda3/lib/python3.5/site-packages/ipykernel/__main__.py:28: UserWarning: no large nodule for /home/mengdi/DataShare/LIDC/LIDC-IDRI/DOI/LIDC-IDRI-0600/1.3.6.1.4.1.14519.5.2.1.6279.6001.229359531540674087919898613528/1.3.6.1.4.1.14519.5.2.1.6279.6001.475325201787910087416720919680/044.xml\n",
      "/home/mengdi/anaconda3/lib/python3.5/site-packages/ipykernel/__main__.py:28: UserWarning: no large nodule for /home/mengdi/DataShare/LIDC/LIDC-IDRI/DOI/LIDC-IDRI-0603/1.3.6.1.4.1.14519.5.2.1.6279.6001.255164408713793479919842709505/1.3.6.1.4.1.14519.5.2.1.6279.6001.553241901808946577644850294647/047.xml\n",
      "/home/mengdi/anaconda3/lib/python3.5/site-packages/ipykernel/__main__.py:28: UserWarning: no large nodule for /home/mengdi/DataShare/LIDC/LIDC-IDRI/DOI/LIDC-IDRI-0607/1.3.6.1.4.1.14519.5.2.1.6279.6001.223586178787100112140685204730/1.3.6.1.4.1.14519.5.2.1.6279.6001.255409701134762680010928250229/051.xml\n",
      "/home/mengdi/anaconda3/lib/python3.5/site-packages/ipykernel/__main__.py:28: UserWarning: no large nodule for /home/mengdi/DataShare/LIDC/LIDC-IDRI/DOI/LIDC-IDRI-0609/1.3.6.1.4.1.14519.5.2.1.6279.6001.103936837659251066416686642502/1.3.6.1.4.1.14519.5.2.1.6279.6001.201890795870532056891161597218/053.xml\n",
      "/home/mengdi/anaconda3/lib/python3.5/site-packages/ipykernel/__main__.py:28: UserWarning: no large nodule for /home/mengdi/DataShare/LIDC/LIDC-IDRI/DOI/LIDC-IDRI-0611/1.3.6.1.4.1.14519.5.2.1.6279.6001.147704659627178252268482840005/1.3.6.1.4.1.14519.5.2.1.6279.6001.198489333332254008035861390326/055.xml\n",
      "/home/mengdi/anaconda3/lib/python3.5/site-packages/ipykernel/__main__.py:28: UserWarning: no large nodule for /home/mengdi/DataShare/LIDC/LIDC-IDRI/DOI/LIDC-IDRI-0612/1.3.6.1.4.1.14519.5.2.1.6279.6001.320384550857954988796553893403/1.3.6.1.4.1.14519.5.2.1.6279.6001.167500254299688235071950909530/056.xml\n",
      "/home/mengdi/anaconda3/lib/python3.5/site-packages/ipykernel/__main__.py:28: UserWarning: no large nodule for /home/mengdi/DataShare/LIDC/LIDC-IDRI/DOI/LIDC-IDRI-0616/1.3.6.1.4.1.14519.5.2.1.6279.6001.115280343269128534820068558233/1.3.6.1.4.1.14519.5.2.1.6279.6001.229171189693734694696158152904/060.xml\n",
      "/home/mengdi/anaconda3/lib/python3.5/site-packages/ipykernel/__main__.py:28: UserWarning: no large nodule for /home/mengdi/DataShare/LIDC/LIDC-IDRI/DOI/LIDC-IDRI-0621/1.3.6.1.4.1.14519.5.2.1.6279.6001.189690798782956693829000203312/1.3.6.1.4.1.14519.5.2.1.6279.6001.146429221666426688999739595820/065.xml\n",
      "/home/mengdi/anaconda3/lib/python3.5/site-packages/ipykernel/__main__.py:28: UserWarning: no large nodule for /home/mengdi/DataShare/LIDC/LIDC-IDRI/DOI/LIDC-IDRI-0622/1.3.6.1.4.1.14519.5.2.1.6279.6001.315615142127549025541860963743/1.3.6.1.4.1.14519.5.2.1.6279.6001.300271604576987336866436407488/066.xml\n",
      "/home/mengdi/anaconda3/lib/python3.5/site-packages/ipykernel/__main__.py:28: UserWarning: no large nodule for /home/mengdi/DataShare/LIDC/LIDC-IDRI/DOI/LIDC-IDRI-0623/1.3.6.1.4.1.14519.5.2.1.6279.6001.518475711360532856108578135260/1.3.6.1.4.1.14519.5.2.1.6279.6001.286627485198831346082954437212/067.xml\n",
      "/home/mengdi/anaconda3/lib/python3.5/site-packages/ipykernel/__main__.py:28: UserWarning: no large nodule for /home/mengdi/DataShare/LIDC/LIDC-IDRI/DOI/LIDC-IDRI-0626/1.3.6.1.4.1.14519.5.2.1.6279.6001.181183885950568332347816930781/1.3.6.1.4.1.14519.5.2.1.6279.6001.776800177074349870648765614630/070.xml\n",
      "/home/mengdi/anaconda3/lib/python3.5/site-packages/ipykernel/__main__.py:28: UserWarning: no large nodule for /home/mengdi/DataShare/LIDC/LIDC-IDRI/DOI/LIDC-IDRI-0627/1.3.6.1.4.1.14519.5.2.1.6279.6001.998011886506191043815267149469/1.3.6.1.4.1.14519.5.2.1.6279.6001.161821150841552408667852639317/071.xml\n",
      "/home/mengdi/anaconda3/lib/python3.5/site-packages/ipykernel/__main__.py:28: UserWarning: no large nodule for /home/mengdi/DataShare/LIDC/LIDC-IDRI/DOI/LIDC-IDRI-0629/1.3.6.1.4.1.14519.5.2.1.6279.6001.125968645555307955291497942287/1.3.6.1.4.1.14519.5.2.1.6279.6001.927394449308471452920270961822/073.xml\n",
      "/home/mengdi/anaconda3/lib/python3.5/site-packages/ipykernel/__main__.py:28: UserWarning: no large nodule for /home/mengdi/DataShare/LIDC/LIDC-IDRI/DOI/LIDC-IDRI-0630/1.3.6.1.4.1.14519.5.2.1.6279.6001.311286315716340154235274558813/1.3.6.1.4.1.14519.5.2.1.6279.6001.171919524048654494439256263785/074.xml\n",
      "/home/mengdi/anaconda3/lib/python3.5/site-packages/ipykernel/__main__.py:28: UserWarning: no large nodule for /home/mengdi/DataShare/LIDC/LIDC-IDRI/DOI/LIDC-IDRI-0631/1.3.6.1.4.1.14519.5.2.1.6279.6001.138500869556929311152852869529/1.3.6.1.4.1.14519.5.2.1.6279.6001.191266041369462391833537519639/075.xml\n",
      "/home/mengdi/anaconda3/lib/python3.5/site-packages/ipykernel/__main__.py:28: UserWarning: no large nodule for /home/mengdi/DataShare/LIDC/LIDC-IDRI/DOI/LIDC-IDRI-0632/1.3.6.1.4.1.14519.5.2.1.6279.6001.291460108344622455836419963313/1.3.6.1.4.1.14519.5.2.1.6279.6001.339484970190920330170416228517/076.xml\n",
      "/home/mengdi/anaconda3/lib/python3.5/site-packages/ipykernel/__main__.py:28: UserWarning: no large nodule for /home/mengdi/DataShare/LIDC/LIDC-IDRI/DOI/LIDC-IDRI-0634/1.3.6.1.4.1.14519.5.2.1.6279.6001.989440509183467842001314342301/1.3.6.1.4.1.14519.5.2.1.6279.6001.162901839201654862079549658100/078.xml\n",
      "/home/mengdi/anaconda3/lib/python3.5/site-packages/ipykernel/__main__.py:28: UserWarning: no large nodule for /home/mengdi/DataShare/LIDC/LIDC-IDRI/DOI/LIDC-IDRI-0638/1.3.6.1.4.1.14519.5.2.1.6279.6001.508213936241272779545636798976/1.3.6.1.4.1.14519.5.2.1.6279.6001.133132722052053001903031735878/172.xml\n",
      "/home/mengdi/anaconda3/lib/python3.5/site-packages/ipykernel/__main__.py:28: UserWarning: no large nodule for /home/mengdi/DataShare/LIDC/LIDC-IDRI/DOI/LIDC-IDRI-0639/1.3.6.1.4.1.14519.5.2.1.6279.6001.117743534419290251609867537261/1.3.6.1.4.1.14519.5.2.1.6279.6001.293593766328917170359373773080/171.xml\n",
      "/home/mengdi/anaconda3/lib/python3.5/site-packages/ipykernel/__main__.py:28: UserWarning: no large nodule for /home/mengdi/DataShare/LIDC/LIDC-IDRI/DOI/LIDC-IDRI-0646/1.3.6.1.4.1.14519.5.2.1.6279.6001.123684553091887153602831392895/1.3.6.1.4.1.14519.5.2.1.6279.6001.311236942972970815890902714604/164.xml\n",
      "/home/mengdi/anaconda3/lib/python3.5/site-packages/ipykernel/__main__.py:28: UserWarning: no large nodule for /home/mengdi/DataShare/LIDC/LIDC-IDRI/DOI/LIDC-IDRI-0647/1.3.6.1.4.1.14519.5.2.1.6279.6001.971476961920773226447199844576/1.3.6.1.4.1.14519.5.2.1.6279.6001.231834776365874788440767645596/163.xml\n",
      "/home/mengdi/anaconda3/lib/python3.5/site-packages/ipykernel/__main__.py:28: UserWarning: no large nodule for /home/mengdi/DataShare/LIDC/LIDC-IDRI/DOI/LIDC-IDRI-0650/1.3.6.1.4.1.14519.5.2.1.6279.6001.275342292592333052340429698533/1.3.6.1.4.1.14519.5.2.1.6279.6001.276351267409869539593937734609/160.xml\n",
      "/home/mengdi/anaconda3/lib/python3.5/site-packages/ipykernel/__main__.py:28: UserWarning: no large nodule for /home/mengdi/DataShare/LIDC/LIDC-IDRI/DOI/LIDC-IDRI-0652/1.3.6.1.4.1.14519.5.2.1.6279.6001.117534698898058162410044712500/1.3.6.1.4.1.14519.5.2.1.6279.6001.152684536713461901635595118048/158.xml\n",
      "/home/mengdi/anaconda3/lib/python3.5/site-packages/ipykernel/__main__.py:28: UserWarning: no large nodule for /home/mengdi/DataShare/LIDC/LIDC-IDRI/DOI/LIDC-IDRI-0653/1.3.6.1.4.1.14519.5.2.1.6279.6001.951333474961198071899203212682/1.3.6.1.4.1.14519.5.2.1.6279.6001.152706273988004688708784163325/157.xml\n",
      "/home/mengdi/anaconda3/lib/python3.5/site-packages/ipykernel/__main__.py:28: UserWarning: no large nodule for /home/mengdi/DataShare/LIDC/LIDC-IDRI/DOI/LIDC-IDRI-0654/1.3.6.1.4.1.14519.5.2.1.6279.6001.443753256239015192514766534461/1.3.6.1.4.1.14519.5.2.1.6279.6001.143813757344903170810482790787/156.xml\n",
      "/home/mengdi/anaconda3/lib/python3.5/site-packages/ipykernel/__main__.py:28: UserWarning: no large nodule for /home/mengdi/DataShare/LIDC/LIDC-IDRI/DOI/LIDC-IDRI-0657/1.3.6.1.4.1.14519.5.2.1.6279.6001.139195294068636036088709372879/1.3.6.1.4.1.14519.5.2.1.6279.6001.113586291551175790743673929831/153.xml\n"
     ]
    },
    {
     "name": "stderr",
     "output_type": "stream",
     "text": [
      "/home/mengdi/anaconda3/lib/python3.5/site-packages/ipykernel/__main__.py:28: UserWarning: no large nodule for /home/mengdi/DataShare/LIDC/LIDC-IDRI/DOI/LIDC-IDRI-0662/1.3.6.1.4.1.14519.5.2.1.6279.6001.998144378008088787705870980497/1.3.6.1.4.1.14519.5.2.1.6279.6001.226564372605239604660221582288/148.xml\n",
      "/home/mengdi/anaconda3/lib/python3.5/site-packages/ipykernel/__main__.py:28: UserWarning: no large nodule for /home/mengdi/DataShare/LIDC/LIDC-IDRI/DOI/LIDC-IDRI-0663/1.3.6.1.4.1.14519.5.2.1.6279.6001.268490252284941048496256182524/1.3.6.1.4.1.14519.5.2.1.6279.6001.147250707071097813243473865421/147.xml\n",
      "/home/mengdi/anaconda3/lib/python3.5/site-packages/ipykernel/__main__.py:28: UserWarning: no large nodule for /home/mengdi/DataShare/LIDC/LIDC-IDRI/DOI/LIDC-IDRI-0664/1.3.6.1.4.1.14519.5.2.1.6279.6001.204167514516464519480528962273/1.3.6.1.4.1.14519.5.2.1.6279.6001.317613170669207528926259976488/146.xml\n",
      "/home/mengdi/anaconda3/lib/python3.5/site-packages/ipykernel/__main__.py:28: UserWarning: no large nodule for /home/mengdi/DataShare/LIDC/LIDC-IDRI/DOI/LIDC-IDRI-0665/1.3.6.1.4.1.14519.5.2.1.6279.6001.165036883604518505629147542132/1.3.6.1.4.1.14519.5.2.1.6279.6001.215086589927307766627151367533/145.xml\n",
      "/home/mengdi/anaconda3/lib/python3.5/site-packages/ipykernel/__main__.py:28: UserWarning: no large nodule for /home/mengdi/DataShare/LIDC/LIDC-IDRI/DOI/LIDC-IDRI-0666/1.3.6.1.4.1.14519.5.2.1.6279.6001.150264634200093580367988090366/1.3.6.1.4.1.14519.5.2.1.6279.6001.325580698241281352835338693869/144.xml\n",
      "/home/mengdi/anaconda3/lib/python3.5/site-packages/ipykernel/__main__.py:28: UserWarning: no large nodule for /home/mengdi/DataShare/LIDC/LIDC-IDRI/DOI/LIDC-IDRI-0667/1.3.6.1.4.1.14519.5.2.1.6279.6001.239106706584154405243531806759/1.3.6.1.4.1.14519.5.2.1.6279.6001.199069398344356765037879821616/143.xml\n",
      "/home/mengdi/anaconda3/lib/python3.5/site-packages/ipykernel/__main__.py:28: UserWarning: no large nodule for /home/mengdi/DataShare/LIDC/LIDC-IDRI/DOI/LIDC-IDRI-0668/1.3.6.1.4.1.14519.5.2.1.6279.6001.814893999756843549134491977041/1.3.6.1.4.1.14519.5.2.1.6279.6001.121805476976020513950614465787/142.xml\n",
      "/home/mengdi/anaconda3/lib/python3.5/site-packages/ipykernel/__main__.py:28: UserWarning: no large nodule for /home/mengdi/DataShare/LIDC/LIDC-IDRI/DOI/LIDC-IDRI-0669/1.3.6.1.4.1.14519.5.2.1.6279.6001.886430358468567310311007723004/1.3.6.1.4.1.14519.5.2.1.6279.6001.980362852713685276785310240144/141.xml\n",
      "/home/mengdi/anaconda3/lib/python3.5/site-packages/ipykernel/__main__.py:28: UserWarning: no large nodule for /home/mengdi/DataShare/LIDC/LIDC-IDRI/DOI/LIDC-IDRI-0670/1.3.6.1.4.1.14519.5.2.1.6279.6001.160725905583575318613483772884/1.3.6.1.4.1.14519.5.2.1.6279.6001.139595277234735528205899724196/140.xml\n",
      "/home/mengdi/anaconda3/lib/python3.5/site-packages/ipykernel/__main__.py:28: UserWarning: no large nodule for /home/mengdi/DataShare/LIDC/LIDC-IDRI/DOI/LIDC-IDRI-0675/1.3.6.1.4.1.14519.5.2.1.6279.6001.106510194697877936244358836587/1.3.6.1.4.1.14519.5.2.1.6279.6001.385151742584074711135621089321/135.xml\n",
      "/home/mengdi/anaconda3/lib/python3.5/site-packages/ipykernel/__main__.py:28: UserWarning: no large nodule for /home/mengdi/DataShare/LIDC/LIDC-IDRI/DOI/LIDC-IDRI-0677/1.3.6.1.4.1.14519.5.2.1.6279.6001.637798773907788996937534925551/1.3.6.1.4.1.14519.5.2.1.6279.6001.814122498113547115932318256859/133.xml\n",
      "/home/mengdi/anaconda3/lib/python3.5/site-packages/ipykernel/__main__.py:28: UserWarning: no large nodule for /home/mengdi/DataShare/LIDC/LIDC-IDRI/DOI/LIDC-IDRI-0679/1.3.6.1.4.1.14519.5.2.1.6279.6001.248816648238941438927904629026/1.3.6.1.4.1.14519.5.2.1.6279.6001.910757789941076242457816491305/131.xml\n",
      "/home/mengdi/anaconda3/lib/python3.5/site-packages/ipykernel/__main__.py:28: UserWarning: no large nodule for /home/mengdi/DataShare/LIDC/LIDC-IDRI/DOI/LIDC-IDRI-0680/1.3.6.1.4.1.14519.5.2.1.6279.6001.156996082231474939899578263697/1.3.6.1.4.1.14519.5.2.1.6279.6001.329326052298830421573852261436/130.xml\n",
      "/home/mengdi/anaconda3/lib/python3.5/site-packages/ipykernel/__main__.py:28: UserWarning: no large nodule for /home/mengdi/DataShare/LIDC/LIDC-IDRI/DOI/LIDC-IDRI-0682/1.3.6.1.4.1.14519.5.2.1.6279.6001.233185200895881555317060584785/1.3.6.1.4.1.14519.5.2.1.6279.6001.270951128717816232360812849541/128.xml\n",
      "/home/mengdi/anaconda3/lib/python3.5/site-packages/ipykernel/__main__.py:28: UserWarning: no large nodule for /home/mengdi/DataShare/LIDC/LIDC-IDRI/DOI/LIDC-IDRI-0683/1.3.6.1.4.1.14519.5.2.1.6279.6001.241732189687541804953984769732/1.3.6.1.4.1.14519.5.2.1.6279.6001.449254134266555649028108149727/127.xml\n",
      "/home/mengdi/anaconda3/lib/python3.5/site-packages/ipykernel/__main__.py:28: UserWarning: no large nodule for /home/mengdi/DataShare/LIDC/LIDC-IDRI/DOI/LIDC-IDRI-0684/1.3.6.1.4.1.14519.5.2.1.6279.6001.275166955484270759335764642842/1.3.6.1.4.1.14519.5.2.1.6279.6001.111172165674661221381920536987/126.xml\n",
      "/home/mengdi/anaconda3/lib/python3.5/site-packages/ipykernel/__main__.py:28: UserWarning: no large nodule for /home/mengdi/DataShare/LIDC/LIDC-IDRI/DOI/LIDC-IDRI-0685/1.3.6.1.4.1.14519.5.2.1.6279.6001.177931410497444598503378575664/1.3.6.1.4.1.14519.5.2.1.6279.6001.196619392240146451912217585346/125.xml\n",
      "/home/mengdi/anaconda3/lib/python3.5/site-packages/ipykernel/__main__.py:28: UserWarning: no large nodule for /home/mengdi/DataShare/LIDC/LIDC-IDRI/DOI/LIDC-IDRI-0687/1.3.6.1.4.1.14519.5.2.1.6279.6001.109666408795826210278851151448/1.3.6.1.4.1.14519.5.2.1.6279.6001.138674679709964033277400089532/123.xml\n",
      "/home/mengdi/anaconda3/lib/python3.5/site-packages/ipykernel/__main__.py:28: UserWarning: no large nodule for /home/mengdi/DataShare/LIDC/LIDC-IDRI/DOI/LIDC-IDRI-0689/1.3.6.1.4.1.14519.5.2.1.6279.6001.496491930918288198728143484533/1.3.6.1.4.1.14519.5.2.1.6279.6001.888615810685807330497715730842/121.xml\n",
      "/home/mengdi/anaconda3/lib/python3.5/site-packages/ipykernel/__main__.py:28: UserWarning: no large nodule for /home/mengdi/DataShare/LIDC/LIDC-IDRI/DOI/LIDC-IDRI-0690/1.3.6.1.4.1.14519.5.2.1.6279.6001.243265164379948694363428442147/1.3.6.1.4.1.14519.5.2.1.6279.6001.153181766344026020914478182395/120.xml\n",
      "/home/mengdi/anaconda3/lib/python3.5/site-packages/ipykernel/__main__.py:28: UserWarning: no large nodule for /home/mengdi/DataShare/LIDC/LIDC-IDRI/DOI/LIDC-IDRI-0691/1.3.6.1.4.1.14519.5.2.1.6279.6001.311744239959995611370181604400/1.3.6.1.4.1.14519.5.2.1.6279.6001.326853837126361167310734933887/119.xml\n",
      "/home/mengdi/anaconda3/lib/python3.5/site-packages/ipykernel/__main__.py:28: UserWarning: no large nodule for /home/mengdi/DataShare/LIDC/LIDC-IDRI/DOI/LIDC-IDRI-0692/1.3.6.1.4.1.14519.5.2.1.6279.6001.262372993180687488521371393069/1.3.6.1.4.1.14519.5.2.1.6279.6001.404364125369979066736354549484/118.xml\n",
      "/home/mengdi/anaconda3/lib/python3.5/site-packages/ipykernel/__main__.py:28: UserWarning: no large nodule for /home/mengdi/DataShare/LIDC/LIDC-IDRI/DOI/LIDC-IDRI-0693/1.3.6.1.4.1.14519.5.2.1.6279.6001.172781764368509306119706213242/1.3.6.1.4.1.14519.5.2.1.6279.6001.285926554490515269336267972830/117.xml\n",
      "/home/mengdi/anaconda3/lib/python3.5/site-packages/ipykernel/__main__.py:28: UserWarning: no large nodule for /home/mengdi/DataShare/LIDC/LIDC-IDRI/DOI/LIDC-IDRI-0703/1.3.6.1.4.1.14519.5.2.1.6279.6001.145643207559809787753499447041/1.3.6.1.4.1.14519.5.2.1.6279.6001.138080888843357047811238713686/107.xml\n",
      "/home/mengdi/anaconda3/lib/python3.5/site-packages/ipykernel/__main__.py:28: UserWarning: no large nodule for /home/mengdi/DataShare/LIDC/LIDC-IDRI/DOI/LIDC-IDRI-0710/1.3.6.1.4.1.14519.5.2.1.6279.6001.116146223752796042299115304156/1.3.6.1.4.1.14519.5.2.1.6279.6001.100530488926682752765845212286/100.xml\n",
      "/home/mengdi/anaconda3/lib/python3.5/site-packages/ipykernel/__main__.py:28: UserWarning: no large nodule for /home/mengdi/DataShare/LIDC/LIDC-IDRI/DOI/LIDC-IDRI-0711/1.3.6.1.4.1.14519.5.2.1.6279.6001.811835952879031416814756528203/1.3.6.1.4.1.14519.5.2.1.6279.6001.246178337114401749164850220976/099.xml\n",
      "/home/mengdi/anaconda3/lib/python3.5/site-packages/ipykernel/__main__.py:28: UserWarning: no large nodule for /home/mengdi/DataShare/LIDC/LIDC-IDRI/DOI/LIDC-IDRI-0714/1.3.6.1.4.1.14519.5.2.1.6279.6001.708247959534230054025514993152/1.3.6.1.4.1.14519.5.2.1.6279.6001.138894439026794145866157853158/096.xml\n"
     ]
    },
    {
     "name": "stderr",
     "output_type": "stream",
     "text": [
      "/home/mengdi/anaconda3/lib/python3.5/site-packages/ipykernel/__main__.py:28: UserWarning: no large nodule for /home/mengdi/DataShare/LIDC/LIDC-IDRI/DOI/LIDC-IDRI-0715/1.3.6.1.4.1.14519.5.2.1.6279.6001.202796045319384029259715575526/1.3.6.1.4.1.14519.5.2.1.6279.6001.771831598853841017505646275338/095.xml\n",
      "/home/mengdi/anaconda3/lib/python3.5/site-packages/ipykernel/__main__.py:28: UserWarning: no large nodule for /home/mengdi/DataShare/LIDC/LIDC-IDRI/DOI/LIDC-IDRI-0716/1.3.6.1.4.1.14519.5.2.1.6279.6001.327233508500720321498837444121/1.3.6.1.4.1.14519.5.2.1.6279.6001.134638281277099121660656324702/094.xml\n",
      "/home/mengdi/anaconda3/lib/python3.5/site-packages/ipykernel/__main__.py:28: UserWarning: no large nodule for /home/mengdi/DataShare/LIDC/LIDC-IDRI/DOI/LIDC-IDRI-0718/1.3.6.1.4.1.14519.5.2.1.6279.6001.179669323844674225027489166547/1.3.6.1.4.1.14519.5.2.1.6279.6001.885168397833922082085837240429/092.xml\n",
      "/home/mengdi/anaconda3/lib/python3.5/site-packages/ipykernel/__main__.py:28: UserWarning: no large nodule for /home/mengdi/DataShare/LIDC/LIDC-IDRI/DOI/LIDC-IDRI-0721/1.3.6.1.4.1.14519.5.2.1.6279.6001.925679448263116681180549137562/1.3.6.1.4.1.14519.5.2.1.6279.6001.105756658031515062000744821260/089.xml\n",
      "/home/mengdi/anaconda3/lib/python3.5/site-packages/ipykernel/__main__.py:28: UserWarning: no large nodule for /home/mengdi/DataShare/LIDC/LIDC-IDRI/DOI/LIDC-IDRI-0722/1.3.6.1.4.1.14519.5.2.1.6279.6001.210438744022591353484036052860/1.3.6.1.4.1.14519.5.2.1.6279.6001.114218724025049818743426522343/088.xml\n",
      "/home/mengdi/anaconda3/lib/python3.5/site-packages/ipykernel/__main__.py:28: UserWarning: no large nodule for /home/mengdi/DataShare/LIDC/LIDC-IDRI/DOI/LIDC-IDRI-0725/1.3.6.1.4.1.14519.5.2.1.6279.6001.305942859345281883515236698139/1.3.6.1.4.1.14519.5.2.1.6279.6001.561423049201987049884663740668/085.xml\n",
      "/home/mengdi/anaconda3/lib/python3.5/site-packages/ipykernel/__main__.py:28: UserWarning: no large nodule for /home/mengdi/DataShare/LIDC/LIDC-IDRI/DOI/LIDC-IDRI-0728/1.3.6.1.4.1.14519.5.2.1.6279.6001.111191540532827735098734161238/1.3.6.1.4.1.14519.5.2.1.6279.6001.179943248049071805421192715219/082.xml\n",
      "/home/mengdi/anaconda3/lib/python3.5/site-packages/ipykernel/__main__.py:28: UserWarning: no large nodule for /home/mengdi/DataShare/LIDC/LIDC-IDRI/DOI/LIDC-IDRI-0731/1.3.6.1.4.1.14519.5.2.1.6279.6001.305398246365961706334877462365/1.3.6.1.4.1.14519.5.2.1.6279.6001.265570697208310960298668720669/079.xml\n",
      "/home/mengdi/anaconda3/lib/python3.5/site-packages/ipykernel/__main__.py:28: UserWarning: no large nodule for /home/mengdi/DataShare/LIDC/LIDC-IDRI/DOI/LIDC-IDRI-0736/1.3.6.1.4.1.14519.5.2.1.6279.6001.879950425588844557177426831791/1.3.6.1.4.1.14519.5.2.1.6279.6001.756684168227383088294595834066/074.xml\n",
      "/home/mengdi/anaconda3/lib/python3.5/site-packages/ipykernel/__main__.py:28: UserWarning: no large nodule for /home/mengdi/DataShare/LIDC/LIDC-IDRI/DOI/LIDC-IDRI-0737/1.3.6.1.4.1.14519.5.2.1.6279.6001.245530495041322714988642038927/1.3.6.1.4.1.14519.5.2.1.6279.6001.224845111941302943990256315343/073.xml\n",
      "/home/mengdi/anaconda3/lib/python3.5/site-packages/ipykernel/__main__.py:28: UserWarning: no large nodule for /home/mengdi/DataShare/LIDC/LIDC-IDRI/DOI/LIDC-IDRI-0738/1.3.6.1.4.1.14519.5.2.1.6279.6001.158191120632134370856293200292/1.3.6.1.4.1.14519.5.2.1.6279.6001.306112617218006614029386065035/072.xml\n",
      "/home/mengdi/anaconda3/lib/python3.5/site-packages/ipykernel/__main__.py:28: UserWarning: no large nodule for /home/mengdi/DataShare/LIDC/LIDC-IDRI/DOI/LIDC-IDRI-0739/1.3.6.1.4.1.14519.5.2.1.6279.6001.419136021853948294349111583097/1.3.6.1.4.1.14519.5.2.1.6279.6001.250481236093201801255751845296/071.xml\n",
      "/home/mengdi/anaconda3/lib/python3.5/site-packages/ipykernel/__main__.py:28: UserWarning: no large nodule for /home/mengdi/DataShare/LIDC/LIDC-IDRI/DOI/LIDC-IDRI-0742/1.3.6.1.4.1.14519.5.2.1.6279.6001.334404540722450737157825443529/1.3.6.1.4.1.14519.5.2.1.6279.6001.265775376735520890308424143898/068.xml\n",
      "/home/mengdi/anaconda3/lib/python3.5/site-packages/ipykernel/__main__.py:28: UserWarning: no large nodule for /home/mengdi/DataShare/LIDC/LIDC-IDRI/DOI/LIDC-IDRI-0743/1.3.6.1.4.1.14519.5.2.1.6279.6001.322060710223427694979493449810/1.3.6.1.4.1.14519.5.2.1.6279.6001.119515474430718803379832249911/067.xml\n",
      "/home/mengdi/anaconda3/lib/python3.5/site-packages/ipykernel/__main__.py:28: UserWarning: no large nodule for /home/mengdi/DataShare/LIDC/LIDC-IDRI/DOI/LIDC-IDRI-0745/1.3.6.1.4.1.14519.5.2.1.6279.6001.208751380258614309420535124059/1.3.6.1.4.1.14519.5.2.1.6279.6001.100684836163890911914061745866/065.xml\n",
      "/home/mengdi/anaconda3/lib/python3.5/site-packages/ipykernel/__main__.py:28: UserWarning: no large nodule for /home/mengdi/DataShare/LIDC/LIDC-IDRI/DOI/LIDC-IDRI-0746/1.3.6.1.4.1.14519.5.2.1.6279.6001.264320238393338793327058584209/1.3.6.1.4.1.14519.5.2.1.6279.6001.171682845383273105440297561095/064.xml\n",
      "/home/mengdi/anaconda3/lib/python3.5/site-packages/ipykernel/__main__.py:28: UserWarning: no large nodule for /home/mengdi/DataShare/LIDC/LIDC-IDRI/DOI/LIDC-IDRI-0747/1.3.6.1.4.1.14519.5.2.1.6279.6001.332442253024965725100180832377/1.3.6.1.4.1.14519.5.2.1.6279.6001.126121460017257137098781143514/063.xml\n",
      "/home/mengdi/anaconda3/lib/python3.5/site-packages/ipykernel/__main__.py:28: UserWarning: no large nodule for /home/mengdi/DataShare/LIDC/LIDC-IDRI/DOI/LIDC-IDRI-0750/1.3.6.1.4.1.14519.5.2.1.6279.6001.190036064555105762519342089670/1.3.6.1.4.1.14519.5.2.1.6279.6001.305000574633573438189782624063/060.xml\n",
      "/home/mengdi/anaconda3/lib/python3.5/site-packages/ipykernel/__main__.py:28: UserWarning: no large nodule for /home/mengdi/DataShare/LIDC/LIDC-IDRI/DOI/LIDC-IDRI-0753/1.3.6.1.4.1.14519.5.2.1.6279.6001.837260510399523070637863582641/1.3.6.1.4.1.14519.5.2.1.6279.6001.238522526736091851696274044574/057.xml\n",
      "/home/mengdi/anaconda3/lib/python3.5/site-packages/ipykernel/__main__.py:28: UserWarning: no large nodule for /home/mengdi/DataShare/LIDC/LIDC-IDRI/DOI/LIDC-IDRI-0754/1.3.6.1.4.1.14519.5.2.1.6279.6001.136876570107341293094375256847/1.3.6.1.4.1.14519.5.2.1.6279.6001.766881513533845439335142582269/056.xml\n",
      "/home/mengdi/anaconda3/lib/python3.5/site-packages/ipykernel/__main__.py:28: UserWarning: no large nodule for /home/mengdi/DataShare/LIDC/LIDC-IDRI/DOI/LIDC-IDRI-0755/1.3.6.1.4.1.14519.5.2.1.6279.6001.760815306677938279995420893266/1.3.6.1.4.1.14519.5.2.1.6279.6001.310626494937915759224334597176/055.xml\n",
      "/home/mengdi/anaconda3/lib/python3.5/site-packages/ipykernel/__main__.py:28: UserWarning: no large nodule for /home/mengdi/DataShare/LIDC/LIDC-IDRI/DOI/LIDC-IDRI-0756/1.3.6.1.4.1.14519.5.2.1.6279.6001.283065772077726118787509535476/1.3.6.1.4.1.14519.5.2.1.6279.6001.525937963993475482158828421281/054.xml\n",
      "/home/mengdi/anaconda3/lib/python3.5/site-packages/ipykernel/__main__.py:28: UserWarning: no large nodule for /home/mengdi/DataShare/LIDC/LIDC-IDRI/DOI/LIDC-IDRI-0757/1.3.6.1.4.1.14519.5.2.1.6279.6001.716587475529555681439302477222/1.3.6.1.4.1.14519.5.2.1.6279.6001.148935306123327835217659769212/053.xml\n",
      "/home/mengdi/anaconda3/lib/python3.5/site-packages/ipykernel/__main__.py:28: UserWarning: no large nodule for /home/mengdi/DataShare/LIDC/LIDC-IDRI/DOI/LIDC-IDRI-0758/1.3.6.1.4.1.14519.5.2.1.6279.6001.427346572209935588501414358601/1.3.6.1.4.1.14519.5.2.1.6279.6001.313756547848086902190878548835/052.xml\n",
      "/home/mengdi/anaconda3/lib/python3.5/site-packages/ipykernel/__main__.py:28: UserWarning: no large nodule for /home/mengdi/DataShare/LIDC/LIDC-IDRI/DOI/LIDC-IDRI-0760/1.3.6.1.4.1.14519.5.2.1.6279.6001.390772419716078897913409775988/1.3.6.1.4.1.14519.5.2.1.6279.6001.111017101339429664883879536171/050.xml\n",
      "/home/mengdi/anaconda3/lib/python3.5/site-packages/ipykernel/__main__.py:28: UserWarning: no large nodule for /home/mengdi/DataShare/LIDC/LIDC-IDRI/DOI/LIDC-IDRI-0762/1.3.6.1.4.1.14519.5.2.1.6279.6001.215789618966985272514045108451/1.3.6.1.4.1.14519.5.2.1.6279.6001.292194861362266467652267941663/048.xml\n",
      "/home/mengdi/anaconda3/lib/python3.5/site-packages/ipykernel/__main__.py:28: UserWarning: no large nodule for /home/mengdi/DataShare/LIDC/LIDC-IDRI/DOI/LIDC-IDRI-0764/1.3.6.1.4.1.14519.5.2.1.6279.6001.244373570322096288150284305419/1.3.6.1.4.1.14519.5.2.1.6279.6001.596908385953413160131451426904/046.xml\n"
     ]
    },
    {
     "name": "stderr",
     "output_type": "stream",
     "text": [
      "/home/mengdi/anaconda3/lib/python3.5/site-packages/ipykernel/__main__.py:28: UserWarning: no large nodule for /home/mengdi/DataShare/LIDC/LIDC-IDRI/DOI/LIDC-IDRI-0765/1.3.6.1.4.1.14519.5.2.1.6279.6001.225520892751936930714518753705/1.3.6.1.4.1.14519.5.2.1.6279.6001.308153138776443962077214577161/045.xml\n",
      "/home/mengdi/anaconda3/lib/python3.5/site-packages/ipykernel/__main__.py:28: UserWarning: no large nodule for /home/mengdi/DataShare/LIDC/LIDC-IDRI/DOI/LIDC-IDRI-0767/1.3.6.1.4.1.14519.5.2.1.6279.6001.733596311057474916459070445858/1.3.6.1.4.1.14519.5.2.1.6279.6001.332453873575389860371315979768/043.xml\n",
      "/home/mengdi/anaconda3/lib/python3.5/site-packages/ipykernel/__main__.py:28: UserWarning: no large nodule for /home/mengdi/DataShare/LIDC/LIDC-IDRI/DOI/LIDC-IDRI-0769/1.3.6.1.4.1.14519.5.2.1.6279.6001.891182989185983545761655978623/1.3.6.1.4.1.14519.5.2.1.6279.6001.193408384740507320589857096592/041.xml\n",
      "/home/mengdi/anaconda3/lib/python3.5/site-packages/ipykernel/__main__.py:28: UserWarning: no large nodule for /home/mengdi/DataShare/LIDC/LIDC-IDRI/DOI/LIDC-IDRI-0774/1.3.6.1.4.1.14519.5.2.1.6279.6001.137140638676337892227773528182/1.3.6.1.4.1.14519.5.2.1.6279.6001.390009458146468860187238398197/036.xml\n",
      "/home/mengdi/anaconda3/lib/python3.5/site-packages/ipykernel/__main__.py:28: UserWarning: no large nodule for /home/mengdi/DataShare/LIDC/LIDC-IDRI/DOI/LIDC-IDRI-0778/1.3.6.1.4.1.14519.5.2.1.6279.6001.174809695196160918760894715771/1.3.6.1.4.1.14519.5.2.1.6279.6001.100332161840553388986847034053/027.xml\n",
      "/home/mengdi/anaconda3/lib/python3.5/site-packages/ipykernel/__main__.py:28: UserWarning: no large nodule for /home/mengdi/DataShare/LIDC/LIDC-IDRI/DOI/LIDC-IDRI-0779/1.3.6.1.4.1.14519.5.2.1.6279.6001.260650317266630055112768212364/1.3.6.1.4.1.14519.5.2.1.6279.6001.771741891125176943862272696845/026.xml\n",
      "/home/mengdi/anaconda3/lib/python3.5/site-packages/ipykernel/__main__.py:28: UserWarning: no large nodule for /home/mengdi/DataShare/LIDC/LIDC-IDRI/DOI/LIDC-IDRI-0780/1.3.6.1.4.1.14519.5.2.1.6279.6001.919002813906622793381125049416/1.3.6.1.4.1.14519.5.2.1.6279.6001.302134342469412607966016057827/025.xml\n",
      "/home/mengdi/anaconda3/lib/python3.5/site-packages/ipykernel/__main__.py:28: UserWarning: no large nodule for /home/mengdi/DataShare/LIDC/LIDC-IDRI/DOI/LIDC-IDRI-0781/1.3.6.1.4.1.14519.5.2.1.6279.6001.303924616208074142487120966776/1.3.6.1.4.1.14519.5.2.1.6279.6001.749871569713868632259874663577/024.xml\n",
      "/home/mengdi/anaconda3/lib/python3.5/site-packages/ipykernel/__main__.py:28: UserWarning: no large nodule for /home/mengdi/DataShare/LIDC/LIDC-IDRI/DOI/LIDC-IDRI-0782/1.3.6.1.4.1.14519.5.2.1.6279.6001.269549495557169661890212203300/1.3.6.1.4.1.14519.5.2.1.6279.6001.144943344795414353192059796098/023.xml\n",
      "/home/mengdi/anaconda3/lib/python3.5/site-packages/ipykernel/__main__.py:28: UserWarning: no large nodule for /home/mengdi/DataShare/LIDC/LIDC-IDRI/DOI/LIDC-IDRI-0783/1.3.6.1.4.1.14519.5.2.1.6279.6001.108196413521053893318500192469/1.3.6.1.4.1.14519.5.2.1.6279.6001.232058316950007760548968840196/022.xml\n",
      "/home/mengdi/anaconda3/lib/python3.5/site-packages/ipykernel/__main__.py:28: UserWarning: no large nodule for /home/mengdi/DataShare/LIDC/LIDC-IDRI/DOI/LIDC-IDRI-0784/1.3.6.1.4.1.14519.5.2.1.6279.6001.100895467476200884512777112749/1.3.6.1.4.1.14519.5.2.1.6279.6001.116097642684124305074876564522/021.xml\n",
      "/home/mengdi/anaconda3/lib/python3.5/site-packages/ipykernel/__main__.py:28: UserWarning: no large nodule for /home/mengdi/DataShare/LIDC/LIDC-IDRI/DOI/LIDC-IDRI-0786/1.3.6.1.4.1.14519.5.2.1.6279.6001.110583593061096148970283270811/1.3.6.1.4.1.14519.5.2.1.6279.6001.259453428008507791234730686014/019.xml\n",
      "/home/mengdi/anaconda3/lib/python3.5/site-packages/ipykernel/__main__.py:28: UserWarning: no large nodule for /home/mengdi/DataShare/LIDC/LIDC-IDRI/DOI/LIDC-IDRI-0787/1.3.6.1.4.1.14519.5.2.1.6279.6001.123757952382514314958340753104/1.3.6.1.4.1.14519.5.2.1.6279.6001.664409965623578819357819577077/018.xml\n",
      "/home/mengdi/anaconda3/lib/python3.5/site-packages/ipykernel/__main__.py:28: UserWarning: no large nodule for /home/mengdi/DataShare/LIDC/LIDC-IDRI/DOI/LIDC-IDRI-0790/1.3.6.1.4.1.14519.5.2.1.6279.6001.107063920355575867343721608071/1.3.6.1.4.1.14519.5.2.1.6279.6001.266009527139315622265711325223/015.xml\n",
      "/home/mengdi/anaconda3/lib/python3.5/site-packages/ipykernel/__main__.py:28: UserWarning: no large nodule for /home/mengdi/DataShare/LIDC/LIDC-IDRI/DOI/LIDC-IDRI-0792/1.3.6.1.4.1.14519.5.2.1.6279.6001.127299727722058129007613721740/1.3.6.1.4.1.14519.5.2.1.6279.6001.300392272203629213913702120739/013.xml\n",
      "/home/mengdi/anaconda3/lib/python3.5/site-packages/ipykernel/__main__.py:28: UserWarning: no large nodule for /home/mengdi/DataShare/LIDC/LIDC-IDRI/DOI/LIDC-IDRI-0793/1.3.6.1.4.1.14519.5.2.1.6279.6001.242682647435854260754234965628/1.3.6.1.4.1.14519.5.2.1.6279.6001.223098610241551815995595311693/012.xml\n",
      "/home/mengdi/anaconda3/lib/python3.5/site-packages/ipykernel/__main__.py:28: UserWarning: no large nodule for /home/mengdi/DataShare/LIDC/LIDC-IDRI/DOI/LIDC-IDRI-0797/1.3.6.1.4.1.14519.5.2.1.6279.6001.278571116570364233687639963534/1.3.6.1.4.1.14519.5.2.1.6279.6001.631047517458234322522264161877/008.xml\n",
      "/home/mengdi/anaconda3/lib/python3.5/site-packages/ipykernel/__main__.py:28: UserWarning: no large nodule for /home/mengdi/DataShare/LIDC/LIDC-IDRI/DOI/LIDC-IDRI-0802/1.3.6.1.4.1.14519.5.2.1.6279.6001.322126192251489550021873181090/1.3.6.1.4.1.14519.5.2.1.6279.6001.330643702676971528301859647742/003.xml\n",
      "/home/mengdi/anaconda3/lib/python3.5/site-packages/ipykernel/__main__.py:28: UserWarning: no large nodule for /home/mengdi/DataShare/LIDC/LIDC-IDRI/DOI/LIDC-IDRI-0804/1.3.6.1.4.1.14519.5.2.1.6279.6001.309197613983514716651302448908/1.3.6.1.4.1.14519.5.2.1.6279.6001.106419850406056634877579573537/001.xml\n",
      "/home/mengdi/anaconda3/lib/python3.5/site-packages/ipykernel/__main__.py:28: UserWarning: no large nodule for /home/mengdi/DataShare/LIDC/LIDC-IDRI/DOI/LIDC-IDRI-0805/1.3.6.1.4.1.14519.5.2.1.6279.6001.116398718009259533261076124801/1.3.6.1.4.1.14519.5.2.1.6279.6001.199975006921901879512837687266/000.xml\n",
      "/home/mengdi/anaconda3/lib/python3.5/site-packages/ipykernel/__main__.py:28: UserWarning: no large nodule for /home/mengdi/DataShare/LIDC/LIDC-IDRI/DOI/LIDC-IDRI-0808/1.3.6.1.4.1.14519.5.2.1.6279.6001.312645752194926420055172578588/1.3.6.1.4.1.14519.5.2.1.6279.6001.175318131822744218104175746898/297.xml\n",
      "/home/mengdi/anaconda3/lib/python3.5/site-packages/ipykernel/__main__.py:28: UserWarning: no large nodule for /home/mengdi/DataShare/LIDC/LIDC-IDRI/DOI/LIDC-IDRI-0812/1.3.6.1.4.1.14519.5.2.1.6279.6001.129889229961080005326707611943/1.3.6.1.4.1.14519.5.2.1.6279.6001.109203031650348694844047454215/293.xml\n",
      "/home/mengdi/anaconda3/lib/python3.5/site-packages/ipykernel/__main__.py:28: UserWarning: no large nodule for /home/mengdi/DataShare/LIDC/LIDC-IDRI/DOI/LIDC-IDRI-0813/1.3.6.1.4.1.14519.5.2.1.6279.6001.139110171863263699469684411692/1.3.6.1.4.1.14519.5.2.1.6279.6001.100398138793540579077826395208/292.xml\n",
      "/home/mengdi/anaconda3/lib/python3.5/site-packages/ipykernel/__main__.py:28: UserWarning: no large nodule for /home/mengdi/DataShare/LIDC/LIDC-IDRI/DOI/LIDC-IDRI-0817/1.3.6.1.4.1.14519.5.2.1.6279.6001.657015929286431430594491075660/1.3.6.1.4.1.14519.5.2.1.6279.6001.129650136453746261130135157590/288.xml\n",
      "/home/mengdi/anaconda3/lib/python3.5/site-packages/ipykernel/__main__.py:28: UserWarning: no large nodule for /home/mengdi/DataShare/LIDC/LIDC-IDRI/DOI/LIDC-IDRI-0818/1.3.6.1.4.1.14519.5.2.1.6279.6001.143147006327116114851951568235/1.3.6.1.4.1.14519.5.2.1.6279.6001.664989286137882319237192185951/287.xml\n",
      "/home/mengdi/anaconda3/lib/python3.5/site-packages/ipykernel/__main__.py:28: UserWarning: no large nodule for /home/mengdi/DataShare/LIDC/LIDC-IDRI/DOI/LIDC-IDRI-0820/1.3.6.1.4.1.14519.5.2.1.6279.6001.232484282311807761778575987163/1.3.6.1.4.1.14519.5.2.1.6279.6001.390513733720659266816639651938/285.xml\n",
      "/home/mengdi/anaconda3/lib/python3.5/site-packages/ipykernel/__main__.py:28: UserWarning: no large nodule for /home/mengdi/DataShare/LIDC/LIDC-IDRI/DOI/LIDC-IDRI-0823/1.3.6.1.4.1.14519.5.2.1.6279.6001.316049072680605749900519988649/1.3.6.1.4.1.14519.5.2.1.6279.6001.240630002689062442926543993263/282.xml\n",
      "/home/mengdi/anaconda3/lib/python3.5/site-packages/ipykernel/__main__.py:28: UserWarning: no large nodule for /home/mengdi/DataShare/LIDC/LIDC-IDRI/DOI/LIDC-IDRI-0824/1.3.6.1.4.1.14519.5.2.1.6279.6001.164217405113124054884377740544/1.3.6.1.4.1.14519.5.2.1.6279.6001.146603910507557786636779705509/281.xml\n",
      "/home/mengdi/anaconda3/lib/python3.5/site-packages/ipykernel/__main__.py:28: UserWarning: no large nodule for /home/mengdi/DataShare/LIDC/LIDC-IDRI/DOI/LIDC-IDRI-0825/1.3.6.1.4.1.14519.5.2.1.6279.6001.291351987478858068691768357060/1.3.6.1.4.1.14519.5.2.1.6279.6001.309672797925724868457151381131/280.xml\n"
     ]
    },
    {
     "name": "stderr",
     "output_type": "stream",
     "text": [
      "/home/mengdi/anaconda3/lib/python3.5/site-packages/ipykernel/__main__.py:28: UserWarning: no large nodule for /home/mengdi/DataShare/LIDC/LIDC-IDRI/DOI/LIDC-IDRI-0826/1.3.6.1.4.1.14519.5.2.1.6279.6001.473852308535992451018178219915/1.3.6.1.4.1.14519.5.2.1.6279.6001.658611160253017715059194304729/279.xml\n",
      "/home/mengdi/anaconda3/lib/python3.5/site-packages/ipykernel/__main__.py:28: UserWarning: no large nodule for /home/mengdi/DataShare/LIDC/LIDC-IDRI/DOI/LIDC-IDRI-0829/1.3.6.1.4.1.14519.5.2.1.6279.6001.135664533107982155600588797111/1.3.6.1.4.1.14519.5.2.1.6279.6001.121391737347333465796214915391/276.xml\n",
      "/home/mengdi/anaconda3/lib/python3.5/site-packages/ipykernel/__main__.py:28: UserWarning: no large nodule for /home/mengdi/DataShare/LIDC/LIDC-IDRI/DOI/LIDC-IDRI-0830/1.3.6.1.4.1.14519.5.2.1.6279.6001.170453435914624225750000821602/1.3.6.1.4.1.14519.5.2.1.6279.6001.102133688497886810253331438797/275.xml\n",
      "/home/mengdi/anaconda3/lib/python3.5/site-packages/ipykernel/__main__.py:28: UserWarning: no large nodule for /home/mengdi/DataShare/LIDC/LIDC-IDRI/DOI/LIDC-IDRI-0831/1.3.6.1.4.1.14519.5.2.1.6279.6001.198938890575750893735876189224/1.3.6.1.4.1.14519.5.2.1.6279.6001.136830368929967292376608088362/274.xml\n",
      "/home/mengdi/anaconda3/lib/python3.5/site-packages/ipykernel/__main__.py:28: UserWarning: no large nodule for /home/mengdi/DataShare/LIDC/LIDC-IDRI/DOI/LIDC-IDRI-0833/1.3.6.1.4.1.14519.5.2.1.6279.6001.101324598070011890446155612648/1.3.6.1.4.1.14519.5.2.1.6279.6001.897279226481700053115245043064/272.xml\n",
      "/home/mengdi/anaconda3/lib/python3.5/site-packages/ipykernel/__main__.py:28: UserWarning: no large nodule for /home/mengdi/DataShare/LIDC/LIDC-IDRI/DOI/LIDC-IDRI-0834/1.3.6.1.4.1.14519.5.2.1.6279.6001.224985459390356936417021464571/1.3.6.1.4.1.14519.5.2.1.6279.6001.273525289046256012743471155680/271.xml\n",
      "/home/mengdi/anaconda3/lib/python3.5/site-packages/ipykernel/__main__.py:28: UserWarning: no large nodule for /home/mengdi/DataShare/LIDC/LIDC-IDRI/DOI/LIDC-IDRI-0839/1.3.6.1.4.1.14519.5.2.1.6279.6001.168622246543346624875908688629/1.3.6.1.4.1.14519.5.2.1.6279.6001.209269973797560820442292189762/266.xml\n",
      "/home/mengdi/anaconda3/lib/python3.5/site-packages/ipykernel/__main__.py:28: UserWarning: no large nodule for /home/mengdi/DataShare/LIDC/LIDC-IDRI/DOI/LIDC-IDRI-0840/1.3.6.1.4.1.14519.5.2.1.6279.6001.317269195393986070164185617972/1.3.6.1.4.1.14519.5.2.1.6279.6001.219281726101239572270900838145/265.xml\n",
      "/home/mengdi/anaconda3/lib/python3.5/site-packages/ipykernel/__main__.py:28: UserWarning: no large nodule for /home/mengdi/DataShare/LIDC/LIDC-IDRI/DOI/LIDC-IDRI-0841/1.3.6.1.4.1.14519.5.2.1.6279.6001.181417885049753012096413476972/1.3.6.1.4.1.14519.5.2.1.6279.6001.669518152156802508672627785405/264.xml\n",
      "/home/mengdi/anaconda3/lib/python3.5/site-packages/ipykernel/__main__.py:28: UserWarning: no large nodule for /home/mengdi/DataShare/LIDC/LIDC-IDRI/DOI/LIDC-IDRI-0842/1.3.6.1.4.1.14519.5.2.1.6279.6001.176189447010290638749878151482/1.3.6.1.4.1.14519.5.2.1.6279.6001.245349763807614756148761326488/263.xml\n",
      "/home/mengdi/anaconda3/lib/python3.5/site-packages/ipykernel/__main__.py:28: UserWarning: no large nodule for /home/mengdi/DataShare/LIDC/LIDC-IDRI/DOI/LIDC-IDRI-0844/1.3.6.1.4.1.14519.5.2.1.6279.6001.227040504303112430978662427134/1.3.6.1.4.1.14519.5.2.1.6279.6001.222052723822248889877676736332/261.xml\n",
      "/home/mengdi/anaconda3/lib/python3.5/site-packages/ipykernel/__main__.py:28: UserWarning: no large nodule for /home/mengdi/DataShare/LIDC/LIDC-IDRI/DOI/LIDC-IDRI-0846/1.3.6.1.4.1.14519.5.2.1.6279.6001.267354935124724968585540389507/1.3.6.1.4.1.14519.5.2.1.6279.6001.674809958213117379592437424616/259.xml\n",
      "/home/mengdi/anaconda3/lib/python3.5/site-packages/ipykernel/__main__.py:28: UserWarning: no large nodule for /home/mengdi/DataShare/LIDC/LIDC-IDRI/DOI/LIDC-IDRI-0847/1.3.6.1.4.1.14519.5.2.1.6279.6001.901103510796290218917651903823/1.3.6.1.4.1.14519.5.2.1.6279.6001.237915456403882324748189195892/258.xml\n",
      "/home/mengdi/anaconda3/lib/python3.5/site-packages/ipykernel/__main__.py:28: UserWarning: no large nodule for /home/mengdi/DataShare/LIDC/LIDC-IDRI/DOI/LIDC-IDRI-0848/1.3.6.1.4.1.14519.5.2.1.6279.6001.115235596345340852495791642145/1.3.6.1.4.1.14519.5.2.1.6279.6001.252697338970999211181671881792/257.xml\n",
      "/home/mengdi/anaconda3/lib/python3.5/site-packages/ipykernel/__main__.py:28: UserWarning: no large nodule for /home/mengdi/DataShare/LIDC/LIDC-IDRI/DOI/LIDC-IDRI-0852/1.3.6.1.4.1.14519.5.2.1.6279.6001.147007934469588183141400115665/1.3.6.1.4.1.14519.5.2.1.6279.6001.300146276266881736689307479986/253.xml\n",
      "/home/mengdi/anaconda3/lib/python3.5/site-packages/ipykernel/__main__.py:28: UserWarning: no large nodule for /home/mengdi/DataShare/LIDC/LIDC-IDRI/DOI/LIDC-IDRI-0853/1.3.6.1.4.1.14519.5.2.1.6279.6001.854778727666988682245040938192/1.3.6.1.4.1.14519.5.2.1.6279.6001.159521777966998275980367008904/252.xml\n",
      "/home/mengdi/anaconda3/lib/python3.5/site-packages/ipykernel/__main__.py:28: UserWarning: no large nodule for /home/mengdi/DataShare/LIDC/LIDC-IDRI/DOI/LIDC-IDRI-0856/1.3.6.1.4.1.14519.5.2.1.6279.6001.297927758886508342527732573281/1.3.6.1.4.1.14519.5.2.1.6279.6001.139889514693390832525232698200/249.xml\n",
      "/home/mengdi/anaconda3/lib/python3.5/site-packages/ipykernel/__main__.py:28: UserWarning: no large nodule for /home/mengdi/DataShare/LIDC/LIDC-IDRI/DOI/LIDC-IDRI-0859/1.3.6.1.4.1.14519.5.2.1.6279.6001.236473827829552232243074977782/1.3.6.1.4.1.14519.5.2.1.6279.6001.466284753932369813717081722101/246.xml\n",
      "/home/mengdi/anaconda3/lib/python3.5/site-packages/ipykernel/__main__.py:28: UserWarning: no large nodule for /home/mengdi/DataShare/LIDC/LIDC-IDRI/DOI/LIDC-IDRI-0862/1.3.6.1.4.1.14519.5.2.1.6279.6001.166927528009001339756280929911/1.3.6.1.4.1.14519.5.2.1.6279.6001.220205300714852483483213840572/243.xml\n",
      "/home/mengdi/anaconda3/lib/python3.5/site-packages/ipykernel/__main__.py:28: UserWarning: no large nodule for /home/mengdi/DataShare/LIDC/LIDC-IDRI/DOI/LIDC-IDRI-0864/1.3.6.1.4.1.14519.5.2.1.6279.6001.109666061122737469139155049085/1.3.6.1.4.1.14519.5.2.1.6279.6001.174935793360491516757154875981/241.xml\n",
      "/home/mengdi/anaconda3/lib/python3.5/site-packages/ipykernel/__main__.py:28: UserWarning: no large nodule for /home/mengdi/DataShare/LIDC/LIDC-IDRI/DOI/LIDC-IDRI-0868/1.3.6.1.4.1.14519.5.2.1.6279.6001.155894685355411131558273211903/1.3.6.1.4.1.14519.5.2.1.6279.6001.123654356399290048011621921476/237.xml\n",
      "/home/mengdi/anaconda3/lib/python3.5/site-packages/ipykernel/__main__.py:28: UserWarning: no large nodule for /home/mengdi/DataShare/LIDC/LIDC-IDRI/DOI/LIDC-IDRI-0872/1.3.6.1.4.1.14519.5.2.1.6279.6001.324291021807344718518738544991/1.3.6.1.4.1.14519.5.2.1.6279.6001.665044273312514967270866833277/233.xml\n",
      "/home/mengdi/anaconda3/lib/python3.5/site-packages/ipykernel/__main__.py:28: UserWarning: no large nodule for /home/mengdi/DataShare/LIDC/LIDC-IDRI/DOI/LIDC-IDRI-0873/1.3.6.1.4.1.14519.5.2.1.6279.6001.216596541995300108433152752372/1.3.6.1.4.1.14519.5.2.1.6279.6001.975254950136384517744116790879/232.xml\n",
      "/home/mengdi/anaconda3/lib/python3.5/site-packages/ipykernel/__main__.py:28: UserWarning: no large nodule for /home/mengdi/DataShare/LIDC/LIDC-IDRI/DOI/LIDC-IDRI-0876/1.3.6.1.4.1.14519.5.2.1.6279.6001.784007996791528844702730909529/1.3.6.1.4.1.14519.5.2.1.6279.6001.145510611155363050427743946446/229.xml\n",
      "/home/mengdi/anaconda3/lib/python3.5/site-packages/ipykernel/__main__.py:28: UserWarning: no large nodule for /home/mengdi/DataShare/LIDC/LIDC-IDRI/DOI/LIDC-IDRI-0877/1.3.6.1.4.1.14519.5.2.1.6279.6001.216004520620712833687734382704/1.3.6.1.4.1.14519.5.2.1.6279.6001.286647622786041008124419915089/228.xml\n",
      "/home/mengdi/anaconda3/lib/python3.5/site-packages/ipykernel/__main__.py:28: UserWarning: no large nodule for /home/mengdi/DataShare/LIDC/LIDC-IDRI/DOI/LIDC-IDRI-0878/1.3.6.1.4.1.14519.5.2.1.6279.6001.170132617458780845240861335340/1.3.6.1.4.1.14519.5.2.1.6279.6001.182798854785392200340436516930/227.xml\n",
      "/home/mengdi/anaconda3/lib/python3.5/site-packages/ipykernel/__main__.py:28: UserWarning: no large nodule for /home/mengdi/DataShare/LIDC/LIDC-IDRI/DOI/LIDC-IDRI-0881/1.3.6.1.4.1.14519.5.2.1.6279.6001.198621790021518294783545601892/1.3.6.1.4.1.14519.5.2.1.6279.6001.252709517998555732486024866345/224.xml\n"
     ]
    },
    {
     "name": "stderr",
     "output_type": "stream",
     "text": [
      "/home/mengdi/anaconda3/lib/python3.5/site-packages/ipykernel/__main__.py:28: UserWarning: no large nodule for /home/mengdi/DataShare/LIDC/LIDC-IDRI/DOI/LIDC-IDRI-0883/1.3.6.1.4.1.14519.5.2.1.6279.6001.289145216356920254799922475037/1.3.6.1.4.1.14519.5.2.1.6279.6001.303066851236267189733420290986/222.xml\n",
      "/home/mengdi/anaconda3/lib/python3.5/site-packages/ipykernel/__main__.py:28: UserWarning: no large nodule for /home/mengdi/DataShare/LIDC/LIDC-IDRI/DOI/LIDC-IDRI-0885/1.3.6.1.4.1.14519.5.2.1.6279.6001.190809609906302346538542318496/1.3.6.1.4.1.14519.5.2.1.6279.6001.210837812047373739447725050963/220.xml\n",
      "/home/mengdi/anaconda3/lib/python3.5/site-packages/ipykernel/__main__.py:28: UserWarning: no large nodule for /home/mengdi/DataShare/LIDC/LIDC-IDRI/DOI/LIDC-IDRI-0887/1.3.6.1.4.1.14519.5.2.1.6279.6001.306979641566588911923060002188/1.3.6.1.4.1.14519.5.2.1.6279.6001.159665703190517688573100822213/218.xml\n",
      "/home/mengdi/anaconda3/lib/python3.5/site-packages/ipykernel/__main__.py:28: UserWarning: no large nodule for /home/mengdi/DataShare/LIDC/LIDC-IDRI/DOI/LIDC-IDRI-0888/1.3.6.1.4.1.14519.5.2.1.6279.6001.748854471032735053174016711473/1.3.6.1.4.1.14519.5.2.1.6279.6001.226152078193253087875725735761/217.xml\n",
      "/home/mengdi/anaconda3/lib/python3.5/site-packages/ipykernel/__main__.py:28: UserWarning: no large nodule for /home/mengdi/DataShare/LIDC/LIDC-IDRI/DOI/LIDC-IDRI-0889/1.3.6.1.4.1.14519.5.2.1.6279.6001.246689028753310058145348599313/1.3.6.1.4.1.14519.5.2.1.6279.6001.108193664222196923321844991231/216.xml\n",
      "/home/mengdi/anaconda3/lib/python3.5/site-packages/ipykernel/__main__.py:28: UserWarning: no large nodule for /home/mengdi/DataShare/LIDC/LIDC-IDRI/DOI/LIDC-IDRI-0891/1.3.6.1.4.1.14519.5.2.1.6279.6001.236514557934841098404602802045/1.3.6.1.4.1.14519.5.2.1.6279.6001.256542095129414948017808425649/214.xml\n",
      "/home/mengdi/anaconda3/lib/python3.5/site-packages/ipykernel/__main__.py:28: UserWarning: no large nodule for /home/mengdi/DataShare/LIDC/LIDC-IDRI/DOI/LIDC-IDRI-0897/1.3.6.1.4.1.14519.5.2.1.6279.6001.220691291388112896951931960348/1.3.6.1.4.1.14519.5.2.1.6279.6001.463588161905537526756964393219/208.xml\n",
      "/home/mengdi/anaconda3/lib/python3.5/site-packages/ipykernel/__main__.py:28: UserWarning: no large nodule for /home/mengdi/DataShare/LIDC/LIDC-IDRI/DOI/LIDC-IDRI-0899/1.3.6.1.4.1.14519.5.2.1.6279.6001.325608968275343627520297346991/1.3.6.1.4.1.14519.5.2.1.6279.6001.216652640878960522552873394709/206.xml\n",
      "/home/mengdi/anaconda3/lib/python3.5/site-packages/ipykernel/__main__.py:28: UserWarning: no large nodule for /home/mengdi/DataShare/LIDC/LIDC-IDRI/DOI/LIDC-IDRI-0900/1.3.6.1.4.1.14519.5.2.1.6279.6001.282560440087299355954880509248/1.3.6.1.4.1.14519.5.2.1.6279.6001.183056151780567460322586876100/205.xml\n",
      "/home/mengdi/anaconda3/lib/python3.5/site-packages/ipykernel/__main__.py:28: UserWarning: no large nodule for /home/mengdi/DataShare/LIDC/LIDC-IDRI/DOI/LIDC-IDRI-0901/1.3.6.1.4.1.14519.5.2.1.6279.6001.152801029153062203393543320046/1.3.6.1.4.1.14519.5.2.1.6279.6001.920930696356287056377683209311/204.xml\n",
      "/home/mengdi/anaconda3/lib/python3.5/site-packages/ipykernel/__main__.py:28: UserWarning: no large nodule for /home/mengdi/DataShare/LIDC/LIDC-IDRI/DOI/LIDC-IDRI-0903/1.3.6.1.4.1.14519.5.2.1.6279.6001.492147426349651002023084837260/1.3.6.1.4.1.14519.5.2.1.6279.6001.701514276942509393419164159551/202.xml\n",
      "/home/mengdi/anaconda3/lib/python3.5/site-packages/ipykernel/__main__.py:28: UserWarning: no large nodule for /home/mengdi/DataShare/LIDC/LIDC-IDRI/DOI/LIDC-IDRI-0907/1.3.6.1.4.1.14519.5.2.1.6279.6001.294168619890384187906139486190/1.3.6.1.4.1.14519.5.2.1.6279.6001.147325126373007278009743173696/198.xml\n",
      "/home/mengdi/anaconda3/lib/python3.5/site-packages/ipykernel/__main__.py:28: UserWarning: no large nodule for /home/mengdi/DataShare/LIDC/LIDC-IDRI/DOI/LIDC-IDRI-0909/1.3.6.1.4.1.14519.5.2.1.6279.6001.289759534306508848209269388603/1.3.6.1.4.1.14519.5.2.1.6279.6001.116703382344406837243058680403/196.xml\n",
      "/home/mengdi/anaconda3/lib/python3.5/site-packages/ipykernel/__main__.py:28: UserWarning: no large nodule for /home/mengdi/DataShare/LIDC/LIDC-IDRI/DOI/LIDC-IDRI-0918/1.3.6.1.4.1.14519.5.2.1.6279.6001.285544678683551057709080736846/1.3.6.1.4.1.14519.5.2.1.6279.6001.186021279664749879526003668137/187.xml\n",
      "/home/mengdi/anaconda3/lib/python3.5/site-packages/ipykernel/__main__.py:28: UserWarning: no large nodule for /home/mengdi/DataShare/LIDC/LIDC-IDRI/DOI/LIDC-IDRI-0920/1.3.6.1.4.1.14519.5.2.1.6279.6001.263062819617890562693932243280/1.3.6.1.4.1.14519.5.2.1.6279.6001.328695385904874796172316226975/185.xml\n",
      "/home/mengdi/anaconda3/lib/python3.5/site-packages/ipykernel/__main__.py:28: UserWarning: no large nodule for /home/mengdi/DataShare/LIDC/LIDC-IDRI/DOI/LIDC-IDRI-0922/1.3.6.1.4.1.14519.5.2.1.6279.6001.307585785421640145685948300552/1.3.6.1.4.1.14519.5.2.1.6279.6001.265133389948279331857097127422/183.xml\n",
      "/home/mengdi/anaconda3/lib/python3.5/site-packages/ipykernel/__main__.py:28: UserWarning: no large nodule for /home/mengdi/DataShare/LIDC/LIDC-IDRI/DOI/LIDC-IDRI-0924/1.3.6.1.4.1.14519.5.2.1.6279.6001.268186928222507173063266624020/1.3.6.1.4.1.14519.5.2.1.6279.6001.246225645401227472829175288633/181.xml\n",
      "/home/mengdi/anaconda3/lib/python3.5/site-packages/ipykernel/__main__.py:28: UserWarning: no large nodule for /home/mengdi/DataShare/LIDC/LIDC-IDRI/DOI/LIDC-IDRI-0927/1.3.6.1.4.1.14519.5.2.1.6279.6001.101368220317159246676393493553/1.3.6.1.4.1.14519.5.2.1.6279.6001.707218743153927597786179232739/178.xml\n",
      "/home/mengdi/anaconda3/lib/python3.5/site-packages/ipykernel/__main__.py:28: UserWarning: no large nodule for /home/mengdi/DataShare/LIDC/LIDC-IDRI/DOI/LIDC-IDRI-0930/1.3.6.1.4.1.14519.5.2.1.6279.6001.180022882153484928508000120302/1.3.6.1.4.1.14519.5.2.1.6279.6001.190144948425835566841437565646/175.xml\n",
      "/home/mengdi/anaconda3/lib/python3.5/site-packages/ipykernel/__main__.py:28: UserWarning: no large nodule for /home/mengdi/DataShare/LIDC/LIDC-IDRI/DOI/LIDC-IDRI-0931/1.3.6.1.4.1.14519.5.2.1.6279.6001.280583320945147758833882479380/1.3.6.1.4.1.14519.5.2.1.6279.6001.309955814083231537823157605135/174.xml\n",
      "/home/mengdi/anaconda3/lib/python3.5/site-packages/ipykernel/__main__.py:28: UserWarning: no large nodule for /home/mengdi/DataShare/LIDC/LIDC-IDRI/DOI/LIDC-IDRI-0932/1.3.6.1.4.1.14519.5.2.1.6279.6001.931660023131522836511470299550/1.3.6.1.4.1.14519.5.2.1.6279.6001.334022941831199910030220864961/173.xml\n",
      "/home/mengdi/anaconda3/lib/python3.5/site-packages/ipykernel/__main__.py:28: UserWarning: no large nodule for /home/mengdi/DataShare/LIDC/LIDC-IDRI/DOI/LIDC-IDRI-0933/1.3.6.1.4.1.14519.5.2.1.6279.6001.193632643404878480165927810858/1.3.6.1.4.1.14519.5.2.1.6279.6001.138904664700896606480369521124/172.xml\n",
      "/home/mengdi/anaconda3/lib/python3.5/site-packages/ipykernel/__main__.py:28: UserWarning: no large nodule for /home/mengdi/DataShare/LIDC/LIDC-IDRI/DOI/LIDC-IDRI-0934/1.3.6.1.4.1.14519.5.2.1.6279.6001.206606827454255027165786569179/1.3.6.1.4.1.14519.5.2.1.6279.6001.253283426904813468115158375647/171.xml\n",
      "/home/mengdi/anaconda3/lib/python3.5/site-packages/ipykernel/__main__.py:28: UserWarning: no large nodule for /home/mengdi/DataShare/LIDC/LIDC-IDRI/DOI/LIDC-IDRI-0937/1.3.6.1.4.1.14519.5.2.1.6279.6001.206318619730567738982019541406/1.3.6.1.4.1.14519.5.2.1.6279.6001.274231544628870369798516818358/168.xml\n",
      "/home/mengdi/anaconda3/lib/python3.5/site-packages/ipykernel/__main__.py:28: UserWarning: no large nodule for /home/mengdi/DataShare/LIDC/LIDC-IDRI/DOI/LIDC-IDRI-0943/1.3.6.1.4.1.14519.5.2.1.6279.6001.327389263896737471496228866506/1.3.6.1.4.1.14519.5.2.1.6279.6001.163931625580639955914619627409/162.xml\n",
      "/home/mengdi/anaconda3/lib/python3.5/site-packages/ipykernel/__main__.py:28: UserWarning: no large nodule for /home/mengdi/DataShare/LIDC/LIDC-IDRI/DOI/LIDC-IDRI-0945/1.3.6.1.4.1.14519.5.2.1.6279.6001.166045097359941678759735162107/1.3.6.1.4.1.14519.5.2.1.6279.6001.191034085672515521659942406513/160.xml\n",
      "/home/mengdi/anaconda3/lib/python3.5/site-packages/ipykernel/__main__.py:28: UserWarning: no large nodule for /home/mengdi/DataShare/LIDC/LIDC-IDRI/DOI/LIDC-IDRI-0947/1.3.6.1.4.1.14519.5.2.1.6279.6001.808134164613518601297092139901/1.3.6.1.4.1.14519.5.2.1.6279.6001.252358625003143649770119512644/158.xml\n",
      "/home/mengdi/anaconda3/lib/python3.5/site-packages/ipykernel/__main__.py:28: UserWarning: no large nodule for /home/mengdi/DataShare/LIDC/LIDC-IDRI/DOI/LIDC-IDRI-0948/1.3.6.1.4.1.14519.5.2.1.6279.6001.165905586429340026165528208186/1.3.6.1.4.1.14519.5.2.1.6279.6001.164790817284381538042494285101/157.xml\n"
     ]
    },
    {
     "name": "stderr",
     "output_type": "stream",
     "text": [
      "/home/mengdi/anaconda3/lib/python3.5/site-packages/ipykernel/__main__.py:28: UserWarning: no large nodule for /home/mengdi/DataShare/LIDC/LIDC-IDRI/DOI/LIDC-IDRI-0950/1.3.6.1.4.1.14519.5.2.1.6279.6001.142292437379762052008677682241/1.3.6.1.4.1.14519.5.2.1.6279.6001.888291896309937415860209787179/155.xml\n",
      "/home/mengdi/anaconda3/lib/python3.5/site-packages/ipykernel/__main__.py:28: UserWarning: no large nodule for /home/mengdi/DataShare/LIDC/LIDC-IDRI/DOI/LIDC-IDRI-0952/1.3.6.1.4.1.14519.5.2.1.6279.6001.250876878281865060245064180921/1.3.6.1.4.1.14519.5.2.1.6279.6001.331211682377519763144559212009/153.xml\n",
      "/home/mengdi/anaconda3/lib/python3.5/site-packages/ipykernel/__main__.py:28: UserWarning: no large nodule for /home/mengdi/DataShare/LIDC/LIDC-IDRI/DOI/LIDC-IDRI-0953/1.3.6.1.4.1.14519.5.2.1.6279.6001.102630309685058068986252460648/1.3.6.1.4.1.14519.5.2.1.6279.6001.238855414831158993232534884296/152.xml\n",
      "/home/mengdi/anaconda3/lib/python3.5/site-packages/ipykernel/__main__.py:28: UserWarning: no large nodule for /home/mengdi/DataShare/LIDC/LIDC-IDRI/DOI/LIDC-IDRI-0954/1.3.6.1.4.1.14519.5.2.1.6279.6001.700251492949737777932909672070/1.3.6.1.4.1.14519.5.2.1.6279.6001.333319057944372470283038483725/151.xml\n",
      "/home/mengdi/anaconda3/lib/python3.5/site-packages/ipykernel/__main__.py:28: UserWarning: no large nodule for /home/mengdi/DataShare/LIDC/LIDC-IDRI/DOI/LIDC-IDRI-0955/1.3.6.1.4.1.14519.5.2.1.6279.6001.163364452480273959392764002225/1.3.6.1.4.1.14519.5.2.1.6279.6001.776429308535398795601496131524/150.xml\n",
      "/home/mengdi/anaconda3/lib/python3.5/site-packages/ipykernel/__main__.py:28: UserWarning: no large nodule for /home/mengdi/DataShare/LIDC/LIDC-IDRI/DOI/LIDC-IDRI-0957/1.3.6.1.4.1.14519.5.2.1.6279.6001.210460865401632134346677582159/1.3.6.1.4.1.14519.5.2.1.6279.6001.314917368146772872954571551463/148.xml\n",
      "/home/mengdi/anaconda3/lib/python3.5/site-packages/ipykernel/__main__.py:28: UserWarning: no large nodule for /home/mengdi/DataShare/LIDC/LIDC-IDRI/DOI/LIDC-IDRI-0958/1.3.6.1.4.1.14519.5.2.1.6279.6001.137750025318220725626773657356/1.3.6.1.4.1.14519.5.2.1.6279.6001.281254424459536762125243157973/147.xml\n",
      "/home/mengdi/anaconda3/lib/python3.5/site-packages/ipykernel/__main__.py:28: UserWarning: no large nodule for /home/mengdi/DataShare/LIDC/LIDC-IDRI/DOI/LIDC-IDRI-0959/1.3.6.1.4.1.14519.5.2.1.6279.6001.295517876835894730236647974030/1.3.6.1.4.1.14519.5.2.1.6279.6001.161633200801003804714818844696/146.xml\n",
      "/home/mengdi/anaconda3/lib/python3.5/site-packages/ipykernel/__main__.py:28: UserWarning: no large nodule for /home/mengdi/DataShare/LIDC/LIDC-IDRI/DOI/LIDC-IDRI-0960/1.3.6.1.4.1.14519.5.2.1.6279.6001.306669279969769431239484283132/1.3.6.1.4.1.14519.5.2.1.6279.6001.229960820686439513664996214638/145.xml\n",
      "/home/mengdi/anaconda3/lib/python3.5/site-packages/ipykernel/__main__.py:28: UserWarning: no large nodule for /home/mengdi/DataShare/LIDC/LIDC-IDRI/DOI/LIDC-IDRI-0964/1.3.6.1.4.1.14519.5.2.1.6279.6001.233318337711699124969399854418/1.3.6.1.4.1.14519.5.2.1.6279.6001.193721075067404532739943086458/141.xml\n",
      "/home/mengdi/anaconda3/lib/python3.5/site-packages/ipykernel/__main__.py:28: UserWarning: no large nodule for /home/mengdi/DataShare/LIDC/LIDC-IDRI/DOI/LIDC-IDRI-0967/1.3.6.1.4.1.14519.5.2.1.6279.6001.967921562230648649141771766502/1.3.6.1.4.1.14519.5.2.1.6279.6001.281967919138248195763602360723/138.xml\n",
      "/home/mengdi/anaconda3/lib/python3.5/site-packages/ipykernel/__main__.py:28: UserWarning: no large nodule for /home/mengdi/DataShare/LIDC/LIDC-IDRI/DOI/LIDC-IDRI-0968/1.3.6.1.4.1.14519.5.2.1.6279.6001.128173929531863533946053948407/1.3.6.1.4.1.14519.5.2.1.6279.6001.206097113343059612247503064658/137.xml\n",
      "/home/mengdi/anaconda3/lib/python3.5/site-packages/ipykernel/__main__.py:28: UserWarning: no large nodule for /home/mengdi/DataShare/LIDC/LIDC-IDRI/DOI/LIDC-IDRI-0969/1.3.6.1.4.1.14519.5.2.1.6279.6001.194408227371077105112329346518/1.3.6.1.4.1.14519.5.2.1.6279.6001.230675342744370103160629638194/136.xml\n",
      "/home/mengdi/anaconda3/lib/python3.5/site-packages/ipykernel/__main__.py:28: UserWarning: no large nodule for /home/mengdi/DataShare/LIDC/LIDC-IDRI/DOI/LIDC-IDRI-0970/1.3.6.1.4.1.14519.5.2.1.6279.6001.216069436844269562687497322947/1.3.6.1.4.1.14519.5.2.1.6279.6001.145283812746259413053188838096/135.xml\n",
      "/home/mengdi/anaconda3/lib/python3.5/site-packages/ipykernel/__main__.py:28: UserWarning: no large nodule for /home/mengdi/DataShare/LIDC/LIDC-IDRI/DOI/LIDC-IDRI-0971/1.3.6.1.4.1.14519.5.2.1.6279.6001.317273043933560935570616831007/1.3.6.1.4.1.14519.5.2.1.6279.6001.336102335330125765000317290445/134.xml\n",
      "/home/mengdi/anaconda3/lib/python3.5/site-packages/ipykernel/__main__.py:28: UserWarning: no large nodule for /home/mengdi/DataShare/LIDC/LIDC-IDRI/DOI/LIDC-IDRI-0972/1.3.6.1.4.1.14519.5.2.1.6279.6001.269532656350104249022826895294/1.3.6.1.4.1.14519.5.2.1.6279.6001.881807066375601978080868510714/133.xml\n",
      "/home/mengdi/anaconda3/lib/python3.5/site-packages/ipykernel/__main__.py:28: UserWarning: no large nodule for /home/mengdi/DataShare/LIDC/LIDC-IDRI/DOI/LIDC-IDRI-0973/1.3.6.1.4.1.14519.5.2.1.6279.6001.107781084804242272261405060893/1.3.6.1.4.1.14519.5.2.1.6279.6001.118140393257625250121502185026/132.xml\n",
      "/home/mengdi/anaconda3/lib/python3.5/site-packages/ipykernel/__main__.py:28: UserWarning: no large nodule for /home/mengdi/DataShare/LIDC/LIDC-IDRI/DOI/LIDC-IDRI-0975/1.3.6.1.4.1.14519.5.2.1.6279.6001.238406803970631866767433328949/1.3.6.1.4.1.14519.5.2.1.6279.6001.304676828064484590312919543151/130.xml\n",
      "/home/mengdi/anaconda3/lib/python3.5/site-packages/ipykernel/__main__.py:28: UserWarning: no large nodule for /home/mengdi/DataShare/LIDC/LIDC-IDRI/DOI/LIDC-IDRI-0977/1.3.6.1.4.1.14519.5.2.1.6279.6001.283363009241515390315316302638/1.3.6.1.4.1.14519.5.2.1.6279.6001.308183340111270052562662456038/128.xml\n",
      "/home/mengdi/anaconda3/lib/python3.5/site-packages/ipykernel/__main__.py:28: UserWarning: no large nodule for /home/mengdi/DataShare/LIDC/LIDC-IDRI/DOI/LIDC-IDRI-0979/1.3.6.1.4.1.14519.5.2.1.6279.6001.739936498619765124317646822128/1.3.6.1.4.1.14519.5.2.1.6279.6001.220041426531925632952954881401/126.xml\n",
      "/home/mengdi/anaconda3/lib/python3.5/site-packages/ipykernel/__main__.py:28: UserWarning: no large nodule for /home/mengdi/DataShare/LIDC/LIDC-IDRI/DOI/LIDC-IDRI-0981/1.3.6.1.4.1.14519.5.2.1.6279.6001.183948389971742539190611659002/1.3.6.1.4.1.14519.5.2.1.6279.6001.156579001330474859527530187095/124.xml\n",
      "/home/mengdi/anaconda3/lib/python3.5/site-packages/ipykernel/__main__.py:28: UserWarning: no large nodule for /home/mengdi/DataShare/LIDC/LIDC-IDRI/DOI/LIDC-IDRI-0983/1.3.6.1.4.1.14519.5.2.1.6279.6001.182110250999021699484937823450/1.3.6.1.4.1.14519.5.2.1.6279.6001.309564220265302089123180126785/122.xml\n",
      "/home/mengdi/anaconda3/lib/python3.5/site-packages/ipykernel/__main__.py:28: UserWarning: no large nodule for /home/mengdi/DataShare/LIDC/LIDC-IDRI/DOI/LIDC-IDRI-0984/1.3.6.1.4.1.14519.5.2.1.6279.6001.293433201388001070931182667378/1.3.6.1.4.1.14519.5.2.1.6279.6001.126704785377921920210612476953/121.xml\n",
      "/home/mengdi/anaconda3/lib/python3.5/site-packages/ipykernel/__main__.py:28: UserWarning: no large nodule for /home/mengdi/DataShare/LIDC/LIDC-IDRI/DOI/LIDC-IDRI-0986/1.3.6.1.4.1.14519.5.2.1.6279.6001.211678183477028942594541249344/1.3.6.1.4.1.14519.5.2.1.6279.6001.254138388912084634057282064266/119.xml\n",
      "/home/mengdi/anaconda3/lib/python3.5/site-packages/ipykernel/__main__.py:28: UserWarning: no large nodule for /home/mengdi/DataShare/LIDC/LIDC-IDRI/DOI/LIDC-IDRI-0988/1.3.6.1.4.1.14519.5.2.1.6279.6001.127337418291965622570751117460/1.3.6.1.4.1.14519.5.2.1.6279.6001.250438451287314206124484591986/117.xml\n",
      "/home/mengdi/anaconda3/lib/python3.5/site-packages/ipykernel/__main__.py:28: UserWarning: no large nodule for /home/mengdi/DataShare/LIDC/LIDC-IDRI/DOI/LIDC-IDRI-0989/1.3.6.1.4.1.14519.5.2.1.6279.6001.670760254175238186822024748574/1.3.6.1.4.1.14519.5.2.1.6279.6001.266581250778073944645044950856/116.xml\n",
      "/home/mengdi/anaconda3/lib/python3.5/site-packages/ipykernel/__main__.py:28: UserWarning: no large nodule for /home/mengdi/DataShare/LIDC/LIDC-IDRI/DOI/LIDC-IDRI-0990/1.3.6.1.4.1.14519.5.2.1.6279.6001.276910031320955223579056176086/1.3.6.1.4.1.14519.5.2.1.6279.6001.339882192295517122002429068974/115.xml\n",
      "/home/mengdi/anaconda3/lib/python3.5/site-packages/ipykernel/__main__.py:28: UserWarning: no large nodule for /home/mengdi/DataShare/LIDC/LIDC-IDRI/DOI/LIDC-IDRI-0991/1.3.6.1.4.1.14519.5.2.1.6279.6001.520765263344096922537272606423/1.3.6.1.4.1.14519.5.2.1.6279.6001.337005960787660957389988207064/114.xml\n",
      "/home/mengdi/anaconda3/lib/python3.5/site-packages/ipykernel/__main__.py:28: UserWarning: no large nodule for /home/mengdi/DataShare/LIDC/LIDC-IDRI/DOI/LIDC-IDRI-0992/1.3.6.1.4.1.14519.5.2.1.6279.6001.533848162484464792928836838329/1.3.6.1.4.1.14519.5.2.1.6279.6001.187803155574314810830688534991/113.xml\n"
     ]
    },
    {
     "name": "stderr",
     "output_type": "stream",
     "text": [
      "/home/mengdi/anaconda3/lib/python3.5/site-packages/ipykernel/__main__.py:28: UserWarning: no large nodule for /home/mengdi/DataShare/LIDC/LIDC-IDRI/DOI/LIDC-IDRI-0993/1.3.6.1.4.1.14519.5.2.1.6279.6001.475498514082515864100304794963/1.3.6.1.4.1.14519.5.2.1.6279.6001.302876782304722412779805665588/112.xml\n",
      "/home/mengdi/anaconda3/lib/python3.5/site-packages/ipykernel/__main__.py:28: UserWarning: no large nodule for /home/mengdi/DataShare/LIDC/LIDC-IDRI/DOI/LIDC-IDRI-0995/1.3.6.1.4.1.14519.5.2.1.6279.6001.111762382184501347501192294259/1.3.6.1.4.1.14519.5.2.1.6279.6001.802595762867498341201607992711/110.xml\n",
      "/home/mengdi/anaconda3/lib/python3.5/site-packages/ipykernel/__main__.py:28: UserWarning: no large nodule for /home/mengdi/DataShare/LIDC/LIDC-IDRI/DOI/LIDC-IDRI-0996/1.3.6.1.4.1.14519.5.2.1.6279.6001.154013297600241321274325492714/1.3.6.1.4.1.14519.5.2.1.6279.6001.842980983137518332429408284002/109.xml\n",
      "/home/mengdi/anaconda3/lib/python3.5/site-packages/ipykernel/__main__.py:28: UserWarning: no large nodule for /home/mengdi/DataShare/LIDC/LIDC-IDRI/DOI/LIDC-IDRI-1006/1.3.6.1.4.1.14519.5.2.1.6279.6001.684533679602381775258237049962/1.3.6.1.4.1.14519.5.2.1.6279.6001.397062004302272014259317520874/099.xml\n",
      "/home/mengdi/anaconda3/lib/python3.5/site-packages/ipykernel/__main__.py:28: UserWarning: no large nodule for /home/mengdi/DataShare/LIDC/LIDC-IDRI/DOI/LIDC-IDRI-1008/1.3.6.1.4.1.14519.5.2.1.6279.6001.339975625902908481435949410827/1.3.6.1.4.1.14519.5.2.1.6279.6001.332510758903897288735539953182/097.xml\n",
      "/home/mengdi/anaconda3/lib/python3.5/site-packages/ipykernel/__main__.py:28: UserWarning: no large nodule for /home/mengdi/DataShare/LIDC/LIDC-IDRI/DOI/LIDC-IDRI-1009/1.3.6.1.4.1.14519.5.2.1.6279.6001.849069697860879761549990488101/1.3.6.1.4.1.14519.5.2.1.6279.6001.855232435861303786204450738044/096.xml\n",
      "/home/mengdi/anaconda3/lib/python3.5/site-packages/ipykernel/__main__.py:28: UserWarning: no large nodule for /home/mengdi/DataShare/LIDC/LIDC-IDRI/DOI/LIDC-IDRI-1010/1.3.6.1.4.1.14519.5.2.1.6279.6001.145373944605191222309393681361/1.3.6.1.4.1.14519.5.2.1.6279.6001.550599855064600241623943717588/093.xml\n"
     ]
    }
   ],
   "source": [
    "xml_json_path = \"/home/mengdi/yuxiang.ye/DN_AI_frame/workspace/lidc/xml_json\"\n",
    "for lidc_idri in sorted(glob.glob(\"/home/mengdi/DataShare/LIDC/LIDC-IDRI/DOI/*\")):\n",
    "    basename = os.path.basename(lidc_idri)\n",
    "    if os.path.exists(os.path.join(xml_json_path, basename + \".json\")):\n",
    "        continue\n",
    "#     try:\n",
    "    parse = PathParser(lidc_idri)\n",
    "    xmlparse = XMLParser(parse.xml_path)\n",
    "    xmlparse.dump(os.path.join(xml_json_path, basename + \".json\"))\n",
    "#     except Exception as e:\n",
    "#         print(e)\n",
    "#         warnings.warn(\"exeption: %s\" %basename)"
   ]
  },
  {
   "cell_type": "code",
   "execution_count": 18,
   "metadata": {},
   "outputs": [],
   "source": [
    "import json\n",
    "json_path = \"/home/mengdi/yuxiang.ye/DN_AI_frame/workspace/lidc/xml_json/LIDC-IDRI-0001.json\"\n",
    "with open(json_path, 'r') as f:\n",
    "    json_data = json.load(f)"
   ]
  },
  {
   "cell_type": "code",
   "execution_count": 93,
   "metadata": {},
   "outputs": [],
   "source": [
    "def create_lidc_info(seriesuid, json_data):\n",
    "    feature_list = [\"calcification\", \"internalStructure\", \"lobulation\", \"malignancy\",\n",
    "                                            \"margin\", \"sphericity\", \"spiculation\", \"subtlety\", \"texture\"]  \n",
    "    df_unnodule_list = []\n",
    "    df_nodule_list = []\n",
    "    df_large_nodule_list = []\n",
    "\n",
    "    for index,readingSession in enumerate(json_data['readingSession']):\n",
    "        for unnodule in readingSession[\"unnodles\"]:\n",
    "            for roi in unnodule['roi']:\n",
    "                df_unnodule_list.append([index, roi['imageZposition'], roi['coords'][1], roi['coords'][0]])\n",
    "\n",
    "    for index,readingSession in enumerate(json_data['readingSession']):\n",
    "        for nodule in readingSession[\"small_nodules\"]:\n",
    "            for roi in nodule['roi']:\n",
    "                df_nodule_list.append([index, roi['imageZposition'], roi['coords'][0][1], roi['coords'][0][0]])\n",
    "\n",
    "             \n",
    "    for index,readingSession in enumerate(json_data['readingSession']):\n",
    "        for nodule in readingSession[\"large_nodules\"]:\n",
    "            rois = nodule['roi']\n",
    "            for feature in nodule['nodule_feature']:\n",
    "                calcification = feature[\"calcification\"]\n",
    "                internalStructure = feature['internalStructure']\n",
    "                lobulation = feature['lobulation']\n",
    "                malignancy = feature['malignancy']\n",
    "                margin = feature['margin']\n",
    "                sphericity = feature['sphericity']\n",
    "                spiculation = feature['spiculation']\n",
    "                subtlety = feature['subtlety']\n",
    "                texture = feature['texture']\n",
    "                df_large_nodule_list.append([index, rois, calcification, internalStructure, lobulation, malignancy,\n",
    "                                            margin, sphericity, spiculation, subtlety, texture])\n",
    "    \n",
    "    df_unnodule = pd.DataFrame(df_unnodule_list, columns=['doctor_id', \"imageZposition\",'coordy','coordx'])\n",
    "    df_unnodule['parse_type'] = \"unnodule\"\n",
    "    df_nodule = pd.DataFrame(df_nodule_list, columns=['doctor_id', \"imageZposition\",'coordy','coordx'])\n",
    "    df_nodule['parse_type'] = \"nodule\"\n",
    "    df_large_nodule = pd.DataFrame(df_large_nodule_list, columns=(['doctor_id', 'rois'] + feature_list))\n",
    "    df_large_nodule['parse_type'] = \"large_nodule\"\n",
    "    nodule_info = pd.concat([df_unnodule, df_nodule, df_large_nodule]).reset_index(drop=True)\n",
    "    nodule_info['seriesuid'] = seriesuid\n",
    "    newcolumns = ['seriesuid', 'doctor_id', 'parse_type',\"imageZposition\",'coordy','coordx', 'rois'] + feature_list\n",
    "    return nodule_info[newcolumns]"
   ]
  },
  {
   "cell_type": "code",
   "execution_count": 94,
   "metadata": {},
   "outputs": [],
   "source": [
    "debug = create_lidc_info(\"name\", json_data)"
   ]
  },
  {
   "cell_type": "code",
   "execution_count": 108,
   "metadata": {},
   "outputs": [],
   "source": [
    "json_path = \"/home/mengdi/yuxiang.ye/DN_AI_frame/workspace/lidc/xml_json/*.json\"\n",
    "nodule_info_list = []\n",
    "for js in sorted(glob.glob(json_path)):\n",
    "    js_name = os.path.basename(js)[:-5]\n",
    "    print(js_name)\n",
    "    with open(js, 'r') as f:\n",
    "        json_data = json.load(f)\n",
    "        nodule_info = create_lidc_info(js_name, json_data)\n",
    "        nodule_info_list.append(nodule_info)"
   ]
  },
  {
   "cell_type": "code",
   "execution_count": 110,
   "metadata": {},
   "outputs": [],
   "source": [
    "nodule_indo_df = pd.concat(nodule_info_list)"
   ]
  },
  {
   "cell_type": "code",
   "execution_count": 111,
   "metadata": {
    "collapsed": true
   },
   "outputs": [],
   "source": [
    "nodule_indo_df.to_csv(\"/home/mengdi/yuxiang.ye/DN_AI_frame/workspace/lidc/LIDC_INFO.csv\", index=None)"
   ]
  },
  {
   "cell_type": "code",
   "execution_count": 112,
   "metadata": {},
   "outputs": [
    {
     "data": {
      "text/plain": [
       "['calcification',\n",
       " 'internalStructure',\n",
       " 'lobulation',\n",
       " 'malignancy',\n",
       " 'margin',\n",
       " 'sphericity',\n",
       " 'spiculation',\n",
       " 'subtlety',\n",
       " 'texture']"
      ]
     },
     "execution_count": 112,
     "metadata": {},
     "output_type": "execute_result"
    }
   ],
   "source": [
    "feature_list"
   ]
  },
  {
   "cell_type": "code",
   "execution_count": 114,
   "metadata": {},
   "outputs": [
    {
     "data": {
      "text/plain": [
       "6.0    5951\n",
       "3.0     709\n",
       "5.0      75\n",
       "4.0      42\n",
       "2.0      12\n",
       "1.0       4\n",
       "0.0       2\n",
       "Name: calcification, dtype: int64"
      ]
     },
     "execution_count": 114,
     "metadata": {},
     "output_type": "execute_result"
    }
   ],
   "source": [
    "nodule_indo_df.calcification.value_counts()"
   ]
  },
  {
   "cell_type": "code",
   "execution_count": 116,
   "metadata": {},
   "outputs": [
    {
     "data": {
      "text/plain": [
       "1.0    6756\n",
       "4.0      24\n",
       "2.0      11\n",
       "0.0       2\n",
       "5.0       1\n",
       "3.0       1\n",
       "Name: internalStructure, dtype: int64"
      ]
     },
     "execution_count": 116,
     "metadata": {},
     "output_type": "execute_result"
    }
   ],
   "source": [
    "nodule_indo_df.internalStructure.value_counts()"
   ]
  },
  {
   "cell_type": "code",
   "execution_count": 117,
   "metadata": {},
   "outputs": [
    {
     "data": {
      "text/plain": [
       "1.0    4084\n",
       "2.0    1440\n",
       "3.0     705\n",
       "4.0     381\n",
       "5.0     183\n",
       "0.0       2\n",
       "Name: lobulation, dtype: int64"
      ]
     },
     "execution_count": 117,
     "metadata": {},
     "output_type": "execute_result"
    }
   ],
   "source": [
    "nodule_indo_df.lobulation.value_counts()"
   ]
  },
  {
   "cell_type": "code",
   "execution_count": 118,
   "metadata": {},
   "outputs": [
    {
     "data": {
      "text/plain": [
       "4.0    2293\n",
       "3.0    2079\n",
       "5.0    1824\n",
       "2.0     578\n",
       "1.0      19\n",
       "0.0       2\n",
       "Name: sphericity, dtype: int64"
      ]
     },
     "execution_count": 118,
     "metadata": {},
     "output_type": "execute_result"
    }
   ],
   "source": [
    "# 球度; 球性; 球状，球形\n",
    "nodule_indo_df.sphericity.value_counts()"
   ]
  },
  {
   "cell_type": "code",
   "execution_count": 120,
   "metadata": {},
   "outputs": [
    {
     "data": {
      "text/plain": [
       "5.0    4977\n",
       "4.0     808\n",
       "1.0     479\n",
       "3.0     378\n",
       "2.0     151\n",
       "0.0       2\n",
       "Name: texture, dtype: int64"
      ]
     },
     "execution_count": 120,
     "metadata": {},
     "output_type": "execute_result"
    }
   ],
   "source": [
    "# 质地; 结构; 本质\n",
    "nodule_indo_df.texture.value_counts()"
   ]
  },
  {
   "cell_type": "code",
   "execution_count": null,
   "metadata": {
    "collapsed": true
   },
   "outputs": [],
   "source": []
  }
 ],
 "metadata": {
  "kernelspec": {
   "display_name": "Python [conda env:anaconda3]",
   "language": "python",
   "name": "conda-env-anaconda3-py"
  },
  "language_info": {
   "codemirror_mode": {
    "name": "ipython",
    "version": 3
   },
   "file_extension": ".py",
   "mimetype": "text/x-python",
   "name": "python",
   "nbconvert_exporter": "python",
   "pygments_lexer": "ipython3",
   "version": "3.5.2"
  }
 },
 "nbformat": 4,
 "nbformat_minor": 2
}
