{
 "cells": [
  {
   "cell_type": "code",
   "execution_count": 28,
   "metadata": {
    "collapsed": true
   },
   "outputs": [],
   "source": [
    "import glob\n",
    "import skimage\n",
    "import scipy\n",
    "import json\n",
    "import os\n",
    "import sys\n",
    "import pandas as pd\n",
    "import numpy as np\n",
    "import matplotlib.pyplot as plt\n",
    "from matplotlib.path import Path\n",
    "from tqdm import tqdm\n",
    "%matplotlib inline\n",
    "sys.path.insert(0, \"/home/mengdi/yuxiang.ye/ai-eyes-care/nodule_detect/lib\")\n",
    "from Dcm_Series import Series\n",
    "from helper import normalize_hu\n",
    "lidc_path = \"/home/mengdi/DataShare/LIDC/LIDC-IDRI/DOI/*\"\n",
    "lidc_info = \"/home/mengdi/yuxiang.ye/DN_AI_frame/workspace/lidc/LIDC_INFO.csv\""
   ]
  },
  {
   "cell_type": "code",
   "execution_count": 2,
   "metadata": {
    "collapsed": true
   },
   "outputs": [],
   "source": [
    "lidc_files = sorted(glob.glob(lidc_path))"
   ]
  },
  {
   "cell_type": "code",
   "execution_count": 3,
   "metadata": {
    "collapsed": true
   },
   "outputs": [],
   "source": [
    "lidc_info_df = pd.read_csv(lidc_info)\n",
    "lidc_info_large_df = lidc_info_df.loc[lidc_info_df.parse_type == \"large_nodule\"]"
   ]
  },
  {
   "cell_type": "code",
   "execution_count": 4,
   "metadata": {},
   "outputs": [
    {
     "data": {
      "text/plain": [
       "(6795, 16)"
      ]
     },
     "execution_count": 4,
     "metadata": {},
     "output_type": "execute_result"
    }
   ],
   "source": [
    "lidc_info_large_df.shape"
   ]
  },
  {
   "cell_type": "code",
   "execution_count": 33,
   "metadata": {
    "collapsed": true
   },
   "outputs": [],
   "source": [
    "def plot_seg(arr,  ds, spacing_xyz, origin_xyz, seg_xml_list):\n",
    "    '''seg_xml get from lidc xml'''\n",
    "    shape = arr.shape\n",
    "    seg_zero = np.zeros(shape)\n",
    "    for seg_xml in tqdm(seg_xml_list):\n",
    "        for z_seg_xml in eval(seg_xml):\n",
    "            # z, get z coords\n",
    "            coordz = int(abs(z_seg_xml['imageZposition'] - ds.Dcm_series_origin[-1]) / ds.Dcm_series_spacing[-1])\n",
    "            coordxy = np.array(z_seg_xml['coords'])\n",
    "#             coordxy_path = Path(coordxy)\n",
    "            for x,y in coordxy:\n",
    "                seg_zero[coordz, y, x] =True\n",
    "            # 1.convex_hull_object\n",
    "#             seg_zero[coordz] = np.maximum(skimage.morphology.convex_hull_object(seg_zero[coordz]), seg_zero[coordz])\n",
    "            # 2. binary_fill_holes\n",
    "            seg_zero[coordz] = np.maximum(scipy.ndimage.binary_fill_holes(seg_zero[coordz]), seg_zero[coordz])\n",
    "#             for x in range(shape[2]):\n",
    "#                 for y in range(shape[1]):\n",
    "#                     seg_zero[coordz, y , x] = coordxy_path.contains_point((x,y))\n",
    "    return seg_zero.astype(np.bool)"
   ]
  },
  {
   "cell_type": "code",
   "execution_count": 34,
   "metadata": {
    "collapsed": true
   },
   "outputs": [],
   "source": [
    "class PathParser:\n",
    "    def __init__(self, folder):\n",
    "        self.folder = folder\n",
    "        root_list = []\n",
    "        file_len_list = []\n",
    "        for root, dirname, files in os.walk(self.folder):\n",
    "            root_list.append(root)\n",
    "            file_len_list.append(len(files))    \n",
    "        self.lidcpath = max(zip(file_len_list, root_list))[1]"
   ]
  },
  {
   "cell_type": "code",
   "execution_count": 35,
   "metadata": {},
   "outputs": [
    {
     "data": {
      "text/plain": [
       "'/home/mengdi/DataShare/LIDC/LIDC-IDRI/DOI/LIDC-IDRI-0001'"
      ]
     },
     "execution_count": 35,
     "metadata": {},
     "output_type": "execute_result"
    }
   ],
   "source": [
    "lidc_files[0]"
   ]
  },
  {
   "cell_type": "code",
   "execution_count": 36,
   "metadata": {
    "collapsed": true
   },
   "outputs": [],
   "source": [
    "lidc_name = \"LIDC-IDRI-0942\"\n",
    "ds = Series([PathParser(\"/home/mengdi/DataShare/LIDC/LIDC-IDRI/DOI/%s\" % lidc_name).lidcpath], None)\n",
    "lidc0 = ds.Dcm_series_arr\n",
    "lidc0_norm = (normalize_hu(ds.Dcm_series_arr) * 255).astype(np.uint8)\n",
    "\n",
    "lidc0_seg_xml = lidc_info_large_df.loc[lidc_info_large_df.seriesuid == \"LIDC-IDRI-0942\", 'rois'].values"
   ]
  },
  {
   "cell_type": "code",
   "execution_count": 37,
   "metadata": {},
   "outputs": [
    {
     "name": "stderr",
     "output_type": "stream",
     "text": [
      "100%|██████████| 14/14 [00:01<00:00,  7.45it/s]\n"
     ]
    }
   ],
   "source": [
    "seg = plot_seg(ds.Dcm_series_arr, ds, ds.Dcm_series_spacing, ds.Dcm_series_origin, lidc0_seg_xml)"
   ]
  },
  {
   "cell_type": "code",
   "execution_count": 38,
   "metadata": {},
   "outputs": [
    {
     "data": {
      "text/plain": [
       "153"
      ]
     },
     "execution_count": 38,
     "metadata": {},
     "output_type": "execute_result"
    }
   ],
   "source": [
    "np.argmax(np.sum(seg, axis=(1,2)))"
   ]
  },
  {
   "cell_type": "code",
   "execution_count": 39,
   "metadata": {},
   "outputs": [
    {
     "data": {
      "text/plain": [
       "<matplotlib.image.AxesImage at 0x7f4a7b8dcda0>"
      ]
     },
     "execution_count": 39,
     "metadata": {},
     "output_type": "execute_result"
    },
    {
     "data": {
      "image/png": "[encoded data removed]",
      "text/plain": [
       "<matplotlib.figure.Figure at 0x7f4a7b550160>"
      ]
     },
     "metadata": {},
     "output_type": "display_data"
    }
   ],
   "source": [
    "index = 153\n",
    "plt.figure(figsize=(15,15))\n",
    "plt.imshow(ds.Dcm_series_arr[index],plt.cm.gray)\n",
    "plt.imshow(seg[index],alpha=0.5)\n",
    "# plt.imshow(seg1_148_new, alpha=0.5)"
   ]
  },
  {
   "cell_type": "markdown",
   "metadata": {},
   "source": [
    "# crete npz  include arr and seg"
   ]
  },
  {
   "cell_type": "code",
   "execution_count": 40,
   "metadata": {
    "collapsed": true
   },
   "outputs": [],
   "source": [
    "path = \"/home/mengdi/yuxiang.ye/DN_AI_frame/dataset/lidc/npz_seg_new\""
   ]
  },
  {
   "cell_type": "code",
   "execution_count": 41,
   "metadata": {
    "collapsed": true
   },
   "outputs": [],
   "source": [
    "def plot_voxel_save(path, arr, aux, title):\n",
    "    assert arr.shape == aux.shape\n",
    "    max_index = np.argmax(np.sum(aux, axis=(1,2)))\n",
    "    plt.clf()\n",
    "    _, axes = plt.subplots(1,2)\n",
    "    axes[0].imshow(arr[max_index], cmap=plt.cm.gray)\n",
    "    axes[0].imshow(aux[max_index], alpha=0.2)\n",
    "    axes[0].set_title(str(max_index))\n",
    "    axes[1].plot(np.sum(aux, axis=(1,2)))\n",
    "    axes[1].set_title(title)\n",
    "    plt.savefig(path)"
   ]
  },
  {
   "cell_type": "code",
   "execution_count": 45,
   "metadata": {
    "collapsed": true
   },
   "outputs": [],
   "source": [
    "def task(lidc_f):\n",
    "    seriesuid = os.path.basename(lidc_f)\n",
    "    target_path = os.path.join(path, seriesuid + \".npz\")\n",
    "    png_path = os.path.join(path, seriesuid + \".png\")\n",
    "    print(target_path)\n",
    "    if os.path.exists(target_path):\n",
    "        return\n",
    "    print(seriesuid)\n",
    "    lidcpath = PathParser(lidc_f).lidcpath\n",
    "    ds = Series([lidcpath], None)\n",
    "    lidc0_seg_xml = lidc_info_large_df.loc[lidc_info_large_df.seriesuid == seriesuid, 'rois'].values\n",
    "    arr = ds.Dcm_series_arr\n",
    "    space = ds.Dcm_series_spacing\n",
    "    origin = ds.Dcm_series_origin\n",
    "    seg = plot_seg(arr, ds, space, origin, lidc0_seg_xml)\n",
    "    np.savez_compressed(target_path, raw = arr, seg=seg)\n",
    "    plot_voxel_save(png_path, normalize_hu(arr), seg, seriesuid)\n",
    "    return seg, arr"
   ]
  },
  {
   "cell_type": "code",
   "execution_count": null,
   "metadata": {},
   "outputs": [
    {
     "name": "stdout",
     "output_type": "stream",
     "text": [
      "/home/mengdi/yuxiang.ye/DN_AI_frame/dataset/lidc/npz_seg_new/LIDC-IDRI-0001.npz\n",
      "/home/mengdi/yuxiang.ye/DN_AI_frame/dataset/lidc/npz_seg_new/LIDC-IDRI-0002.npz\n",
      "/home/mengdi/yuxiang.ye/DN_AI_frame/dataset/lidc/npz_seg_new/LIDC-IDRI-0003.npz\n",
      "/home/mengdi/yuxiang.ye/DN_AI_frame/dataset/lidc/npz_seg_new/LIDC-IDRI-0004.npz\n",
      "/home/mengdi/yuxiang.ye/DN_AI_frame/dataset/lidc/npz_seg_new/LIDC-IDRI-0005.npz\n",
      "/home/mengdi/yuxiang.ye/DN_AI_frame/dataset/lidc/npz_seg_new/LIDC-IDRI-0006.npz\n",
      "/home/mengdi/yuxiang.ye/DN_AI_frame/dataset/lidc/npz_seg_new/LIDC-IDRI-0007.npz\n",
      "/home/mengdi/yuxiang.ye/DN_AI_frame/dataset/lidc/npz_seg_new/LIDC-IDRI-0008.npz\n",
      "/home/mengdi/yuxiang.ye/DN_AI_frame/dataset/lidc/npz_seg_new/LIDC-IDRI-0009.npz\n",
      "/home/mengdi/yuxiang.ye/DN_AI_frame/dataset/lidc/npz_seg_new/LIDC-IDRI-0010.npz\n",
      "/home/mengdi/yuxiang.ye/DN_AI_frame/dataset/lidc/npz_seg_new/LIDC-IDRI-0011.npz\n",
      "/home/mengdi/yuxiang.ye/DN_AI_frame/dataset/lidc/npz_seg_new/LIDC-IDRI-0012.npz\n",
      "/home/mengdi/yuxiang.ye/DN_AI_frame/dataset/lidc/npz_seg_new/LIDC-IDRI-0013.npz\n",
      "/home/mengdi/yuxiang.ye/DN_AI_frame/dataset/lidc/npz_seg_new/LIDC-IDRI-0014.npz\n",
      "/home/mengdi/yuxiang.ye/DN_AI_frame/dataset/lidc/npz_seg_new/LIDC-IDRI-0015.npz\n",
      "/home/mengdi/yuxiang.ye/DN_AI_frame/dataset/lidc/npz_seg_new/LIDC-IDRI-0016.npz\n",
      "/home/mengdi/yuxiang.ye/DN_AI_frame/dataset/lidc/npz_seg_new/LIDC-IDRI-0017.npz\n",
      "/home/mengdi/yuxiang.ye/DN_AI_frame/dataset/lidc/npz_seg_new/LIDC-IDRI-0018.npz\n",
      "/home/mengdi/yuxiang.ye/DN_AI_frame/dataset/lidc/npz_seg_new/LIDC-IDRI-0019.npz\n",
      "/home/mengdi/yuxiang.ye/DN_AI_frame/dataset/lidc/npz_seg_new/LIDC-IDRI-0020.npz\n",
      "/home/mengdi/yuxiang.ye/DN_AI_frame/dataset/lidc/npz_seg_new/LIDC-IDRI-0021.npz\n",
      "/home/mengdi/yuxiang.ye/DN_AI_frame/dataset/lidc/npz_seg_new/LIDC-IDRI-0022.npz\n",
      "LIDC-IDRI-0022\n"
     ]
    },
    {
     "name": "stderr",
     "output_type": "stream",
     "text": [
      "100%|██████████| 1/1 [00:00<00:00,  8.57it/s]\n"
     ]
    },
    {
     "name": "stdout",
     "output_type": "stream",
     "text": [
      "/home/mengdi/yuxiang.ye/DN_AI_frame/dataset/lidc/npz_seg_new/LIDC-IDRI-0023.npz\n",
      "LIDC-IDRI-0023\n"
     ]
    },
    {
     "name": "stderr",
     "output_type": "stream",
     "text": [
      "100%|██████████| 4/4 [00:00<00:00,  8.43it/s]\n"
     ]
    },
    {
     "name": "stdout",
     "output_type": "stream",
     "text": [
      "/home/mengdi/yuxiang.ye/DN_AI_frame/dataset/lidc/npz_seg_new/LIDC-IDRI-0024.npz\n",
      "LIDC-IDRI-0024\n"
     ]
    },
    {
     "name": "stderr",
     "output_type": "stream",
     "text": [
      "100%|██████████| 12/12 [00:00<00:00, 25.18it/s]\n"
     ]
    },
    {
     "name": "stdout",
     "output_type": "stream",
     "text": [
      "/home/mengdi/yuxiang.ye/DN_AI_frame/dataset/lidc/npz_seg_new/LIDC-IDRI-0025.npz\n",
      "LIDC-IDRI-0025\n"
     ]
    },
    {
     "name": "stderr",
     "output_type": "stream",
     "text": [
      "100%|██████████| 1/1 [00:00<00:00, 24.06it/s]\n"
     ]
    },
    {
     "name": "stdout",
     "output_type": "stream",
     "text": [
      "/home/mengdi/yuxiang.ye/DN_AI_frame/dataset/lidc/npz_seg_new/LIDC-IDRI-0026.npz\n",
      "LIDC-IDRI-0026\n"
     ]
    },
    {
     "name": "stderr",
     "output_type": "stream",
     "text": [
      "100%|██████████| 3/3 [00:00<00:00, 42.73it/s]\n"
     ]
    },
    {
     "name": "stdout",
     "output_type": "stream",
     "text": [
      "/home/mengdi/yuxiang.ye/DN_AI_frame/dataset/lidc/npz_seg_new/LIDC-IDRI-0027.npz\n",
      "LIDC-IDRI-0027\n"
     ]
    },
    {
     "name": "stderr",
     "output_type": "stream",
     "text": [
      "100%|██████████| 19/19 [00:00<00:00, 28.96it/s]\n"
     ]
    },
    {
     "name": "stdout",
     "output_type": "stream",
     "text": [
      "/home/mengdi/yuxiang.ye/DN_AI_frame/dataset/lidc/npz_seg_new/LIDC-IDRI-0028.npz\n",
      "LIDC-IDRI-0028\n"
     ]
    },
    {
     "name": "stderr",
     "output_type": "stream",
     "text": [
      "0it [00:00, ?it/s]\n"
     ]
    },
    {
     "name": "stdout",
     "output_type": "stream",
     "text": [
      "/home/mengdi/yuxiang.ye/DN_AI_frame/dataset/lidc/npz_seg_new/LIDC-IDRI-0029.npz\n",
      "LIDC-IDRI-0029\n"
     ]
    },
    {
     "name": "stderr",
     "output_type": "stream",
     "text": [
      "100%|██████████| 1/1 [00:00<00:00,  4.93it/s]\n"
     ]
    },
    {
     "name": "stdout",
     "output_type": "stream",
     "text": [
      "/home/mengdi/yuxiang.ye/DN_AI_frame/dataset/lidc/npz_seg_new/LIDC-IDRI-0030.npz\n",
      "LIDC-IDRI-0030\n"
     ]
    },
    {
     "name": "stderr",
     "output_type": "stream",
     "text": [
      "100%|██████████| 4/4 [00:00<00:00, 35.61it/s]\n"
     ]
    },
    {
     "name": "stdout",
     "output_type": "stream",
     "text": [
      "/home/mengdi/yuxiang.ye/DN_AI_frame/dataset/lidc/npz_seg_new/LIDC-IDRI-0031.npz\n",
      "LIDC-IDRI-0031\n"
     ]
    },
    {
     "name": "stderr",
     "output_type": "stream",
     "text": [
      "100%|██████████| 14/14 [00:00<00:00, 22.78it/s]\n"
     ]
    },
    {
     "name": "stdout",
     "output_type": "stream",
     "text": [
      "/home/mengdi/yuxiang.ye/DN_AI_frame/dataset/lidc/npz_seg_new/LIDC-IDRI-0032.npz\n",
      "LIDC-IDRI-0032\n"
     ]
    },
    {
     "name": "stderr",
     "output_type": "stream",
     "text": [
      "0it [00:00, ?it/s]\n"
     ]
    },
    {
     "name": "stdout",
     "output_type": "stream",
     "text": [
      "/home/mengdi/yuxiang.ye/DN_AI_frame/dataset/lidc/npz_seg_new/LIDC-IDRI-0033.npz\n",
      "LIDC-IDRI-0033\n"
     ]
    },
    {
     "name": "stderr",
     "output_type": "stream",
     "text": [
      "100%|██████████| 5/5 [00:00<00:00, 26.97it/s]\n"
     ]
    },
    {
     "name": "stdout",
     "output_type": "stream",
     "text": [
      "/home/mengdi/yuxiang.ye/DN_AI_frame/dataset/lidc/npz_seg_new/LIDC-IDRI-0034.npz\n",
      "LIDC-IDRI-0034\n"
     ]
    },
    {
     "name": "stderr",
     "output_type": "stream",
     "text": [
      "100%|██████████| 3/3 [00:00<00:00, 27.07it/s]\n"
     ]
    },
    {
     "name": "stdout",
     "output_type": "stream",
     "text": [
      "/home/mengdi/yuxiang.ye/DN_AI_frame/dataset/lidc/npz_seg_new/LIDC-IDRI-0035.npz\n",
      "LIDC-IDRI-0035\n"
     ]
    },
    {
     "name": "stderr",
     "output_type": "stream",
     "text": [
      "100%|██████████| 2/2 [00:00<00:00, 40.85it/s]\n"
     ]
    },
    {
     "name": "stdout",
     "output_type": "stream",
     "text": [
      "/home/mengdi/yuxiang.ye/DN_AI_frame/dataset/lidc/npz_seg_new/LIDC-IDRI-0036.npz\n",
      "LIDC-IDRI-0036\n"
     ]
    },
    {
     "name": "stderr",
     "output_type": "stream",
     "text": [
      "100%|██████████| 5/5 [00:00<00:00, 16.44it/s]\n"
     ]
    },
    {
     "name": "stdout",
     "output_type": "stream",
     "text": [
      "/home/mengdi/yuxiang.ye/DN_AI_frame/dataset/lidc/npz_seg_new/LIDC-IDRI-0037.npz\n",
      "LIDC-IDRI-0037\n"
     ]
    },
    {
     "name": "stderr",
     "output_type": "stream",
     "text": [
      "100%|██████████| 7/7 [00:00<00:00, 21.51it/s]\n"
     ]
    },
    {
     "name": "stdout",
     "output_type": "stream",
     "text": [
      "/home/mengdi/yuxiang.ye/DN_AI_frame/dataset/lidc/npz_seg_new/LIDC-IDRI-0038.npz\n",
      "LIDC-IDRI-0038\n"
     ]
    },
    {
     "name": "stderr",
     "output_type": "stream",
     "text": [
      "100%|██████████| 1/1 [00:00<00:00, 48.62it/s]\n"
     ]
    },
    {
     "name": "stdout",
     "output_type": "stream",
     "text": [
      "/home/mengdi/yuxiang.ye/DN_AI_frame/dataset/lidc/npz_seg_new/LIDC-IDRI-0039.npz\n",
      "LIDC-IDRI-0039\n"
     ]
    },
    {
     "name": "stderr",
     "output_type": "stream",
     "text": [
      "100%|██████████| 20/20 [00:00<00:00, 19.46it/s]\n"
     ]
    },
    {
     "name": "stdout",
     "output_type": "stream",
     "text": [
      "/home/mengdi/yuxiang.ye/DN_AI_frame/dataset/lidc/npz_seg_new/LIDC-IDRI-0040.npz\n",
      "LIDC-IDRI-0040\n"
     ]
    },
    {
     "name": "stderr",
     "output_type": "stream",
     "text": [
      "100%|██████████| 7/7 [00:00<00:00, 46.46it/s]\n"
     ]
    },
    {
     "name": "stdout",
     "output_type": "stream",
     "text": [
      "/home/mengdi/yuxiang.ye/DN_AI_frame/dataset/lidc/npz_seg_new/LIDC-IDRI-0041.npz\n",
      "LIDC-IDRI-0041\n"
     ]
    },
    {
     "name": "stderr",
     "output_type": "stream",
     "text": [
      "100%|██████████| 7/7 [00:00<00:00, 19.32it/s]\n",
      "/home/mengdi/anaconda3/lib/python3.5/site-packages/matplotlib/pyplot.py:524: RuntimeWarning: More than 20 figures have been opened. Figures created through the pyplot interface (`matplotlib.pyplot.figure`) are retained until explicitly closed and may consume too much memory. (To control this warning, see the rcParam `figure.max_open_warning`).\n",
      "  max_open_warning, RuntimeWarning)\n"
     ]
    },
    {
     "name": "stdout",
     "output_type": "stream",
     "text": [
      "/home/mengdi/yuxiang.ye/DN_AI_frame/dataset/lidc/npz_seg_new/LIDC-IDRI-0042.npz\n",
      "LIDC-IDRI-0042\n"
     ]
    },
    {
     "name": "stderr",
     "output_type": "stream",
     "text": [
      "100%|██████████| 22/22 [00:00<00:00, 44.21it/s]\n"
     ]
    },
    {
     "name": "stdout",
     "output_type": "stream",
     "text": [
      "/home/mengdi/yuxiang.ye/DN_AI_frame/dataset/lidc/npz_seg_new/LIDC-IDRI-0043.npz\n",
      "LIDC-IDRI-0043\n"
     ]
    },
    {
     "name": "stderr",
     "output_type": "stream",
     "text": [
      "100%|██████████| 10/10 [00:00<00:00, 20.61it/s]\n"
     ]
    },
    {
     "name": "stdout",
     "output_type": "stream",
     "text": [
      "/home/mengdi/yuxiang.ye/DN_AI_frame/dataset/lidc/npz_seg_new/LIDC-IDRI-0044.npz\n",
      "LIDC-IDRI-0044\n"
     ]
    },
    {
     "name": "stderr",
     "output_type": "stream",
     "text": [
      "100%|██████████| 13/13 [00:00<00:00, 14.55it/s]\n"
     ]
    },
    {
     "name": "stdout",
     "output_type": "stream",
     "text": [
      "/home/mengdi/yuxiang.ye/DN_AI_frame/dataset/lidc/npz_seg_new/LIDC-IDRI-0045.npz\n",
      "LIDC-IDRI-0045\n"
     ]
    },
    {
     "name": "stderr",
     "output_type": "stream",
     "text": [
      "100%|██████████| 33/33 [00:01<00:00, 26.94it/s]\n"
     ]
    },
    {
     "name": "stdout",
     "output_type": "stream",
     "text": [
      "/home/mengdi/yuxiang.ye/DN_AI_frame/dataset/lidc/npz_seg_new/LIDC-IDRI-0046.npz\n",
      "LIDC-IDRI-0046\n"
     ]
    },
    {
     "name": "stderr",
     "output_type": "stream",
     "text": [
      "100%|██████████| 21/21 [00:00<00:00, 34.80it/s]\n"
     ]
    },
    {
     "name": "stdout",
     "output_type": "stream",
     "text": [
      "/home/mengdi/yuxiang.ye/DN_AI_frame/dataset/lidc/npz_seg_new/LIDC-IDRI-0047.npz\n",
      "LIDC-IDRI-0047\n"
     ]
    },
    {
     "name": "stderr",
     "output_type": "stream",
     "text": [
      "100%|██████████| 4/4 [00:00<00:00, 23.32it/s]\n"
     ]
    },
    {
     "name": "stdout",
     "output_type": "stream",
     "text": [
      "/home/mengdi/yuxiang.ye/DN_AI_frame/dataset/lidc/npz_seg_new/LIDC-IDRI-0048.npz\n",
      "LIDC-IDRI-0048\n"
     ]
    },
    {
     "name": "stderr",
     "output_type": "stream",
     "text": [
      "100%|██████████| 7/7 [00:00<00:00, 19.89it/s]\n"
     ]
    },
    {
     "name": "stdout",
     "output_type": "stream",
     "text": [
      "/home/mengdi/yuxiang.ye/DN_AI_frame/dataset/lidc/npz_seg_new/LIDC-IDRI-0049.npz\n",
      "LIDC-IDRI-0049\n"
     ]
    },
    {
     "name": "stderr",
     "output_type": "stream",
     "text": [
      "100%|██████████| 39/39 [00:00<00:00, 41.11it/s]\n"
     ]
    },
    {
     "name": "stdout",
     "output_type": "stream",
     "text": [
      "/home/mengdi/yuxiang.ye/DN_AI_frame/dataset/lidc/npz_seg_new/LIDC-IDRI-0050.npz\n",
      "LIDC-IDRI-0050\n"
     ]
    },
    {
     "name": "stderr",
     "output_type": "stream",
     "text": [
      "100%|██████████| 4/4 [00:00<00:00, 11.37it/s]\n"
     ]
    },
    {
     "name": "stdout",
     "output_type": "stream",
     "text": [
      "/home/mengdi/yuxiang.ye/DN_AI_frame/dataset/lidc/npz_seg_new/LIDC-IDRI-0051.npz\n",
      "LIDC-IDRI-0051\n"
     ]
    },
    {
     "name": "stderr",
     "output_type": "stream",
     "text": [
      "100%|██████████| 9/9 [00:00<00:00, 19.28it/s]\n"
     ]
    },
    {
     "name": "stdout",
     "output_type": "stream",
     "text": [
      "/home/mengdi/yuxiang.ye/DN_AI_frame/dataset/lidc/npz_seg_new/LIDC-IDRI-0052.npz\n",
      "LIDC-IDRI-0052\n"
     ]
    },
    {
     "name": "stderr",
     "output_type": "stream",
     "text": [
      "100%|██████████| 8/8 [00:01<00:00,  7.81it/s]\n"
     ]
    },
    {
     "name": "stdout",
     "output_type": "stream",
     "text": [
      "/home/mengdi/yuxiang.ye/DN_AI_frame/dataset/lidc/npz_seg_new/LIDC-IDRI-0053.npz\n",
      "LIDC-IDRI-0053\n"
     ]
    },
    {
     "name": "stderr",
     "output_type": "stream",
     "text": [
      "100%|██████████| 8/8 [00:00<00:00, 15.53it/s]\n"
     ]
    },
    {
     "name": "stdout",
     "output_type": "stream",
     "text": [
      "/home/mengdi/yuxiang.ye/DN_AI_frame/dataset/lidc/npz_seg_new/LIDC-IDRI-0054.npz\n",
      "LIDC-IDRI-0054\n"
     ]
    },
    {
     "name": "stderr",
     "output_type": "stream",
     "text": [
      "100%|██████████| 4/4 [00:00<00:00, 16.27it/s]\n"
     ]
    },
    {
     "name": "stdout",
     "output_type": "stream",
     "text": [
      "/home/mengdi/yuxiang.ye/DN_AI_frame/dataset/lidc/npz_seg_new/LIDC-IDRI-0055.npz\n",
      "LIDC-IDRI-0055\n"
     ]
    },
    {
     "name": "stderr",
     "output_type": "stream",
     "text": [
      "100%|██████████| 20/20 [00:00<00:00, 34.12it/s]\n"
     ]
    },
    {
     "name": "stdout",
     "output_type": "stream",
     "text": [
      "/home/mengdi/yuxiang.ye/DN_AI_frame/dataset/lidc/npz_seg_new/LIDC-IDRI-0056.npz\n",
      "LIDC-IDRI-0056\n"
     ]
    },
    {
     "name": "stderr",
     "output_type": "stream",
     "text": [
      "100%|██████████| 10/10 [00:00<00:00, 20.23it/s]\n"
     ]
    },
    {
     "name": "stdout",
     "output_type": "stream",
     "text": [
      "/home/mengdi/yuxiang.ye/DN_AI_frame/dataset/lidc/npz_seg_new/LIDC-IDRI-0057.npz\n",
      "LIDC-IDRI-0057\n"
     ]
    },
    {
     "name": "stderr",
     "output_type": "stream",
     "text": [
      "100%|██████████| 4/4 [00:00<00:00,  4.03it/s]\n"
     ]
    },
    {
     "name": "stdout",
     "output_type": "stream",
     "text": [
      "/home/mengdi/yuxiang.ye/DN_AI_frame/dataset/lidc/npz_seg_new/LIDC-IDRI-0058.npz\n",
      "LIDC-IDRI-0058\n"
     ]
    },
    {
     "name": "stderr",
     "output_type": "stream",
     "text": [
      "100%|██████████| 9/9 [00:00<00:00, 13.71it/s]\n"
     ]
    },
    {
     "name": "stdout",
     "output_type": "stream",
     "text": [
      "/home/mengdi/yuxiang.ye/DN_AI_frame/dataset/lidc/npz_seg_new/LIDC-IDRI-0059.npz\n",
      "LIDC-IDRI-0059\n"
     ]
    },
    {
     "name": "stderr",
     "output_type": "stream",
     "text": [
      "100%|██████████| 4/4 [00:00<00:00, 24.84it/s]\n"
     ]
    },
    {
     "name": "stdout",
     "output_type": "stream",
     "text": [
      "/home/mengdi/yuxiang.ye/DN_AI_frame/dataset/lidc/npz_seg_new/LIDC-IDRI-0060.npz\n",
      "LIDC-IDRI-0060\n"
     ]
    },
    {
     "name": "stderr",
     "output_type": "stream",
     "text": [
      "100%|██████████| 13/13 [00:00<00:00, 16.72it/s]\n"
     ]
    },
    {
     "name": "stdout",
     "output_type": "stream",
     "text": [
      "/home/mengdi/yuxiang.ye/DN_AI_frame/dataset/lidc/npz_seg_new/LIDC-IDRI-0061.npz\n",
      "LIDC-IDRI-0061\n"
     ]
    },
    {
     "name": "stderr",
     "output_type": "stream",
     "text": [
      "100%|██████████| 19/19 [00:01<00:00, 11.55it/s]\n"
     ]
    },
    {
     "name": "stdout",
     "output_type": "stream",
     "text": [
      "/home/mengdi/yuxiang.ye/DN_AI_frame/dataset/lidc/npz_seg_new/LIDC-IDRI-0062.npz\n",
      "LIDC-IDRI-0062\n"
     ]
    },
    {
     "name": "stderr",
     "output_type": "stream",
     "text": [
      "0it [00:00, ?it/s]\n"
     ]
    },
    {
     "name": "stdout",
     "output_type": "stream",
     "text": [
      "/home/mengdi/yuxiang.ye/DN_AI_frame/dataset/lidc/npz_seg_new/LIDC-IDRI-0063.npz\n",
      "LIDC-IDRI-0063\n"
     ]
    },
    {
     "name": "stderr",
     "output_type": "stream",
     "text": [
      "100%|██████████| 10/10 [00:00<00:00, 25.50it/s]\n"
     ]
    },
    {
     "name": "stdout",
     "output_type": "stream",
     "text": [
      "/home/mengdi/yuxiang.ye/DN_AI_frame/dataset/lidc/npz_seg_new/LIDC-IDRI-0064.npz\n",
      "LIDC-IDRI-0064\n"
     ]
    },
    {
     "name": "stderr",
     "output_type": "stream",
     "text": [
      "100%|██████████| 8/8 [00:00<00:00,  9.83it/s]\n"
     ]
    },
    {
     "name": "stdout",
     "output_type": "stream",
     "text": [
      "/home/mengdi/yuxiang.ye/DN_AI_frame/dataset/lidc/npz_seg_new/LIDC-IDRI-0065.npz\n",
      "LIDC-IDRI-0065\n"
     ]
    },
    {
     "name": "stderr",
     "output_type": "stream",
     "text": [
      "100%|██████████| 2/2 [00:00<00:00, 50.49it/s]\n"
     ]
    },
    {
     "name": "stdout",
     "output_type": "stream",
     "text": [
      "/home/mengdi/yuxiang.ye/DN_AI_frame/dataset/lidc/npz_seg_new/LIDC-IDRI-0066.npz\n",
      "LIDC-IDRI-0066\n"
     ]
    },
    {
     "name": "stderr",
     "output_type": "stream",
     "text": [
      "100%|██████████| 11/11 [00:02<00:00,  5.48it/s]\n"
     ]
    },
    {
     "name": "stdout",
     "output_type": "stream",
     "text": [
      "/home/mengdi/yuxiang.ye/DN_AI_frame/dataset/lidc/npz_seg_new/LIDC-IDRI-0067.npz\n",
      "LIDC-IDRI-0067\n"
     ]
    },
    {
     "name": "stderr",
     "output_type": "stream",
     "text": [
      "100%|██████████| 14/14 [00:00<00:00, 18.82it/s]\n"
     ]
    },
    {
     "name": "stdout",
     "output_type": "stream",
     "text": [
      "/home/mengdi/yuxiang.ye/DN_AI_frame/dataset/lidc/npz_seg_new/LIDC-IDRI-0068.npz\n",
      "LIDC-IDRI-0068\n"
     ]
    },
    {
     "name": "stderr",
     "output_type": "stream",
     "text": [
      "100%|██████████| 22/22 [00:01<00:00, 16.60it/s]\n"
     ]
    },
    {
     "name": "stdout",
     "output_type": "stream",
     "text": [
      "/home/mengdi/yuxiang.ye/DN_AI_frame/dataset/lidc/npz_seg_new/LIDC-IDRI-0069.npz\n",
      "LIDC-IDRI-0069\n"
     ]
    },
    {
     "name": "stderr",
     "output_type": "stream",
     "text": [
      "100%|██████████| 9/9 [00:00<00:00, 14.95it/s]\n"
     ]
    },
    {
     "name": "stdout",
     "output_type": "stream",
     "text": [
      "/home/mengdi/yuxiang.ye/DN_AI_frame/dataset/lidc/npz_seg_new/LIDC-IDRI-0070.npz\n",
      "LIDC-IDRI-0070\n"
     ]
    },
    {
     "name": "stderr",
     "output_type": "stream",
     "text": [
      "100%|██████████| 7/7 [00:00<00:00, 61.56it/s]\n"
     ]
    },
    {
     "name": "stdout",
     "output_type": "stream",
     "text": [
      "/home/mengdi/yuxiang.ye/DN_AI_frame/dataset/lidc/npz_seg_new/LIDC-IDRI-0071.npz\n",
      "LIDC-IDRI-0071\n"
     ]
    },
    {
     "name": "stderr",
     "output_type": "stream",
     "text": [
      "0it [00:00, ?it/s]\n"
     ]
    },
    {
     "name": "stdout",
     "output_type": "stream",
     "text": [
      "/home/mengdi/yuxiang.ye/DN_AI_frame/dataset/lidc/npz_seg_new/LIDC-IDRI-0072.npz\n",
      "LIDC-IDRI-0072\n"
     ]
    },
    {
     "name": "stderr",
     "output_type": "stream",
     "text": [
      "100%|██████████| 3/3 [00:00<00:00,  3.85it/s]\n"
     ]
    },
    {
     "name": "stdout",
     "output_type": "stream",
     "text": [
      "/home/mengdi/yuxiang.ye/DN_AI_frame/dataset/lidc/npz_seg_new/LIDC-IDRI-0073.npz\n",
      "LIDC-IDRI-0073\n"
     ]
    },
    {
     "name": "stderr",
     "output_type": "stream",
     "text": [
      "100%|██████████| 7/7 [00:00<00:00, 25.25it/s]\n"
     ]
    },
    {
     "name": "stdout",
     "output_type": "stream",
     "text": [
      "/home/mengdi/yuxiang.ye/DN_AI_frame/dataset/lidc/npz_seg_new/LIDC-IDRI-0074.npz\n",
      "LIDC-IDRI-0074\n"
     ]
    },
    {
     "name": "stderr",
     "output_type": "stream",
     "text": [
      "100%|██████████| 3/3 [00:00<00:00, 14.73it/s]\n"
     ]
    },
    {
     "name": "stdout",
     "output_type": "stream",
     "text": [
      "/home/mengdi/yuxiang.ye/DN_AI_frame/dataset/lidc/npz_seg_new/LIDC-IDRI-0075.npz\n",
      "LIDC-IDRI-0075\n"
     ]
    },
    {
     "name": "stderr",
     "output_type": "stream",
     "text": [
      "100%|██████████| 9/9 [00:00<00:00,  9.50it/s]\n"
     ]
    },
    {
     "name": "stdout",
     "output_type": "stream",
     "text": [
      "/home/mengdi/yuxiang.ye/DN_AI_frame/dataset/lidc/npz_seg_new/LIDC-IDRI-0076.npz\n",
      "LIDC-IDRI-0076\n"
     ]
    },
    {
     "name": "stderr",
     "output_type": "stream",
     "text": [
      "100%|██████████| 8/8 [00:00<00:00, 16.61it/s]\n"
     ]
    },
    {
     "name": "stdout",
     "output_type": "stream",
     "text": [
      "/home/mengdi/yuxiang.ye/DN_AI_frame/dataset/lidc/npz_seg_new/LIDC-IDRI-0077.npz\n",
      "LIDC-IDRI-0077\n"
     ]
    },
    {
     "name": "stderr",
     "output_type": "stream",
     "text": [
      "100%|██████████| 5/5 [00:00<00:00,  9.86it/s]\n"
     ]
    },
    {
     "name": "stdout",
     "output_type": "stream",
     "text": [
      "/home/mengdi/yuxiang.ye/DN_AI_frame/dataset/lidc/npz_seg_new/LIDC-IDRI-0078.npz\n",
      "LIDC-IDRI-0078\n"
     ]
    },
    {
     "name": "stderr",
     "output_type": "stream",
     "text": [
      "100%|██████████| 13/13 [00:00<00:00, 16.39it/s]\n"
     ]
    },
    {
     "name": "stdout",
     "output_type": "stream",
     "text": [
      "/home/mengdi/yuxiang.ye/DN_AI_frame/dataset/lidc/npz_seg_new/LIDC-IDRI-0079.npz\n",
      "LIDC-IDRI-0079\n"
     ]
    },
    {
     "name": "stderr",
     "output_type": "stream",
     "text": [
      "100%|██████████| 4/4 [00:00<00:00, 22.58it/s]\n"
     ]
    },
    {
     "name": "stdout",
     "output_type": "stream",
     "text": [
      "/home/mengdi/yuxiang.ye/DN_AI_frame/dataset/lidc/npz_seg_new/LIDC-IDRI-0080.npz\n",
      "LIDC-IDRI-0080\n"
     ]
    },
    {
     "name": "stderr",
     "output_type": "stream",
     "text": [
      "100%|██████████| 7/7 [00:00<00:00,  7.13it/s]\n"
     ]
    },
    {
     "name": "stdout",
     "output_type": "stream",
     "text": [
      "/home/mengdi/yuxiang.ye/DN_AI_frame/dataset/lidc/npz_seg_new/LIDC-IDRI-0081.npz\n",
      "LIDC-IDRI-0081\n"
     ]
    },
    {
     "name": "stderr",
     "output_type": "stream",
     "text": [
      "100%|██████████| 7/7 [00:00<00:00, 15.65it/s]\n"
     ]
    },
    {
     "name": "stdout",
     "output_type": "stream",
     "text": [
      "/home/mengdi/yuxiang.ye/DN_AI_frame/dataset/lidc/npz_seg_new/LIDC-IDRI-0082.npz\n",
      "LIDC-IDRI-0082\n"
     ]
    },
    {
     "name": "stderr",
     "output_type": "stream",
     "text": [
      "100%|██████████| 3/3 [00:00<00:00,  7.33it/s]\n"
     ]
    },
    {
     "name": "stdout",
     "output_type": "stream",
     "text": [
      "/home/mengdi/yuxiang.ye/DN_AI_frame/dataset/lidc/npz_seg_new/LIDC-IDRI-0083.npz\n",
      "LIDC-IDRI-0083\n"
     ]
    },
    {
     "name": "stderr",
     "output_type": "stream",
     "text": [
      "100%|██████████| 7/7 [00:00<00:00, 28.79it/s]\n"
     ]
    },
    {
     "name": "stdout",
     "output_type": "stream",
     "text": [
      "/home/mengdi/yuxiang.ye/DN_AI_frame/dataset/lidc/npz_seg_new/LIDC-IDRI-0084.npz\n",
      "LIDC-IDRI-0084\n"
     ]
    },
    {
     "name": "stderr",
     "output_type": "stream",
     "text": [
      "100%|██████████| 13/13 [00:00<00:00, 37.25it/s]\n"
     ]
    },
    {
     "name": "stdout",
     "output_type": "stream",
     "text": [
      "/home/mengdi/yuxiang.ye/DN_AI_frame/dataset/lidc/npz_seg_new/LIDC-IDRI-0085.npz\n",
      "LIDC-IDRI-0085\n"
     ]
    },
    {
     "name": "stderr",
     "output_type": "stream",
     "text": [
      "100%|██████████| 5/5 [00:00<00:00, 49.39it/s]\n"
     ]
    },
    {
     "name": "stdout",
     "output_type": "stream",
     "text": [
      "/home/mengdi/yuxiang.ye/DN_AI_frame/dataset/lidc/npz_seg_new/LIDC-IDRI-0086.npz\n",
      "LIDC-IDRI-0086\n"
     ]
    },
    {
     "name": "stderr",
     "output_type": "stream",
     "text": [
      "100%|██████████| 2/2 [00:00<00:00, 18.24it/s]\n"
     ]
    },
    {
     "name": "stdout",
     "output_type": "stream",
     "text": [
      "/home/mengdi/yuxiang.ye/DN_AI_frame/dataset/lidc/npz_seg_new/LIDC-IDRI-0087.npz\n",
      "LIDC-IDRI-0087\n"
     ]
    },
    {
     "name": "stderr",
     "output_type": "stream",
     "text": [
      "100%|██████████| 4/4 [00:00<00:00,  9.68it/s]\n"
     ]
    },
    {
     "name": "stdout",
     "output_type": "stream",
     "text": [
      "/home/mengdi/yuxiang.ye/DN_AI_frame/dataset/lidc/npz_seg_new/LIDC-IDRI-0088.npz\n",
      "LIDC-IDRI-0088\n"
     ]
    },
    {
     "name": "stderr",
     "output_type": "stream",
     "text": [
      "100%|██████████| 10/10 [00:00<00:00, 29.80it/s]\n"
     ]
    },
    {
     "name": "stdout",
     "output_type": "stream",
     "text": [
      "/home/mengdi/yuxiang.ye/DN_AI_frame/dataset/lidc/npz_seg_new/LIDC-IDRI-0089.npz\n",
      "LIDC-IDRI-0089\n"
     ]
    },
    {
     "name": "stderr",
     "output_type": "stream",
     "text": [
      "100%|██████████| 4/4 [00:00<00:00,  9.43it/s]\n"
     ]
    },
    {
     "name": "stdout",
     "output_type": "stream",
     "text": [
      "/home/mengdi/yuxiang.ye/DN_AI_frame/dataset/lidc/npz_seg_new/LIDC-IDRI-0090.npz\n",
      "LIDC-IDRI-0090\n"
     ]
    },
    {
     "name": "stderr",
     "output_type": "stream",
     "text": [
      "100%|██████████| 4/4 [00:00<00:00, 35.46it/s]\n"
     ]
    },
    {
     "name": "stdout",
     "output_type": "stream",
     "text": [
      "/home/mengdi/yuxiang.ye/DN_AI_frame/dataset/lidc/npz_seg_new/LIDC-IDRI-0091.npz\n",
      "LIDC-IDRI-0091\n"
     ]
    },
    {
     "name": "stderr",
     "output_type": "stream",
     "text": [
      "100%|██████████| 17/17 [00:01<00:00, 15.58it/s]\n"
     ]
    },
    {
     "name": "stdout",
     "output_type": "stream",
     "text": [
      "/home/mengdi/yuxiang.ye/DN_AI_frame/dataset/lidc/npz_seg_new/LIDC-IDRI-0092.npz\n",
      "LIDC-IDRI-0092\n"
     ]
    },
    {
     "name": "stderr",
     "output_type": "stream",
     "text": [
      "100%|██████████| 13/13 [00:00<00:00, 18.06it/s]\n"
     ]
    },
    {
     "name": "stdout",
     "output_type": "stream",
     "text": [
      "/home/mengdi/yuxiang.ye/DN_AI_frame/dataset/lidc/npz_seg_new/LIDC-IDRI-0093.npz\n",
      "LIDC-IDRI-0093\n"
     ]
    },
    {
     "name": "stderr",
     "output_type": "stream",
     "text": [
      "100%|██████████| 5/5 [00:00<00:00, 34.67it/s]\n"
     ]
    },
    {
     "name": "stdout",
     "output_type": "stream",
     "text": [
      "/home/mengdi/yuxiang.ye/DN_AI_frame/dataset/lidc/npz_seg_new/LIDC-IDRI-0094.npz\n",
      "LIDC-IDRI-0094\n"
     ]
    },
    {
     "name": "stderr",
     "output_type": "stream",
     "text": [
      "100%|██████████| 4/4 [00:01<00:00,  3.70it/s]\n"
     ]
    },
    {
     "name": "stdout",
     "output_type": "stream",
     "text": [
      "/home/mengdi/yuxiang.ye/DN_AI_frame/dataset/lidc/npz_seg_new/LIDC-IDRI-0095.npz\n",
      "LIDC-IDRI-0095\n"
     ]
    },
    {
     "name": "stderr",
     "output_type": "stream",
     "text": [
      "100%|██████████| 9/9 [00:01<00:00,  8.27it/s]\n"
     ]
    },
    {
     "name": "stdout",
     "output_type": "stream",
     "text": [
      "/home/mengdi/yuxiang.ye/DN_AI_frame/dataset/lidc/npz_seg_new/LIDC-IDRI-0096.npz\n",
      "LIDC-IDRI-0096\n"
     ]
    },
    {
     "name": "stderr",
     "output_type": "stream",
     "text": [
      "100%|██████████| 3/3 [00:00<00:00, 37.62it/s]\n"
     ]
    },
    {
     "name": "stdout",
     "output_type": "stream",
     "text": [
      "/home/mengdi/yuxiang.ye/DN_AI_frame/dataset/lidc/npz_seg_new/LIDC-IDRI-0097.npz\n",
      "LIDC-IDRI-0097\n"
     ]
    },
    {
     "name": "stderr",
     "output_type": "stream",
     "text": [
      "100%|██████████| 3/3 [00:00<00:00, 17.26it/s]\n"
     ]
    },
    {
     "name": "stdout",
     "output_type": "stream",
     "text": [
      "/home/mengdi/yuxiang.ye/DN_AI_frame/dataset/lidc/npz_seg_new/LIDC-IDRI-0098.npz\n",
      "LIDC-IDRI-0098\n"
     ]
    },
    {
     "name": "stderr",
     "output_type": "stream",
     "text": [
      "100%|██████████| 3/3 [00:00<00:00, 23.69it/s]\n"
     ]
    },
    {
     "name": "stdout",
     "output_type": "stream",
     "text": [
      "/home/mengdi/yuxiang.ye/DN_AI_frame/dataset/lidc/npz_seg_new/LIDC-IDRI-0099.npz\n",
      "LIDC-IDRI-0099\n"
     ]
    },
    {
     "name": "stderr",
     "output_type": "stream",
     "text": [
      "100%|██████████| 9/9 [00:00<00:00, 20.13it/s]\n"
     ]
    },
    {
     "name": "stdout",
     "output_type": "stream",
     "text": [
      "/home/mengdi/yuxiang.ye/DN_AI_frame/dataset/lidc/npz_seg_new/LIDC-IDRI-0100.npz\n",
      "LIDC-IDRI-0100\n"
     ]
    },
    {
     "name": "stderr",
     "output_type": "stream",
     "text": [
      "0it [00:00, ?it/s]\n"
     ]
    },
    {
     "name": "stdout",
     "output_type": "stream",
     "text": [
      "/home/mengdi/yuxiang.ye/DN_AI_frame/dataset/lidc/npz_seg_new/LIDC-IDRI-0101.npz\n",
      "LIDC-IDRI-0101\n"
     ]
    },
    {
     "name": "stderr",
     "output_type": "stream",
     "text": [
      "100%|██████████| 2/2 [00:00<00:00, 46.38it/s]\n"
     ]
    },
    {
     "name": "stdout",
     "output_type": "stream",
     "text": [
      "/home/mengdi/yuxiang.ye/DN_AI_frame/dataset/lidc/npz_seg_new/LIDC-IDRI-0102.npz\n",
      "LIDC-IDRI-0102\n"
     ]
    },
    {
     "name": "stderr",
     "output_type": "stream",
     "text": [
      "100%|██████████| 3/3 [00:00<00:00, 60.53it/s]\n"
     ]
    },
    {
     "name": "stdout",
     "output_type": "stream",
     "text": [
      "/home/mengdi/yuxiang.ye/DN_AI_frame/dataset/lidc/npz_seg_new/LIDC-IDRI-0103.npz\n",
      "LIDC-IDRI-0103\n"
     ]
    },
    {
     "name": "stderr",
     "output_type": "stream",
     "text": [
      "100%|██████████| 5/5 [00:00<00:00, 53.89it/s]\n"
     ]
    },
    {
     "name": "stdout",
     "output_type": "stream",
     "text": [
      "/home/mengdi/yuxiang.ye/DN_AI_frame/dataset/lidc/npz_seg_new/LIDC-IDRI-0104.npz\n",
      "LIDC-IDRI-0104\n"
     ]
    },
    {
     "name": "stderr",
     "output_type": "stream",
     "text": [
      "100%|██████████| 4/4 [00:00<00:00, 19.73it/s]\n"
     ]
    },
    {
     "name": "stdout",
     "output_type": "stream",
     "text": [
      "/home/mengdi/yuxiang.ye/DN_AI_frame/dataset/lidc/npz_seg_new/LIDC-IDRI-0105.npz\n",
      "LIDC-IDRI-0105\n"
     ]
    },
    {
     "name": "stderr",
     "output_type": "stream",
     "text": [
      "100%|██████████| 3/3 [00:00<00:00, 41.96it/s]\n"
     ]
    },
    {
     "name": "stdout",
     "output_type": "stream",
     "text": [
      "/home/mengdi/yuxiang.ye/DN_AI_frame/dataset/lidc/npz_seg_new/LIDC-IDRI-0106.npz\n",
      "LIDC-IDRI-0106\n"
     ]
    },
    {
     "name": "stderr",
     "output_type": "stream",
     "text": [
      "100%|██████████| 10/10 [00:00<00:00, 33.95it/s]\n"
     ]
    },
    {
     "name": "stdout",
     "output_type": "stream",
     "text": [
      "/home/mengdi/yuxiang.ye/DN_AI_frame/dataset/lidc/npz_seg_new/LIDC-IDRI-0107.npz\n",
      "LIDC-IDRI-0107\n"
     ]
    },
    {
     "name": "stderr",
     "output_type": "stream",
     "text": [
      "100%|██████████| 6/6 [00:00<00:00, 30.40it/s]\n"
     ]
    },
    {
     "name": "stdout",
     "output_type": "stream",
     "text": [
      "/home/mengdi/yuxiang.ye/DN_AI_frame/dataset/lidc/npz_seg_new/LIDC-IDRI-0108.npz\n",
      "LIDC-IDRI-0108\n"
     ]
    },
    {
     "name": "stderr",
     "output_type": "stream",
     "text": [
      "100%|██████████| 6/6 [00:00<00:00, 18.02it/s]\n"
     ]
    },
    {
     "name": "stdout",
     "output_type": "stream",
     "text": [
      "/home/mengdi/yuxiang.ye/DN_AI_frame/dataset/lidc/npz_seg_new/LIDC-IDRI-0109.npz\n",
      "LIDC-IDRI-0109\n"
     ]
    },
    {
     "name": "stderr",
     "output_type": "stream",
     "text": [
      "100%|██████████| 4/4 [00:00<00:00, 12.17it/s]\n"
     ]
    },
    {
     "name": "stdout",
     "output_type": "stream",
     "text": [
      "/home/mengdi/yuxiang.ye/DN_AI_frame/dataset/lidc/npz_seg_new/LIDC-IDRI-0110.npz\n",
      "LIDC-IDRI-0110\n"
     ]
    },
    {
     "name": "stderr",
     "output_type": "stream",
     "text": [
      "100%|██████████| 6/6 [00:00<00:00, 39.79it/s]\n"
     ]
    },
    {
     "name": "stdout",
     "output_type": "stream",
     "text": [
      "/home/mengdi/yuxiang.ye/DN_AI_frame/dataset/lidc/npz_seg_new/LIDC-IDRI-0111.npz\n",
      "LIDC-IDRI-0111\n"
     ]
    },
    {
     "name": "stderr",
     "output_type": "stream",
     "text": [
      "100%|██████████| 18/18 [00:00<00:00, 20.84it/s]\n"
     ]
    },
    {
     "name": "stdout",
     "output_type": "stream",
     "text": [
      "/home/mengdi/yuxiang.ye/DN_AI_frame/dataset/lidc/npz_seg_new/LIDC-IDRI-0112.npz\n",
      "LIDC-IDRI-0112\n"
     ]
    },
    {
     "name": "stderr",
     "output_type": "stream",
     "text": [
      "100%|██████████| 4/4 [00:00<00:00, 25.03it/s]\n"
     ]
    },
    {
     "name": "stdout",
     "output_type": "stream",
     "text": [
      "/home/mengdi/yuxiang.ye/DN_AI_frame/dataset/lidc/npz_seg_new/LIDC-IDRI-0113.npz\n",
      "LIDC-IDRI-0113\n"
     ]
    },
    {
     "name": "stderr",
     "output_type": "stream",
     "text": [
      "100%|██████████| 3/3 [00:00<00:00, 36.92it/s]\n"
     ]
    },
    {
     "name": "stdout",
     "output_type": "stream",
     "text": [
      "/home/mengdi/yuxiang.ye/DN_AI_frame/dataset/lidc/npz_seg_new/LIDC-IDRI-0114.npz\n",
      "LIDC-IDRI-0114\n"
     ]
    },
    {
     "name": "stderr",
     "output_type": "stream",
     "text": [
      "100%|██████████| 4/4 [00:00<00:00, 12.56it/s]\n"
     ]
    },
    {
     "name": "stdout",
     "output_type": "stream",
     "text": [
      "/home/mengdi/yuxiang.ye/DN_AI_frame/dataset/lidc/npz_seg_new/LIDC-IDRI-0115.npz\n",
      "LIDC-IDRI-0115\n"
     ]
    },
    {
     "name": "stderr",
     "output_type": "stream",
     "text": [
      "100%|██████████| 4/4 [00:00<00:00, 11.95it/s]\n"
     ]
    },
    {
     "name": "stdout",
     "output_type": "stream",
     "text": [
      "/home/mengdi/yuxiang.ye/DN_AI_frame/dataset/lidc/npz_seg_new/LIDC-IDRI-0116.npz\n",
      "LIDC-IDRI-0116\n"
     ]
    },
    {
     "name": "stderr",
     "output_type": "stream",
     "text": [
      "100%|██████████| 5/5 [00:00<00:00, 17.61it/s]\n"
     ]
    },
    {
     "name": "stdout",
     "output_type": "stream",
     "text": [
      "/home/mengdi/yuxiang.ye/DN_AI_frame/dataset/lidc/npz_seg_new/LIDC-IDRI-0117.npz\n",
      "LIDC-IDRI-0117\n"
     ]
    },
    {
     "name": "stderr",
     "output_type": "stream",
     "text": [
      "100%|██████████| 4/4 [00:00<00:00, 23.35it/s]\n"
     ]
    },
    {
     "name": "stdout",
     "output_type": "stream",
     "text": [
      "/home/mengdi/yuxiang.ye/DN_AI_frame/dataset/lidc/npz_seg_new/LIDC-IDRI-0118.npz\n",
      "LIDC-IDRI-0118\n"
     ]
    },
    {
     "name": "stderr",
     "output_type": "stream",
     "text": [
      "100%|██████████| 16/16 [00:00<00:00, 23.38it/s]\n"
     ]
    },
    {
     "name": "stdout",
     "output_type": "stream",
     "text": [
      "/home/mengdi/yuxiang.ye/DN_AI_frame/dataset/lidc/npz_seg_new/LIDC-IDRI-0119.npz\n",
      "LIDC-IDRI-0119\n"
     ]
    },
    {
     "name": "stderr",
     "output_type": "stream",
     "text": [
      "100%|██████████| 8/8 [00:00<00:00,  9.03it/s]\n"
     ]
    },
    {
     "name": "stdout",
     "output_type": "stream",
     "text": [
      "/home/mengdi/yuxiang.ye/DN_AI_frame/dataset/lidc/npz_seg_new/LIDC-IDRI-0120.npz\n",
      "LIDC-IDRI-0120\n"
     ]
    },
    {
     "name": "stderr",
     "output_type": "stream",
     "text": [
      "100%|██████████| 10/10 [00:00<00:00, 13.90it/s]\n"
     ]
    },
    {
     "name": "stdout",
     "output_type": "stream",
     "text": [
      "/home/mengdi/yuxiang.ye/DN_AI_frame/dataset/lidc/npz_seg_new/LIDC-IDRI-0121.npz\n",
      "LIDC-IDRI-0121\n"
     ]
    },
    {
     "name": "stderr",
     "output_type": "stream",
     "text": [
      "100%|██████████| 8/8 [00:00<00:00, 11.47it/s]\n"
     ]
    },
    {
     "name": "stdout",
     "output_type": "stream",
     "text": [
      "/home/mengdi/yuxiang.ye/DN_AI_frame/dataset/lidc/npz_seg_new/LIDC-IDRI-0122.npz\n",
      "LIDC-IDRI-0122\n"
     ]
    },
    {
     "name": "stderr",
     "output_type": "stream",
     "text": [
      "100%|██████████| 4/4 [00:00<00:00, 31.50it/s]\n"
     ]
    },
    {
     "name": "stdout",
     "output_type": "stream",
     "text": [
      "/home/mengdi/yuxiang.ye/DN_AI_frame/dataset/lidc/npz_seg_new/LIDC-IDRI-0123.npz\n",
      "LIDC-IDRI-0123\n"
     ]
    },
    {
     "name": "stderr",
     "output_type": "stream",
     "text": [
      "100%|██████████| 2/2 [00:00<00:00, 20.12it/s]\n"
     ]
    },
    {
     "name": "stdout",
     "output_type": "stream",
     "text": [
      "/home/mengdi/yuxiang.ye/DN_AI_frame/dataset/lidc/npz_seg_new/LIDC-IDRI-0124.npz\n",
      "LIDC-IDRI-0124\n"
     ]
    },
    {
     "name": "stderr",
     "output_type": "stream",
     "text": [
      "100%|██████████| 35/35 [00:00<00:00, 37.47it/s]\n"
     ]
    },
    {
     "name": "stdout",
     "output_type": "stream",
     "text": [
      "/home/mengdi/yuxiang.ye/DN_AI_frame/dataset/lidc/npz_seg_new/LIDC-IDRI-0125.npz\n",
      "LIDC-IDRI-0125\n"
     ]
    },
    {
     "name": "stderr",
     "output_type": "stream",
     "text": [
      "100%|██████████| 5/5 [00:00<00:00, 31.66it/s]\n"
     ]
    },
    {
     "name": "stdout",
     "output_type": "stream",
     "text": [
      "/home/mengdi/yuxiang.ye/DN_AI_frame/dataset/lidc/npz_seg_new/LIDC-IDRI-0126.npz\n",
      "LIDC-IDRI-0126\n"
     ]
    },
    {
     "name": "stderr",
     "output_type": "stream",
     "text": [
      "100%|██████████| 7/7 [00:00<00:00, 36.26it/s]\n"
     ]
    },
    {
     "name": "stdout",
     "output_type": "stream",
     "text": [
      "/home/mengdi/yuxiang.ye/DN_AI_frame/dataset/lidc/npz_seg_new/LIDC-IDRI-0127.npz\n",
      "LIDC-IDRI-0127\n"
     ]
    },
    {
     "name": "stderr",
     "output_type": "stream",
     "text": [
      "100%|██████████| 2/2 [00:00<00:00,  6.76it/s]\n"
     ]
    },
    {
     "name": "stdout",
     "output_type": "stream",
     "text": [
      "/home/mengdi/yuxiang.ye/DN_AI_frame/dataset/lidc/npz_seg_new/LIDC-IDRI-0128.npz\n",
      "LIDC-IDRI-0128\n"
     ]
    },
    {
     "name": "stderr",
     "output_type": "stream",
     "text": [
      "100%|██████████| 8/8 [00:00<00:00, 18.76it/s]\n"
     ]
    },
    {
     "name": "stdout",
     "output_type": "stream",
     "text": [
      "/home/mengdi/yuxiang.ye/DN_AI_frame/dataset/lidc/npz_seg_new/LIDC-IDRI-0129.npz\n",
      "LIDC-IDRI-0129\n"
     ]
    },
    {
     "name": "stderr",
     "output_type": "stream",
     "text": [
      "100%|██████████| 48/48 [00:02<00:00, 18.65it/s]\n"
     ]
    },
    {
     "name": "stdout",
     "output_type": "stream",
     "text": [
      "/home/mengdi/yuxiang.ye/DN_AI_frame/dataset/lidc/npz_seg_new/LIDC-IDRI-0130.npz\n",
      "LIDC-IDRI-0130\n"
     ]
    },
    {
     "name": "stderr",
     "output_type": "stream",
     "text": [
      "100%|██████████| 8/8 [00:00<00:00, 10.15it/s]\n"
     ]
    },
    {
     "name": "stdout",
     "output_type": "stream",
     "text": [
      "/home/mengdi/yuxiang.ye/DN_AI_frame/dataset/lidc/npz_seg_new/LIDC-IDRI-0131.npz\n",
      "LIDC-IDRI-0131\n"
     ]
    },
    {
     "name": "stderr",
     "output_type": "stream",
     "text": [
      "100%|██████████| 4/4 [00:00<00:00, 25.59it/s]\n"
     ]
    },
    {
     "name": "stdout",
     "output_type": "stream",
     "text": [
      "/home/mengdi/yuxiang.ye/DN_AI_frame/dataset/lidc/npz_seg_new/LIDC-IDRI-0132.npz\n",
      "LIDC-IDRI-0132\n"
     ]
    },
    {
     "name": "stderr",
     "output_type": "stream",
     "text": [
      "100%|██████████| 12/12 [00:00<00:00, 26.68it/s]\n"
     ]
    },
    {
     "name": "stdout",
     "output_type": "stream",
     "text": [
      "/home/mengdi/yuxiang.ye/DN_AI_frame/dataset/lidc/npz_seg_new/LIDC-IDRI-0133.npz\n",
      "LIDC-IDRI-0133\n"
     ]
    },
    {
     "name": "stderr",
     "output_type": "stream",
     "text": [
      "100%|██████████| 7/7 [00:00<00:00,  8.78it/s]\n"
     ]
    },
    {
     "name": "stdout",
     "output_type": "stream",
     "text": [
      "/home/mengdi/yuxiang.ye/DN_AI_frame/dataset/lidc/npz_seg_new/LIDC-IDRI-0134.npz\n",
      "LIDC-IDRI-0134\n"
     ]
    },
    {
     "name": "stderr",
     "output_type": "stream",
     "text": [
      "100%|██████████| 9/9 [00:00<00:00, 27.47it/s]\n"
     ]
    },
    {
     "name": "stdout",
     "output_type": "stream",
     "text": [
      "/home/mengdi/yuxiang.ye/DN_AI_frame/dataset/lidc/npz_seg_new/LIDC-IDRI-0135.npz\n",
      "LIDC-IDRI-0135\n"
     ]
    },
    {
     "name": "stderr",
     "output_type": "stream",
     "text": [
      "100%|██████████| 19/19 [00:00<00:00, 37.55it/s]\n"
     ]
    },
    {
     "name": "stdout",
     "output_type": "stream",
     "text": [
      "/home/mengdi/yuxiang.ye/DN_AI_frame/dataset/lidc/npz_seg_new/LIDC-IDRI-0136.npz\n",
      "LIDC-IDRI-0136\n"
     ]
    },
    {
     "name": "stderr",
     "output_type": "stream",
     "text": [
      "100%|██████████| 21/21 [00:00<00:00, 38.57it/s]\n"
     ]
    },
    {
     "name": "stdout",
     "output_type": "stream",
     "text": [
      "/home/mengdi/yuxiang.ye/DN_AI_frame/dataset/lidc/npz_seg_new/LIDC-IDRI-0137.npz\n",
      "LIDC-IDRI-0137\n"
     ]
    },
    {
     "name": "stderr",
     "output_type": "stream",
     "text": [
      "100%|██████████| 10/10 [00:00<00:00, 16.52it/s]\n"
     ]
    },
    {
     "name": "stdout",
     "output_type": "stream",
     "text": [
      "/home/mengdi/yuxiang.ye/DN_AI_frame/dataset/lidc/npz_seg_new/LIDC-IDRI-0138.npz\n",
      "LIDC-IDRI-0138\n"
     ]
    },
    {
     "name": "stderr",
     "output_type": "stream",
     "text": [
      "100%|██████████| 1/1 [00:00<00:00,  2.99it/s]\n"
     ]
    },
    {
     "name": "stdout",
     "output_type": "stream",
     "text": [
      "/home/mengdi/yuxiang.ye/DN_AI_frame/dataset/lidc/npz_seg_new/LIDC-IDRI-0139.npz\n",
      "LIDC-IDRI-0139\n"
     ]
    },
    {
     "name": "stderr",
     "output_type": "stream",
     "text": [
      "100%|██████████| 9/9 [00:00<00:00, 10.14it/s]\n"
     ]
    },
    {
     "name": "stdout",
     "output_type": "stream",
     "text": [
      "/home/mengdi/yuxiang.ye/DN_AI_frame/dataset/lidc/npz_seg_new/LIDC-IDRI-0140.npz\n",
      "LIDC-IDRI-0140\n"
     ]
    },
    {
     "name": "stderr",
     "output_type": "stream",
     "text": [
      "100%|██████████| 4/4 [00:00<00:00,  5.92it/s]\n"
     ]
    },
    {
     "name": "stdout",
     "output_type": "stream",
     "text": [
      "/home/mengdi/yuxiang.ye/DN_AI_frame/dataset/lidc/npz_seg_new/LIDC-IDRI-0141.npz\n",
      "LIDC-IDRI-0141\n"
     ]
    },
    {
     "name": "stderr",
     "output_type": "stream",
     "text": [
      "100%|██████████| 16/16 [00:02<00:00,  6.74it/s]\n"
     ]
    },
    {
     "name": "stdout",
     "output_type": "stream",
     "text": [
      "/home/mengdi/yuxiang.ye/DN_AI_frame/dataset/lidc/npz_seg_new/LIDC-IDRI-0142.npz\n",
      "LIDC-IDRI-0142\n"
     ]
    },
    {
     "name": "stderr",
     "output_type": "stream",
     "text": [
      "100%|██████████| 13/13 [00:00<00:00, 14.85it/s]\n"
     ]
    },
    {
     "name": "stdout",
     "output_type": "stream",
     "text": [
      "/home/mengdi/yuxiang.ye/DN_AI_frame/dataset/lidc/npz_seg_new/LIDC-IDRI-0143.npz\n",
      "LIDC-IDRI-0143\n"
     ]
    },
    {
     "name": "stderr",
     "output_type": "stream",
     "text": [
      "0it [00:00, ?it/s]\n"
     ]
    },
    {
     "name": "stdout",
     "output_type": "stream",
     "text": [
      "/home/mengdi/yuxiang.ye/DN_AI_frame/dataset/lidc/npz_seg_new/LIDC-IDRI-0144.npz\n",
      "LIDC-IDRI-0144\n"
     ]
    },
    {
     "name": "stderr",
     "output_type": "stream",
     "text": [
      "100%|██████████| 17/17 [00:00<00:00, 26.92it/s]\n"
     ]
    },
    {
     "name": "stdout",
     "output_type": "stream",
     "text": [
      "/home/mengdi/yuxiang.ye/DN_AI_frame/dataset/lidc/npz_seg_new/LIDC-IDRI-0145.npz\n",
      "LIDC-IDRI-0145\n"
     ]
    },
    {
     "name": "stderr",
     "output_type": "stream",
     "text": [
      "100%|██████████| 6/6 [00:00<00:00, 31.55it/s]\n"
     ]
    },
    {
     "name": "stdout",
     "output_type": "stream",
     "text": [
      "/home/mengdi/yuxiang.ye/DN_AI_frame/dataset/lidc/npz_seg_new/LIDC-IDRI-0146.npz\n",
      "LIDC-IDRI-0146\n"
     ]
    },
    {
     "name": "stderr",
     "output_type": "stream",
     "text": [
      "100%|██████████| 4/4 [00:00<00:00,  6.34it/s]\n"
     ]
    },
    {
     "name": "stdout",
     "output_type": "stream",
     "text": [
      "/home/mengdi/yuxiang.ye/DN_AI_frame/dataset/lidc/npz_seg_new/LIDC-IDRI-0147.npz\n",
      "LIDC-IDRI-0147\n"
     ]
    },
    {
     "name": "stderr",
     "output_type": "stream",
     "text": [
      "100%|██████████| 15/15 [00:00<00:00, 34.81it/s]\n"
     ]
    },
    {
     "name": "stdout",
     "output_type": "stream",
     "text": [
      "/home/mengdi/yuxiang.ye/DN_AI_frame/dataset/lidc/npz_seg_new/LIDC-IDRI-0148.npz\n",
      "LIDC-IDRI-0148\n"
     ]
    },
    {
     "name": "stderr",
     "output_type": "stream",
     "text": [
      "100%|██████████| 9/9 [00:00<00:00, 18.11it/s]\n"
     ]
    },
    {
     "name": "stdout",
     "output_type": "stream",
     "text": [
      "/home/mengdi/yuxiang.ye/DN_AI_frame/dataset/lidc/npz_seg_new/LIDC-IDRI-0149.npz\n",
      "LIDC-IDRI-0149\n"
     ]
    },
    {
     "name": "stderr",
     "output_type": "stream",
     "text": [
      "100%|██████████| 16/16 [00:00<00:00, 42.70it/s]\n"
     ]
    },
    {
     "name": "stdout",
     "output_type": "stream",
     "text": [
      "/home/mengdi/yuxiang.ye/DN_AI_frame/dataset/lidc/npz_seg_new/LIDC-IDRI-0150.npz\n",
      "LIDC-IDRI-0150\n"
     ]
    },
    {
     "name": "stderr",
     "output_type": "stream",
     "text": [
      "100%|██████████| 4/4 [00:00<00:00, 22.47it/s]\n"
     ]
    },
    {
     "name": "stdout",
     "output_type": "stream",
     "text": [
      "/home/mengdi/yuxiang.ye/DN_AI_frame/dataset/lidc/npz_seg_new/LIDC-IDRI-0151.npz\n",
      "LIDC-IDRI-0151\n"
     ]
    },
    {
     "name": "stderr",
     "output_type": "stream",
     "text": [
      "100%|██████████| 4/4 [00:00<00:00, 23.16it/s]\n"
     ]
    },
    {
     "name": "stdout",
     "output_type": "stream",
     "text": [
      "/home/mengdi/yuxiang.ye/DN_AI_frame/dataset/lidc/npz_seg_new/LIDC-IDRI-0152.npz\n",
      "LIDC-IDRI-0152\n"
     ]
    },
    {
     "name": "stderr",
     "output_type": "stream",
     "text": [
      "100%|██████████| 4/4 [00:00<00:00, 25.11it/s]\n"
     ]
    },
    {
     "name": "stdout",
     "output_type": "stream",
     "text": [
      "/home/mengdi/yuxiang.ye/DN_AI_frame/dataset/lidc/npz_seg_new/LIDC-IDRI-0153.npz\n",
      "LIDC-IDRI-0153\n"
     ]
    },
    {
     "name": "stderr",
     "output_type": "stream",
     "text": [
      "100%|██████████| 6/6 [00:00<00:00, 14.53it/s]\n"
     ]
    },
    {
     "name": "stdout",
     "output_type": "stream",
     "text": [
      "/home/mengdi/yuxiang.ye/DN_AI_frame/dataset/lidc/npz_seg_new/LIDC-IDRI-0154.npz\n",
      "LIDC-IDRI-0154\n"
     ]
    },
    {
     "name": "stderr",
     "output_type": "stream",
     "text": [
      "100%|██████████| 5/5 [00:00<00:00, 14.15it/s]\n"
     ]
    },
    {
     "name": "stdout",
     "output_type": "stream",
     "text": [
      "/home/mengdi/yuxiang.ye/DN_AI_frame/dataset/lidc/npz_seg_new/LIDC-IDRI-0155.npz\n",
      "LIDC-IDRI-0155\n"
     ]
    },
    {
     "name": "stderr",
     "output_type": "stream",
     "text": [
      "100%|██████████| 2/2 [00:00<00:00, 28.21it/s]\n"
     ]
    },
    {
     "name": "stdout",
     "output_type": "stream",
     "text": [
      "/home/mengdi/yuxiang.ye/DN_AI_frame/dataset/lidc/npz_seg_new/LIDC-IDRI-0156.npz\n",
      "LIDC-IDRI-0156\n"
     ]
    },
    {
     "name": "stderr",
     "output_type": "stream",
     "text": [
      "100%|██████████| 4/4 [00:00<00:00, 23.91it/s]\n"
     ]
    },
    {
     "name": "stdout",
     "output_type": "stream",
     "text": [
      "/home/mengdi/yuxiang.ye/DN_AI_frame/dataset/lidc/npz_seg_new/LIDC-IDRI-0157.npz\n",
      "LIDC-IDRI-0157\n"
     ]
    },
    {
     "name": "stderr",
     "output_type": "stream",
     "text": [
      "100%|██████████| 2/2 [00:00<00:00, 48.41it/s]\n"
     ]
    },
    {
     "name": "stdout",
     "output_type": "stream",
     "text": [
      "/home/mengdi/yuxiang.ye/DN_AI_frame/dataset/lidc/npz_seg_new/LIDC-IDRI-0158.npz\n",
      "LIDC-IDRI-0158\n"
     ]
    },
    {
     "name": "stderr",
     "output_type": "stream",
     "text": [
      "100%|██████████| 10/10 [00:00<00:00, 14.32it/s]\n"
     ]
    },
    {
     "name": "stdout",
     "output_type": "stream",
     "text": [
      "/home/mengdi/yuxiang.ye/DN_AI_frame/dataset/lidc/npz_seg_new/LIDC-IDRI-0159.npz\n",
      "LIDC-IDRI-0159\n"
     ]
    },
    {
     "name": "stderr",
     "output_type": "stream",
     "text": [
      "100%|██████████| 6/6 [00:00<00:00, 21.04it/s]\n"
     ]
    },
    {
     "name": "stdout",
     "output_type": "stream",
     "text": [
      "/home/mengdi/yuxiang.ye/DN_AI_frame/dataset/lidc/npz_seg_new/LIDC-IDRI-0160.npz\n",
      "LIDC-IDRI-0160\n"
     ]
    },
    {
     "name": "stderr",
     "output_type": "stream",
     "text": [
      "100%|██████████| 15/15 [00:00<00:00, 23.61it/s]\n"
     ]
    },
    {
     "name": "stdout",
     "output_type": "stream",
     "text": [
      "/home/mengdi/yuxiang.ye/DN_AI_frame/dataset/lidc/npz_seg_new/LIDC-IDRI-0161.npz\n",
      "LIDC-IDRI-0161\n"
     ]
    },
    {
     "name": "stderr",
     "output_type": "stream",
     "text": [
      "100%|██████████| 10/10 [00:00<00:00, 19.57it/s]\n"
     ]
    },
    {
     "name": "stdout",
     "output_type": "stream",
     "text": [
      "/home/mengdi/yuxiang.ye/DN_AI_frame/dataset/lidc/npz_seg_new/LIDC-IDRI-0162.npz\n",
      "LIDC-IDRI-0162\n"
     ]
    },
    {
     "name": "stderr",
     "output_type": "stream",
     "text": [
      "100%|██████████| 5/5 [00:00<00:00, 31.08it/s]\n"
     ]
    },
    {
     "name": "stdout",
     "output_type": "stream",
     "text": [
      "/home/mengdi/yuxiang.ye/DN_AI_frame/dataset/lidc/npz_seg_new/LIDC-IDRI-0163.npz\n",
      "LIDC-IDRI-0163\n"
     ]
    },
    {
     "name": "stderr",
     "output_type": "stream",
     "text": [
      "100%|██████████| 4/4 [00:00<00:00,  9.49it/s]\n"
     ]
    },
    {
     "name": "stdout",
     "output_type": "stream",
     "text": [
      "/home/mengdi/yuxiang.ye/DN_AI_frame/dataset/lidc/npz_seg_new/LIDC-IDRI-0164.npz\n",
      "LIDC-IDRI-0164\n"
     ]
    },
    {
     "name": "stderr",
     "output_type": "stream",
     "text": [
      "100%|██████████| 36/36 [00:02<00:00, 15.53it/s]\n"
     ]
    },
    {
     "name": "stdout",
     "output_type": "stream",
     "text": [
      "/home/mengdi/yuxiang.ye/DN_AI_frame/dataset/lidc/npz_seg_new/LIDC-IDRI-0165.npz\n",
      "LIDC-IDRI-0165\n"
     ]
    },
    {
     "name": "stderr",
     "output_type": "stream",
     "text": [
      "100%|██████████| 1/1 [00:00<00:00, 46.99it/s]\n"
     ]
    },
    {
     "name": "stdout",
     "output_type": "stream",
     "text": [
      "/home/mengdi/yuxiang.ye/DN_AI_frame/dataset/lidc/npz_seg_new/LIDC-IDRI-0166.npz\n",
      "LIDC-IDRI-0166\n"
     ]
    },
    {
     "name": "stderr",
     "output_type": "stream",
     "text": [
      "100%|██████████| 2/2 [00:00<00:00,  6.14it/s]\n"
     ]
    },
    {
     "name": "stdout",
     "output_type": "stream",
     "text": [
      "/home/mengdi/yuxiang.ye/DN_AI_frame/dataset/lidc/npz_seg_new/LIDC-IDRI-0167.npz\n",
      "LIDC-IDRI-0167\n"
     ]
    },
    {
     "name": "stderr",
     "output_type": "stream",
     "text": [
      "100%|██████████| 6/6 [00:00<00:00, 41.55it/s]\n"
     ]
    },
    {
     "name": "stdout",
     "output_type": "stream",
     "text": [
      "/home/mengdi/yuxiang.ye/DN_AI_frame/dataset/lidc/npz_seg_new/LIDC-IDRI-0168.npz\n",
      "LIDC-IDRI-0168\n"
     ]
    }
   ],
   "source": [
    "for arg in lidc_files:\n",
    "    task(arg)"
   ]
  },
  {
   "cell_type": "code",
   "execution_count": 10,
   "metadata": {
    "collapsed": true
   },
   "outputs": [],
   "source": [
    "from concurrent.futures import as_completed, ProcessPoolExecutor"
   ]
  },
  {
   "cell_type": "code",
   "execution_count": 11,
   "metadata": {
    "scrolled": false
   },
   "outputs": [
    {
     "name": "stdout",
     "output_type": "stream",
     "text": [
      "/home/mengdi/yuxiang.ye/DN_AI_frame/dataset/lidc/npz_seg/LIDC-IDRI-0002.npz\n",
      "/home/mengdi/yuxiang.ye/DN_AI_frame/dataset/lidc/npz_seg/LIDC-IDRI-0013.npz\n",
      "/home/mengdi/yuxiang.ye/DN_AI_frame/dataset/lidc/npz_seg/LIDC-IDRI-0003.npz\n",
      "/home/mengdi/yuxiang.ye/DN_AI_frame/dataset/lidc/npz_seg/LIDC-IDRI-0004.npz\n"
     ]
    },
    {
     "name": "stderr",
     "output_type": "stream",
     "text": [
      "\r",
      "  0%|          | 0/1010 [00:00<?, ?it/s]"
     ]
    },
    {
     "name": "stdout",
     "output_type": "stream",
     "text": [
      "/home/mengdi/yuxiang.ye/DN_AI_frame/dataset/lidc/npz_seg/LIDC-IDRI-0001.npz\n",
      "/home/mengdi/yuxiang.ye/DN_AI_frame/dataset/lidc/npz_seg/LIDC-IDRI-0005.npz\n",
      "/home/mengdi/yuxiang.ye/DN_AI_frame/dataset/lidc/npz_seg/LIDC-IDRI-0006.npz\n",
      "/home/mengdi/yuxiang.ye/DN_AI_frame/dataset/lidc/npz_seg/LIDC-IDRI-0007.npz\n",
      "/home/mengdi/yuxiang.ye/DN_AI_frame/dataset/lidc/npz_seg/LIDC-IDRI-0008.npz\n",
      "/home/mengdi/yuxiang.ye/DN_AI_frame/dataset/lidc/npz_seg/LIDC-IDRI-0009.npz\n",
      "/home/mengdi/yuxiang.ye/DN_AI_frame/dataset/lidc/npz_seg/LIDC-IDRI-0010.npz\n",
      "/home/mengdi/yuxiang.ye/DN_AI_frame/dataset/lidc/npz_seg/LIDC-IDRI-0011.npz\n",
      "/home/mengdi/yuxiang.ye/DN_AI_frame/dataset/lidc/npz_seg/LIDC-IDRI-0012.npz\n",
      "/home/mengdi/yuxiang.ye/DN_AI_frame/dataset/lidc/npz_seg/LIDC-IDRI-0014.npz\n",
      "/home/mengdi/yuxiang.ye/DN_AI_frame/dataset/lidc/npz_seg/LIDC-IDRI-0015.npz\n",
      "/home/mengdi/yuxiang.ye/DN_AI_frame/dataset/lidc/npz_seg/LIDC-IDRI-0016.npz\n",
      "/home/mengdi/yuxiang.ye/DN_AI_frame/dataset/lidc/npz_seg/LIDC-IDRI-0017.npz\n",
      "/home/mengdi/yuxiang.ye/DN_AI_frame/dataset/lidc/npz_seg/LIDC-IDRI-0018.npz\n",
      "/home/mengdi/yuxiang.ye/DN_AI_frame/dataset/lidc/npz_seg/LIDC-IDRI-0020.npz\n",
      "/home/mengdi/yuxiang.ye/DN_AI_frame/dataset/lidc/npz_seg/LIDC-IDRI-0019.npz\n",
      "/home/mengdi/yuxiang.ye/DN_AI_frame/dataset/lidc/npz_seg/LIDC-IDRI-0022.npz\n",
      "/home/mengdi/yuxiang.ye/DN_AI_frame/dataset/lidc/npz_seg/LIDC-IDRI-0021.npz\n",
      "/home/mengdi/yuxiang.ye/DN_AI_frame/dataset/lidc/npz_seg/LIDC-IDRI-0023.npz\n",
      "/home/mengdi/yuxiang.ye/DN_AI_frame/dataset/lidc/npz_seg/LIDC-IDRI-0024.npz\n",
      "/home/mengdi/yuxiang.ye/DN_AI_frame/dataset/lidc/npz_seg/LIDC-IDRI-0026.npz\n",
      "/home/mengdi/yuxiang.ye/DN_AI_frame/dataset/lidc/npz_seg/LIDC-IDRI-0025.npz\n",
      "/home/mengdi/yuxiang.ye/DN_AI_frame/dataset/lidc/npz_seg/LIDC-IDRI-0028.npz\n",
      "/home/mengdi/yuxiang.ye/DN_AI_frame/dataset/lidc/npz_seg/LIDC-IDRI-0027.npz\n",
      "/home/mengdi/yuxiang.ye/DN_AI_frame/dataset/lidc/npz_seg/LIDC-IDRI-0029.npz\n",
      "/home/mengdi/yuxiang.ye/DN_AI_frame/dataset/lidc/npz_seg/LIDC-IDRI-0030.npz\n",
      "/home/mengdi/yuxiang.ye/DN_AI_frame/dataset/lidc/npz_seg/LIDC-IDRI-0031.npz\n",
      "/home/mengdi/yuxiang.ye/DN_AI_frame/dataset/lidc/npz_seg/LIDC-IDRI-0032.npz\n",
      "/home/mengdi/yuxiang.ye/DN_AI_frame/dataset/lidc/npz_seg/LIDC-IDRI-0033.npz\n",
      "/home/mengdi/yuxiang.ye/DN_AI_frame/dataset/lidc/npz_seg/LIDC-IDRI-0034.npz\n",
      "/home/mengdi/yuxiang.ye/DN_AI_frame/dataset/lidc/npz_seg/LIDC-IDRI-0035.npz\n",
      "/home/mengdi/yuxiang.ye/DN_AI_frame/dataset/lidc/npz_seg/LIDC-IDRI-0037.npz\n",
      "/home/mengdi/yuxiang.ye/DN_AI_frame/dataset/lidc/npz_seg/LIDC-IDRI-0036.npz\n",
      "/home/mengdi/yuxiang.ye/DN_AI_frame/dataset/lidc/npz_seg/LIDC-IDRI-0038.npz\n",
      "/home/mengdi/yuxiang.ye/DN_AI_frame/dataset/lidc/npz_seg/LIDC-IDRI-0039.npz\n",
      "/home/mengdi/yuxiang.ye/DN_AI_frame/dataset/lidc/npz_seg/LIDC-IDRI-0040.npz\n",
      "/home/mengdi/yuxiang.ye/DN_AI_frame/dataset/lidc/npz_seg/LIDC-IDRI-0041.npz\n",
      "/home/mengdi/yuxiang.ye/DN_AI_frame/dataset/lidc/npz_seg/LIDC-IDRI-0043.npz\n",
      "/home/mengdi/yuxiang.ye/DN_AI_frame/dataset/lidc/npz_seg/LIDC-IDRI-0042.npz\n",
      "/home/mengdi/yuxiang.ye/DN_AI_frame/dataset/lidc/npz_seg/LIDC-IDRI-0045.npz\n",
      "/home/mengdi/yuxiang.ye/DN_AI_frame/dataset/lidc/npz_seg/LIDC-IDRI-0044.npz\n",
      "/home/mengdi/yuxiang.ye/DN_AI_frame/dataset/lidc/npz_seg/LIDC-IDRI-0046.npz\n",
      "/home/mengdi/yuxiang.ye/DN_AI_frame/dataset/lidc/npz_seg/LIDC-IDRI-0048.npz\n",
      "/home/mengdi/yuxiang.ye/DN_AI_frame/dataset/lidc/npz_seg/LIDC-IDRI-0047.npz\n",
      "/home/mengdi/yuxiang.ye/DN_AI_frame/dataset/lidc/npz_seg/LIDC-IDRI-0049.npz\n",
      "/home/mengdi/yuxiang.ye/DN_AI_frame/dataset/lidc/npz_seg/LIDC-IDRI-0050.npz\n",
      "/home/mengdi/yuxiang.ye/DN_AI_frame/dataset/lidc/npz_seg/LIDC-IDRI-0051.npz\n",
      "/home/mengdi/yuxiang.ye/DN_AI_frame/dataset/lidc/npz_seg/LIDC-IDRI-0053.npz\n",
      "/home/mengdi/yuxiang.ye/DN_AI_frame/dataset/lidc/npz_seg/LIDC-IDRI-0052.npz\n",
      "/home/mengdi/yuxiang.ye/DN_AI_frame/dataset/lidc/npz_seg/LIDC-IDRI-0054.npz\n",
      "/home/mengdi/yuxiang.ye/DN_AI_frame/dataset/lidc/npz_seg/LIDC-IDRI-0055.npz\n",
      "/home/mengdi/yuxiang.ye/DN_AI_frame/dataset/lidc/npz_seg/LIDC-IDRI-0056.npz\n",
      "/home/mengdi/yuxiang.ye/DN_AI_frame/dataset/lidc/npz_seg/LIDC-IDRI-0057.npz\n",
      "/home/mengdi/yuxiang.ye/DN_AI_frame/dataset/lidc/npz_seg/LIDC-IDRI-0058.npz\n",
      "/home/mengdi/yuxiang.ye/DN_AI_frame/dataset/lidc/npz_seg/LIDC-IDRI-0059.npz\n",
      "/home/mengdi/yuxiang.ye/DN_AI_frame/dataset/lidc/npz_seg/LIDC-IDRI-0061.npz\n",
      "/home/mengdi/yuxiang.ye/DN_AI_frame/dataset/lidc/npz_seg/LIDC-IDRI-0060.npz\n",
      "/home/mengdi/yuxiang.ye/DN_AI_frame/dataset/lidc/npz_seg/LIDC-IDRI-0062.npz\n",
      "/home/mengdi/yuxiang.ye/DN_AI_frame/dataset/lidc/npz_seg/LIDC-IDRI-0063.npz\n",
      "/home/mengdi/yuxiang.ye/DN_AI_frame/dataset/lidc/npz_seg/LIDC-IDRI-0064.npz\n",
      "/home/mengdi/yuxiang.ye/DN_AI_frame/dataset/lidc/npz_seg/LIDC-IDRI-0065.npz\n",
      "/home/mengdi/yuxiang.ye/DN_AI_frame/dataset/lidc/npz_seg/LIDC-IDRI-0066.npz\n",
      "/home/mengdi/yuxiang.ye/DN_AI_frame/dataset/lidc/npz_seg/LIDC-IDRI-0067.npz\n",
      "/home/mengdi/yuxiang.ye/DN_AI_frame/dataset/lidc/npz_seg/LIDC-IDRI-0068.npz\n",
      "/home/mengdi/yuxiang.ye/DN_AI_frame/dataset/lidc/npz_seg/LIDC-IDRI-0069.npz\n",
      "/home/mengdi/yuxiang.ye/DN_AI_frame/dataset/lidc/npz_seg/LIDC-IDRI-0070.npz\n",
      "/home/mengdi/yuxiang.ye/DN_AI_frame/dataset/lidc/npz_seg/LIDC-IDRI-0071.npz\n",
      "/home/mengdi/yuxiang.ye/DN_AI_frame/dataset/lidc/npz_seg/LIDC-IDRI-0072.npz\n",
      "/home/mengdi/yuxiang.ye/DN_AI_frame/dataset/lidc/npz_seg/LIDC-IDRI-0073.npz\n",
      "/home/mengdi/yuxiang.ye/DN_AI_frame/dataset/lidc/npz_seg/LIDC-IDRI-0075.npz\n",
      "/home/mengdi/yuxiang.ye/DN_AI_frame/dataset/lidc/npz_seg/LIDC-IDRI-0074.npz\n",
      "/home/mengdi/yuxiang.ye/DN_AI_frame/dataset/lidc/npz_seg/LIDC-IDRI-0076.npz\n",
      "/home/mengdi/yuxiang.ye/DN_AI_frame/dataset/lidc/npz_seg/LIDC-IDRI-0078.npz\n",
      "/home/mengdi/yuxiang.ye/DN_AI_frame/dataset/lidc/npz_seg/LIDC-IDRI-0077.npz\n",
      "/home/mengdi/yuxiang.ye/DN_AI_frame/dataset/lidc/npz_seg/LIDC-IDRI-0080.npz\n",
      "/home/mengdi/yuxiang.ye/DN_AI_frame/dataset/lidc/npz_seg/LIDC-IDRI-0079.npz\n",
      "/home/mengdi/yuxiang.ye/DN_AI_frame/dataset/lidc/npz_seg/LIDC-IDRI-0082.npz\n",
      "/home/mengdi/yuxiang.ye/DN_AI_frame/dataset/lidc/npz_seg/LIDC-IDRI-0081.npz\n",
      "/home/mengdi/yuxiang.ye/DN_AI_frame/dataset/lidc/npz_seg/LIDC-IDRI-0083.npz\n",
      "/home/mengdi/yuxiang.ye/DN_AI_frame/dataset/lidc/npz_seg/LIDC-IDRI-0084.npz\n",
      "/home/mengdi/yuxiang.ye/DN_AI_frame/dataset/lidc/npz_seg/LIDC-IDRI-0085.npz\n",
      "/home/mengdi/yuxiang.ye/DN_AI_frame/dataset/lidc/npz_seg/LIDC-IDRI-0086.npz\n",
      "/home/mengdi/yuxiang.ye/DN_AI_frame/dataset/lidc/npz_seg/LIDC-IDRI-0088.npz\n",
      "/home/mengdi/yuxiang.ye/DN_AI_frame/dataset/lidc/npz_seg/LIDC-IDRI-0087.npz\n",
      "/home/mengdi/yuxiang.ye/DN_AI_frame/dataset/lidc/npz_seg/LIDC-IDRI-0089.npz\n",
      "/home/mengdi/yuxiang.ye/DN_AI_frame/dataset/lidc/npz_seg/LIDC-IDRI-0090.npz\n",
      "/home/mengdi/yuxiang.ye/DN_AI_frame/dataset/lidc/npz_seg/LIDC-IDRI-0091.npz\n",
      "/home/mengdi/yuxiang.ye/DN_AI_frame/dataset/lidc/npz_seg/LIDC-IDRI-0092.npz\n",
      "/home/mengdi/yuxiang.ye/DN_AI_frame/dataset/lidc/npz_seg/LIDC-IDRI-0093.npz\n",
      "/home/mengdi/yuxiang.ye/DN_AI_frame/dataset/lidc/npz_seg/LIDC-IDRI-0094.npz\n",
      "/home/mengdi/yuxiang.ye/DN_AI_frame/dataset/lidc/npz_seg/LIDC-IDRI-0095.npz\n",
      "/home/mengdi/yuxiang.ye/DN_AI_frame/dataset/lidc/npz_seg/LIDC-IDRI-0096.npz\n",
      "/home/mengdi/yuxiang.ye/DN_AI_frame/dataset/lidc/npz_seg/LIDC-IDRI-0097.npz\n",
      "/home/mengdi/yuxiang.ye/DN_AI_frame/dataset/lidc/npz_seg/LIDC-IDRI-0098.npz\n",
      "/home/mengdi/yuxiang.ye/DN_AI_frame/dataset/lidc/npz_seg/LIDC-IDRI-0099.npz\n",
      "/home/mengdi/yuxiang.ye/DN_AI_frame/dataset/lidc/npz_seg/LIDC-IDRI-0100.npz\n",
      "/home/mengdi/yuxiang.ye/DN_AI_frame/dataset/lidc/npz_seg/LIDC-IDRI-0101.npz\n",
      "/home/mengdi/yuxiang.ye/DN_AI_frame/dataset/lidc/npz_seg/LIDC-IDRI-0102.npz\n",
      "/home/mengdi/yuxiang.ye/DN_AI_frame/dataset/lidc/npz_seg/LIDC-IDRI-0103.npz\n",
      "/home/mengdi/yuxiang.ye/DN_AI_frame/dataset/lidc/npz_seg/LIDC-IDRI-0104.npz\n",
      "/home/mengdi/yuxiang.ye/DN_AI_frame/dataset/lidc/npz_seg/LIDC-IDRI-0105.npz\n",
      "/home/mengdi/yuxiang.ye/DN_AI_frame/dataset/lidc/npz_seg/LIDC-IDRI-0106.npz\n",
      "/home/mengdi/yuxiang.ye/DN_AI_frame/dataset/lidc/npz_seg/LIDC-IDRI-0107.npz\n",
      "/home/mengdi/yuxiang.ye/DN_AI_frame/dataset/lidc/npz_seg/LIDC-IDRI-0108.npz\n",
      "/home/mengdi/yuxiang.ye/DN_AI_frame/dataset/lidc/npz_seg/LIDC-IDRI-0109.npz\n",
      "/home/mengdi/yuxiang.ye/DN_AI_frame/dataset/lidc/npz_seg/LIDC-IDRI-0110.npz\n",
      "/home/mengdi/yuxiang.ye/DN_AI_frame/dataset/lidc/npz_seg/LIDC-IDRI-0111.npz\n",
      "/home/mengdi/yuxiang.ye/DN_AI_frame/dataset/lidc/npz_seg/LIDC-IDRI-0112.npz\n"
     ]
    },
    {
     "name": "stdout",
     "output_type": "stream",
     "text": [
      "/home/mengdi/yuxiang.ye/DN_AI_frame/dataset/lidc/npz_seg/LIDC-IDRI-0113.npz\n",
      "/home/mengdi/yuxiang.ye/DN_AI_frame/dataset/lidc/npz_seg/LIDC-IDRI-0114.npz\n",
      "/home/mengdi/yuxiang.ye/DN_AI_frame/dataset/lidc/npz_seg/LIDC-IDRI-0115.npz\n",
      "/home/mengdi/yuxiang.ye/DN_AI_frame/dataset/lidc/npz_seg/LIDC-IDRI-0116.npz\n",
      "/home/mengdi/yuxiang.ye/DN_AI_frame/dataset/lidc/npz_seg/LIDC-IDRI-0117.npz\n",
      "/home/mengdi/yuxiang.ye/DN_AI_frame/dataset/lidc/npz_seg/LIDC-IDRI-0118.npz\n",
      "/home/mengdi/yuxiang.ye/DN_AI_frame/dataset/lidc/npz_seg/LIDC-IDRI-0119.npz\n",
      "/home/mengdi/yuxiang.ye/DN_AI_frame/dataset/lidc/npz_seg/LIDC-IDRI-0120.npz\n",
      "/home/mengdi/yuxiang.ye/DN_AI_frame/dataset/lidc/npz_seg/LIDC-IDRI-0121.npz\n",
      "/home/mengdi/yuxiang.ye/DN_AI_frame/dataset/lidc/npz_seg/LIDC-IDRI-0122.npz\n",
      "/home/mengdi/yuxiang.ye/DN_AI_frame/dataset/lidc/npz_seg/LIDC-IDRI-0123.npz\n",
      "/home/mengdi/yuxiang.ye/DN_AI_frame/dataset/lidc/npz_seg/LIDC-IDRI-0124.npz\n",
      "/home/mengdi/yuxiang.ye/DN_AI_frame/dataset/lidc/npz_seg/LIDC-IDRI-0125.npz\n",
      "/home/mengdi/yuxiang.ye/DN_AI_frame/dataset/lidc/npz_seg/LIDC-IDRI-0126.npz\n",
      "/home/mengdi/yuxiang.ye/DN_AI_frame/dataset/lidc/npz_seg/LIDC-IDRI-0127.npz\n",
      "/home/mengdi/yuxiang.ye/DN_AI_frame/dataset/lidc/npz_seg/LIDC-IDRI-0129.npz\n",
      "/home/mengdi/yuxiang.ye/DN_AI_frame/dataset/lidc/npz_seg/LIDC-IDRI-0128.npz\n",
      "/home/mengdi/yuxiang.ye/DN_AI_frame/dataset/lidc/npz_seg/LIDC-IDRI-0131.npz\n",
      "/home/mengdi/yuxiang.ye/DN_AI_frame/dataset/lidc/npz_seg/LIDC-IDRI-0130.npz\n",
      "/home/mengdi/yuxiang.ye/DN_AI_frame/dataset/lidc/npz_seg/LIDC-IDRI-0132.npz\n",
      "/home/mengdi/yuxiang.ye/DN_AI_frame/dataset/lidc/npz_seg/LIDC-IDRI-0133.npz\n",
      "/home/mengdi/yuxiang.ye/DN_AI_frame/dataset/lidc/npz_seg/LIDC-IDRI-0134.npz\n",
      "/home/mengdi/yuxiang.ye/DN_AI_frame/dataset/lidc/npz_seg/LIDC-IDRI-0135.npz\n",
      "/home/mengdi/yuxiang.ye/DN_AI_frame/dataset/lidc/npz_seg/LIDC-IDRI-0136.npz\n",
      "/home/mengdi/yuxiang.ye/DN_AI_frame/dataset/lidc/npz_seg/LIDC-IDRI-0137.npz\n",
      "/home/mengdi/yuxiang.ye/DN_AI_frame/dataset/lidc/npz_seg/LIDC-IDRI-0138.npz\n",
      "/home/mengdi/yuxiang.ye/DN_AI_frame/dataset/lidc/npz_seg/LIDC-IDRI-0139.npz\n",
      "/home/mengdi/yuxiang.ye/DN_AI_frame/dataset/lidc/npz_seg/LIDC-IDRI-0140.npz\n",
      "/home/mengdi/yuxiang.ye/DN_AI_frame/dataset/lidc/npz_seg/LIDC-IDRI-0141.npz\n",
      "/home/mengdi/yuxiang.ye/DN_AI_frame/dataset/lidc/npz_seg/LIDC-IDRI-0142.npz\n",
      "/home/mengdi/yuxiang.ye/DN_AI_frame/dataset/lidc/npz_seg/LIDC-IDRI-0143.npz\n",
      "/home/mengdi/yuxiang.ye/DN_AI_frame/dataset/lidc/npz_seg/LIDC-IDRI-0144.npz\n",
      "/home/mengdi/yuxiang.ye/DN_AI_frame/dataset/lidc/npz_seg/LIDC-IDRI-0145.npz\n",
      "/home/mengdi/yuxiang.ye/DN_AI_frame/dataset/lidc/npz_seg/LIDC-IDRI-0146.npz\n",
      "/home/mengdi/yuxiang.ye/DN_AI_frame/dataset/lidc/npz_seg/LIDC-IDRI-0147.npz\n",
      "/home/mengdi/yuxiang.ye/DN_AI_frame/dataset/lidc/npz_seg/LIDC-IDRI-0148.npz\n",
      "/home/mengdi/yuxiang.ye/DN_AI_frame/dataset/lidc/npz_seg/LIDC-IDRI-0149.npz\n",
      "/home/mengdi/yuxiang.ye/DN_AI_frame/dataset/lidc/npz_seg/LIDC-IDRI-0150.npz\n",
      "/home/mengdi/yuxiang.ye/DN_AI_frame/dataset/lidc/npz_seg/LIDC-IDRI-0151.npz\n",
      "/home/mengdi/yuxiang.ye/DN_AI_frame/dataset/lidc/npz_seg/LIDC-IDRI-0152.npz\n",
      "/home/mengdi/yuxiang.ye/DN_AI_frame/dataset/lidc/npz_seg/LIDC-IDRI-0153.npz\n",
      "/home/mengdi/yuxiang.ye/DN_AI_frame/dataset/lidc/npz_seg/LIDC-IDRI-0154.npz\n",
      "/home/mengdi/yuxiang.ye/DN_AI_frame/dataset/lidc/npz_seg/LIDC-IDRI-0155.npz\n",
      "/home/mengdi/yuxiang.ye/DN_AI_frame/dataset/lidc/npz_seg/LIDC-IDRI-0156.npz\n",
      "/home/mengdi/yuxiang.ye/DN_AI_frame/dataset/lidc/npz_seg/LIDC-IDRI-0157.npz\n",
      "/home/mengdi/yuxiang.ye/DN_AI_frame/dataset/lidc/npz_seg/LIDC-IDRI-0158.npz\n",
      "/home/mengdi/yuxiang.ye/DN_AI_frame/dataset/lidc/npz_seg/LIDC-IDRI-0160.npz\n",
      "/home/mengdi/yuxiang.ye/DN_AI_frame/dataset/lidc/npz_seg/LIDC-IDRI-0159.npz\n",
      "/home/mengdi/yuxiang.ye/DN_AI_frame/dataset/lidc/npz_seg/LIDC-IDRI-0161.npz\n",
      "/home/mengdi/yuxiang.ye/DN_AI_frame/dataset/lidc/npz_seg/LIDC-IDRI-0162.npz\n",
      "/home/mengdi/yuxiang.ye/DN_AI_frame/dataset/lidc/npz_seg/LIDC-IDRI-0163.npz\n",
      "/home/mengdi/yuxiang.ye/DN_AI_frame/dataset/lidc/npz_seg/LIDC-IDRI-0164.npz\n",
      "/home/mengdi/yuxiang.ye/DN_AI_frame/dataset/lidc/npz_seg/LIDC-IDRI-0165.npz\n",
      "/home/mengdi/yuxiang.ye/DN_AI_frame/dataset/lidc/npz_seg/LIDC-IDRI-0166.npz\n",
      "/home/mengdi/yuxiang.ye/DN_AI_frame/dataset/lidc/npz_seg/LIDC-IDRI-0167.npz\n",
      "/home/mengdi/yuxiang.ye/DN_AI_frame/dataset/lidc/npz_seg/LIDC-IDRI-0168.npz\n",
      "/home/mengdi/yuxiang.ye/DN_AI_frame/dataset/lidc/npz_seg/LIDC-IDRI-0169.npz\n",
      "/home/mengdi/yuxiang.ye/DN_AI_frame/dataset/lidc/npz_seg/LIDC-IDRI-0170.npz\n",
      "/home/mengdi/yuxiang.ye/DN_AI_frame/dataset/lidc/npz_seg/LIDC-IDRI-0171.npz\n",
      "/home/mengdi/yuxiang.ye/DN_AI_frame/dataset/lidc/npz_seg/LIDC-IDRI-0172.npz\n",
      "/home/mengdi/yuxiang.ye/DN_AI_frame/dataset/lidc/npz_seg/LIDC-IDRI-0173.npz\n",
      "/home/mengdi/yuxiang.ye/DN_AI_frame/dataset/lidc/npz_seg/LIDC-IDRI-0174.npz\n",
      "/home/mengdi/yuxiang.ye/DN_AI_frame/dataset/lidc/npz_seg/LIDC-IDRI-0175.npz\n",
      "/home/mengdi/yuxiang.ye/DN_AI_frame/dataset/lidc/npz_seg/LIDC-IDRI-0176.npz\n",
      "/home/mengdi/yuxiang.ye/DN_AI_frame/dataset/lidc/npz_seg/LIDC-IDRI-0177.npz\n",
      "/home/mengdi/yuxiang.ye/DN_AI_frame/dataset/lidc/npz_seg/LIDC-IDRI-0178.npz\n",
      "/home/mengdi/yuxiang.ye/DN_AI_frame/dataset/lidc/npz_seg/LIDC-IDRI-0179.npz\n",
      "/home/mengdi/yuxiang.ye/DN_AI_frame/dataset/lidc/npz_seg/LIDC-IDRI-0180.npz\n",
      "/home/mengdi/yuxiang.ye/DN_AI_frame/dataset/lidc/npz_seg/LIDC-IDRI-0181.npz\n",
      "/home/mengdi/yuxiang.ye/DN_AI_frame/dataset/lidc/npz_seg/LIDC-IDRI-0182.npz\n",
      "/home/mengdi/yuxiang.ye/DN_AI_frame/dataset/lidc/npz_seg/LIDC-IDRI-0183.npz\n",
      "/home/mengdi/yuxiang.ye/DN_AI_frame/dataset/lidc/npz_seg/LIDC-IDRI-0184.npz\n",
      "/home/mengdi/yuxiang.ye/DN_AI_frame/dataset/lidc/npz_seg/LIDC-IDRI-0185.npz\n",
      "/home/mengdi/yuxiang.ye/DN_AI_frame/dataset/lidc/npz_seg/LIDC-IDRI-0186.npz\n",
      "/home/mengdi/yuxiang.ye/DN_AI_frame/dataset/lidc/npz_seg/LIDC-IDRI-0187.npz\n",
      "/home/mengdi/yuxiang.ye/DN_AI_frame/dataset/lidc/npz_seg/LIDC-IDRI-0188.npz\n",
      "/home/mengdi/yuxiang.ye/DN_AI_frame/dataset/lidc/npz_seg/LIDC-IDRI-0189.npz\n",
      "/home/mengdi/yuxiang.ye/DN_AI_frame/dataset/lidc/npz_seg/LIDC-IDRI-0190.npz\n",
      "/home/mengdi/yuxiang.ye/DN_AI_frame/dataset/lidc/npz_seg/LIDC-IDRI-0191.npz\n",
      "/home/mengdi/yuxiang.ye/DN_AI_frame/dataset/lidc/npz_seg/LIDC-IDRI-0192.npz\n",
      "/home/mengdi/yuxiang.ye/DN_AI_frame/dataset/lidc/npz_seg/LIDC-IDRI-0193.npz\n",
      "/home/mengdi/yuxiang.ye/DN_AI_frame/dataset/lidc/npz_seg/LIDC-IDRI-0194.npz\n",
      "/home/mengdi/yuxiang.ye/DN_AI_frame/dataset/lidc/npz_seg/LIDC-IDRI-0195.npz\n",
      "/home/mengdi/yuxiang.ye/DN_AI_frame/dataset/lidc/npz_seg/LIDC-IDRI-0196.npz\n",
      "/home/mengdi/yuxiang.ye/DN_AI_frame/dataset/lidc/npz_seg/LIDC-IDRI-0197.npz\n",
      "/home/mengdi/yuxiang.ye/DN_AI_frame/dataset/lidc/npz_seg/LIDC-IDRI-0198.npz\n",
      "/home/mengdi/yuxiang.ye/DN_AI_frame/dataset/lidc/npz_seg/LIDC-IDRI-0199.npz\n",
      "/home/mengdi/yuxiang.ye/DN_AI_frame/dataset/lidc/npz_seg/LIDC-IDRI-0200.npz\n",
      "/home/mengdi/yuxiang.ye/DN_AI_frame/dataset/lidc/npz_seg/LIDC-IDRI-0201.npz\n",
      "/home/mengdi/yuxiang.ye/DN_AI_frame/dataset/lidc/npz_seg/LIDC-IDRI-0202.npz\n",
      "/home/mengdi/yuxiang.ye/DN_AI_frame/dataset/lidc/npz_seg/LIDC-IDRI-0204.npz\n",
      "/home/mengdi/yuxiang.ye/DN_AI_frame/dataset/lidc/npz_seg/LIDC-IDRI-0203.npz\n",
      "/home/mengdi/yuxiang.ye/DN_AI_frame/dataset/lidc/npz_seg/LIDC-IDRI-0205.npz\n",
      "/home/mengdi/yuxiang.ye/DN_AI_frame/dataset/lidc/npz_seg/LIDC-IDRI-0206.npz\n",
      "/home/mengdi/yuxiang.ye/DN_AI_frame/dataset/lidc/npz_seg/LIDC-IDRI-0207.npz\n",
      "/home/mengdi/yuxiang.ye/DN_AI_frame/dataset/lidc/npz_seg/LIDC-IDRI-0209.npz\n",
      "/home/mengdi/yuxiang.ye/DN_AI_frame/dataset/lidc/npz_seg/LIDC-IDRI-0208.npz\n",
      "/home/mengdi/yuxiang.ye/DN_AI_frame/dataset/lidc/npz_seg/LIDC-IDRI-0211.npz\n",
      "/home/mengdi/yuxiang.ye/DN_AI_frame/dataset/lidc/npz_seg/LIDC-IDRI-0210.npz\n",
      "/home/mengdi/yuxiang.ye/DN_AI_frame/dataset/lidc/npz_seg/LIDC-IDRI-0212.npz\n",
      "/home/mengdi/yuxiang.ye/DN_AI_frame/dataset/lidc/npz_seg/LIDC-IDRI-0213.npz\n",
      "/home/mengdi/yuxiang.ye/DN_AI_frame/dataset/lidc/npz_seg/LIDC-IDRI-0215.npz\n",
      "/home/mengdi/yuxiang.ye/DN_AI_frame/dataset/lidc/npz_seg/LIDC-IDRI-0214.npz\n",
      "/home/mengdi/yuxiang.ye/DN_AI_frame/dataset/lidc/npz_seg/LIDC-IDRI-0216.npz\n"
     ]
    },
    {
     "name": "stderr",
     "output_type": "stream",
     "text": [
      "\r",
      " 26%|██▌       | 258/1010 [00:00<00:00, 2573.46it/s]"
     ]
    },
    {
     "name": "stdout",
     "output_type": "stream",
     "text": [
      "/home/mengdi/yuxiang.ye/DN_AI_frame/dataset/lidc/npz_seg/LIDC-IDRI-0217.npz\n",
      "/home/mengdi/yuxiang.ye/DN_AI_frame/dataset/lidc/npz_seg/LIDC-IDRI-0218.npz\n",
      "/home/mengdi/yuxiang.ye/DN_AI_frame/dataset/lidc/npz_seg/LIDC-IDRI-0219.npz\n",
      "/home/mengdi/yuxiang.ye/DN_AI_frame/dataset/lidc/npz_seg/LIDC-IDRI-0220.npz\n",
      "/home/mengdi/yuxiang.ye/DN_AI_frame/dataset/lidc/npz_seg/LIDC-IDRI-0221.npz\n",
      "/home/mengdi/yuxiang.ye/DN_AI_frame/dataset/lidc/npz_seg/LIDC-IDRI-0222.npz\n",
      "/home/mengdi/yuxiang.ye/DN_AI_frame/dataset/lidc/npz_seg/LIDC-IDRI-0223.npz\n",
      "/home/mengdi/yuxiang.ye/DN_AI_frame/dataset/lidc/npz_seg/LIDC-IDRI-0224.npz\n",
      "/home/mengdi/yuxiang.ye/DN_AI_frame/dataset/lidc/npz_seg/LIDC-IDRI-0225.npz\n",
      "/home/mengdi/yuxiang.ye/DN_AI_frame/dataset/lidc/npz_seg/LIDC-IDRI-0226.npz\n",
      "/home/mengdi/yuxiang.ye/DN_AI_frame/dataset/lidc/npz_seg/LIDC-IDRI-0227.npz\n",
      "/home/mengdi/yuxiang.ye/DN_AI_frame/dataset/lidc/npz_seg/LIDC-IDRI-0228.npz\n",
      "/home/mengdi/yuxiang.ye/DN_AI_frame/dataset/lidc/npz_seg/LIDC-IDRI-0229.npz\n",
      "/home/mengdi/yuxiang.ye/DN_AI_frame/dataset/lidc/npz_seg/LIDC-IDRI-0230.npz\n",
      "/home/mengdi/yuxiang.ye/DN_AI_frame/dataset/lidc/npz_seg/LIDC-IDRI-0231.npz\n",
      "/home/mengdi/yuxiang.ye/DN_AI_frame/dataset/lidc/npz_seg/LIDC-IDRI-0232.npz\n",
      "/home/mengdi/yuxiang.ye/DN_AI_frame/dataset/lidc/npz_seg/LIDC-IDRI-0233.npz\n",
      "/home/mengdi/yuxiang.ye/DN_AI_frame/dataset/lidc/npz_seg/LIDC-IDRI-0234.npz\n",
      "/home/mengdi/yuxiang.ye/DN_AI_frame/dataset/lidc/npz_seg/LIDC-IDRI-0235.npz\n",
      "/home/mengdi/yuxiang.ye/DN_AI_frame/dataset/lidc/npz_seg/LIDC-IDRI-0236.npz\n",
      "/home/mengdi/yuxiang.ye/DN_AI_frame/dataset/lidc/npz_seg/LIDC-IDRI-0237.npz\n",
      "/home/mengdi/yuxiang.ye/DN_AI_frame/dataset/lidc/npz_seg/LIDC-IDRI-0239.npz\n",
      "/home/mengdi/yuxiang.ye/DN_AI_frame/dataset/lidc/npz_seg/LIDC-IDRI-0240.npz\n",
      "/home/mengdi/yuxiang.ye/DN_AI_frame/dataset/lidc/npz_seg/LIDC-IDRI-0241.npz\n",
      "/home/mengdi/yuxiang.ye/DN_AI_frame/dataset/lidc/npz_seg/LIDC-IDRI-0242.npz\n",
      "/home/mengdi/yuxiang.ye/DN_AI_frame/dataset/lidc/npz_seg/LIDC-IDRI-0243.npz\n",
      "/home/mengdi/yuxiang.ye/DN_AI_frame/dataset/lidc/npz_seg/LIDC-IDRI-0244.npz\n",
      "/home/mengdi/yuxiang.ye/DN_AI_frame/dataset/lidc/npz_seg/LIDC-IDRI-0245.npz\n",
      "/home/mengdi/yuxiang.ye/DN_AI_frame/dataset/lidc/npz_seg/LIDC-IDRI-0246.npz\n",
      "/home/mengdi/yuxiang.ye/DN_AI_frame/dataset/lidc/npz_seg/LIDC-IDRI-0247.npz\n",
      "/home/mengdi/yuxiang.ye/DN_AI_frame/dataset/lidc/npz_seg/LIDC-IDRI-0248.npz\n",
      "/home/mengdi/yuxiang.ye/DN_AI_frame/dataset/lidc/npz_seg/LIDC-IDRI-0249.npz\n",
      "/home/mengdi/yuxiang.ye/DN_AI_frame/dataset/lidc/npz_seg/LIDC-IDRI-0250.npz\n",
      "/home/mengdi/yuxiang.ye/DN_AI_frame/dataset/lidc/npz_seg/LIDC-IDRI-0251.npz\n",
      "/home/mengdi/yuxiang.ye/DN_AI_frame/dataset/lidc/npz_seg/LIDC-IDRI-0252.npz\n",
      "/home/mengdi/yuxiang.ye/DN_AI_frame/dataset/lidc/npz_seg/LIDC-IDRI-0253.npz\n",
      "/home/mengdi/yuxiang.ye/DN_AI_frame/dataset/lidc/npz_seg/LIDC-IDRI-0254.npz\n",
      "/home/mengdi/yuxiang.ye/DN_AI_frame/dataset/lidc/npz_seg/LIDC-IDRI-0255.npz\n",
      "/home/mengdi/yuxiang.ye/DN_AI_frame/dataset/lidc/npz_seg/LIDC-IDRI-0256.npz\n",
      "/home/mengdi/yuxiang.ye/DN_AI_frame/dataset/lidc/npz_seg/LIDC-IDRI-0257.npz\n",
      "/home/mengdi/yuxiang.ye/DN_AI_frame/dataset/lidc/npz_seg/LIDC-IDRI-0258.npz\n",
      "/home/mengdi/yuxiang.ye/DN_AI_frame/dataset/lidc/npz_seg/LIDC-IDRI-0259.npz\n",
      "/home/mengdi/yuxiang.ye/DN_AI_frame/dataset/lidc/npz_seg/LIDC-IDRI-0260.npz\n",
      "/home/mengdi/yuxiang.ye/DN_AI_frame/dataset/lidc/npz_seg/LIDC-IDRI-0261.npz\n",
      "/home/mengdi/yuxiang.ye/DN_AI_frame/dataset/lidc/npz_seg/LIDC-IDRI-0262.npz\n",
      "/home/mengdi/yuxiang.ye/DN_AI_frame/dataset/lidc/npz_seg/LIDC-IDRI-0263.npz\n",
      "/home/mengdi/yuxiang.ye/DN_AI_frame/dataset/lidc/npz_seg/LIDC-IDRI-0264.npz\n",
      "/home/mengdi/yuxiang.ye/DN_AI_frame/dataset/lidc/npz_seg/LIDC-IDRI-0266.npz\n",
      "/home/mengdi/yuxiang.ye/DN_AI_frame/dataset/lidc/npz_seg/LIDC-IDRI-0265.npz\n",
      "/home/mengdi/yuxiang.ye/DN_AI_frame/dataset/lidc/npz_seg/LIDC-IDRI-0267.npz\n",
      "/home/mengdi/yuxiang.ye/DN_AI_frame/dataset/lidc/npz_seg/LIDC-IDRI-0268.npz\n",
      "/home/mengdi/yuxiang.ye/DN_AI_frame/dataset/lidc/npz_seg/LIDC-IDRI-0270.npz\n",
      "/home/mengdi/yuxiang.ye/DN_AI_frame/dataset/lidc/npz_seg/LIDC-IDRI-0269.npz\n",
      "/home/mengdi/yuxiang.ye/DN_AI_frame/dataset/lidc/npz_seg/LIDC-IDRI-0271.npz\n",
      "/home/mengdi/yuxiang.ye/DN_AI_frame/dataset/lidc/npz_seg/LIDC-IDRI-0272.npz\n",
      "/home/mengdi/yuxiang.ye/DN_AI_frame/dataset/lidc/npz_seg/LIDC-IDRI-0273.npz\n",
      "/home/mengdi/yuxiang.ye/DN_AI_frame/dataset/lidc/npz_seg/LIDC-IDRI-0274.npz\n",
      "/home/mengdi/yuxiang.ye/DN_AI_frame/dataset/lidc/npz_seg/LIDC-IDRI-0275.npz\n",
      "/home/mengdi/yuxiang.ye/DN_AI_frame/dataset/lidc/npz_seg/LIDC-IDRI-0276.npz\n",
      "/home/mengdi/yuxiang.ye/DN_AI_frame/dataset/lidc/npz_seg/LIDC-IDRI-0277.npz\n",
      "/home/mengdi/yuxiang.ye/DN_AI_frame/dataset/lidc/npz_seg/LIDC-IDRI-0278.npz\n",
      "/home/mengdi/yuxiang.ye/DN_AI_frame/dataset/lidc/npz_seg/LIDC-IDRI-0280.npz\n",
      "/home/mengdi/yuxiang.ye/DN_AI_frame/dataset/lidc/npz_seg/LIDC-IDRI-0279.npz\n",
      "/home/mengdi/yuxiang.ye/DN_AI_frame/dataset/lidc/npz_seg/LIDC-IDRI-0282.npz\n",
      "/home/mengdi/yuxiang.ye/DN_AI_frame/dataset/lidc/npz_seg/LIDC-IDRI-0281.npz\n",
      "/home/mengdi/yuxiang.ye/DN_AI_frame/dataset/lidc/npz_seg/LIDC-IDRI-0283.npz\n",
      "/home/mengdi/yuxiang.ye/DN_AI_frame/dataset/lidc/npz_seg/LIDC-IDRI-0284.npz\n",
      "/home/mengdi/yuxiang.ye/DN_AI_frame/dataset/lidc/npz_seg/LIDC-IDRI-0285.npz\n",
      "/home/mengdi/yuxiang.ye/DN_AI_frame/dataset/lidc/npz_seg/LIDC-IDRI-0286.npz\n",
      "/home/mengdi/yuxiang.ye/DN_AI_frame/dataset/lidc/npz_seg/LIDC-IDRI-0287.npz\n",
      "/home/mengdi/yuxiang.ye/DN_AI_frame/dataset/lidc/npz_seg/LIDC-IDRI-0288.npz\n",
      "/home/mengdi/yuxiang.ye/DN_AI_frame/dataset/lidc/npz_seg/LIDC-IDRI-0289.npz\n",
      "/home/mengdi/yuxiang.ye/DN_AI_frame/dataset/lidc/npz_seg/LIDC-IDRI-0290.npz\n",
      "/home/mengdi/yuxiang.ye/DN_AI_frame/dataset/lidc/npz_seg/LIDC-IDRI-0291.npz\n",
      "/home/mengdi/yuxiang.ye/DN_AI_frame/dataset/lidc/npz_seg/LIDC-IDRI-0292.npz\n",
      "/home/mengdi/yuxiang.ye/DN_AI_frame/dataset/lidc/npz_seg/LIDC-IDRI-0294.npz\n",
      "/home/mengdi/yuxiang.ye/DN_AI_frame/dataset/lidc/npz_seg/LIDC-IDRI-0293.npz\n",
      "/home/mengdi/yuxiang.ye/DN_AI_frame/dataset/lidc/npz_seg/LIDC-IDRI-0295.npz\n",
      "/home/mengdi/yuxiang.ye/DN_AI_frame/dataset/lidc/npz_seg/LIDC-IDRI-0296.npz\n",
      "/home/mengdi/yuxiang.ye/DN_AI_frame/dataset/lidc/npz_seg/LIDC-IDRI-0297.npz\n",
      "/home/mengdi/yuxiang.ye/DN_AI_frame/dataset/lidc/npz_seg/LIDC-IDRI-0298.npz\n",
      "/home/mengdi/yuxiang.ye/DN_AI_frame/dataset/lidc/npz_seg/LIDC-IDRI-0299.npz\n",
      "/home/mengdi/yuxiang.ye/DN_AI_frame/dataset/lidc/npz_seg/LIDC-IDRI-0300.npz\n",
      "/home/mengdi/yuxiang.ye/DN_AI_frame/dataset/lidc/npz_seg/LIDC-IDRI-0301.npz\n",
      "/home/mengdi/yuxiang.ye/DN_AI_frame/dataset/lidc/npz_seg/LIDC-IDRI-0302.npz\n",
      "/home/mengdi/yuxiang.ye/DN_AI_frame/dataset/lidc/npz_seg/LIDC-IDRI-0303.npz\n",
      "/home/mengdi/yuxiang.ye/DN_AI_frame/dataset/lidc/npz_seg/LIDC-IDRI-0304.npz\n",
      "/home/mengdi/yuxiang.ye/DN_AI_frame/dataset/lidc/npz_seg/LIDC-IDRI-0305.npz\n",
      "/home/mengdi/yuxiang.ye/DN_AI_frame/dataset/lidc/npz_seg/LIDC-IDRI-0306.npz\n",
      "/home/mengdi/yuxiang.ye/DN_AI_frame/dataset/lidc/npz_seg/LIDC-IDRI-0307.npz\n",
      "/home/mengdi/yuxiang.ye/DN_AI_frame/dataset/lidc/npz_seg/LIDC-IDRI-0308.npz\n",
      "/home/mengdi/yuxiang.ye/DN_AI_frame/dataset/lidc/npz_seg/LIDC-IDRI-0309.npz\n",
      "/home/mengdi/yuxiang.ye/DN_AI_frame/dataset/lidc/npz_seg/LIDC-IDRI-0310.npz\n",
      "/home/mengdi/yuxiang.ye/DN_AI_frame/dataset/lidc/npz_seg/LIDC-IDRI-0311.npz\n",
      "/home/mengdi/yuxiang.ye/DN_AI_frame/dataset/lidc/npz_seg/LIDC-IDRI-0312.npz\n",
      "/home/mengdi/yuxiang.ye/DN_AI_frame/dataset/lidc/npz_seg/LIDC-IDRI-0313.npz\n",
      "/home/mengdi/yuxiang.ye/DN_AI_frame/dataset/lidc/npz_seg/LIDC-IDRI-0314.npz\n",
      "/home/mengdi/yuxiang.ye/DN_AI_frame/dataset/lidc/npz_seg/LIDC-IDRI-0315.npz\n",
      "/home/mengdi/yuxiang.ye/DN_AI_frame/dataset/lidc/npz_seg/LIDC-IDRI-0316.npz\n",
      "/home/mengdi/yuxiang.ye/DN_AI_frame/dataset/lidc/npz_seg/LIDC-IDRI-0317.npz\n",
      "/home/mengdi/yuxiang.ye/DN_AI_frame/dataset/lidc/npz_seg/LIDC-IDRI-0318.npz\n",
      "/home/mengdi/yuxiang.ye/DN_AI_frame/dataset/lidc/npz_seg/LIDC-IDRI-0319.npz\n",
      "/home/mengdi/yuxiang.ye/DN_AI_frame/dataset/lidc/npz_seg/LIDC-IDRI-0320.npz\n",
      "/home/mengdi/yuxiang.ye/DN_AI_frame/dataset/lidc/npz_seg/LIDC-IDRI-0321.npz\n",
      "/home/mengdi/yuxiang.ye/DN_AI_frame/dataset/lidc/npz_seg/LIDC-IDRI-0323.npz\n",
      "/home/mengdi/yuxiang.ye/DN_AI_frame/dataset/lidc/npz_seg/LIDC-IDRI-0322.npz\n",
      "/home/mengdi/yuxiang.ye/DN_AI_frame/dataset/lidc/npz_seg/LIDC-IDRI-0325.npz\n",
      "/home/mengdi/yuxiang.ye/DN_AI_frame/dataset/lidc/npz_seg/LIDC-IDRI-0324.npz\n"
     ]
    },
    {
     "name": "stdout",
     "output_type": "stream",
     "text": [
      "/home/mengdi/yuxiang.ye/DN_AI_frame/dataset/lidc/npz_seg/LIDC-IDRI-0327.npz\n",
      "/home/mengdi/yuxiang.ye/DN_AI_frame/dataset/lidc/npz_seg/LIDC-IDRI-0326.npz\n",
      "/home/mengdi/yuxiang.ye/DN_AI_frame/dataset/lidc/npz_seg/LIDC-IDRI-0328.npz\n",
      "/home/mengdi/yuxiang.ye/DN_AI_frame/dataset/lidc/npz_seg/LIDC-IDRI-0329.npz\n",
      "/home/mengdi/yuxiang.ye/DN_AI_frame/dataset/lidc/npz_seg/LIDC-IDRI-0330.npz\n",
      "/home/mengdi/yuxiang.ye/DN_AI_frame/dataset/lidc/npz_seg/LIDC-IDRI-0331.npz\n",
      "/home/mengdi/yuxiang.ye/DN_AI_frame/dataset/lidc/npz_seg/LIDC-IDRI-0332.npz\n",
      "/home/mengdi/yuxiang.ye/DN_AI_frame/dataset/lidc/npz_seg/LIDC-IDRI-0333.npz\n",
      "/home/mengdi/yuxiang.ye/DN_AI_frame/dataset/lidc/npz_seg/LIDC-IDRI-0335.npz\n",
      "/home/mengdi/yuxiang.ye/DN_AI_frame/dataset/lidc/npz_seg/LIDC-IDRI-0334.npz\n",
      "/home/mengdi/yuxiang.ye/DN_AI_frame/dataset/lidc/npz_seg/LIDC-IDRI-0336.npz\n",
      "/home/mengdi/yuxiang.ye/DN_AI_frame/dataset/lidc/npz_seg/LIDC-IDRI-0337.npz\n",
      "/home/mengdi/yuxiang.ye/DN_AI_frame/dataset/lidc/npz_seg/LIDC-IDRI-0338.npz\n",
      "/home/mengdi/yuxiang.ye/DN_AI_frame/dataset/lidc/npz_seg/LIDC-IDRI-0339.npz\n",
      "/home/mengdi/yuxiang.ye/DN_AI_frame/dataset/lidc/npz_seg/LIDC-IDRI-0340.npz\n",
      "/home/mengdi/yuxiang.ye/DN_AI_frame/dataset/lidc/npz_seg/LIDC-IDRI-0341.npz\n",
      "/home/mengdi/yuxiang.ye/DN_AI_frame/dataset/lidc/npz_seg/LIDC-IDRI-0342.npz\n",
      "/home/mengdi/yuxiang.ye/DN_AI_frame/dataset/lidc/npz_seg/LIDC-IDRI-0343.npz\n",
      "/home/mengdi/yuxiang.ye/DN_AI_frame/dataset/lidc/npz_seg/LIDC-IDRI-0344.npz\n",
      "/home/mengdi/yuxiang.ye/DN_AI_frame/dataset/lidc/npz_seg/LIDC-IDRI-0345.npz\n",
      "/home/mengdi/yuxiang.ye/DN_AI_frame/dataset/lidc/npz_seg/LIDC-IDRI-0346.npz\n",
      "/home/mengdi/yuxiang.ye/DN_AI_frame/dataset/lidc/npz_seg/LIDC-IDRI-0347.npz\n",
      "/home/mengdi/yuxiang.ye/DN_AI_frame/dataset/lidc/npz_seg/LIDC-IDRI-0348.npz\n",
      "/home/mengdi/yuxiang.ye/DN_AI_frame/dataset/lidc/npz_seg/LIDC-IDRI-0349.npz\n",
      "/home/mengdi/yuxiang.ye/DN_AI_frame/dataset/lidc/npz_seg/LIDC-IDRI-0350.npz\n",
      "/home/mengdi/yuxiang.ye/DN_AI_frame/dataset/lidc/npz_seg/LIDC-IDRI-0351.npz\n",
      "/home/mengdi/yuxiang.ye/DN_AI_frame/dataset/lidc/npz_seg/LIDC-IDRI-0352.npz\n",
      "/home/mengdi/yuxiang.ye/DN_AI_frame/dataset/lidc/npz_seg/LIDC-IDRI-0353.npz\n",
      "/home/mengdi/yuxiang.ye/DN_AI_frame/dataset/lidc/npz_seg/LIDC-IDRI-0355.npz\n",
      "/home/mengdi/yuxiang.ye/DN_AI_frame/dataset/lidc/npz_seg/LIDC-IDRI-0354.npz\n",
      "/home/mengdi/yuxiang.ye/DN_AI_frame/dataset/lidc/npz_seg/LIDC-IDRI-0356.npz\n",
      "/home/mengdi/yuxiang.ye/DN_AI_frame/dataset/lidc/npz_seg/LIDC-IDRI-0357.npz\n",
      "/home/mengdi/yuxiang.ye/DN_AI_frame/dataset/lidc/npz_seg/LIDC-IDRI-0358.npz\n",
      "/home/mengdi/yuxiang.ye/DN_AI_frame/dataset/lidc/npz_seg/LIDC-IDRI-0359.npz\n",
      "/home/mengdi/yuxiang.ye/DN_AI_frame/dataset/lidc/npz_seg/LIDC-IDRI-0360.npz\n",
      "/home/mengdi/yuxiang.ye/DN_AI_frame/dataset/lidc/npz_seg/LIDC-IDRI-0361.npz\n",
      "/home/mengdi/yuxiang.ye/DN_AI_frame/dataset/lidc/npz_seg/LIDC-IDRI-0362.npz\n",
      "/home/mengdi/yuxiang.ye/DN_AI_frame/dataset/lidc/npz_seg/LIDC-IDRI-0363.npz\n",
      "/home/mengdi/yuxiang.ye/DN_AI_frame/dataset/lidc/npz_seg/LIDC-IDRI-0364.npz\n",
      "/home/mengdi/yuxiang.ye/DN_AI_frame/dataset/lidc/npz_seg/LIDC-IDRI-0365.npz\n",
      "/home/mengdi/yuxiang.ye/DN_AI_frame/dataset/lidc/npz_seg/LIDC-IDRI-0366.npz\n",
      "/home/mengdi/yuxiang.ye/DN_AI_frame/dataset/lidc/npz_seg/LIDC-IDRI-0367.npz\n",
      "/home/mengdi/yuxiang.ye/DN_AI_frame/dataset/lidc/npz_seg/LIDC-IDRI-0368.npz\n",
      "/home/mengdi/yuxiang.ye/DN_AI_frame/dataset/lidc/npz_seg/LIDC-IDRI-0369.npz\n",
      "/home/mengdi/yuxiang.ye/DN_AI_frame/dataset/lidc/npz_seg/LIDC-IDRI-0370.npz\n",
      "/home/mengdi/yuxiang.ye/DN_AI_frame/dataset/lidc/npz_seg/LIDC-IDRI-0371.npz\n",
      "/home/mengdi/yuxiang.ye/DN_AI_frame/dataset/lidc/npz_seg/LIDC-IDRI-0372.npz\n",
      "/home/mengdi/yuxiang.ye/DN_AI_frame/dataset/lidc/npz_seg/LIDC-IDRI-0373.npz\n",
      "/home/mengdi/yuxiang.ye/DN_AI_frame/dataset/lidc/npz_seg/LIDC-IDRI-0374.npz\n",
      "/home/mengdi/yuxiang.ye/DN_AI_frame/dataset/lidc/npz_seg/LIDC-IDRI-0375.npz\n",
      "/home/mengdi/yuxiang.ye/DN_AI_frame/dataset/lidc/npz_seg/LIDC-IDRI-0376.npz\n",
      "/home/mengdi/yuxiang.ye/DN_AI_frame/dataset/lidc/npz_seg/LIDC-IDRI-0377.npz\n",
      "/home/mengdi/yuxiang.ye/DN_AI_frame/dataset/lidc/npz_seg/LIDC-IDRI-0378.npz\n",
      "/home/mengdi/yuxiang.ye/DN_AI_frame/dataset/lidc/npz_seg/LIDC-IDRI-0379.npz\n",
      "/home/mengdi/yuxiang.ye/DN_AI_frame/dataset/lidc/npz_seg/LIDC-IDRI-0381.npz\n",
      "/home/mengdi/yuxiang.ye/DN_AI_frame/dataset/lidc/npz_seg/LIDC-IDRI-0380.npz\n",
      "/home/mengdi/yuxiang.ye/DN_AI_frame/dataset/lidc/npz_seg/LIDC-IDRI-0382.npz\n",
      "/home/mengdi/yuxiang.ye/DN_AI_frame/dataset/lidc/npz_seg/LIDC-IDRI-0383.npz\n",
      "/home/mengdi/yuxiang.ye/DN_AI_frame/dataset/lidc/npz_seg/LIDC-IDRI-0384.npz\n",
      "/home/mengdi/yuxiang.ye/DN_AI_frame/dataset/lidc/npz_seg/LIDC-IDRI-0385.npz\n",
      "/home/mengdi/yuxiang.ye/DN_AI_frame/dataset/lidc/npz_seg/LIDC-IDRI-0386.npz\n",
      "/home/mengdi/yuxiang.ye/DN_AI_frame/dataset/lidc/npz_seg/LIDC-IDRI-0387.npz\n",
      "/home/mengdi/yuxiang.ye/DN_AI_frame/dataset/lidc/npz_seg/LIDC-IDRI-0388.npz\n",
      "/home/mengdi/yuxiang.ye/DN_AI_frame/dataset/lidc/npz_seg/LIDC-IDRI-0390.npz\n",
      "/home/mengdi/yuxiang.ye/DN_AI_frame/dataset/lidc/npz_seg/LIDC-IDRI-0389.npz\n",
      "/home/mengdi/yuxiang.ye/DN_AI_frame/dataset/lidc/npz_seg/LIDC-IDRI-0391.npz\n",
      "/home/mengdi/yuxiang.ye/DN_AI_frame/dataset/lidc/npz_seg/LIDC-IDRI-0392.npz\n",
      "/home/mengdi/yuxiang.ye/DN_AI_frame/dataset/lidc/npz_seg/LIDC-IDRI-0394.npz\n",
      "/home/mengdi/yuxiang.ye/DN_AI_frame/dataset/lidc/npz_seg/LIDC-IDRI-0393.npz\n",
      "/home/mengdi/yuxiang.ye/DN_AI_frame/dataset/lidc/npz_seg/LIDC-IDRI-0395.npz\n",
      "/home/mengdi/yuxiang.ye/DN_AI_frame/dataset/lidc/npz_seg/LIDC-IDRI-0396.npz\n",
      "/home/mengdi/yuxiang.ye/DN_AI_frame/dataset/lidc/npz_seg/LIDC-IDRI-0397.npz\n",
      "/home/mengdi/yuxiang.ye/DN_AI_frame/dataset/lidc/npz_seg/LIDC-IDRI-0398.npz\n",
      "/home/mengdi/yuxiang.ye/DN_AI_frame/dataset/lidc/npz_seg/LIDC-IDRI-0399.npz\n",
      "/home/mengdi/yuxiang.ye/DN_AI_frame/dataset/lidc/npz_seg/LIDC-IDRI-0400.npz\n",
      "/home/mengdi/yuxiang.ye/DN_AI_frame/dataset/lidc/npz_seg/LIDC-IDRI-0401.npz\n",
      "/home/mengdi/yuxiang.ye/DN_AI_frame/dataset/lidc/npz_seg/LIDC-IDRI-0402.npz\n",
      "/home/mengdi/yuxiang.ye/DN_AI_frame/dataset/lidc/npz_seg/LIDC-IDRI-0403.npz\n",
      "/home/mengdi/yuxiang.ye/DN_AI_frame/dataset/lidc/npz_seg/LIDC-IDRI-0404.npz\n",
      "/home/mengdi/yuxiang.ye/DN_AI_frame/dataset/lidc/npz_seg/LIDC-IDRI-0405.npz\n",
      "/home/mengdi/yuxiang.ye/DN_AI_frame/dataset/lidc/npz_seg/LIDC-IDRI-0406.npz\n",
      "/home/mengdi/yuxiang.ye/DN_AI_frame/dataset/lidc/npz_seg/LIDC-IDRI-0407.npz\n",
      "/home/mengdi/yuxiang.ye/DN_AI_frame/dataset/lidc/npz_seg/LIDC-IDRI-0408.npz\n",
      "/home/mengdi/yuxiang.ye/DN_AI_frame/dataset/lidc/npz_seg/LIDC-IDRI-0409.npz\n",
      "/home/mengdi/yuxiang.ye/DN_AI_frame/dataset/lidc/npz_seg/LIDC-IDRI-0410.npz\n",
      "/home/mengdi/yuxiang.ye/DN_AI_frame/dataset/lidc/npz_seg/LIDC-IDRI-0411.npz\n",
      "/home/mengdi/yuxiang.ye/DN_AI_frame/dataset/lidc/npz_seg/LIDC-IDRI-0412.npz\n",
      "/home/mengdi/yuxiang.ye/DN_AI_frame/dataset/lidc/npz_seg/LIDC-IDRI-0413.npz\n",
      "/home/mengdi/yuxiang.ye/DN_AI_frame/dataset/lidc/npz_seg/LIDC-IDRI-0414.npz\n",
      "/home/mengdi/yuxiang.ye/DN_AI_frame/dataset/lidc/npz_seg/LIDC-IDRI-0415.npz\n",
      "/home/mengdi/yuxiang.ye/DN_AI_frame/dataset/lidc/npz_seg/LIDC-IDRI-0416.npz\n",
      "/home/mengdi/yuxiang.ye/DN_AI_frame/dataset/lidc/npz_seg/LIDC-IDRI-0417.npz\n",
      "/home/mengdi/yuxiang.ye/DN_AI_frame/dataset/lidc/npz_seg/LIDC-IDRI-0418.npz\n",
      "/home/mengdi/yuxiang.ye/DN_AI_frame/dataset/lidc/npz_seg/LIDC-IDRI-0419.npz\n",
      "/home/mengdi/yuxiang.ye/DN_AI_frame/dataset/lidc/npz_seg/LIDC-IDRI-0420.npz\n",
      "/home/mengdi/yuxiang.ye/DN_AI_frame/dataset/lidc/npz_seg/LIDC-IDRI-0421.npz\n",
      "/home/mengdi/yuxiang.ye/DN_AI_frame/dataset/lidc/npz_seg/LIDC-IDRI-0422.npz\n",
      "/home/mengdi/yuxiang.ye/DN_AI_frame/dataset/lidc/npz_seg/LIDC-IDRI-0423.npz\n",
      "/home/mengdi/yuxiang.ye/DN_AI_frame/dataset/lidc/npz_seg/LIDC-IDRI-0424.npz\n",
      "/home/mengdi/yuxiang.ye/DN_AI_frame/dataset/lidc/npz_seg/LIDC-IDRI-0425.npz\n",
      "/home/mengdi/yuxiang.ye/DN_AI_frame/dataset/lidc/npz_seg/LIDC-IDRI-0426.npz\n",
      "/home/mengdi/yuxiang.ye/DN_AI_frame/dataset/lidc/npz_seg/LIDC-IDRI-0427.npz\n",
      "/home/mengdi/yuxiang.ye/DN_AI_frame/dataset/lidc/npz_seg/LIDC-IDRI-0428.npz\n",
      "/home/mengdi/yuxiang.ye/DN_AI_frame/dataset/lidc/npz_seg/LIDC-IDRI-0429.npz\n",
      "/home/mengdi/yuxiang.ye/DN_AI_frame/dataset/lidc/npz_seg/LIDC-IDRI-0430.npz\n",
      "/home/mengdi/yuxiang.ye/DN_AI_frame/dataset/lidc/npz_seg/LIDC-IDRI-0431.npz\n",
      "/home/mengdi/yuxiang.ye/DN_AI_frame/dataset/lidc/npz_seg/LIDC-IDRI-0432.npz\n",
      "/home/mengdi/yuxiang.ye/DN_AI_frame/dataset/lidc/npz_seg/LIDC-IDRI-0433.npz\n"
     ]
    },
    {
     "name": "stdout",
     "output_type": "stream",
     "text": [
      "/home/mengdi/yuxiang.ye/DN_AI_frame/dataset/lidc/npz_seg/LIDC-IDRI-0434.npz\n",
      "/home/mengdi/yuxiang.ye/DN_AI_frame/dataset/lidc/npz_seg/LIDC-IDRI-0435.npz\n",
      "/home/mengdi/yuxiang.ye/DN_AI_frame/dataset/lidc/npz_seg/LIDC-IDRI-0436.npz\n",
      "/home/mengdi/yuxiang.ye/DN_AI_frame/dataset/lidc/npz_seg/LIDC-IDRI-0437.npz\n",
      "/home/mengdi/yuxiang.ye/DN_AI_frame/dataset/lidc/npz_seg/LIDC-IDRI-0438.npz\n",
      "/home/mengdi/yuxiang.ye/DN_AI_frame/dataset/lidc/npz_seg/LIDC-IDRI-0439.npz\n",
      "/home/mengdi/yuxiang.ye/DN_AI_frame/dataset/lidc/npz_seg/LIDC-IDRI-0440.npz\n",
      "/home/mengdi/yuxiang.ye/DN_AI_frame/dataset/lidc/npz_seg/LIDC-IDRI-0442.npz\n",
      "/home/mengdi/yuxiang.ye/DN_AI_frame/dataset/lidc/npz_seg/LIDC-IDRI-0441.npz\n",
      "/home/mengdi/yuxiang.ye/DN_AI_frame/dataset/lidc/npz_seg/LIDC-IDRI-0443.npz\n",
      "/home/mengdi/yuxiang.ye/DN_AI_frame/dataset/lidc/npz_seg/LIDC-IDRI-0444.npz\n",
      "/home/mengdi/yuxiang.ye/DN_AI_frame/dataset/lidc/npz_seg/LIDC-IDRI-0445.npz\n",
      "/home/mengdi/yuxiang.ye/DN_AI_frame/dataset/lidc/npz_seg/LIDC-IDRI-0446.npz\n",
      "/home/mengdi/yuxiang.ye/DN_AI_frame/dataset/lidc/npz_seg/LIDC-IDRI-0447.npz\n",
      "/home/mengdi/yuxiang.ye/DN_AI_frame/dataset/lidc/npz_seg/LIDC-IDRI-0448.npz\n",
      "/home/mengdi/yuxiang.ye/DN_AI_frame/dataset/lidc/npz_seg/LIDC-IDRI-0449.npz\n",
      "/home/mengdi/yuxiang.ye/DN_AI_frame/dataset/lidc/npz_seg/LIDC-IDRI-0450.npz\n",
      "/home/mengdi/yuxiang.ye/DN_AI_frame/dataset/lidc/npz_seg/LIDC-IDRI-0451.npz\n",
      "/home/mengdi/yuxiang.ye/DN_AI_frame/dataset/lidc/npz_seg/LIDC-IDRI-0452.npz\n",
      "/home/mengdi/yuxiang.ye/DN_AI_frame/dataset/lidc/npz_seg/LIDC-IDRI-0453.npz\n",
      "/home/mengdi/yuxiang.ye/DN_AI_frame/dataset/lidc/npz_seg/LIDC-IDRI-0454.npz\n",
      "/home/mengdi/yuxiang.ye/DN_AI_frame/dataset/lidc/npz_seg/LIDC-IDRI-0456.npz\n",
      "/home/mengdi/yuxiang.ye/DN_AI_frame/dataset/lidc/npz_seg/LIDC-IDRI-0455.npz\n",
      "/home/mengdi/yuxiang.ye/DN_AI_frame/dataset/lidc/npz_seg/LIDC-IDRI-0457.npz\n",
      "/home/mengdi/yuxiang.ye/DN_AI_frame/dataset/lidc/npz_seg/LIDC-IDRI-0458.npz\n",
      "/home/mengdi/yuxiang.ye/DN_AI_frame/dataset/lidc/npz_seg/LIDC-IDRI-0459.npz\n",
      "/home/mengdi/yuxiang.ye/DN_AI_frame/dataset/lidc/npz_seg/LIDC-IDRI-0460.npz\n",
      "/home/mengdi/yuxiang.ye/DN_AI_frame/dataset/lidc/npz_seg/LIDC-IDRI-0461.npz\n",
      "/home/mengdi/yuxiang.ye/DN_AI_frame/dataset/lidc/npz_seg/LIDC-IDRI-0462.npz\n",
      "/home/mengdi/yuxiang.ye/DN_AI_frame/dataset/lidc/npz_seg/LIDC-IDRI-0463.npz\n",
      "/home/mengdi/yuxiang.ye/DN_AI_frame/dataset/lidc/npz_seg/LIDC-IDRI-0464.npz\n",
      "/home/mengdi/yuxiang.ye/DN_AI_frame/dataset/lidc/npz_seg/LIDC-IDRI-0465.npz\n",
      "/home/mengdi/yuxiang.ye/DN_AI_frame/dataset/lidc/npz_seg/LIDC-IDRI-0466.npz\n",
      "/home/mengdi/yuxiang.ye/DN_AI_frame/dataset/lidc/npz_seg/LIDC-IDRI-0468.npz\n",
      "/home/mengdi/yuxiang.ye/DN_AI_frame/dataset/lidc/npz_seg/LIDC-IDRI-0467.npz\n",
      "/home/mengdi/yuxiang.ye/DN_AI_frame/dataset/lidc/npz_seg/LIDC-IDRI-0470.npz\n",
      "/home/mengdi/yuxiang.ye/DN_AI_frame/dataset/lidc/npz_seg/LIDC-IDRI-0469.npz\n",
      "/home/mengdi/yuxiang.ye/DN_AI_frame/dataset/lidc/npz_seg/LIDC-IDRI-0471.npz\n",
      "/home/mengdi/yuxiang.ye/DN_AI_frame/dataset/lidc/npz_seg/LIDC-IDRI-0472.npz\n",
      "/home/mengdi/yuxiang.ye/DN_AI_frame/dataset/lidc/npz_seg/LIDC-IDRI-0473.npz\n",
      "/home/mengdi/yuxiang.ye/DN_AI_frame/dataset/lidc/npz_seg/LIDC-IDRI-0474.npz\n",
      "/home/mengdi/yuxiang.ye/DN_AI_frame/dataset/lidc/npz_seg/LIDC-IDRI-0475.npz\n",
      "/home/mengdi/yuxiang.ye/DN_AI_frame/dataset/lidc/npz_seg/LIDC-IDRI-0476.npz\n",
      "/home/mengdi/yuxiang.ye/DN_AI_frame/dataset/lidc/npz_seg/LIDC-IDRI-0477.npz\n",
      "/home/mengdi/yuxiang.ye/DN_AI_frame/dataset/lidc/npz_seg/LIDC-IDRI-0478.npz\n",
      "/home/mengdi/yuxiang.ye/DN_AI_frame/dataset/lidc/npz_seg/LIDC-IDRI-0479.npz\n",
      "/home/mengdi/yuxiang.ye/DN_AI_frame/dataset/lidc/npz_seg/LIDC-IDRI-0480.npz\n",
      "/home/mengdi/yuxiang.ye/DN_AI_frame/dataset/lidc/npz_seg/LIDC-IDRI-0481.npz\n",
      "/home/mengdi/yuxiang.ye/DN_AI_frame/dataset/lidc/npz_seg/LIDC-IDRI-0482.npz\n",
      "/home/mengdi/yuxiang.ye/DN_AI_frame/dataset/lidc/npz_seg/LIDC-IDRI-0483.npz\n",
      "/home/mengdi/yuxiang.ye/DN_AI_frame/dataset/lidc/npz_seg/LIDC-IDRI-0484.npz\n",
      "/home/mengdi/yuxiang.ye/DN_AI_frame/dataset/lidc/npz_seg/LIDC-IDRI-0485.npz\n",
      "/home/mengdi/yuxiang.ye/DN_AI_frame/dataset/lidc/npz_seg/LIDC-IDRI-0486.npz\n",
      "/home/mengdi/yuxiang.ye/DN_AI_frame/dataset/lidc/npz_seg/LIDC-IDRI-0487.npz\n",
      "/home/mengdi/yuxiang.ye/DN_AI_frame/dataset/lidc/npz_seg/LIDC-IDRI-0488.npz\n",
      "/home/mengdi/yuxiang.ye/DN_AI_frame/dataset/lidc/npz_seg/LIDC-IDRI-0489.npz\n",
      "/home/mengdi/yuxiang.ye/DN_AI_frame/dataset/lidc/npz_seg/LIDC-IDRI-0490.npz\n",
      "/home/mengdi/yuxiang.ye/DN_AI_frame/dataset/lidc/npz_seg/LIDC-IDRI-0491.npz\n",
      "/home/mengdi/yuxiang.ye/DN_AI_frame/dataset/lidc/npz_seg/LIDC-IDRI-0492.npz\n",
      "/home/mengdi/yuxiang.ye/DN_AI_frame/dataset/lidc/npz_seg/LIDC-IDRI-0493.npz\n",
      "/home/mengdi/yuxiang.ye/DN_AI_frame/dataset/lidc/npz_seg/LIDC-IDRI-0494.npz\n",
      "/home/mengdi/yuxiang.ye/DN_AI_frame/dataset/lidc/npz_seg/LIDC-IDRI-0495.npz\n",
      "/home/mengdi/yuxiang.ye/DN_AI_frame/dataset/lidc/npz_seg/LIDC-IDRI-0496.npz\n",
      "/home/mengdi/yuxiang.ye/DN_AI_frame/dataset/lidc/npz_seg/LIDC-IDRI-0497.npz\n",
      "/home/mengdi/yuxiang.ye/DN_AI_frame/dataset/lidc/npz_seg/LIDC-IDRI-0498.npz\n",
      "/home/mengdi/yuxiang.ye/DN_AI_frame/dataset/lidc/npz_seg/LIDC-IDRI-0499.npz\n",
      "/home/mengdi/yuxiang.ye/DN_AI_frame/dataset/lidc/npz_seg/LIDC-IDRI-0500.npz\n",
      "/home/mengdi/yuxiang.ye/DN_AI_frame/dataset/lidc/npz_seg/LIDC-IDRI-0501.npz\n",
      "/home/mengdi/yuxiang.ye/DN_AI_frame/dataset/lidc/npz_seg/LIDC-IDRI-0502.npz\n",
      "/home/mengdi/yuxiang.ye/DN_AI_frame/dataset/lidc/npz_seg/LIDC-IDRI-0503.npz\n",
      "/home/mengdi/yuxiang.ye/DN_AI_frame/dataset/lidc/npz_seg/LIDC-IDRI-0504.npz\n",
      "/home/mengdi/yuxiang.ye/DN_AI_frame/dataset/lidc/npz_seg/LIDC-IDRI-0505.npz\n",
      "/home/mengdi/yuxiang.ye/DN_AI_frame/dataset/lidc/npz_seg/LIDC-IDRI-0506.npz\n",
      "/home/mengdi/yuxiang.ye/DN_AI_frame/dataset/lidc/npz_seg/LIDC-IDRI-0507.npz\n",
      "/home/mengdi/yuxiang.ye/DN_AI_frame/dataset/lidc/npz_seg/LIDC-IDRI-0508.npz\n",
      "/home/mengdi/yuxiang.ye/DN_AI_frame/dataset/lidc/npz_seg/LIDC-IDRI-0509.npz\n",
      "/home/mengdi/yuxiang.ye/DN_AI_frame/dataset/lidc/npz_seg/LIDC-IDRI-0510.npz\n",
      "/home/mengdi/yuxiang.ye/DN_AI_frame/dataset/lidc/npz_seg/LIDC-IDRI-0511.npz\n",
      "/home/mengdi/yuxiang.ye/DN_AI_frame/dataset/lidc/npz_seg/LIDC-IDRI-0512.npz\n",
      "/home/mengdi/yuxiang.ye/DN_AI_frame/dataset/lidc/npz_seg/LIDC-IDRI-0513.npz\n",
      "/home/mengdi/yuxiang.ye/DN_AI_frame/dataset/lidc/npz_seg/LIDC-IDRI-0514.npz\n",
      "/home/mengdi/yuxiang.ye/DN_AI_frame/dataset/lidc/npz_seg/LIDC-IDRI-0515.npz\n",
      "/home/mengdi/yuxiang.ye/DN_AI_frame/dataset/lidc/npz_seg/LIDC-IDRI-0516.npz\n",
      "/home/mengdi/yuxiang.ye/DN_AI_frame/dataset/lidc/npz_seg/LIDC-IDRI-0517.npz\n"
     ]
    },
    {
     "name": "stderr",
     "output_type": "stream",
     "text": [
      "\r",
      " 52%|█████▏    | 521/1010 [00:00<00:00, 2586.91it/s]"
     ]
    },
    {
     "name": "stdout",
     "output_type": "stream",
     "text": [
      "/home/mengdi/yuxiang.ye/DN_AI_frame/dataset/lidc/npz_seg/LIDC-IDRI-0518.npz\n",
      "/home/mengdi/yuxiang.ye/DN_AI_frame/dataset/lidc/npz_seg/LIDC-IDRI-0519.npz\n",
      "/home/mengdi/yuxiang.ye/DN_AI_frame/dataset/lidc/npz_seg/LIDC-IDRI-0520.npz\n",
      "/home/mengdi/yuxiang.ye/DN_AI_frame/dataset/lidc/npz_seg/LIDC-IDRI-0521.npz\n",
      "/home/mengdi/yuxiang.ye/DN_AI_frame/dataset/lidc/npz_seg/LIDC-IDRI-0522.npz\n",
      "/home/mengdi/yuxiang.ye/DN_AI_frame/dataset/lidc/npz_seg/LIDC-IDRI-0523.npz\n",
      "/home/mengdi/yuxiang.ye/DN_AI_frame/dataset/lidc/npz_seg/LIDC-IDRI-0524.npz\n",
      "/home/mengdi/yuxiang.ye/DN_AI_frame/dataset/lidc/npz_seg/LIDC-IDRI-0525.npz\n",
      "/home/mengdi/yuxiang.ye/DN_AI_frame/dataset/lidc/npz_seg/LIDC-IDRI-0526.npz\n",
      "/home/mengdi/yuxiang.ye/DN_AI_frame/dataset/lidc/npz_seg/LIDC-IDRI-0527.npz\n",
      "/home/mengdi/yuxiang.ye/DN_AI_frame/dataset/lidc/npz_seg/LIDC-IDRI-0528.npz\n",
      "/home/mengdi/yuxiang.ye/DN_AI_frame/dataset/lidc/npz_seg/LIDC-IDRI-0529.npz\n",
      "/home/mengdi/yuxiang.ye/DN_AI_frame/dataset/lidc/npz_seg/LIDC-IDRI-0530.npz\n",
      "/home/mengdi/yuxiang.ye/DN_AI_frame/dataset/lidc/npz_seg/LIDC-IDRI-0531.npz\n",
      "/home/mengdi/yuxiang.ye/DN_AI_frame/dataset/lidc/npz_seg/LIDC-IDRI-0532.npz\n",
      "/home/mengdi/yuxiang.ye/DN_AI_frame/dataset/lidc/npz_seg/LIDC-IDRI-0533.npz\n",
      "/home/mengdi/yuxiang.ye/DN_AI_frame/dataset/lidc/npz_seg/LIDC-IDRI-0534.npz\n",
      "/home/mengdi/yuxiang.ye/DN_AI_frame/dataset/lidc/npz_seg/LIDC-IDRI-0535.npz\n",
      "/home/mengdi/yuxiang.ye/DN_AI_frame/dataset/lidc/npz_seg/LIDC-IDRI-0536.npz\n",
      "/home/mengdi/yuxiang.ye/DN_AI_frame/dataset/lidc/npz_seg/LIDC-IDRI-0537.npz\n",
      "/home/mengdi/yuxiang.ye/DN_AI_frame/dataset/lidc/npz_seg/LIDC-IDRI-0538.npz\n",
      "/home/mengdi/yuxiang.ye/DN_AI_frame/dataset/lidc/npz_seg/LIDC-IDRI-0539.npz\n",
      "/home/mengdi/yuxiang.ye/DN_AI_frame/dataset/lidc/npz_seg/LIDC-IDRI-0540.npz\n",
      "/home/mengdi/yuxiang.ye/DN_AI_frame/dataset/lidc/npz_seg/LIDC-IDRI-0542.npz\n",
      "/home/mengdi/yuxiang.ye/DN_AI_frame/dataset/lidc/npz_seg/LIDC-IDRI-0541.npz\n",
      "/home/mengdi/yuxiang.ye/DN_AI_frame/dataset/lidc/npz_seg/LIDC-IDRI-0543.npz\n",
      "/home/mengdi/yuxiang.ye/DN_AI_frame/dataset/lidc/npz_seg/LIDC-IDRI-0544.npz\n",
      "/home/mengdi/yuxiang.ye/DN_AI_frame/dataset/lidc/npz_seg/LIDC-IDRI-0545.npz\n",
      "/home/mengdi/yuxiang.ye/DN_AI_frame/dataset/lidc/npz_seg/LIDC-IDRI-0546.npz\n",
      "/home/mengdi/yuxiang.ye/DN_AI_frame/dataset/lidc/npz_seg/LIDC-IDRI-0548.npz\n",
      "/home/mengdi/yuxiang.ye/DN_AI_frame/dataset/lidc/npz_seg/LIDC-IDRI-0547.npz\n",
      "/home/mengdi/yuxiang.ye/DN_AI_frame/dataset/lidc/npz_seg/LIDC-IDRI-0549.npz\n",
      "/home/mengdi/yuxiang.ye/DN_AI_frame/dataset/lidc/npz_seg/LIDC-IDRI-0550.npz\n",
      "/home/mengdi/yuxiang.ye/DN_AI_frame/dataset/lidc/npz_seg/LIDC-IDRI-0551.npz\n",
      "/home/mengdi/yuxiang.ye/DN_AI_frame/dataset/lidc/npz_seg/LIDC-IDRI-0552.npz\n",
      "/home/mengdi/yuxiang.ye/DN_AI_frame/dataset/lidc/npz_seg/LIDC-IDRI-0553.npz\n",
      "/home/mengdi/yuxiang.ye/DN_AI_frame/dataset/lidc/npz_seg/LIDC-IDRI-0554.npz\n",
      "/home/mengdi/yuxiang.ye/DN_AI_frame/dataset/lidc/npz_seg/LIDC-IDRI-0555.npz\n",
      "/home/mengdi/yuxiang.ye/DN_AI_frame/dataset/lidc/npz_seg/LIDC-IDRI-0556.npz\n",
      "/home/mengdi/yuxiang.ye/DN_AI_frame/dataset/lidc/npz_seg/LIDC-IDRI-0557.npz\n",
      "/home/mengdi/yuxiang.ye/DN_AI_frame/dataset/lidc/npz_seg/LIDC-IDRI-0558.npz\n",
      "/home/mengdi/yuxiang.ye/DN_AI_frame/dataset/lidc/npz_seg/LIDC-IDRI-0559.npz\n",
      "/home/mengdi/yuxiang.ye/DN_AI_frame/dataset/lidc/npz_seg/LIDC-IDRI-0560.npz\n",
      "/home/mengdi/yuxiang.ye/DN_AI_frame/dataset/lidc/npz_seg/LIDC-IDRI-0561.npz\n",
      "/home/mengdi/yuxiang.ye/DN_AI_frame/dataset/lidc/npz_seg/LIDC-IDRI-0562.npz\n",
      "/home/mengdi/yuxiang.ye/DN_AI_frame/dataset/lidc/npz_seg/LIDC-IDRI-0563.npz\n",
      "/home/mengdi/yuxiang.ye/DN_AI_frame/dataset/lidc/npz_seg/LIDC-IDRI-0564.npz\n",
      "/home/mengdi/yuxiang.ye/DN_AI_frame/dataset/lidc/npz_seg/LIDC-IDRI-0565.npz\n",
      "/home/mengdi/yuxiang.ye/DN_AI_frame/dataset/lidc/npz_seg/LIDC-IDRI-0566.npz\n",
      "/home/mengdi/yuxiang.ye/DN_AI_frame/dataset/lidc/npz_seg/LIDC-IDRI-0567.npz\n",
      "/home/mengdi/yuxiang.ye/DN_AI_frame/dataset/lidc/npz_seg/LIDC-IDRI-0569.npz\n",
      "/home/mengdi/yuxiang.ye/DN_AI_frame/dataset/lidc/npz_seg/LIDC-IDRI-0568.npz\n",
      "/home/mengdi/yuxiang.ye/DN_AI_frame/dataset/lidc/npz_seg/LIDC-IDRI-0570.npz\n",
      "/home/mengdi/yuxiang.ye/DN_AI_frame/dataset/lidc/npz_seg/LIDC-IDRI-0571.npz\n",
      "/home/mengdi/yuxiang.ye/DN_AI_frame/dataset/lidc/npz_seg/LIDC-IDRI-0573.npz\n",
      "/home/mengdi/yuxiang.ye/DN_AI_frame/dataset/lidc/npz_seg/LIDC-IDRI-0572.npz\n",
      "/home/mengdi/yuxiang.ye/DN_AI_frame/dataset/lidc/npz_seg/LIDC-IDRI-0575.npz\n",
      "/home/mengdi/yuxiang.ye/DN_AI_frame/dataset/lidc/npz_seg/LIDC-IDRI-0576.npz\n",
      "/home/mengdi/yuxiang.ye/DN_AI_frame/dataset/lidc/npz_seg/LIDC-IDRI-0574.npz\n",
      "/home/mengdi/yuxiang.ye/DN_AI_frame/dataset/lidc/npz_seg/LIDC-IDRI-0577.npz\n",
      "/home/mengdi/yuxiang.ye/DN_AI_frame/dataset/lidc/npz_seg/LIDC-IDRI-0578.npz\n",
      "/home/mengdi/yuxiang.ye/DN_AI_frame/dataset/lidc/npz_seg/LIDC-IDRI-0579.npz\n",
      "/home/mengdi/yuxiang.ye/DN_AI_frame/dataset/lidc/npz_seg/LIDC-IDRI-0580.npz\n",
      "/home/mengdi/yuxiang.ye/DN_AI_frame/dataset/lidc/npz_seg/LIDC-IDRI-0581.npz\n",
      "/home/mengdi/yuxiang.ye/DN_AI_frame/dataset/lidc/npz_seg/LIDC-IDRI-0582.npz\n",
      "/home/mengdi/yuxiang.ye/DN_AI_frame/dataset/lidc/npz_seg/LIDC-IDRI-0583.npz\n",
      "/home/mengdi/yuxiang.ye/DN_AI_frame/dataset/lidc/npz_seg/LIDC-IDRI-0584.npz\n",
      "/home/mengdi/yuxiang.ye/DN_AI_frame/dataset/lidc/npz_seg/LIDC-IDRI-0586.npz\n",
      "/home/mengdi/yuxiang.ye/DN_AI_frame/dataset/lidc/npz_seg/LIDC-IDRI-0587.npz\n",
      "/home/mengdi/yuxiang.ye/DN_AI_frame/dataset/lidc/npz_seg/LIDC-IDRI-0588.npz\n",
      "/home/mengdi/yuxiang.ye/DN_AI_frame/dataset/lidc/npz_seg/LIDC-IDRI-0589.npz\n",
      "/home/mengdi/yuxiang.ye/DN_AI_frame/dataset/lidc/npz_seg/LIDC-IDRI-0590.npz\n",
      "/home/mengdi/yuxiang.ye/DN_AI_frame/dataset/lidc/npz_seg/LIDC-IDRI-0591.npz\n",
      "/home/mengdi/yuxiang.ye/DN_AI_frame/dataset/lidc/npz_seg/LIDC-IDRI-0592.npz\n",
      "/home/mengdi/yuxiang.ye/DN_AI_frame/dataset/lidc/npz_seg/LIDC-IDRI-0593.npz\n",
      "/home/mengdi/yuxiang.ye/DN_AI_frame/dataset/lidc/npz_seg/LIDC-IDRI-0594.npz\n",
      "/home/mengdi/yuxiang.ye/DN_AI_frame/dataset/lidc/npz_seg/LIDC-IDRI-0595.npz\n",
      "/home/mengdi/yuxiang.ye/DN_AI_frame/dataset/lidc/npz_seg/LIDC-IDRI-0596.npz\n",
      "/home/mengdi/yuxiang.ye/DN_AI_frame/dataset/lidc/npz_seg/LIDC-IDRI-0597.npz\n",
      "/home/mengdi/yuxiang.ye/DN_AI_frame/dataset/lidc/npz_seg/LIDC-IDRI-0598.npz\n",
      "/home/mengdi/yuxiang.ye/DN_AI_frame/dataset/lidc/npz_seg/LIDC-IDRI-0599.npz\n",
      "/home/mengdi/yuxiang.ye/DN_AI_frame/dataset/lidc/npz_seg/LIDC-IDRI-0600.npz\n",
      "/home/mengdi/yuxiang.ye/DN_AI_frame/dataset/lidc/npz_seg/LIDC-IDRI-0601.npz\n",
      "/home/mengdi/yuxiang.ye/DN_AI_frame/dataset/lidc/npz_seg/LIDC-IDRI-0602.npz\n",
      "/home/mengdi/yuxiang.ye/DN_AI_frame/dataset/lidc/npz_seg/LIDC-IDRI-0603.npz\n",
      "/home/mengdi/yuxiang.ye/DN_AI_frame/dataset/lidc/npz_seg/LIDC-IDRI-0604.npz\n",
      "/home/mengdi/yuxiang.ye/DN_AI_frame/dataset/lidc/npz_seg/LIDC-IDRI-0605.npz\n",
      "/home/mengdi/yuxiang.ye/DN_AI_frame/dataset/lidc/npz_seg/LIDC-IDRI-0606.npz\n",
      "/home/mengdi/yuxiang.ye/DN_AI_frame/dataset/lidc/npz_seg/LIDC-IDRI-0607.npz\n",
      "/home/mengdi/yuxiang.ye/DN_AI_frame/dataset/lidc/npz_seg/LIDC-IDRI-0608.npz\n",
      "/home/mengdi/yuxiang.ye/DN_AI_frame/dataset/lidc/npz_seg/LIDC-IDRI-0609.npz\n",
      "/home/mengdi/yuxiang.ye/DN_AI_frame/dataset/lidc/npz_seg/LIDC-IDRI-0610.npz\n",
      "/home/mengdi/yuxiang.ye/DN_AI_frame/dataset/lidc/npz_seg/LIDC-IDRI-0611.npz\n",
      "/home/mengdi/yuxiang.ye/DN_AI_frame/dataset/lidc/npz_seg/LIDC-IDRI-0612.npz\n",
      "/home/mengdi/yuxiang.ye/DN_AI_frame/dataset/lidc/npz_seg/LIDC-IDRI-0613.npz\n",
      "/home/mengdi/yuxiang.ye/DN_AI_frame/dataset/lidc/npz_seg/LIDC-IDRI-0614.npz\n",
      "/home/mengdi/yuxiang.ye/DN_AI_frame/dataset/lidc/npz_seg/LIDC-IDRI-0615.npz\n",
      "/home/mengdi/yuxiang.ye/DN_AI_frame/dataset/lidc/npz_seg/LIDC-IDRI-0616.npz\n",
      "/home/mengdi/yuxiang.ye/DN_AI_frame/dataset/lidc/npz_seg/LIDC-IDRI-0617.npz\n",
      "/home/mengdi/yuxiang.ye/DN_AI_frame/dataset/lidc/npz_seg/LIDC-IDRI-0618.npz\n",
      "/home/mengdi/yuxiang.ye/DN_AI_frame/dataset/lidc/npz_seg/LIDC-IDRI-0619.npz\n",
      "/home/mengdi/yuxiang.ye/DN_AI_frame/dataset/lidc/npz_seg/LIDC-IDRI-0620.npz\n",
      "/home/mengdi/yuxiang.ye/DN_AI_frame/dataset/lidc/npz_seg/LIDC-IDRI-0621.npz\n",
      "/home/mengdi/yuxiang.ye/DN_AI_frame/dataset/lidc/npz_seg/LIDC-IDRI-0622.npz\n",
      "/home/mengdi/yuxiang.ye/DN_AI_frame/dataset/lidc/npz_seg/LIDC-IDRI-0623.npz\n",
      "/home/mengdi/yuxiang.ye/DN_AI_frame/dataset/lidc/npz_seg/LIDC-IDRI-0624.npz\n",
      "/home/mengdi/yuxiang.ye/DN_AI_frame/dataset/lidc/npz_seg/LIDC-IDRI-0625.npz\n",
      "/home/mengdi/yuxiang.ye/DN_AI_frame/dataset/lidc/npz_seg/LIDC-IDRI-0626.npz\n"
     ]
    },
    {
     "name": "stdout",
     "output_type": "stream",
     "text": [
      "/home/mengdi/yuxiang.ye/DN_AI_frame/dataset/lidc/npz_seg/LIDC-IDRI-0627.npz\n",
      "/home/mengdi/yuxiang.ye/DN_AI_frame/dataset/lidc/npz_seg/LIDC-IDRI-0629.npz\n",
      "/home/mengdi/yuxiang.ye/DN_AI_frame/dataset/lidc/npz_seg/LIDC-IDRI-0628.npz\n",
      "/home/mengdi/yuxiang.ye/DN_AI_frame/dataset/lidc/npz_seg/LIDC-IDRI-0631.npz\n",
      "/home/mengdi/yuxiang.ye/DN_AI_frame/dataset/lidc/npz_seg/LIDC-IDRI-0630.npz\n",
      "/home/mengdi/yuxiang.ye/DN_AI_frame/dataset/lidc/npz_seg/LIDC-IDRI-0632.npz\n",
      "/home/mengdi/yuxiang.ye/DN_AI_frame/dataset/lidc/npz_seg/LIDC-IDRI-0635.npz\n",
      "/home/mengdi/yuxiang.ye/DN_AI_frame/dataset/lidc/npz_seg/LIDC-IDRI-0633.npz\n",
      "/home/mengdi/yuxiang.ye/DN_AI_frame/dataset/lidc/npz_seg/LIDC-IDRI-0634.npz\n",
      "/home/mengdi/yuxiang.ye/DN_AI_frame/dataset/lidc/npz_seg/LIDC-IDRI-0636.npz\n",
      "/home/mengdi/yuxiang.ye/DN_AI_frame/dataset/lidc/npz_seg/LIDC-IDRI-0637.npz\n",
      "LIDC-IDRI-0637\n",
      "/home/mengdi/yuxiang.ye/DN_AI_frame/dataset/lidc/npz_seg/LIDC-IDRI-0638.npz\n",
      "/home/mengdi/yuxiang.ye/DN_AI_frame/dataset/lidc/npz_seg/LIDC-IDRI-0639.npz\n",
      "/home/mengdi/yuxiang.ye/DN_AI_frame/dataset/lidc/npz_seg/LIDC-IDRI-0640.npz\n",
      "/home/mengdi/yuxiang.ye/DN_AI_frame/dataset/lidc/npz_seg/LIDC-IDRI-0641.npz\n",
      "LIDC-IDRI-0641\n"
     ]
    },
    {
     "name": "stderr",
     "output_type": "stream",
     "text": [
      "100%|██████████| 21/21 [00:01<00:00, 13.01it/s]\n",
      "100%|██████████| 25/25 [00:03<00:00,  7.06it/s]/s]\n"
     ]
    },
    {
     "name": "stdout",
     "output_type": "stream",
     "text": [
      "/home/mengdi/yuxiang.ye/DN_AI_frame/dataset/lidc/npz_seg/LIDC-IDRI-0642.npz\n",
      "LIDC-IDRI-0642\n"
     ]
    },
    {
     "name": "stderr",
     "output_type": "stream",
     "text": [
      "100%|██████████| 13/13 [00:00<00:00, 18.15it/s]/s]  \n"
     ]
    },
    {
     "name": "stdout",
     "output_type": "stream",
     "text": [
      "/home/mengdi/yuxiang.ye/DN_AI_frame/dataset/lidc/npz_seg/LIDC-IDRI-0643.npz\n"
     ]
    },
    {
     "name": "stderr",
     "output_type": "stream",
     "text": [
      "\r",
      " 63%|██████▎   | 639/1010 [00:42<21:05,  3.41s/it]"
     ]
    },
    {
     "name": "stdout",
     "output_type": "stream",
     "text": [
      "LIDC-IDRI-0643\n"
     ]
    },
    {
     "name": "stderr",
     "output_type": "stream",
     "text": [
      "100%|██████████| 6/6 [00:00<00:00, 25.84it/s]\n"
     ]
    },
    {
     "name": "stdout",
     "output_type": "stream",
     "text": [
      "/home/mengdi/yuxiang.ye/DN_AI_frame/dataset/lidc/npz_seg/LIDC-IDRI-0644.npz\n"
     ]
    },
    {
     "name": "stderr",
     "output_type": "stream",
     "text": [
      "\r",
      " 63%|██████▎   | 640/1010 [00:56<39:43,  6.44s/it]"
     ]
    },
    {
     "name": "stdout",
     "output_type": "stream",
     "text": [
      "LIDC-IDRI-0644\n"
     ]
    },
    {
     "name": "stderr",
     "output_type": "stream",
     "text": [
      "100%|██████████| 4/4 [00:00<00:00, 12.23it/s]\n"
     ]
    },
    {
     "name": "stdout",
     "output_type": "stream",
     "text": [
      "/home/mengdi/yuxiang.ye/DN_AI_frame/dataset/lidc/npz_seg/LIDC-IDRI-0645.npz\n"
     ]
    },
    {
     "name": "stderr",
     "output_type": "stream",
     "text": [
      "\r",
      " 63%|██████▎   | 641/1010 [01:02<39:02,  6.35s/it]"
     ]
    },
    {
     "name": "stdout",
     "output_type": "stream",
     "text": [
      "LIDC-IDRI-0645\n",
      "/home/mengdi/yuxiang.ye/DN_AI_frame/dataset/lidc/npz_seg/LIDC-IDRI-0646.npz\n"
     ]
    },
    {
     "name": "stderr",
     "output_type": "stream",
     "text": [
      "\r",
      " 64%|██████▎   | 642/1010 [01:12<45:40,  7.45s/it]"
     ]
    },
    {
     "name": "stdout",
     "output_type": "stream",
     "text": [
      "LIDC-IDRI-0646\n"
     ]
    },
    {
     "name": "stderr",
     "output_type": "stream",
     "text": [
      "100%|██████████| 5/5 [00:00<00:00, 11.43it/s]\n",
      "0it [00:00, ?it/s]\n"
     ]
    },
    {
     "name": "stdout",
     "output_type": "stream",
     "text": [
      "/home/mengdi/yuxiang.ye/DN_AI_frame/dataset/lidc/npz_seg/LIDC-IDRI-0647.npz\n"
     ]
    },
    {
     "name": "stderr",
     "output_type": "stream",
     "text": [
      "\r",
      " 64%|██████▎   | 643/1010 [01:47<1:35:47, 15.66s/it]"
     ]
    },
    {
     "name": "stdout",
     "output_type": "stream",
     "text": [
      "LIDC-IDRI-0647\n",
      "/home/mengdi/yuxiang.ye/DN_AI_frame/dataset/lidc/npz_seg/LIDC-IDRI-0648.npz\n",
      "LIDC-IDRI-0648\n"
     ]
    },
    {
     "name": "stderr",
     "output_type": "stream",
     "text": [
      "100%|██████████| 2/2 [00:00<00:00, 15.80it/s]38s/it]\n",
      "100%|██████████| 7/7 [00:02<00:00,  2.65it/s]\n"
     ]
    },
    {
     "name": "stdout",
     "output_type": "stream",
     "text": [
      "/home/mengdi/yuxiang.ye/DN_AI_frame/dataset/lidc/npz_seg/LIDC-IDRI-0649.npz\n"
     ]
    },
    {
     "name": "stderr",
     "output_type": "stream",
     "text": [
      "\r",
      " 64%|██████▍   | 645/1010 [03:07<3:09:50, 31.21s/it]"
     ]
    },
    {
     "name": "stdout",
     "output_type": "stream",
     "text": [
      "LIDC-IDRI-0649\n",
      "/home/mengdi/yuxiang.ye/DN_AI_frame/dataset/lidc/npz_seg/LIDC-IDRI-0650.npz\n",
      "LIDC-IDRI-0650\n"
     ]
    },
    {
     "name": "stderr",
     "output_type": "stream",
     "text": [
      "100%|██████████| 2/2 [00:00<00:00,  9.70it/s]s]s/it]\n",
      "100%|██████████| 37/37 [00:02<00:00, 13.49it/s]\n"
     ]
    },
    {
     "name": "stdout",
     "output_type": "stream",
     "text": [
      "/home/mengdi/yuxiang.ye/DN_AI_frame/dataset/lidc/npz_seg/LIDC-IDRI-0651.npz\n"
     ]
    },
    {
     "name": "stderr",
     "output_type": "stream",
     "text": [
      "\r",
      " 64%|██████▍   | 647/1010 [03:53<2:54:06, 28.78s/it]"
     ]
    },
    {
     "name": "stdout",
     "output_type": "stream",
     "text": [
      "LIDC-IDRI-0651\n",
      "/home/mengdi/yuxiang.ye/DN_AI_frame/dataset/lidc/npz_seg/LIDC-IDRI-0652.npz\n"
     ]
    },
    {
     "name": "stderr",
     "output_type": "stream",
     "text": [
      "\r",
      " 64%|██████▍   | 648/1010 [03:56<2:08:07, 21.24s/it]"
     ]
    },
    {
     "name": "stdout",
     "output_type": "stream",
     "text": [
      "LIDC-IDRI-0652\n"
     ]
    },
    {
     "name": "stderr",
     "output_type": "stream",
     "text": [
      "100%|██████████| 3/3 [00:00<00:00, 39.13it/s]\n",
      "100%|██████████| 12/12 [00:06<00:00,  1.88it/s]\n"
     ]
    },
    {
     "name": "stdout",
     "output_type": "stream",
     "text": [
      "/home/mengdi/yuxiang.ye/DN_AI_frame/dataset/lidc/npz_seg/LIDC-IDRI-0653.npz\n"
     ]
    },
    {
     "name": "stderr",
     "output_type": "stream",
     "text": [
      "\r",
      " 64%|██████▍   | 649/1010 [04:24<2:19:31, 23.19s/it]"
     ]
    },
    {
     "name": "stdout",
     "output_type": "stream",
     "text": [
      "LIDC-IDRI-0653\n"
     ]
    },
    {
     "name": "stderr",
     "output_type": "stream",
     "text": [
      "0it [00:00, ?it/s]\n"
     ]
    },
    {
     "name": "stdout",
     "output_type": "stream",
     "text": [
      "/home/mengdi/yuxiang.ye/DN_AI_frame/dataset/lidc/npz_seg/LIDC-IDRI-0654.npz\n"
     ]
    },
    {
     "name": "stderr",
     "output_type": "stream",
     "text": [
      "\r",
      " 64%|██████▍   | 650/1010 [04:49<2:23:13, 23.87s/it]"
     ]
    },
    {
     "name": "stdout",
     "output_type": "stream",
     "text": [
      "LIDC-IDRI-0654\n",
      "/home/mengdi/yuxiang.ye/DN_AI_frame/dataset/lidc/npz_seg/LIDC-IDRI-0655.npz\n",
      "LIDC-IDRI-0655\n"
     ]
    },
    {
     "name": "stderr",
     "output_type": "stream",
     "text": [
      "100%|██████████| 2/2 [00:00<00:00, 14.38it/s]22s/it]\n",
      "100%|██████████| 26/26 [00:08<00:00,  3.31it/s]\n"
     ]
    },
    {
     "name": "stdout",
     "output_type": "stream",
     "text": [
      "/home/mengdi/yuxiang.ye/DN_AI_frame/dataset/lidc/npz_seg/LIDC-IDRI-0656.npz\n",
      "LIDC-IDRI-0656\n"
     ]
    },
    {
     "name": "stderr",
     "output_type": "stream",
     "text": [
      "100%|██████████| 7/7 [00:00<00:00, 12.44it/s]91s/it]\n"
     ]
    },
    {
     "name": "stdout",
     "output_type": "stream",
     "text": [
      "/home/mengdi/yuxiang.ye/DN_AI_frame/dataset/lidc/npz_seg/LIDC-IDRI-0657.npz\n",
      "LIDC-IDRI-0657\n"
     ]
    },
    {
     "name": "stderr",
     "output_type": "stream",
     "text": [
      "100%|██████████| 2/2 [00:00<00:00,  6.38it/s]09s/it]\n"
     ]
    },
    {
     "name": "stdout",
     "output_type": "stream",
     "text": [
      "/home/mengdi/yuxiang.ye/DN_AI_frame/dataset/lidc/npz_seg/LIDC-IDRI-0658.npz\n",
      "LIDC-IDRI-0658\n"
     ]
    },
    {
     "name": "stderr",
     "output_type": "stream",
     "text": [
      "100%|██████████| 4/4 [00:00<00:00, 11.24it/s]67s/it]\n"
     ]
    },
    {
     "name": "stdout",
     "output_type": "stream",
     "text": [
      "/home/mengdi/yuxiang.ye/DN_AI_frame/dataset/lidc/npz_seg/LIDC-IDRI-0659.npz\n"
     ]
    },
    {
     "name": "stderr",
     "output_type": "stream",
     "text": [
      "\r",
      " 65%|██████▍   | 655/1010 [06:59<2:50:56, 28.89s/it]"
     ]
    },
    {
     "name": "stdout",
     "output_type": "stream",
     "text": [
      "LIDC-IDRI-0659\n",
      "/home/mengdi/yuxiang.ye/DN_AI_frame/dataset/lidc/npz_seg/LIDC-IDRI-0660.npz\n"
     ]
    },
    {
     "name": "stderr",
     "output_type": "stream",
     "text": [
      "\r",
      " 65%|██████▍   | 656/1010 [07:04<2:08:28, 21.78s/it]"
     ]
    },
    {
     "name": "stdout",
     "output_type": "stream",
     "text": [
      "LIDC-IDRI-0660\n"
     ]
    },
    {
     "name": "stderr",
     "output_type": "stream",
     "text": [
      "100%|██████████| 8/8 [00:01<00:00,  7.70it/s]\n",
      "100%|██████████| 14/14 [00:01<00:00,  5.99it/s]\n"
     ]
    },
    {
     "name": "stdout",
     "output_type": "stream",
     "text": [
      "/home/mengdi/yuxiang.ye/DN_AI_frame/dataset/lidc/npz_seg/LIDC-IDRI-0661.npz\n"
     ]
    },
    {
     "name": "stderr",
     "output_type": "stream",
     "text": [
      "\r",
      " 65%|██████▌   | 657/1010 [07:15<1:48:19, 18.41s/it]"
     ]
    },
    {
     "name": "stdout",
     "output_type": "stream",
     "text": [
      "LIDC-IDRI-0661\n"
     ]
    },
    {
     "name": "stderr",
     "output_type": "stream",
     "text": [
      "100%|██████████| 11/11 [00:03<00:00,  3.49it/s]\n"
     ]
    },
    {
     "name": "stdout",
     "output_type": "stream",
     "text": [
      "/home/mengdi/yuxiang.ye/DN_AI_frame/dataset/lidc/npz_seg/LIDC-IDRI-0662.npz\n"
     ]
    },
    {
     "name": "stderr",
     "output_type": "stream",
     "text": [
      "\r",
      " 65%|██████▌   | 658/1010 [07:49<2:15:44, 23.14s/it]"
     ]
    },
    {
     "name": "stdout",
     "output_type": "stream",
     "text": [
      "LIDC-IDRI-0662\n"
     ]
    },
    {
     "name": "stderr",
     "output_type": "stream",
     "text": [
      "100%|██████████| 9/9 [00:00<00:00, 14.88it/s]\n"
     ]
    },
    {
     "name": "stdout",
     "output_type": "stream",
     "text": [
      "/home/mengdi/yuxiang.ye/DN_AI_frame/dataset/lidc/npz_seg/LIDC-IDRI-0663.npz\n"
     ]
    },
    {
     "name": "stderr",
     "output_type": "stream",
     "text": [
      "\r",
      " 65%|██████▌   | 659/1010 [07:58<1:51:21, 19.04s/it]"
     ]
    },
    {
     "name": "stdout",
     "output_type": "stream",
     "text": [
      "LIDC-IDRI-0663\n"
     ]
    },
    {
     "name": "stderr",
     "output_type": "stream",
     "text": [
      "100%|██████████| 8/8 [00:01<00:00,  7.49it/s]\n"
     ]
    },
    {
     "name": "stdout",
     "output_type": "stream",
     "text": [
      "/home/mengdi/yuxiang.ye/DN_AI_frame/dataset/lidc/npz_seg/LIDC-IDRI-0664.npz\n",
      "LIDC-IDRI-0664\n"
     ]
    },
    {
     "name": "stderr",
     "output_type": "stream",
     "text": [
      "100%|██████████| 1/1 [00:00<00:00,  7.22it/s]74s/it]\n"
     ]
    },
    {
     "name": "stdout",
     "output_type": "stream",
     "text": [
      "/home/mengdi/yuxiang.ye/DN_AI_frame/dataset/lidc/npz_seg/LIDC-IDRI-0665.npz\n",
      "LIDC-IDRI-0665\n"
     ]
    },
    {
     "name": "stderr",
     "output_type": "stream",
     "text": [
      "0it [00:00, ?it/s]61/1010 [09:18<2:59:12, 30.81s/it]\n"
     ]
    },
    {
     "name": "stdout",
     "output_type": "stream",
     "text": [
      "/home/mengdi/yuxiang.ye/DN_AI_frame/dataset/lidc/npz_seg/LIDC-IDRI-0666.npz\n",
      "LIDC-IDRI-0666\n"
     ]
    },
    {
     "name": "stderr",
     "output_type": "stream",
     "text": [
      "100%|██████████| 6/6 [00:00<00:00, 19.96it/s]27s/it]\n"
     ]
    },
    {
     "name": "stdout",
     "output_type": "stream",
     "text": [
      "/home/mengdi/yuxiang.ye/DN_AI_frame/dataset/lidc/npz_seg/LIDC-IDRI-0667.npz\n",
      "LIDC-IDRI-0667\n"
     ]
    },
    {
     "name": "stderr",
     "output_type": "stream",
     "text": [
      "\r",
      " 66%|██████▌   | 663/1010 [09:59<2:26:34, 25.34s/it]"
     ]
    },
    {
     "name": "stdout",
     "output_type": "stream",
     "text": [
      "/home/mengdi/yuxiang.ye/DN_AI_frame/dataset/lidc/npz_seg/LIDC-IDRI-0668.npz\n",
      "LIDC-IDRI-0668\n"
     ]
    },
    {
     "name": "stderr",
     "output_type": "stream",
     "text": [
      "0it [00:00, ?it/s]64/1010 [10:04<1:50:08, 19.10s/it]\n",
      "0it [00:00, ?it/s]\n"
     ]
    },
    {
     "name": "stdout",
     "output_type": "stream",
     "text": [
      "/home/mengdi/yuxiang.ye/DN_AI_frame/dataset/lidc/npz_seg/LIDC-IDRI-0669.npz\n"
     ]
    },
    {
     "name": "stderr",
     "output_type": "stream",
     "text": [
      "\r",
      " 66%|██████▌   | 665/1010 [10:26<1:55:52, 20.15s/it]"
     ]
    },
    {
     "name": "stdout",
     "output_type": "stream",
     "text": [
      "LIDC-IDRI-0669\n"
     ]
    },
    {
     "name": "stderr",
     "output_type": "stream",
     "text": [
      "100%|██████████| 2/2 [00:00<00:00,  8.53it/s]\n"
     ]
    },
    {
     "name": "stdout",
     "output_type": "stream",
     "text": [
      "/home/mengdi/yuxiang.ye/DN_AI_frame/dataset/lidc/npz_seg/LIDC-IDRI-0670.npz\n"
     ]
    },
    {
     "name": "stderr",
     "output_type": "stream",
     "text": [
      "\r",
      " 66%|██████▌   | 666/1010 [10:55<2:10:07, 22.70s/it]"
     ]
    },
    {
     "name": "stdout",
     "output_type": "stream",
     "text": [
      "LIDC-IDRI-0670\n"
     ]
    },
    {
     "name": "stderr",
     "output_type": "stream",
     "text": [
      "100%|██████████| 1/1 [00:00<00:00,  8.57it/s]\n"
     ]
    },
    {
     "name": "stdout",
     "output_type": "stream",
     "text": [
      "/home/mengdi/yuxiang.ye/DN_AI_frame/dataset/lidc/npz_seg/LIDC-IDRI-0671.npz\n"
     ]
    },
    {
     "name": "stderr",
     "output_type": "stream",
     "text": [
      "\r",
      " 66%|██████▌   | 667/1010 [11:06<1:50:16, 19.29s/it]"
     ]
    },
    {
     "name": "stdout",
     "output_type": "stream",
     "text": [
      "LIDC-IDRI-0671\n"
     ]
    },
    {
     "name": "stderr",
     "output_type": "stream",
     "text": [
      " 17%|█▋        | 3/18 [00:00<00:02,  5.30it/s]"
     ]
    },
    {
     "name": "stdout",
     "output_type": "stream",
     "text": [
      "/home/mengdi/yuxiang.ye/DN_AI_frame/dataset/lidc/npz_seg/LIDC-IDRI-0672.npz\n"
     ]
    },
    {
     "name": "stderr",
     "output_type": "stream",
     "text": [
      " 66%|██████▌   | 668/1010 [11:15<1:31:08, 15.99s/it]"
     ]
    },
    {
     "name": "stdout",
     "output_type": "stream",
     "text": [
      "LIDC-IDRI-0672\n"
     ]
    },
    {
     "name": "stderr",
     "output_type": "stream",
     "text": [
      "100%|██████████| 18/18 [00:04<00:00,  3.25it/s]\n",
      "100%|██████████| 4/4 [00:00<00:00,  5.93it/s]\n"
     ]
    },
    {
     "name": "stdout",
     "output_type": "stream",
     "text": [
      "/home/mengdi/yuxiang.ye/DN_AI_frame/dataset/lidc/npz_seg/LIDC-IDRI-0673.npz\n",
      "LIDC-IDRI-0673\n"
     ]
    },
    {
     "name": "stderr",
     "output_type": "stream",
     "text": [
      "100%|██████████| 12/12 [00:01<00:00,  5.55it/s]s/it]\n"
     ]
    },
    {
     "name": "stdout",
     "output_type": "stream",
     "text": [
      "/home/mengdi/yuxiang.ye/DN_AI_frame/dataset/lidc/npz_seg/LIDC-IDRI-0674.npz\n",
      "LIDC-IDRI-0674\n"
     ]
    },
    {
     "name": "stderr",
     "output_type": "stream",
     "text": [
      "100%|██████████| 10/10 [00:00<00:00, 14.48it/s]s/it]\n"
     ]
    },
    {
     "name": "stdout",
     "output_type": "stream",
     "text": [
      "/home/mengdi/yuxiang.ye/DN_AI_frame/dataset/lidc/npz_seg/LIDC-IDRI-0675.npz\n",
      "LIDC-IDRI-0675\n"
     ]
    },
    {
     "name": "stderr",
     "output_type": "stream",
     "text": [
      "100%|██████████| 1/1 [00:00<00:00, 44.09it/s]20s/it]\n"
     ]
    },
    {
     "name": "stdout",
     "output_type": "stream",
     "text": [
      "/home/mengdi/yuxiang.ye/DN_AI_frame/dataset/lidc/npz_seg/LIDC-IDRI-0676.npz\n",
      "LIDC-IDRI-0676\n"
     ]
    },
    {
     "name": "stderr",
     "output_type": "stream",
     "text": [
      "\r",
      " 67%|██████▋   | 672/1010 [13:11<2:11:41, 23.38s/it]"
     ]
    },
    {
     "name": "stdout",
     "output_type": "stream",
     "text": [
      "/home/mengdi/yuxiang.ye/DN_AI_frame/dataset/lidc/npz_seg/LIDC-IDRI-0677.npz\n",
      "LIDC-IDRI-0677\n"
     ]
    },
    {
     "name": "stderr",
     "output_type": "stream",
     "text": [
      "100%|██████████| 2/2 [00:00<00:00, 28.15it/s]14s/it]\n",
      "100%|██████████| 4/4 [00:00<00:00,  7.60it/s]\n"
     ]
    },
    {
     "name": "stdout",
     "output_type": "stream",
     "text": [
      "/home/mengdi/yuxiang.ye/DN_AI_frame/dataset/lidc/npz_seg/LIDC-IDRI-0678.npz\n",
      "LIDC-IDRI-0678\n"
     ]
    },
    {
     "name": "stderr",
     "output_type": "stream",
     "text": [
      "100%|██████████| 4/4 [00:00<00:00,  8.55it/s]28s/it]\n"
     ]
    },
    {
     "name": "stdout",
     "output_type": "stream",
     "text": [
      "/home/mengdi/yuxiang.ye/DN_AI_frame/dataset/lidc/npz_seg/LIDC-IDRI-0679.npz\n",
      "LIDC-IDRI-0679\n"
     ]
    },
    {
     "name": "stderr",
     "output_type": "stream",
     "text": [
      "0it [00:00, ?it/s]75/1010 [14:04<1:55:31, 20.69s/it]\n"
     ]
    },
    {
     "name": "stdout",
     "output_type": "stream",
     "text": [
      "/home/mengdi/yuxiang.ye/DN_AI_frame/dataset/lidc/npz_seg/LIDC-IDRI-0680.npz\n"
     ]
    },
    {
     "name": "stderr",
     "output_type": "stream",
     "text": [
      "\r",
      " 67%|██████▋   | 676/1010 [14:24<1:54:07, 20.50s/it]"
     ]
    },
    {
     "name": "stdout",
     "output_type": "stream",
     "text": [
      "LIDC-IDRI-0680\n",
      "/home/mengdi/yuxiang.ye/DN_AI_frame/dataset/lidc/npz_seg/LIDC-IDRI-0681.npz\n"
     ]
    },
    {
     "name": "stderr",
     "output_type": "stream",
     "text": [
      "\r",
      " 67%|██████▋   | 677/1010 [14:26<1:21:36, 14.70s/it]"
     ]
    },
    {
     "name": "stdout",
     "output_type": "stream",
     "text": [
      "LIDC-IDRI-0681\n"
     ]
    },
    {
     "name": "stderr",
     "output_type": "stream",
     "text": [
      "100%|██████████| 2/2 [00:00<00:00,  4.05it/s]\n",
      "100%|██████████| 4/4 [00:02<00:00,  1.58it/s]\n"
     ]
    },
    {
     "name": "stdout",
     "output_type": "stream",
     "text": [
      "/home/mengdi/yuxiang.ye/DN_AI_frame/dataset/lidc/npz_seg/LIDC-IDRI-0682.npz\n"
     ]
    },
    {
     "name": "stderr",
     "output_type": "stream",
     "text": [
      "\r",
      " 67%|██████▋   | 678/1010 [14:44<1:27:44, 15.86s/it]"
     ]
    },
    {
     "name": "stdout",
     "output_type": "stream",
     "text": [
      "LIDC-IDRI-0682\n"
     ]
    },
    {
     "name": "stderr",
     "output_type": "stream",
     "text": [
      "100%|██████████| 7/7 [00:00<00:00,  6.97it/s]\n"
     ]
    },
    {
     "name": "stdout",
     "output_type": "stream",
     "text": [
      "/home/mengdi/yuxiang.ye/DN_AI_frame/dataset/lidc/npz_seg/LIDC-IDRI-0683.npz\n"
     ]
    },
    {
     "name": "stderr",
     "output_type": "stream",
     "text": [
      "\r",
      " 67%|██████▋   | 679/1010 [15:41<2:35:03, 28.11s/it]"
     ]
    },
    {
     "name": "stdout",
     "output_type": "stream",
     "text": [
      "LIDC-IDRI-0683\n"
     ]
    },
    {
     "name": "stderr",
     "output_type": "stream",
     "text": [
      "0it [00:00, ?it/s]\n"
     ]
    },
    {
     "name": "stdout",
     "output_type": "stream",
     "text": [
      "/home/mengdi/yuxiang.ye/DN_AI_frame/dataset/lidc/npz_seg/LIDC-IDRI-0684.npz\n"
     ]
    },
    {
     "name": "stderr",
     "output_type": "stream",
     "text": [
      "\r",
      " 67%|██████▋   | 680/1010 [15:50<2:03:54, 22.53s/it]"
     ]
    },
    {
     "name": "stdout",
     "output_type": "stream",
     "text": [
      "LIDC-IDRI-0684\n",
      "/home/mengdi/yuxiang.ye/DN_AI_frame/dataset/lidc/npz_seg/LIDC-IDRI-0685.npz\n"
     ]
    },
    {
     "name": "stderr",
     "output_type": "stream",
     "text": [
      "\r",
      " 67%|██████▋   | 681/1010 [16:02<1:45:28, 19.24s/it]"
     ]
    },
    {
     "name": "stdout",
     "output_type": "stream",
     "text": [
      "LIDC-IDRI-0685\n"
     ]
    },
    {
     "name": "stderr",
     "output_type": "stream",
     "text": [
      "100%|██████████| 3/3 [00:00<00:00,  9.13it/s]\n",
      "0it [00:00, ?it/s]\n"
     ]
    },
    {
     "name": "stdout",
     "output_type": "stream",
     "text": [
      "/home/mengdi/yuxiang.ye/DN_AI_frame/dataset/lidc/npz_seg/LIDC-IDRI-0686.npz\n"
     ]
    },
    {
     "name": "stderr",
     "output_type": "stream",
     "text": [
      "\r",
      " 68%|██████▊   | 682/1010 [16:11<1:28:56, 16.27s/it]"
     ]
    },
    {
     "name": "stdout",
     "output_type": "stream",
     "text": [
      "LIDC-IDRI-0686\n"
     ]
    },
    {
     "name": "stderr",
     "output_type": "stream",
     "text": [
      "100%|██████████| 49/49 [00:06<00:00,  7.12it/s]\n"
     ]
    },
    {
     "name": "stdout",
     "output_type": "stream",
     "text": [
      "/home/mengdi/yuxiang.ye/DN_AI_frame/dataset/lidc/npz_seg/LIDC-IDRI-0687.npz\n",
      "LIDC-IDRI-0687\n"
     ]
    },
    {
     "name": "stderr",
     "output_type": "stream",
     "text": [
      "100%|██████████| 9/9 [00:00<00:00, 25.75it/s]97s/it]\n"
     ]
    },
    {
     "name": "stdout",
     "output_type": "stream",
     "text": [
      "/home/mengdi/yuxiang.ye/DN_AI_frame/dataset/lidc/npz_seg/LIDC-IDRI-0688.npz\n"
     ]
    },
    {
     "name": "stderr",
     "output_type": "stream",
     "text": [
      "\r",
      " 68%|██████▊   | 684/1010 [17:14<2:05:32, 23.11s/it]"
     ]
    },
    {
     "name": "stdout",
     "output_type": "stream",
     "text": [
      "LIDC-IDRI-0688\n",
      "/home/mengdi/yuxiang.ye/DN_AI_frame/dataset/lidc/npz_seg/LIDC-IDRI-0689.npz\n",
      "LIDC-IDRI-0689\n"
     ]
    },
    {
     "name": "stderr",
     "output_type": "stream",
     "text": [
      "0it [00:00, ?it/s]/6 [00:00<?, ?it/s]:39, 17.29s/it]\n",
      "100%|██████████| 6/6 [00:03<00:00,  1.76it/s]\n"
     ]
    },
    {
     "name": "stdout",
     "output_type": "stream",
     "text": [
      "/home/mengdi/yuxiang.ye/DN_AI_frame/dataset/lidc/npz_seg/LIDC-IDRI-0690.npz\n",
      "LIDC-IDRI-0690\n"
     ]
    },
    {
     "name": "stderr",
     "output_type": "stream",
     "text": [
      "0it [00:00, ?it/s]86/1010 [18:06<2:23:40, 26.61s/it]\n"
     ]
    },
    {
     "name": "stdout",
     "output_type": "stream",
     "text": [
      "/home/mengdi/yuxiang.ye/DN_AI_frame/dataset/lidc/npz_seg/LIDC-IDRI-0691.npz\n",
      "LIDC-IDRI-0691\n"
     ]
    },
    {
     "name": "stderr",
     "output_type": "stream",
     "text": [
      "0it [00:00, ?it/s]87/1010 [18:22<2:05:53, 23.39s/it]\n"
     ]
    },
    {
     "name": "stdout",
     "output_type": "stream",
     "text": [
      "/home/mengdi/yuxiang.ye/DN_AI_frame/dataset/lidc/npz_seg/LIDC-IDRI-0692.npz\n"
     ]
    },
    {
     "name": "stderr",
     "output_type": "stream",
     "text": [
      "\r",
      " 68%|██████▊   | 688/1010 [18:28<1:36:33, 17.99s/it]"
     ]
    },
    {
     "name": "stdout",
     "output_type": "stream",
     "text": [
      "LIDC-IDRI-0692\n",
      "/home/mengdi/yuxiang.ye/DN_AI_frame/dataset/lidc/npz_seg/LIDC-IDRI-0693.npz\n"
     ]
    },
    {
     "name": "stderr",
     "output_type": "stream",
     "text": [
      "\r",
      " 68%|██████▊   | 689/1010 [18:30<1:11:14, 13.32s/it]"
     ]
    },
    {
     "name": "stdout",
     "output_type": "stream",
     "text": [
      "LIDC-IDRI-0693\n"
     ]
    },
    {
     "name": "stderr",
     "output_type": "stream",
     "text": [
      "100%|██████████| 3/3 [00:00<00:00, 24.88it/s]\n",
      "100%|██████████| 1/1 [00:00<00:00, 23.05it/s]\n"
     ]
    },
    {
     "name": "stdout",
     "output_type": "stream",
     "text": [
      "/home/mengdi/yuxiang.ye/DN_AI_frame/dataset/lidc/npz_seg/LIDC-IDRI-0694.npz\n"
     ]
    },
    {
     "name": "stderr",
     "output_type": "stream",
     "text": [
      "\r",
      " 68%|██████▊   | 690/1010 [18:42<1:08:55, 12.92s/it]"
     ]
    },
    {
     "name": "stdout",
     "output_type": "stream",
     "text": [
      "LIDC-IDRI-0694\n"
     ]
    },
    {
     "name": "stderr",
     "output_type": "stream",
     "text": [
      "100%|██████████| 4/4 [00:00<00:00, 15.51it/s]\n"
     ]
    },
    {
     "name": "stdout",
     "output_type": "stream",
     "text": [
      "/home/mengdi/yuxiang.ye/DN_AI_frame/dataset/lidc/npz_seg/LIDC-IDRI-0695.npz\n"
     ]
    },
    {
     "name": "stderr",
     "output_type": "stream",
     "text": [
      "\r",
      " 68%|██████▊   | 691/1010 [18:54<1:06:46, 12.56s/it]"
     ]
    },
    {
     "name": "stdout",
     "output_type": "stream",
     "text": [
      "LIDC-IDRI-0695\n"
     ]
    },
    {
     "name": "stderr",
     "output_type": "stream",
     "text": [
      "100%|██████████| 6/6 [00:00<00:00, 18.52it/s]\n"
     ]
    },
    {
     "name": "stdout",
     "output_type": "stream",
     "text": [
      "/home/mengdi/yuxiang.ye/DN_AI_frame/dataset/lidc/npz_seg/LIDC-IDRI-0696.npz\n"
     ]
    },
    {
     "name": "stderr",
     "output_type": "stream",
     "text": [
      "\r",
      " 69%|██████▊   | 692/1010 [19:03<1:01:47, 11.66s/it]"
     ]
    },
    {
     "name": "stdout",
     "output_type": "stream",
     "text": [
      "LIDC-IDRI-0696\n",
      "/home/mengdi/yuxiang.ye/DN_AI_frame/dataset/lidc/npz_seg/LIDC-IDRI-0697.npz\n"
     ]
    },
    {
     "name": "stderr",
     "output_type": "stream",
     "text": [
      "\r",
      " 69%|██████▊   | 693/1010 [19:12<57:39, 10.91s/it]  "
     ]
    },
    {
     "name": "stdout",
     "output_type": "stream",
     "text": [
      "LIDC-IDRI-0697\n"
     ]
    },
    {
     "name": "stderr",
     "output_type": "stream",
     "text": [
      "100%|██████████| 4/4 [00:00<00:00, 14.38it/s]\n",
      "100%|██████████| 4/4 [00:03<00:00,  1.30it/s]\n"
     ]
    },
    {
     "name": "stdout",
     "output_type": "stream",
     "text": [
      "/home/mengdi/yuxiang.ye/DN_AI_frame/dataset/lidc/npz_seg/LIDC-IDRI-0698.npz\n"
     ]
    },
    {
     "name": "stderr",
     "output_type": "stream",
     "text": [
      "\r",
      " 69%|██████▊   | 694/1010 [19:55<1:47:00, 20.32s/it]"
     ]
    },
    {
     "name": "stdout",
     "output_type": "stream",
     "text": [
      "LIDC-IDRI-0698\n",
      "/home/mengdi/yuxiang.ye/DN_AI_frame/dataset/lidc/npz_seg/LIDC-IDRI-0699.npz\n"
     ]
    },
    {
     "name": "stderr",
     "output_type": "stream",
     "text": [
      "\r",
      " 69%|██████▉   | 695/1010 [20:08<1:35:11, 18.13s/it]"
     ]
    },
    {
     "name": "stdout",
     "output_type": "stream",
     "text": [
      "LIDC-IDRI-0699\n"
     ]
    },
    {
     "name": "stderr",
     "output_type": "stream",
     "text": [
      "100%|██████████| 4/4 [00:00<00:00, 16.49it/s]\n",
      "100%|██████████| 7/7 [00:07<00:00,  1.17s/it]\n"
     ]
    },
    {
     "name": "stdout",
     "output_type": "stream",
     "text": [
      "/home/mengdi/yuxiang.ye/DN_AI_frame/dataset/lidc/npz_seg/LIDC-IDRI-0700.npz\n",
      "LIDC-IDRI-0700\n"
     ]
    },
    {
     "name": "stderr",
     "output_type": "stream",
     "text": [
      "100%|██████████| 3/3 [00:00<00:00,  5.42it/s]91s/it]\n"
     ]
    },
    {
     "name": "stdout",
     "output_type": "stream",
     "text": [
      "/home/mengdi/yuxiang.ye/DN_AI_frame/dataset/lidc/npz_seg/LIDC-IDRI-0701.npz\n",
      "LIDC-IDRI-0701\n"
     ]
    },
    {
     "name": "stderr",
     "output_type": "stream",
     "text": [
      "  7%|▋         | 1/15 [00:00<00:07,  1.85it/s]0s/it]"
     ]
    },
    {
     "name": "stdout",
     "output_type": "stream",
     "text": [
      "/home/mengdi/yuxiang.ye/DN_AI_frame/dataset/lidc/npz_seg/LIDC-IDRI-0702.npz\n"
     ]
    },
    {
     "name": "stderr",
     "output_type": "stream",
     "text": [
      " 27%|██▋       | 4/15 [00:00<00:03,  3.02it/s]0s/it]"
     ]
    },
    {
     "name": "stdout",
     "output_type": "stream",
     "text": [
      "LIDC-IDRI-0702\n"
     ]
    },
    {
     "name": "stderr",
     "output_type": "stream",
     "text": [
      "100%|██████████| 15/15 [00:06<00:00,  2.13it/s]\n",
      "100%|██████████| 13/13 [00:06<00:00,  2.68it/s]\n"
     ]
    },
    {
     "name": "stdout",
     "output_type": "stream",
     "text": [
      "/home/mengdi/yuxiang.ye/DN_AI_frame/dataset/lidc/npz_seg/LIDC-IDRI-0703.npz\n"
     ]
    },
    {
     "name": "stderr",
     "output_type": "stream",
     "text": [
      "\r",
      " 69%|██████▉   | 699/1010 [22:02<2:16:51, 26.40s/it]"
     ]
    },
    {
     "name": "stdout",
     "output_type": "stream",
     "text": [
      "LIDC-IDRI-0703\n"
     ]
    },
    {
     "name": "stderr",
     "output_type": "stream",
     "text": [
      "100%|██████████| 6/6 [00:03<00:00,  1.15s/it]\n"
     ]
    },
    {
     "name": "stdout",
     "output_type": "stream",
     "text": [
      "/home/mengdi/yuxiang.ye/DN_AI_frame/dataset/lidc/npz_seg/LIDC-IDRI-0704.npz\n"
     ]
    },
    {
     "name": "stderr",
     "output_type": "stream",
     "text": [
      "\r",
      " 69%|██████▉   | 700/1010 [22:28<2:15:30, 26.23s/it]"
     ]
    },
    {
     "name": "stdout",
     "output_type": "stream",
     "text": [
      "LIDC-IDRI-0704\n",
      "/home/mengdi/yuxiang.ye/DN_AI_frame/dataset/lidc/npz_seg/LIDC-IDRI-0705.npz\n"
     ]
    },
    {
     "name": "stderr",
     "output_type": "stream",
     "text": [
      "\r",
      " 69%|██████▉   | 701/1010 [22:41<1:54:50, 22.30s/it]"
     ]
    },
    {
     "name": "stdout",
     "output_type": "stream",
     "text": [
      "LIDC-IDRI-0705\n"
     ]
    },
    {
     "name": "stderr",
     "output_type": "stream",
     "text": [
      "100%|██████████| 6/6 [00:00<00:00,  6.73it/s]\n",
      "100%|██████████| 11/11 [00:02<00:00,  3.93it/s]\n"
     ]
    },
    {
     "name": "stdout",
     "output_type": "stream",
     "text": [
      "/home/mengdi/yuxiang.ye/DN_AI_frame/dataset/lidc/npz_seg/LIDC-IDRI-0706.npz\n"
     ]
    },
    {
     "name": "stderr",
     "output_type": "stream",
     "text": [
      "\r",
      " 70%|██████▉   | 702/1010 [23:55<3:13:25, 37.68s/it]"
     ]
    },
    {
     "name": "stdout",
     "output_type": "stream",
     "text": [
      "LIDC-IDRI-0706\n"
     ]
    },
    {
     "name": "stderr",
     "output_type": "stream",
     "text": [
      "100%|██████████| 4/4 [00:00<00:00, 15.59it/s]\n"
     ]
    },
    {
     "name": "stdout",
     "output_type": "stream",
     "text": [
      "/home/mengdi/yuxiang.ye/DN_AI_frame/dataset/lidc/npz_seg/LIDC-IDRI-0707.npz\n"
     ]
    },
    {
     "name": "stderr",
     "output_type": "stream",
     "text": [
      "\r",
      " 70%|██████▉   | 703/1010 [24:03<2:28:08, 28.95s/it]"
     ]
    },
    {
     "name": "stdout",
     "output_type": "stream",
     "text": [
      "LIDC-IDRI-0707\n"
     ]
    },
    {
     "name": "stderr",
     "output_type": "stream",
     "text": [
      " 58%|█████▊    | 7/12 [00:00<00:00, 19.71it/s]"
     ]
    },
    {
     "name": "stdout",
     "output_type": "stream",
     "text": [
      "/home/mengdi/yuxiang.ye/DN_AI_frame/dataset/lidc/npz_seg/LIDC-IDRI-0708.npz\n"
     ]
    },
    {
     "name": "stderr",
     "output_type": "stream",
     "text": [
      "\n",
      " 70%|██████▉   | 704/1010 [24:06<1:47:48, 21.14s/it]"
     ]
    },
    {
     "name": "stdout",
     "output_type": "stream",
     "text": [
      "LIDC-IDRI-0708\n"
     ]
    },
    {
     "name": "stderr",
     "output_type": "stream",
     "text": [
      "100%|██████████| 12/12 [00:00<00:00, 17.43it/s]"
     ]
    },
    {
     "name": "stdout",
     "output_type": "stream",
     "text": [
      "/home/mengdi/yuxiang.ye/DN_AI_frame/dataset/lidc/npz_seg/LIDC-IDRI-0709.npz\n",
      "LIDC-IDRI-0709\n"
     ]
    },
    {
     "name": "stderr",
     "output_type": "stream",
     "text": [
      "100%|██████████| 8/8 [00:01<00:00,  7.22it/s]99s/it]\n",
      "100%|██████████| 14/14 [00:03<00:00,  3.36it/s]\n"
     ]
    },
    {
     "name": "stdout",
     "output_type": "stream",
     "text": [
      "/home/mengdi/yuxiang.ye/DN_AI_frame/dataset/lidc/npz_seg/LIDC-IDRI-0710.npz\n"
     ]
    },
    {
     "name": "stderr",
     "output_type": "stream",
     "text": [
      "\r",
      " 70%|██████▉   | 706/1010 [24:21<1:13:45, 14.56s/it]"
     ]
    },
    {
     "name": "stdout",
     "output_type": "stream",
     "text": [
      "LIDC-IDRI-0710\n",
      "/home/mengdi/yuxiang.ye/DN_AI_frame/dataset/lidc/npz_seg/LIDC-IDRI-0711.npz\n",
      "LIDC-IDRI-0711\n"
     ]
    },
    {
     "name": "stderr",
     "output_type": "stream",
     "text": [
      "0it [00:00, ?it/s]07/1010 [24:26<58:06, 11.51s/it]  \n",
      "0it [00:00, ?it/s]\n"
     ]
    },
    {
     "name": "stdout",
     "output_type": "stream",
     "text": [
      "/home/mengdi/yuxiang.ye/DN_AI_frame/dataset/lidc/npz_seg/LIDC-IDRI-0712.npz\n"
     ]
    },
    {
     "name": "stderr",
     "output_type": "stream",
     "text": [
      "\r",
      " 70%|███████   | 708/1010 [24:49<1:16:30, 15.20s/it]"
     ]
    },
    {
     "name": "stdout",
     "output_type": "stream",
     "text": [
      "LIDC-IDRI-0712\n"
     ]
    },
    {
     "name": "stderr",
     "output_type": "stream",
     "text": [
      "100%|██████████| 7/7 [00:00<00:00, 13.51it/s]\n"
     ]
    },
    {
     "name": "stdout",
     "output_type": "stream",
     "text": [
      "/home/mengdi/yuxiang.ye/DN_AI_frame/dataset/lidc/npz_seg/LIDC-IDRI-0713.npz\n"
     ]
    },
    {
     "name": "stderr",
     "output_type": "stream",
     "text": [
      "\r",
      " 70%|███████   | 709/1010 [25:04<1:15:28, 15.04s/it]"
     ]
    },
    {
     "name": "stdout",
     "output_type": "stream",
     "text": [
      "LIDC-IDRI-0713\n"
     ]
    },
    {
     "name": "stderr",
     "output_type": "stream",
     "text": [
      "100%|██████████| 17/17 [00:01<00:00, 10.25it/s]\n"
     ]
    },
    {
     "name": "stdout",
     "output_type": "stream",
     "text": [
      "/home/mengdi/yuxiang.ye/DN_AI_frame/dataset/lidc/npz_seg/LIDC-IDRI-0714.npz\n"
     ]
    },
    {
     "name": "stderr",
     "output_type": "stream",
     "text": [
      "\r",
      " 70%|███████   | 710/1010 [25:14<1:06:56, 13.39s/it]"
     ]
    },
    {
     "name": "stdout",
     "output_type": "stream",
     "text": [
      "LIDC-IDRI-0714\n"
     ]
    },
    {
     "name": "stderr",
     "output_type": "stream",
     "text": [
      "100%|██████████| 2/2 [00:00<00:00,  3.19it/s]\n"
     ]
    },
    {
     "name": "stdout",
     "output_type": "stream",
     "text": [
      "/home/mengdi/yuxiang.ye/DN_AI_frame/dataset/lidc/npz_seg/LIDC-IDRI-0715.npz\n"
     ]
    },
    {
     "name": "stderr",
     "output_type": "stream",
     "text": [
      "\r",
      " 70%|███████   | 711/1010 [25:33<1:14:59, 15.05s/it]"
     ]
    },
    {
     "name": "stdout",
     "output_type": "stream",
     "text": [
      "LIDC-IDRI-0715\n"
     ]
    },
    {
     "name": "stderr",
     "output_type": "stream",
     "text": [
      "100%|██████████| 3/3 [00:03<00:00,  1.03s/it]\n"
     ]
    },
    {
     "name": "stdout",
     "output_type": "stream",
     "text": [
      "/home/mengdi/yuxiang.ye/DN_AI_frame/dataset/lidc/npz_seg/LIDC-IDRI-0716.npz\n",
      "LIDC-IDRI-0716\n"
     ]
    },
    {
     "name": "stderr",
     "output_type": "stream",
     "text": [
      "0it [00:00, ?it/s]12/1010 [25:54<1:24:37, 17.04s/it]\n"
     ]
    },
    {
     "name": "stdout",
     "output_type": "stream",
     "text": [
      "/home/mengdi/yuxiang.ye/DN_AI_frame/dataset/lidc/npz_seg/LIDC-IDRI-0717.npz\n"
     ]
    },
    {
     "name": "stderr",
     "output_type": "stream",
     "text": [
      "\r",
      " 71%|███████   | 713/1010 [26:19<1:35:10, 19.23s/it]"
     ]
    },
    {
     "name": "stdout",
     "output_type": "stream",
     "text": [
      "LIDC-IDRI-0717\n"
     ]
    },
    {
     "name": "stderr",
     "output_type": "stream",
     "text": [
      "100%|██████████| 6/6 [00:00<00:00,  7.50it/s]\n"
     ]
    },
    {
     "name": "stdout",
     "output_type": "stream",
     "text": [
      "/home/mengdi/yuxiang.ye/DN_AI_frame/dataset/lidc/npz_seg/LIDC-IDRI-0718.npz\n"
     ]
    },
    {
     "name": "stderr",
     "output_type": "stream",
     "text": [
      "\r",
      " 71%|███████   | 714/1010 [26:51<1:53:56, 23.10s/it]"
     ]
    },
    {
     "name": "stdout",
     "output_type": "stream",
     "text": [
      "LIDC-IDRI-0718\n",
      "/home/mengdi/yuxiang.ye/DN_AI_frame/dataset/lidc/npz_seg/LIDC-IDRI-0719.npz\n"
     ]
    },
    {
     "name": "stderr",
     "output_type": "stream",
     "text": [
      "\r",
      " 71%|███████   | 715/1010 [26:52<1:21:46, 16.63s/it]"
     ]
    },
    {
     "name": "stdout",
     "output_type": "stream",
     "text": [
      "LIDC-IDRI-0719\n"
     ]
    },
    {
     "name": "stderr",
     "output_type": "stream",
     "text": [
      "100%|██████████| 4/4 [00:00<00:00, 10.31it/s]\n"
     ]
    },
    {
     "name": "stdout",
     "output_type": "stream",
     "text": [
      "/home/mengdi/yuxiang.ye/DN_AI_frame/dataset/lidc/npz_seg/LIDC-IDRI-0720.npz\n"
     ]
    },
    {
     "name": "stderr",
     "output_type": "stream",
     "text": [
      "\r",
      " 71%|███████   | 716/1010 [27:01<1:09:26, 14.17s/it]"
     ]
    },
    {
     "name": "stdout",
     "output_type": "stream",
     "text": [
      "LIDC-IDRI-0720\n"
     ]
    },
    {
     "name": "stderr",
     "output_type": "stream",
     "text": [
      "0it [00:00, ?it/s]\n",
      "100%|██████████| 9/9 [00:01<00:00,  6.48it/s]\n"
     ]
    },
    {
     "name": "stdout",
     "output_type": "stream",
     "text": [
      "/home/mengdi/yuxiang.ye/DN_AI_frame/dataset/lidc/npz_seg/LIDC-IDRI-0721.npz\n",
      "LIDC-IDRI-0721\n"
     ]
    },
    {
     "name": "stderr",
     "output_type": "stream",
     "text": [
      "100%|██████████| 5/5 [00:00<00:00, 31.75it/s]46s/it]\n"
     ]
    },
    {
     "name": "stdout",
     "output_type": "stream",
     "text": [
      "/home/mengdi/yuxiang.ye/DN_AI_frame/dataset/lidc/npz_seg/LIDC-IDRI-0722.npz\n",
      "LIDC-IDRI-0722\n"
     ]
    },
    {
     "name": "stderr",
     "output_type": "stream",
     "text": [
      "\r",
      " 71%|███████   | 718/1010 [27:36<1:13:04, 15.02s/it]"
     ]
    },
    {
     "name": "stdout",
     "output_type": "stream",
     "text": [
      "/home/mengdi/yuxiang.ye/DN_AI_frame/dataset/lidc/npz_seg/LIDC-IDRI-0723.npz\n"
     ]
    },
    {
     "name": "stderr",
     "output_type": "stream",
     "text": [
      "\r",
      " 71%|███████   | 719/1010 [27:47<1:07:23, 13.89s/it]"
     ]
    },
    {
     "name": "stdout",
     "output_type": "stream",
     "text": [
      "LIDC-IDRI-0723\n"
     ]
    },
    {
     "name": "stderr",
     "output_type": "stream",
     "text": [
      "100%|██████████| 9/9 [00:02<00:00,  3.46it/s]\n",
      "100%|██████████| 4/4 [00:00<00:00, 11.31it/s]\n"
     ]
    },
    {
     "name": "stdout",
     "output_type": "stream",
     "text": [
      "/home/mengdi/yuxiang.ye/DN_AI_frame/dataset/lidc/npz_seg/LIDC-IDRI-0724.npz\n"
     ]
    },
    {
     "name": "stderr",
     "output_type": "stream",
     "text": [
      "\r",
      " 71%|███████▏  | 720/1010 [28:39<2:01:33, 25.15s/it]"
     ]
    },
    {
     "name": "stdout",
     "output_type": "stream",
     "text": [
      "LIDC-IDRI-0724\n"
     ]
    },
    {
     "name": "stderr",
     "output_type": "stream",
     "text": [
      "100%|██████████| 7/7 [00:00<00:00, 17.12it/s]\n"
     ]
    },
    {
     "name": "stdout",
     "output_type": "stream",
     "text": [
      "/home/mengdi/yuxiang.ye/DN_AI_frame/dataset/lidc/npz_seg/LIDC-IDRI-0725.npz\n"
     ]
    },
    {
     "name": "stderr",
     "output_type": "stream",
     "text": [
      "\r",
      " 71%|███████▏  | 721/1010 [28:46<1:34:57, 19.71s/it]"
     ]
    },
    {
     "name": "stdout",
     "output_type": "stream",
     "text": [
      "LIDC-IDRI-0725\n"
     ]
    },
    {
     "name": "stderr",
     "output_type": "stream",
     "text": [
      "100%|██████████| 2/2 [00:00<00:00, 17.29it/s]\n"
     ]
    },
    {
     "name": "stdout",
     "output_type": "stream",
     "text": [
      "/home/mengdi/yuxiang.ye/DN_AI_frame/dataset/lidc/npz_seg/LIDC-IDRI-0726.npz\n",
      "LIDC-IDRI-0726\n"
     ]
    },
    {
     "name": "stderr",
     "output_type": "stream",
     "text": [
      "100%|██████████| 5/5 [00:00<00:00,  6.92it/s]80s/it]\n"
     ]
    },
    {
     "name": "stdout",
     "output_type": "stream",
     "text": [
      "/home/mengdi/yuxiang.ye/DN_AI_frame/dataset/lidc/npz_seg/LIDC-IDRI-0727.npz\n",
      "LIDC-IDRI-0727\n"
     ]
    },
    {
     "name": "stderr",
     "output_type": "stream",
     "text": [
      "\r",
      " 72%|███████▏  | 723/1010 [29:23<1:33:22, 19.52s/it]"
     ]
    },
    {
     "name": "stdout",
     "output_type": "stream",
     "text": [
      "/home/mengdi/yuxiang.ye/DN_AI_frame/dataset/lidc/npz_seg/LIDC-IDRI-0728.npz\n",
      "LIDC-IDRI-0728\n"
     ]
    },
    {
     "name": "stderr",
     "output_type": "stream",
     "text": [
      "100%|██████████| 5/5 [00:00<00:00, 12.27it/s]45s/it]\n",
      "100%|██████████| 3/3 [00:00<00:00, 11.34it/s]\n"
     ]
    },
    {
     "name": "stdout",
     "output_type": "stream",
     "text": [
      "/home/mengdi/yuxiang.ye/DN_AI_frame/dataset/lidc/npz_seg/LIDC-IDRI-0729.npz\n"
     ]
    },
    {
     "name": "stderr",
     "output_type": "stream",
     "text": [
      "\r",
      " 72%|███████▏  | 725/1010 [31:32<3:46:23, 47.66s/it]"
     ]
    },
    {
     "name": "stdout",
     "output_type": "stream",
     "text": [
      "LIDC-IDRI-0729\n",
      "/home/mengdi/yuxiang.ye/DN_AI_frame/dataset/lidc/npz_seg/LIDC-IDRI-0730.npz\n"
     ]
    },
    {
     "name": "stderr",
     "output_type": "stream",
     "text": [
      "\r",
      " 72%|███████▏  | 726/1010 [31:38<2:46:12, 35.11s/it]"
     ]
    },
    {
     "name": "stdout",
     "output_type": "stream",
     "text": [
      "LIDC-IDRI-0730\n"
     ]
    },
    {
     "name": "stderr",
     "output_type": "stream",
     "text": [
      "100%|██████████| 4/4 [00:00<00:00, 17.24it/s]\n",
      "100%|██████████| 4/4 [00:00<00:00, 16.20it/s]\n"
     ]
    },
    {
     "name": "stdout",
     "output_type": "stream",
     "text": [
      "/home/mengdi/yuxiang.ye/DN_AI_frame/dataset/lidc/npz_seg/LIDC-IDRI-0731.npz\n",
      "LIDC-IDRI-0731\n"
     ]
    },
    {
     "name": "stderr",
     "output_type": "stream",
     "text": [
      "0it [00:00, ?it/s]27/1010 [32:03<2:30:34, 31.92s/it]\n"
     ]
    },
    {
     "name": "stdout",
     "output_type": "stream",
     "text": [
      "/home/mengdi/yuxiang.ye/DN_AI_frame/dataset/lidc/npz_seg/LIDC-IDRI-0732.npz\n"
     ]
    },
    {
     "name": "stderr",
     "output_type": "stream",
     "text": [
      "\r",
      " 72%|███████▏  | 728/1010 [32:23<2:13:38, 28.43s/it]"
     ]
    },
    {
     "name": "stdout",
     "output_type": "stream",
     "text": [
      "LIDC-IDRI-0732\n"
     ]
    },
    {
     "name": "stderr",
     "output_type": "stream",
     "text": [
      "100%|██████████| 5/5 [00:00<00:00,  5.93it/s]\n"
     ]
    },
    {
     "name": "stdout",
     "output_type": "stream",
     "text": [
      "/home/mengdi/yuxiang.ye/DN_AI_frame/dataset/lidc/npz_seg/LIDC-IDRI-0733.npz\n",
      "LIDC-IDRI-0733\n"
     ]
    },
    {
     "name": "stderr",
     "output_type": "stream",
     "text": [
      "100%|██████████| 14/14 [00:01<00:00,  5.19it/s]s/it]\n"
     ]
    },
    {
     "name": "stdout",
     "output_type": "stream",
     "text": [
      "/home/mengdi/yuxiang.ye/DN_AI_frame/dataset/lidc/npz_seg/LIDC-IDRI-0734.npz\n",
      "LIDC-IDRI-0734\n"
     ]
    },
    {
     "name": "stderr",
     "output_type": "stream",
     "text": [
      "\r",
      " 72%|███████▏  | 730/1010 [33:09<2:03:53, 26.55s/it]"
     ]
    },
    {
     "name": "stdout",
     "output_type": "stream",
     "text": [
      "/home/mengdi/yuxiang.ye/DN_AI_frame/dataset/lidc/npz_seg/LIDC-IDRI-0735.npz\n",
      "LIDC-IDRI-0735\n"
     ]
    },
    {
     "name": "stderr",
     "output_type": "stream",
     "text": [
      "100%|██████████| 4/4 [00:01<00:00,  2.50it/s]03s/it]\n",
      "100%|██████████| 7/7 [00:00<00:00, 14.02it/s]\n"
     ]
    },
    {
     "name": "stdout",
     "output_type": "stream",
     "text": [
      "/home/mengdi/yuxiang.ye/DN_AI_frame/dataset/lidc/npz_seg/LIDC-IDRI-0736.npz\n"
     ]
    },
    {
     "name": "stderr",
     "output_type": "stream",
     "text": [
      "\r",
      " 72%|███████▏  | 732/1010 [33:52<1:55:09, 24.86s/it]"
     ]
    },
    {
     "name": "stdout",
     "output_type": "stream",
     "text": [
      "LIDC-IDRI-0736\n"
     ]
    },
    {
     "name": "stderr",
     "output_type": "stream",
     "text": [
      "100%|██████████| 3/3 [00:00<00:00, 13.93it/s]\n"
     ]
    },
    {
     "name": "stdout",
     "output_type": "stream",
     "text": [
      "/home/mengdi/yuxiang.ye/DN_AI_frame/dataset/lidc/npz_seg/LIDC-IDRI-0737.npz\n"
     ]
    },
    {
     "name": "stderr",
     "output_type": "stream",
     "text": [
      "\r",
      " 73%|███████▎  | 733/1010 [34:10<1:45:26, 22.84s/it]"
     ]
    },
    {
     "name": "stdout",
     "output_type": "stream",
     "text": [
      "LIDC-IDRI-0737\n"
     ]
    },
    {
     "name": "stderr",
     "output_type": "stream",
     "text": [
      "0it [00:00, ?it/s]\n"
     ]
    },
    {
     "name": "stdout",
     "output_type": "stream",
     "text": [
      "/home/mengdi/yuxiang.ye/DN_AI_frame/dataset/lidc/npz_seg/LIDC-IDRI-0738.npz\n",
      "LIDC-IDRI-0738\n"
     ]
    },
    {
     "name": "stderr",
     "output_type": "stream",
     "text": [
      "0it [00:00, ?it/s]34/1010 [34:18<1:23:58, 18.25s/it]\n"
     ]
    },
    {
     "name": "stdout",
     "output_type": "stream",
     "text": [
      "/home/mengdi/yuxiang.ye/DN_AI_frame/dataset/lidc/npz_seg/LIDC-IDRI-0739.npz\n"
     ]
    },
    {
     "name": "stderr",
     "output_type": "stream",
     "text": [
      "\r",
      " 73%|███████▎  | 735/1010 [34:29<1:13:24, 16.02s/it]"
     ]
    },
    {
     "name": "stdout",
     "output_type": "stream",
     "text": [
      "LIDC-IDRI-0739\n",
      "/home/mengdi/yuxiang.ye/DN_AI_frame/dataset/lidc/npz_seg/LIDC-IDRI-0740.npz\n"
     ]
    },
    {
     "name": "stderr",
     "output_type": "stream",
     "text": [
      "\r",
      " 73%|███████▎  | 736/1010 [34:40<1:06:35, 14.58s/it]"
     ]
    },
    {
     "name": "stdout",
     "output_type": "stream",
     "text": [
      "LIDC-IDRI-0740\n"
     ]
    },
    {
     "name": "stderr",
     "output_type": "stream",
     "text": [
      "100%|██████████| 3/3 [00:00<00:00, 11.99it/s]\n",
      "100%|██████████| 6/6 [00:00<00:00, 10.44it/s]\n"
     ]
    },
    {
     "name": "stdout",
     "output_type": "stream",
     "text": [
      "/home/mengdi/yuxiang.ye/DN_AI_frame/dataset/lidc/npz_seg/LIDC-IDRI-0741.npz\n"
     ]
    },
    {
     "name": "stderr",
     "output_type": "stream",
     "text": [
      "\r",
      " 73%|███████▎  | 737/1010 [34:57<1:09:38, 15.30s/it]"
     ]
    },
    {
     "name": "stdout",
     "output_type": "stream",
     "text": [
      "LIDC-IDRI-0741\n"
     ]
    },
    {
     "name": "stderr",
     "output_type": "stream",
     "text": [
      "100%|██████████| 15/15 [00:01<00:00, 10.94it/s]\n"
     ]
    },
    {
     "name": "stdout",
     "output_type": "stream",
     "text": [
      "/home/mengdi/yuxiang.ye/DN_AI_frame/dataset/lidc/npz_seg/LIDC-IDRI-0742.npz\n",
      "LIDC-IDRI-0742\n"
     ]
    },
    {
     "name": "stderr",
     "output_type": "stream",
     "text": [
      "100%|██████████| 23/23 [00:02<00:00, 10.57it/s]s/it]\n"
     ]
    },
    {
     "name": "stdout",
     "output_type": "stream",
     "text": [
      "/home/mengdi/yuxiang.ye/DN_AI_frame/dataset/lidc/npz_seg/LIDC-IDRI-0743.npz\n"
     ]
    },
    {
     "name": "stderr",
     "output_type": "stream",
     "text": [
      "\r",
      " 73%|███████▎  | 739/1010 [35:46<1:30:19, 20.00s/it]"
     ]
    },
    {
     "name": "stdout",
     "output_type": "stream",
     "text": [
      "LIDC-IDRI-0743\n"
     ]
    },
    {
     "name": "stderr",
     "output_type": "stream",
     "text": [
      "100%|██████████| 7/7 [00:00<00:00, 14.52it/s]\n"
     ]
    },
    {
     "name": "stdout",
     "output_type": "stream",
     "text": [
      "/home/mengdi/yuxiang.ye/DN_AI_frame/dataset/lidc/npz_seg/LIDC-IDRI-0744.npz\n"
     ]
    },
    {
     "name": "stderr",
     "output_type": "stream",
     "text": [
      "\r",
      " 73%|███████▎  | 740/1010 [35:54<1:14:13, 16.49s/it]"
     ]
    },
    {
     "name": "stdout",
     "output_type": "stream",
     "text": [
      "LIDC-IDRI-0744\n",
      "/home/mengdi/yuxiang.ye/DN_AI_frame/dataset/lidc/npz_seg/LIDC-IDRI-0745.npz\n"
     ]
    },
    {
     "name": "stderr",
     "output_type": "stream",
     "text": [
      "\r",
      " 73%|███████▎  | 741/1010 [36:02<1:02:12, 13.88s/it]"
     ]
    },
    {
     "name": "stdout",
     "output_type": "stream",
     "text": [
      "LIDC-IDRI-0745\n"
     ]
    },
    {
     "name": "stderr",
     "output_type": "stream",
     "text": [
      "0it [00:00, ?it/s]\n",
      "100%|██████████| 5/5 [00:00<00:00,  6.72it/s]\n"
     ]
    },
    {
     "name": "stdout",
     "output_type": "stream",
     "text": [
      "/home/mengdi/yuxiang.ye/DN_AI_frame/dataset/lidc/npz_seg/LIDC-IDRI-0746.npz\n"
     ]
    },
    {
     "name": "stderr",
     "output_type": "stream",
     "text": [
      "\r",
      " 73%|███████▎  | 742/1010 [36:17<1:04:05, 14.35s/it]"
     ]
    },
    {
     "name": "stdout",
     "output_type": "stream",
     "text": [
      "LIDC-IDRI-0746\n"
     ]
    },
    {
     "name": "stderr",
     "output_type": "stream",
     "text": [
      "0it [00:00, ?it/s]\n"
     ]
    },
    {
     "name": "stdout",
     "output_type": "stream",
     "text": [
      "/home/mengdi/yuxiang.ye/DN_AI_frame/dataset/lidc/npz_seg/LIDC-IDRI-0747.npz\n",
      "LIDC-IDRI-0747\n"
     ]
    },
    {
     "name": "stderr",
     "output_type": "stream",
     "text": [
      "\r",
      " 74%|███████▎  | 743/1010 [36:42<1:17:51, 17.50s/it]"
     ]
    },
    {
     "name": "stdout",
     "output_type": "stream",
     "text": [
      "/home/mengdi/yuxiang.ye/DN_AI_frame/dataset/lidc/npz_seg/LIDC-IDRI-0748.npz\n"
     ]
    },
    {
     "name": "stderr",
     "output_type": "stream",
     "text": [
      "\r",
      " 74%|███████▎  | 744/1010 [36:46<59:29, 13.42s/it]  "
     ]
    },
    {
     "name": "stdout",
     "output_type": "stream",
     "text": [
      "LIDC-IDRI-0748\n"
     ]
    },
    {
     "name": "stderr",
     "output_type": "stream",
     "text": [
      "100%|██████████| 1/1 [00:00<00:00, 20.65it/s]\n",
      "100%|██████████| 18/18 [00:00<00:00, 17.91it/s]\n"
     ]
    },
    {
     "name": "stdout",
     "output_type": "stream",
     "text": [
      "/home/mengdi/yuxiang.ye/DN_AI_frame/dataset/lidc/npz_seg/LIDC-IDRI-0749.npz\n"
     ]
    },
    {
     "name": "stderr",
     "output_type": "stream",
     "text": [
      "\r",
      " 74%|███████▍  | 745/1010 [37:03<1:04:34, 14.62s/it]"
     ]
    },
    {
     "name": "stdout",
     "output_type": "stream",
     "text": [
      "LIDC-IDRI-0749\n"
     ]
    },
    {
     "name": "stderr",
     "output_type": "stream",
     "text": [
      "100%|██████████| 21/21 [00:02<00:00,  9.59it/s]\n"
     ]
    },
    {
     "name": "stdout",
     "output_type": "stream",
     "text": [
      "/home/mengdi/yuxiang.ye/DN_AI_frame/dataset/lidc/npz_seg/LIDC-IDRI-0750.npz\n"
     ]
    },
    {
     "name": "stderr",
     "output_type": "stream",
     "text": [
      "\r",
      " 74%|███████▍  | 746/1010 [37:12<56:05, 12.75s/it]  "
     ]
    },
    {
     "name": "stdout",
     "output_type": "stream",
     "text": [
      "LIDC-IDRI-0750\n",
      "/home/mengdi/yuxiang.ye/DN_AI_frame/dataset/lidc/npz_seg/LIDC-IDRI-0751.npz\n"
     ]
    },
    {
     "name": "stderr",
     "output_type": "stream",
     "text": [
      "\r",
      " 74%|███████▍  | 747/1010 [37:13<40:55,  9.34s/it]"
     ]
    },
    {
     "name": "stdout",
     "output_type": "stream",
     "text": [
      "LIDC-IDRI-0751\n"
     ]
    },
    {
     "name": "stderr",
     "output_type": "stream",
     "text": [
      "100%|██████████| 4/4 [00:00<00:00,  8.34it/s]\n",
      "  8%|▊         | 2/25 [00:00<00:06,  3.64it/s]"
     ]
    },
    {
     "name": "stdout",
     "output_type": "stream",
     "text": [
      "/home/mengdi/yuxiang.ye/DN_AI_frame/dataset/lidc/npz_seg/LIDC-IDRI-0752.npz\n"
     ]
    },
    {
     "name": "stderr",
     "output_type": "stream",
     "text": [
      "\r",
      " 74%|███████▍  | 748/1010 [37:22<40:26,  9.26s/it]"
     ]
    },
    {
     "name": "stdout",
     "output_type": "stream",
     "text": [
      "LIDC-IDRI-0752\n"
     ]
    },
    {
     "name": "stderr",
     "output_type": "stream",
     "text": [
      "100%|██████████| 25/25 [00:05<00:00,  3.88it/s]\n",
      " 74%|███████▍  | 749/1010 [37:33<41:40,  9.58s/it]"
     ]
    },
    {
     "name": "stdout",
     "output_type": "stream",
     "text": [
      "LIDC-IDRI-0753\n",
      "/home/mengdi/yuxiang.ye/DN_AI_frame/dataset/lidc/npz_seg/LIDC-IDRI-0753.npz\n"
     ]
    },
    {
     "name": "stderr",
     "output_type": "stream",
     "text": [
      "100%|██████████| 7/7 [00:00<00:00,  8.50it/s]\n",
      "100%|██████████| 3/3 [00:00<00:00,  9.56it/s]\n"
     ]
    },
    {
     "name": "stdout",
     "output_type": "stream",
     "text": [
      "/home/mengdi/yuxiang.ye/DN_AI_frame/dataset/lidc/npz_seg/LIDC-IDRI-0754.npz\n"
     ]
    },
    {
     "name": "stderr",
     "output_type": "stream",
     "text": [
      "\r",
      " 74%|███████▍  | 750/1010 [37:51<53:10, 12.27s/it]"
     ]
    },
    {
     "name": "stdout",
     "output_type": "stream",
     "text": [
      "LIDC-IDRI-0754\n"
     ]
    },
    {
     "name": "stderr",
     "output_type": "stream",
     "text": [
      "100%|██████████| 4/4 [00:00<00:00, 19.44it/s]\n"
     ]
    },
    {
     "name": "stdout",
     "output_type": "stream",
     "text": [
      "/home/mengdi/yuxiang.ye/DN_AI_frame/dataset/lidc/npz_seg/LIDC-IDRI-0755.npz\n",
      "LIDC-IDRI-0755\n"
     ]
    },
    {
     "name": "stderr",
     "output_type": "stream",
     "text": [
      "0it [00:00, ?it/s]51/1010 [38:07<57:22, 13.29s/it]\n"
     ]
    },
    {
     "name": "stdout",
     "output_type": "stream",
     "text": [
      "/home/mengdi/yuxiang.ye/DN_AI_frame/dataset/lidc/npz_seg/LIDC-IDRI-0756.npz\n"
     ]
    },
    {
     "name": "stderr",
     "output_type": "stream",
     "text": [
      "\r",
      " 74%|███████▍  | 752/1010 [38:27<1:06:15, 15.41s/it]"
     ]
    },
    {
     "name": "stdout",
     "output_type": "stream",
     "text": [
      "LIDC-IDRI-0756\n",
      "/home/mengdi/yuxiang.ye/DN_AI_frame/dataset/lidc/npz_seg/LIDC-IDRI-0757.npz\n",
      "LIDC-IDRI-0757\n"
     ]
    },
    {
     "name": "stderr",
     "output_type": "stream",
     "text": [
      "100%|██████████| 3/3 [00:00<00:00,  3.21it/s]s/it]  \n",
      "100%|██████████| 4/4 [00:00<00:00, 11.25it/s]\n"
     ]
    },
    {
     "name": "stdout",
     "output_type": "stream",
     "text": [
      "/home/mengdi/yuxiang.ye/DN_AI_frame/dataset/lidc/npz_seg/LIDC-IDRI-0758.npz\n",
      "LIDC-IDRI-0758\n"
     ]
    },
    {
     "name": "stderr",
     "output_type": "stream",
     "text": [
      "\r",
      " 75%|███████▍  | 754/1010 [39:49<2:15:48, 31.83s/it]"
     ]
    },
    {
     "name": "stdout",
     "output_type": "stream",
     "text": [
      "/home/mengdi/yuxiang.ye/DN_AI_frame/dataset/lidc/npz_seg/LIDC-IDRI-0759.npz\n",
      "LIDC-IDRI-0759\n"
     ]
    },
    {
     "name": "stderr",
     "output_type": "stream",
     "text": [
      "100%|██████████| 1/1 [00:00<00:00, 15.41it/s]01s/it]\n",
      "100%|██████████| 12/12 [00:00<00:00, 18.58it/s]\n"
     ]
    },
    {
     "name": "stdout",
     "output_type": "stream",
     "text": [
      "/home/mengdi/yuxiang.ye/DN_AI_frame/dataset/lidc/npz_seg/LIDC-IDRI-0760.npz\n"
     ]
    },
    {
     "name": "stderr",
     "output_type": "stream",
     "text": [
      "\r",
      " 75%|███████▍  | 756/1010 [40:29<1:52:01, 26.46s/it]"
     ]
    },
    {
     "name": "stdout",
     "output_type": "stream",
     "text": [
      "LIDC-IDRI-0760\n"
     ]
    },
    {
     "name": "stderr",
     "output_type": "stream",
     "text": [
      "0it [00:00, ?it/s]\n"
     ]
    },
    {
     "name": "stdout",
     "output_type": "stream",
     "text": [
      "/home/mengdi/yuxiang.ye/DN_AI_frame/dataset/lidc/npz_seg/LIDC-IDRI-0761.npz\n"
     ]
    },
    {
     "name": "stderr",
     "output_type": "stream",
     "text": [
      "\r",
      " 75%|███████▍  | 757/1010 [41:00<1:57:23, 27.84s/it]"
     ]
    },
    {
     "name": "stdout",
     "output_type": "stream",
     "text": [
      "LIDC-IDRI-0761\n",
      "/home/mengdi/yuxiang.ye/DN_AI_frame/dataset/lidc/npz_seg/LIDC-IDRI-0762.npz\n"
     ]
    },
    {
     "name": "stderr",
     "output_type": "stream",
     "text": [
      "\r",
      " 75%|███████▌  | 758/1010 [41:06<1:29:13, 21.24s/it]"
     ]
    },
    {
     "name": "stdout",
     "output_type": "stream",
     "text": [
      "LIDC-IDRI-0762\n"
     ]
    },
    {
     "name": "stderr",
     "output_type": "stream",
     "text": [
      "100%|██████████| 10/10 [00:00<00:00,  9.70it/s]\n",
      "100%|██████████| 12/12 [00:00<00:00, 12.65it/s]\n"
     ]
    },
    {
     "name": "stdout",
     "output_type": "stream",
     "text": [
      "/home/mengdi/yuxiang.ye/DN_AI_frame/dataset/lidc/npz_seg/LIDC-IDRI-0763.npz\n"
     ]
    },
    {
     "name": "stderr",
     "output_type": "stream",
     "text": [
      "\r",
      " 75%|███████▌  | 759/1010 [41:22<1:22:11, 19.65s/it]"
     ]
    },
    {
     "name": "stdout",
     "output_type": "stream",
     "text": [
      "LIDC-IDRI-0763\n"
     ]
    },
    {
     "name": "stderr",
     "output_type": "stream",
     "text": [
      "100%|██████████| 7/7 [00:00<00:00, 10.14it/s]\n"
     ]
    },
    {
     "name": "stdout",
     "output_type": "stream",
     "text": [
      "/home/mengdi/yuxiang.ye/DN_AI_frame/dataset/lidc/npz_seg/LIDC-IDRI-0764.npz\n"
     ]
    },
    {
     "name": "stderr",
     "output_type": "stream",
     "text": [
      "\r",
      " 75%|███████▌  | 760/1010 [41:43<1:24:25, 20.26s/it]"
     ]
    },
    {
     "name": "stdout",
     "output_type": "stream",
     "text": [
      "LIDC-IDRI-0764\n"
     ]
    },
    {
     "name": "stderr",
     "output_type": "stream",
     "text": [
      "0it [00:00, ?it/s]\n"
     ]
    },
    {
     "name": "stdout",
     "output_type": "stream",
     "text": [
      "/home/mengdi/yuxiang.ye/DN_AI_frame/dataset/lidc/npz_seg/LIDC-IDRI-0765.npz\n",
      "LIDC-IDRI-0765\n"
     ]
    },
    {
     "name": "stderr",
     "output_type": "stream",
     "text": [
      "100%|██████████| 4/4 [00:00<00:00,  5.81it/s]29s/it]\n"
     ]
    },
    {
     "name": "stdout",
     "output_type": "stream",
     "text": [
      "/home/mengdi/yuxiang.ye/DN_AI_frame/dataset/lidc/npz_seg/LIDC-IDRI-0766.npz\n",
      "LIDC-IDRI-0766\n"
     ]
    },
    {
     "name": "stderr",
     "output_type": "stream",
     "text": [
      "\r",
      " 75%|███████▌  | 762/1010 [42:06<1:06:20, 16.05s/it]"
     ]
    },
    {
     "name": "stdout",
     "output_type": "stream",
     "text": [
      "/home/mengdi/yuxiang.ye/DN_AI_frame/dataset/lidc/npz_seg/LIDC-IDRI-0767.npz\n"
     ]
    },
    {
     "name": "stderr",
     "output_type": "stream",
     "text": [
      "\r",
      " 76%|███████▌  | 763/1010 [42:11<53:21, 12.96s/it]  "
     ]
    },
    {
     "name": "stdout",
     "output_type": "stream",
     "text": [
      "LIDC-IDRI-0767\n"
     ]
    },
    {
     "name": "stderr",
     "output_type": "stream",
     "text": [
      "100%|██████████| 4/4 [00:00<00:00,  5.06it/s]\n",
      "100%|██████████| 1/1 [00:00<00:00, 46.47it/s]\n"
     ]
    },
    {
     "name": "stdout",
     "output_type": "stream",
     "text": [
      "/home/mengdi/yuxiang.ye/DN_AI_frame/dataset/lidc/npz_seg/LIDC-IDRI-0768.npz\n"
     ]
    },
    {
     "name": "stderr",
     "output_type": "stream",
     "text": [
      "\r",
      " 76%|███████▌  | 764/1010 [42:28<57:33, 14.04s/it]"
     ]
    },
    {
     "name": "stdout",
     "output_type": "stream",
     "text": [
      "LIDC-IDRI-0768\n",
      "/home/mengdi/yuxiang.ye/DN_AI_frame/dataset/lidc/npz_seg/LIDC-IDRI-0769.npz\n",
      "LIDC-IDRI-0769\n"
     ]
    },
    {
     "name": "stderr",
     "output_type": "stream",
     "text": [
      "100%|██████████| 5/5 [00:00<00:00,  7.21it/s]s/it]\n",
      "100%|██████████| 1/1 [00:00<00:00, 27.63it/s]\n"
     ]
    },
    {
     "name": "stdout",
     "output_type": "stream",
     "text": [
      "/home/mengdi/yuxiang.ye/DN_AI_frame/dataset/lidc/npz_seg/LIDC-IDRI-0770.npz\n"
     ]
    },
    {
     "name": "stderr",
     "output_type": "stream",
     "text": [
      "\r",
      " 76%|███████▌  | 766/1010 [42:43<46:07, 11.34s/it]"
     ]
    },
    {
     "name": "stdout",
     "output_type": "stream",
     "text": [
      "LIDC-IDRI-0770\n"
     ]
    },
    {
     "name": "stderr",
     "output_type": "stream",
     "text": [
      "100%|██████████| 31/31 [00:04<00:00,  5.48it/s]\n"
     ]
    },
    {
     "name": "stdout",
     "output_type": "stream",
     "text": [
      "/home/mengdi/yuxiang.ye/DN_AI_frame/dataset/lidc/npz_seg/LIDC-IDRI-0771.npz\n",
      "LIDC-IDRI-0771\n"
     ]
    },
    {
     "name": "stderr",
     "output_type": "stream",
     "text": [
      "  0%|          | 0/4 [00:00<?, ?it/s]:17, 15.13s/it]"
     ]
    },
    {
     "name": "stdout",
     "output_type": "stream",
     "text": [
      "/home/mengdi/yuxiang.ye/DN_AI_frame/dataset/lidc/npz_seg/LIDC-IDRI-0772.npz\n"
     ]
    },
    {
     "name": "stderr",
     "output_type": "stream",
     "text": [
      "\r",
      " 76%|███████▌  | 768/1010 [43:17<54:44, 13.57s/it]  "
     ]
    },
    {
     "name": "stdout",
     "output_type": "stream",
     "text": [
      "LIDC-IDRI-0772\n"
     ]
    },
    {
     "name": "stderr",
     "output_type": "stream",
     "text": [
      "100%|██████████| 4/4 [00:00<00:00,  6.33it/s]\n",
      "100%|██████████| 7/7 [00:03<00:00,  2.12it/s]\n"
     ]
    },
    {
     "name": "stdout",
     "output_type": "stream",
     "text": [
      "/home/mengdi/yuxiang.ye/DN_AI_frame/dataset/lidc/npz_seg/LIDC-IDRI-0773.npz\n"
     ]
    },
    {
     "name": "stderr",
     "output_type": "stream",
     "text": [
      "\r",
      " 76%|███████▌  | 769/1010 [43:30<53:06, 13.22s/it]"
     ]
    },
    {
     "name": "stdout",
     "output_type": "stream",
     "text": [
      "LIDC-IDRI-0773\n"
     ]
    },
    {
     "name": "stderr",
     "output_type": "stream",
     "text": [
      "100%|██████████| 13/13 [00:02<00:00,  4.09it/s]\n"
     ]
    },
    {
     "name": "stdout",
     "output_type": "stream",
     "text": [
      "/home/mengdi/yuxiang.ye/DN_AI_frame/dataset/lidc/npz_seg/LIDC-IDRI-0774.npz\n"
     ]
    },
    {
     "name": "stderr",
     "output_type": "stream",
     "text": [
      "\r",
      " 76%|███████▌  | 770/1010 [43:38<47:24, 11.85s/it]"
     ]
    },
    {
     "name": "stdout",
     "output_type": "stream",
     "text": [
      "LIDC-IDRI-0774\n",
      "/home/mengdi/yuxiang.ye/DN_AI_frame/dataset/lidc/npz_seg/LIDC-IDRI-0775.npz\n",
      "LIDC-IDRI-0775\n"
     ]
    },
    {
     "name": "stderr",
     "output_type": "stream",
     "text": [
      "0it [00:00, ?it/s]71/1010 [43:42<37:50,  9.50s/it]\n",
      "100%|██████████| 32/32 [00:07<00:00,  2.52it/s]\n"
     ]
    },
    {
     "name": "stdout",
     "output_type": "stream",
     "text": [
      "/home/mengdi/yuxiang.ye/DN_AI_frame/dataset/lidc/npz_seg/LIDC-IDRI-0776.npz\n"
     ]
    },
    {
     "name": "stderr",
     "output_type": "stream",
     "text": [
      "\r",
      " 76%|███████▋  | 772/1010 [44:23<1:14:14, 18.71s/it]"
     ]
    },
    {
     "name": "stdout",
     "output_type": "stream",
     "text": [
      "LIDC-IDRI-0776\n",
      "/home/mengdi/yuxiang.ye/DN_AI_frame/dataset/lidc/npz_seg/LIDC-IDRI-0777.npz\n"
     ]
    },
    {
     "name": "stderr",
     "output_type": "stream",
     "text": [
      "\r",
      " 77%|███████▋  | 773/1010 [44:25<54:24, 13.78s/it]  "
     ]
    },
    {
     "name": "stdout",
     "output_type": "stream",
     "text": [
      "LIDC-IDRI-0777\n"
     ]
    },
    {
     "name": "stderr",
     "output_type": "stream",
     "text": [
      "100%|██████████| 21/21 [00:01<00:00, 16.04it/s]\n",
      "100%|██████████| 10/10 [00:01<00:00,  5.15it/s]\n"
     ]
    },
    {
     "name": "stdout",
     "output_type": "stream",
     "text": [
      "/home/mengdi/yuxiang.ye/DN_AI_frame/dataset/lidc/npz_seg/LIDC-IDRI-0778.npz\n"
     ]
    },
    {
     "name": "stderr",
     "output_type": "stream",
     "text": [
      "\r",
      " 77%|███████▋  | 774/1010 [44:41<57:15, 14.56s/it]"
     ]
    },
    {
     "name": "stdout",
     "output_type": "stream",
     "text": [
      "LIDC-IDRI-0778\n",
      "/home/mengdi/yuxiang.ye/DN_AI_frame/dataset/lidc/npz_seg/LIDC-IDRI-0779.npz\n",
      "LIDC-IDRI-0779\n"
     ]
    },
    {
     "name": "stderr",
     "output_type": "stream",
     "text": [
      "100%|██████████| 1/1 [00:00<00:00, 12.40it/s]s/it]\n",
      "100%|██████████| 3/3 [00:00<00:00, 23.63it/s]\n"
     ]
    },
    {
     "name": "stdout",
     "output_type": "stream",
     "text": [
      "/home/mengdi/yuxiang.ye/DN_AI_frame/dataset/lidc/npz_seg/LIDC-IDRI-0780.npz\n"
     ]
    },
    {
     "name": "stderr",
     "output_type": "stream",
     "text": [
      "\r",
      " 77%|███████▋  | 776/1010 [45:10<58:06, 14.90s/it]"
     ]
    },
    {
     "name": "stdout",
     "output_type": "stream",
     "text": [
      "LIDC-IDRI-0780\n"
     ]
    },
    {
     "name": "stderr",
     "output_type": "stream",
     "text": [
      "100%|██████████| 3/3 [00:01<00:00,  2.15it/s]\n"
     ]
    },
    {
     "name": "stdout",
     "output_type": "stream",
     "text": [
      "/home/mengdi/yuxiang.ye/DN_AI_frame/dataset/lidc/npz_seg/LIDC-IDRI-0781.npz\n"
     ]
    },
    {
     "name": "stderr",
     "output_type": "stream",
     "text": [
      "\r",
      " 77%|███████▋  | 777/1010 [45:53<1:31:15, 23.50s/it]"
     ]
    },
    {
     "name": "stdout",
     "output_type": "stream",
     "text": [
      "LIDC-IDRI-0781\n"
     ]
    },
    {
     "name": "stderr",
     "output_type": "stream",
     "text": [
      "100%|██████████| 1/1 [00:00<00:00,  9.64it/s]\n"
     ]
    },
    {
     "name": "stdout",
     "output_type": "stream",
     "text": [
      "/home/mengdi/yuxiang.ye/DN_AI_frame/dataset/lidc/npz_seg/LIDC-IDRI-0782.npz\n"
     ]
    },
    {
     "name": "stderr",
     "output_type": "stream",
     "text": [
      "\r",
      " 77%|███████▋  | 778/1010 [46:07<1:19:39, 20.60s/it]"
     ]
    },
    {
     "name": "stdout",
     "output_type": "stream",
     "text": [
      "LIDC-IDRI-0782\n"
     ]
    },
    {
     "name": "stderr",
     "output_type": "stream",
     "text": [
      "100%|██████████| 2/2 [00:00<00:00, 10.12it/s]\n"
     ]
    },
    {
     "name": "stdout",
     "output_type": "stream",
     "text": [
      "/home/mengdi/yuxiang.ye/DN_AI_frame/dataset/lidc/npz_seg/LIDC-IDRI-0783.npz\n"
     ]
    },
    {
     "name": "stderr",
     "output_type": "stream",
     "text": [
      "\r",
      " 77%|███████▋  | 779/1010 [46:48<1:43:02, 26.76s/it]"
     ]
    },
    {
     "name": "stdout",
     "output_type": "stream",
     "text": [
      "LIDC-IDRI-0783\n",
      "/home/mengdi/yuxiang.ye/DN_AI_frame/dataset/lidc/npz_seg/LIDC-IDRI-0784.npz\n",
      "LIDC-IDRI-0784\n"
     ]
    },
    {
     "name": "stderr",
     "output_type": "stream",
     "text": [
      "100%|██████████| 2/2 [00:00<00:00, 18.61it/s]38s/it]\n",
      "0it [00:00, ?it/s]\n"
     ]
    },
    {
     "name": "stdout",
     "output_type": "stream",
     "text": [
      "/home/mengdi/yuxiang.ye/DN_AI_frame/dataset/lidc/npz_seg/LIDC-IDRI-0785.npz\n"
     ]
    },
    {
     "name": "stderr",
     "output_type": "stream",
     "text": [
      "\r",
      " 77%|███████▋  | 781/1010 [47:35<1:42:43, 26.92s/it]"
     ]
    },
    {
     "name": "stdout",
     "output_type": "stream",
     "text": [
      "LIDC-IDRI-0785\n"
     ]
    },
    {
     "name": "stderr",
     "output_type": "stream",
     "text": [
      "100%|██████████| 28/28 [00:04<00:00,  5.78it/s]\n"
     ]
    },
    {
     "name": "stdout",
     "output_type": "stream",
     "text": [
      "/home/mengdi/yuxiang.ye/DN_AI_frame/dataset/lidc/npz_seg/LIDC-IDRI-0786.npz\n"
     ]
    },
    {
     "name": "stderr",
     "output_type": "stream",
     "text": [
      "\r",
      " 77%|███████▋  | 782/1010 [48:08<1:48:45, 28.62s/it]"
     ]
    },
    {
     "name": "stdout",
     "output_type": "stream",
     "text": [
      "LIDC-IDRI-0786\n"
     ]
    },
    {
     "name": "stderr",
     "output_type": "stream",
     "text": [
      "100%|██████████| 2/2 [00:00<00:00, 39.03it/s]\n"
     ]
    },
    {
     "name": "stdout",
     "output_type": "stream",
     "text": [
      "/home/mengdi/yuxiang.ye/DN_AI_frame/dataset/lidc/npz_seg/LIDC-IDRI-0787.npz\n",
      "LIDC-IDRI-0787\n"
     ]
    },
    {
     "name": "stderr",
     "output_type": "stream",
     "text": [
      "100%|██████████| 5/5 [00:00<00:00, 32.22it/s]58s/it]\n"
     ]
    },
    {
     "name": "stdout",
     "output_type": "stream",
     "text": [
      "/home/mengdi/yuxiang.ye/DN_AI_frame/dataset/lidc/npz_seg/LIDC-IDRI-0788.npz\n"
     ]
    },
    {
     "name": "stderr",
     "output_type": "stream",
     "text": [
      "\r",
      " 78%|███████▊  | 784/1010 [48:30<1:16:01, 20.18s/it]"
     ]
    },
    {
     "name": "stdout",
     "output_type": "stream",
     "text": [
      "LIDC-IDRI-0788\n"
     ]
    },
    {
     "name": "stderr",
     "output_type": "stream",
     "text": [
      "100%|██████████| 11/11 [00:00<00:00, 13.96it/s]\n"
     ]
    },
    {
     "name": "stdout",
     "output_type": "stream",
     "text": [
      "/home/mengdi/yuxiang.ye/DN_AI_frame/dataset/lidc/npz_seg/LIDC-IDRI-0789.npz\n",
      "LIDC-IDRI-0789\n"
     ]
    },
    {
     "name": "stderr",
     "output_type": "stream",
     "text": [
      "\r",
      " 78%|███████▊  | 785/1010 [48:36<59:54, 15.98s/it]  "
     ]
    },
    {
     "name": "stdout",
     "output_type": "stream",
     "text": [
      "/home/mengdi/yuxiang.ye/DN_AI_frame/dataset/lidc/npz_seg/LIDC-IDRI-0790.npz\n"
     ]
    },
    {
     "name": "stderr",
     "output_type": "stream",
     "text": [
      "\r",
      " 78%|███████▊  | 786/1010 [48:45<51:31, 13.80s/it]"
     ]
    },
    {
     "name": "stdout",
     "output_type": "stream",
     "text": [
      "LIDC-IDRI-0790\n"
     ]
    },
    {
     "name": "stderr",
     "output_type": "stream",
     "text": [
      "100%|██████████| 4/4 [00:00<00:00, 10.04it/s]\n",
      "100%|██████████| 4/4 [00:01<00:00,  2.47it/s]\n"
     ]
    },
    {
     "name": "stdout",
     "output_type": "stream",
     "text": [
      "/home/mengdi/yuxiang.ye/DN_AI_frame/dataset/lidc/npz_seg/LIDC-IDRI-0791.npz\n"
     ]
    },
    {
     "name": "stderr",
     "output_type": "stream",
     "text": [
      "\r",
      " 78%|███████▊  | 787/1010 [49:33<1:29:39, 24.12s/it]"
     ]
    },
    {
     "name": "stdout",
     "output_type": "stream",
     "text": [
      "LIDC-IDRI-0791\n"
     ]
    },
    {
     "name": "stderr",
     "output_type": "stream",
     "text": [
      "100%|██████████| 4/4 [00:01<00:00,  2.01it/s]\n"
     ]
    },
    {
     "name": "stdout",
     "output_type": "stream",
     "text": [
      "/home/mengdi/yuxiang.ye/DN_AI_frame/dataset/lidc/npz_seg/LIDC-IDRI-0792.npz\n"
     ]
    },
    {
     "name": "stderr",
     "output_type": "stream",
     "text": [
      "\r",
      " 78%|███████▊  | 788/1010 [49:59<1:31:56, 24.85s/it]"
     ]
    },
    {
     "name": "stdout",
     "output_type": "stream",
     "text": [
      "LIDC-IDRI-0792\n",
      "/home/mengdi/yuxiang.ye/DN_AI_frame/dataset/lidc/npz_seg/LIDC-IDRI-0793.npz\n"
     ]
    },
    {
     "name": "stderr",
     "output_type": "stream",
     "text": [
      "\r",
      " 78%|███████▊  | 789/1010 [50:02<1:06:52, 18.15s/it]"
     ]
    },
    {
     "name": "stdout",
     "output_type": "stream",
     "text": [
      "LIDC-IDRI-0793\n"
     ]
    },
    {
     "name": "stderr",
     "output_type": "stream",
     "text": [
      "100%|██████████| 7/7 [00:00<00:00, 14.85it/s]\n",
      "100%|██████████| 3/3 [00:00<00:00,  5.37it/s]\n"
     ]
    },
    {
     "name": "stdout",
     "output_type": "stream",
     "text": [
      "/home/mengdi/yuxiang.ye/DN_AI_frame/dataset/lidc/npz_seg/LIDC-IDRI-0794.npz\n"
     ]
    },
    {
     "name": "stderr",
     "output_type": "stream",
     "text": [
      "\r",
      " 78%|███████▊  | 790/1010 [50:35<1:22:54, 22.61s/it]"
     ]
    },
    {
     "name": "stdout",
     "output_type": "stream",
     "text": [
      "LIDC-IDRI-0794\n",
      "/home/mengdi/yuxiang.ye/DN_AI_frame/dataset/lidc/npz_seg/LIDC-IDRI-0795.npz\n"
     ]
    },
    {
     "name": "stderr",
     "output_type": "stream",
     "text": [
      "\r",
      " 78%|███████▊  | 791/1010 [50:41<1:04:36, 17.70s/it]"
     ]
    },
    {
     "name": "stdout",
     "output_type": "stream",
     "text": [
      "LIDC-IDRI-0795\n"
     ]
    },
    {
     "name": "stderr",
     "output_type": "stream",
     "text": [
      "100%|██████████| 6/6 [00:00<00:00, 15.63it/s]\n",
      "100%|██████████| 7/7 [00:01<00:00,  5.80it/s]\n"
     ]
    },
    {
     "name": "stdout",
     "output_type": "stream",
     "text": [
      "/home/mengdi/yuxiang.ye/DN_AI_frame/dataset/lidc/npz_seg/LIDC-IDRI-0796.npz\n"
     ]
    },
    {
     "name": "stderr",
     "output_type": "stream",
     "text": [
      "\r",
      " 78%|███████▊  | 792/1010 [50:55<1:00:11, 16.57s/it]"
     ]
    },
    {
     "name": "stdout",
     "output_type": "stream",
     "text": [
      "LIDC-IDRI-0796\n"
     ]
    },
    {
     "name": "stderr",
     "output_type": "stream",
     "text": [
      "100%|██████████| 4/4 [00:01<00:00,  3.35it/s]\n"
     ]
    },
    {
     "name": "stdout",
     "output_type": "stream",
     "text": [
      "/home/mengdi/yuxiang.ye/DN_AI_frame/dataset/lidc/npz_seg/LIDC-IDRI-0797.npz\n"
     ]
    },
    {
     "name": "stderr",
     "output_type": "stream",
     "text": [
      "\r",
      " 79%|███████▊  | 793/1010 [51:10<57:47, 15.98s/it]  "
     ]
    },
    {
     "name": "stdout",
     "output_type": "stream",
     "text": [
      "LIDC-IDRI-0797\n"
     ]
    },
    {
     "name": "stderr",
     "output_type": "stream",
     "text": [
      "100%|██████████| 3/3 [00:00<00:00, 15.33it/s]\n"
     ]
    },
    {
     "name": "stdout",
     "output_type": "stream",
     "text": [
      "/home/mengdi/yuxiang.ye/DN_AI_frame/dataset/lidc/npz_seg/LIDC-IDRI-0798.npz\n"
     ]
    },
    {
     "name": "stderr",
     "output_type": "stream",
     "text": [
      "\r",
      " 79%|███████▊  | 794/1010 [51:40<1:12:43, 20.20s/it]"
     ]
    },
    {
     "name": "stdout",
     "output_type": "stream",
     "text": [
      "LIDC-IDRI-0798\n"
     ]
    },
    {
     "name": "stderr",
     "output_type": "stream",
     "text": [
      "100%|██████████| 8/8 [00:00<00:00,  9.19it/s]\n"
     ]
    },
    {
     "name": "stdout",
     "output_type": "stream",
     "text": [
      "/home/mengdi/yuxiang.ye/DN_AI_frame/dataset/lidc/npz_seg/LIDC-IDRI-0799.npz\n"
     ]
    },
    {
     "name": "stderr",
     "output_type": "stream",
     "text": [
      "\r",
      " 79%|███████▊  | 795/1010 [51:47<58:31, 16.33s/it]  "
     ]
    },
    {
     "name": "stdout",
     "output_type": "stream",
     "text": [
      "LIDC-IDRI-0799\n",
      "/home/mengdi/yuxiang.ye/DN_AI_frame/dataset/lidc/npz_seg/LIDC-IDRI-0800.npz\n",
      "LIDC-IDRI-0800\n"
     ]
    },
    {
     "name": "stderr",
     "output_type": "stream",
     "text": [
      "100%|██████████| 4/4 [00:00<00:00,  8.53it/s]s/it]\n",
      "100%|██████████| 9/9 [00:01<00:00,  6.89it/s]\n"
     ]
    },
    {
     "name": "stdout",
     "output_type": "stream",
     "text": [
      "/home/mengdi/yuxiang.ye/DN_AI_frame/dataset/lidc/npz_seg/LIDC-IDRI-0801.npz\n"
     ]
    },
    {
     "name": "stderr",
     "output_type": "stream",
     "text": [
      "\r",
      " 79%|███████▉  | 797/1010 [52:18<59:03, 16.64s/it]"
     ]
    },
    {
     "name": "stdout",
     "output_type": "stream",
     "text": [
      "LIDC-IDRI-0801\n"
     ]
    },
    {
     "name": "stderr",
     "output_type": "stream",
     "text": [
      "\r",
      "  0%|          | 0/8 [00:00<?, ?it/s]"
     ]
    },
    {
     "name": "stdout",
     "output_type": "stream",
     "text": [
      "/home/mengdi/yuxiang.ye/DN_AI_frame/dataset/lidc/npz_seg/LIDC-IDRI-0802.npz\n"
     ]
    },
    {
     "name": "stderr",
     "output_type": "stream",
     "text": [
      " 79%|███████▉  | 798/1010 [52:31<55:36, 15.74s/it]"
     ]
    },
    {
     "name": "stdout",
     "output_type": "stream",
     "text": [
      "LIDC-IDRI-0802\n"
     ]
    },
    {
     "name": "stderr",
     "output_type": "stream",
     "text": [
      "100%|██████████| 8/8 [00:01<00:00,  6.30it/s]\n",
      "100%|██████████| 1/1 [00:00<00:00, 27.69it/s]\n"
     ]
    },
    {
     "name": "stdout",
     "output_type": "stream",
     "text": [
      "/home/mengdi/yuxiang.ye/DN_AI_frame/dataset/lidc/npz_seg/LIDC-IDRI-0803.npz\n"
     ]
    },
    {
     "name": "stderr",
     "output_type": "stream",
     "text": [
      "\r",
      " 79%|███████▉  | 799/1010 [52:53<1:01:19, 17.44s/it]"
     ]
    },
    {
     "name": "stdout",
     "output_type": "stream",
     "text": [
      "LIDC-IDRI-0803\n"
     ]
    },
    {
     "name": "stderr",
     "output_type": "stream",
     "text": [
      "100%|██████████| 4/4 [00:00<00:00, 26.74it/s]\n"
     ]
    },
    {
     "name": "stdout",
     "output_type": "stream",
     "text": [
      "/home/mengdi/yuxiang.ye/DN_AI_frame/dataset/lidc/npz_seg/LIDC-IDRI-0804.npz\n",
      "LIDC-IDRI-0804\n"
     ]
    },
    {
     "name": "stderr",
     "output_type": "stream",
     "text": [
      "0it [00:00, ?it/s]00/1010 [53:22<1:13:37, 21.04s/it]\n"
     ]
    },
    {
     "name": "stdout",
     "output_type": "stream",
     "text": [
      "/home/mengdi/yuxiang.ye/DN_AI_frame/dataset/lidc/npz_seg/LIDC-IDRI-0805.npz\n",
      "LIDC-IDRI-0805\n"
     ]
    },
    {
     "name": "stderr",
     "output_type": "stream",
     "text": [
      "\r",
      " 79%|███████▉  | 801/1010 [53:40<1:10:26, 20.22s/it]"
     ]
    },
    {
     "name": "stdout",
     "output_type": "stream",
     "text": [
      "/home/mengdi/yuxiang.ye/DN_AI_frame/dataset/lidc/npz_seg/LIDC-IDRI-0806.npz\n"
     ]
    },
    {
     "name": "stderr",
     "output_type": "stream",
     "text": [
      "\r",
      " 79%|███████▉  | 802/1010 [53:44<52:52, 15.25s/it]  "
     ]
    },
    {
     "name": "stdout",
     "output_type": "stream",
     "text": [
      "LIDC-IDRI-0806\n"
     ]
    },
    {
     "name": "stderr",
     "output_type": "stream",
     "text": [
      "100%|██████████| 6/6 [00:00<00:00, 11.13it/s]\n",
      "100%|██████████| 20/20 [00:02<00:00,  8.33it/s]\n"
     ]
    },
    {
     "name": "stdout",
     "output_type": "stream",
     "text": [
      "/home/mengdi/yuxiang.ye/DN_AI_frame/dataset/lidc/npz_seg/LIDC-IDRI-0807.npz\n",
      "LIDC-IDRI-0807\n"
     ]
    },
    {
     "name": "stderr",
     "output_type": "stream",
     "text": [
      "100%|██████████| 10/10 [00:02<00:00,  4.26it/s]s/it]\n"
     ]
    },
    {
     "name": "stdout",
     "output_type": "stream",
     "text": [
      "/home/mengdi/yuxiang.ye/DN_AI_frame/dataset/lidc/npz_seg/LIDC-IDRI-0808.npz\n",
      "LIDC-IDRI-0808\n"
     ]
    },
    {
     "name": "stderr",
     "output_type": "stream",
     "text": [
      "\r",
      " 80%|███████▉  | 804/1010 [55:08<1:39:22, 28.94s/it]"
     ]
    },
    {
     "name": "stdout",
     "output_type": "stream",
     "text": [
      "/home/mengdi/yuxiang.ye/DN_AI_frame/dataset/lidc/npz_seg/LIDC-IDRI-0809.npz\n",
      "LIDC-IDRI-0809\n"
     ]
    },
    {
     "name": "stderr",
     "output_type": "stream",
     "text": [
      "100%|██████████| 4/4 [00:00<00:00,  8.87it/s]43s/it]\n",
      "0it [00:00, ?it/s]\n"
     ]
    },
    {
     "name": "stdout",
     "output_type": "stream",
     "text": [
      "/home/mengdi/yuxiang.ye/DN_AI_frame/dataset/lidc/npz_seg/LIDC-IDRI-0810.npz\n"
     ]
    },
    {
     "name": "stderr",
     "output_type": "stream",
     "text": [
      "\r",
      " 80%|███████▉  | 806/1010 [55:26<1:07:12, 19.77s/it]"
     ]
    },
    {
     "name": "stdout",
     "output_type": "stream",
     "text": [
      "LIDC-IDRI-0810\n"
     ]
    },
    {
     "name": "stderr",
     "output_type": "stream",
     "text": [
      " 56%|█████▌    | 5/9 [00:00<00:00,  4.36it/s]"
     ]
    },
    {
     "name": "stdout",
     "output_type": "stream",
     "text": [
      "/home/mengdi/yuxiang.ye/DN_AI_frame/dataset/lidc/npz_seg/LIDC-IDRI-0811.npz\n"
     ]
    },
    {
     "name": "stderr",
     "output_type": "stream",
     "text": [
      " 67%|██████▋   | 6/9 [00:01<00:00,  4.79it/s]89s/it]"
     ]
    },
    {
     "name": "stdout",
     "output_type": "stream",
     "text": [
      "LIDC-IDRI-0811\n"
     ]
    },
    {
     "name": "stderr",
     "output_type": "stream",
     "text": [
      "100%|██████████| 9/9 [00:01<00:00,  4.28it/s]\n",
      "100%|██████████| 4/4 [00:06<00:00,  1.64s/it]\n"
     ]
    },
    {
     "name": "stdout",
     "output_type": "stream",
     "text": [
      "/home/mengdi/yuxiang.ye/DN_AI_frame/dataset/lidc/npz_seg/LIDC-IDRI-0812.npz\n",
      "LIDC-IDRI-0812\n"
     ]
    },
    {
     "name": "stderr",
     "output_type": "stream",
     "text": [
      "100%|██████████| 2/2 [00:00<00:00, 30.89it/s]22s/it]\n"
     ]
    },
    {
     "name": "stdout",
     "output_type": "stream",
     "text": [
      "/home/mengdi/yuxiang.ye/DN_AI_frame/dataset/lidc/npz_seg/LIDC-IDRI-0813.npz\n"
     ]
    },
    {
     "name": "stderr",
     "output_type": "stream",
     "text": [
      "\r",
      " 80%|████████  | 809/1010 [56:35<1:11:13, 21.26s/it]"
     ]
    },
    {
     "name": "stdout",
     "output_type": "stream",
     "text": [
      "LIDC-IDRI-0813\n",
      "/home/mengdi/yuxiang.ye/DN_AI_frame/dataset/lidc/npz_seg/LIDC-IDRI-0814.npz\n"
     ]
    },
    {
     "name": "stderr",
     "output_type": "stream",
     "text": [
      "\r",
      " 80%|████████  | 810/1010 [56:38<52:43, 15.82s/it]  "
     ]
    },
    {
     "name": "stdout",
     "output_type": "stream",
     "text": [
      "LIDC-IDRI-0814\n"
     ]
    },
    {
     "name": "stderr",
     "output_type": "stream",
     "text": [
      "100%|██████████| 6/6 [00:00<00:00, 20.83it/s]\n"
     ]
    },
    {
     "name": "stdout",
     "output_type": "stream",
     "text": [
      "/home/mengdi/yuxiang.ye/DN_AI_frame/dataset/lidc/npz_seg/LIDC-IDRI-0815.npz\n"
     ]
    },
    {
     "name": "stderr",
     "output_type": "stream",
     "text": [
      "\r",
      " 80%|████████  | 811/1010 [56:48<46:34, 14.04s/it]"
     ]
    },
    {
     "name": "stdout",
     "output_type": "stream",
     "text": [
      "LIDC-IDRI-0815\n"
     ]
    },
    {
     "name": "stderr",
     "output_type": "stream",
     "text": [
      "100%|██████████| 7/7 [00:00<00:00, 11.95it/s]\n"
     ]
    },
    {
     "name": "stdout",
     "output_type": "stream",
     "text": [
      "/home/mengdi/yuxiang.ye/DN_AI_frame/dataset/lidc/npz_seg/LIDC-IDRI-0816.npz\n",
      "LIDC-IDRI-0816\n"
     ]
    },
    {
     "name": "stderr",
     "output_type": "stream",
     "text": [
      "100%|██████████| 5/5 [00:01<00:00,  2.39it/s]s/it]\n",
      "100%|██████████| 6/6 [00:00<00:00, 14.12it/s]\n"
     ]
    },
    {
     "name": "stdout",
     "output_type": "stream",
     "text": [
      "/home/mengdi/yuxiang.ye/DN_AI_frame/dataset/lidc/npz_seg/LIDC-IDRI-0817.npz\n",
      "LIDC-IDRI-0817\n"
     ]
    },
    {
     "name": "stderr",
     "output_type": "stream",
     "text": [
      "100%|██████████| 1/1 [00:00<00:00, 11.86it/s]s/it]\n"
     ]
    },
    {
     "name": "stdout",
     "output_type": "stream",
     "text": [
      "/home/mengdi/yuxiang.ye/DN_AI_frame/dataset/lidc/npz_seg/LIDC-IDRI-0818.npz\n"
     ]
    },
    {
     "name": "stderr",
     "output_type": "stream",
     "text": [
      "\r",
      " 81%|████████  | 814/1010 [57:28<45:40, 13.98s/it]"
     ]
    },
    {
     "name": "stdout",
     "output_type": "stream",
     "text": [
      "LIDC-IDRI-0818\n"
     ]
    },
    {
     "name": "stderr",
     "output_type": "stream",
     "text": [
      "100%|██████████| 2/2 [00:00<00:00, 26.45it/s]\n"
     ]
    },
    {
     "name": "stdout",
     "output_type": "stream",
     "text": [
      "/home/mengdi/yuxiang.ye/DN_AI_frame/dataset/lidc/npz_seg/LIDC-IDRI-0819.npz\n"
     ]
    },
    {
     "name": "stderr",
     "output_type": "stream",
     "text": [
      "\r",
      " 81%|████████  | 815/1010 [57:46<49:19, 15.18s/it]"
     ]
    },
    {
     "name": "stdout",
     "output_type": "stream",
     "text": [
      "LIDC-IDRI-0819\n",
      "/home/mengdi/yuxiang.ye/DN_AI_frame/dataset/lidc/npz_seg/LIDC-IDRI-0820.npz\n"
     ]
    },
    {
     "name": "stderr",
     "output_type": "stream",
     "text": [
      "\r",
      " 81%|████████  | 816/1010 [57:52<39:50, 12.32s/it]"
     ]
    },
    {
     "name": "stdout",
     "output_type": "stream",
     "text": [
      "LIDC-IDRI-0820\n"
     ]
    },
    {
     "name": "stderr",
     "output_type": "stream",
     "text": [
      "100%|██████████| 8/8 [00:00<00:00, 15.30it/s]\n",
      "100%|██████████| 9/9 [00:04<00:00,  1.69it/s]\n"
     ]
    },
    {
     "name": "stdout",
     "output_type": "stream",
     "text": [
      "/home/mengdi/yuxiang.ye/DN_AI_frame/dataset/lidc/npz_seg/LIDC-IDRI-0821.npz\n",
      "LIDC-IDRI-0821\n"
     ]
    },
    {
     "name": "stderr",
     "output_type": "stream",
     "text": [
      "100%|██████████| 5/5 [00:01<00:00,  4.17it/s]64s/it]\n"
     ]
    },
    {
     "name": "stdout",
     "output_type": "stream",
     "text": [
      "/home/mengdi/yuxiang.ye/DN_AI_frame/dataset/lidc/npz_seg/LIDC-IDRI-0822.npz\n"
     ]
    },
    {
     "name": "stderr",
     "output_type": "stream",
     "text": [
      "\r",
      " 81%|████████  | 818/1010 [58:55<1:08:18, 21.35s/it]"
     ]
    },
    {
     "name": "stdout",
     "output_type": "stream",
     "text": [
      "LIDC-IDRI-0822\n"
     ]
    },
    {
     "name": "stderr",
     "output_type": "stream",
     "text": [
      "100%|██████████| 19/19 [00:01<00:00, 11.53it/s]\n"
     ]
    },
    {
     "name": "stdout",
     "output_type": "stream",
     "text": [
      "/home/mengdi/yuxiang.ye/DN_AI_frame/dataset/lidc/npz_seg/LIDC-IDRI-0823.npz\n"
     ]
    },
    {
     "name": "stderr",
     "output_type": "stream",
     "text": [
      "\r",
      " 81%|████████  | 819/1010 [59:10<1:02:02, 19.49s/it]"
     ]
    },
    {
     "name": "stdout",
     "output_type": "stream",
     "text": [
      "LIDC-IDRI-0823\n"
     ]
    },
    {
     "name": "stderr",
     "output_type": "stream",
     "text": [
      "100%|██████████| 1/1 [00:00<00:00, 18.37it/s]\n"
     ]
    },
    {
     "name": "stdout",
     "output_type": "stream",
     "text": [
      "/home/mengdi/yuxiang.ye/DN_AI_frame/dataset/lidc/npz_seg/LIDC-IDRI-0824.npz\n"
     ]
    },
    {
     "name": "stderr",
     "output_type": "stream",
     "text": [
      "\r",
      " 81%|████████  | 820/1010 [59:19<51:20, 16.21s/it]  "
     ]
    },
    {
     "name": "stdout",
     "output_type": "stream",
     "text": [
      "LIDC-IDRI-0824\n"
     ]
    },
    {
     "name": "stderr",
     "output_type": "stream",
     "text": [
      "100%|██████████| 2/2 [00:00<00:00, 37.22it/s]\n"
     ]
    },
    {
     "name": "stdout",
     "output_type": "stream",
     "text": [
      "/home/mengdi/yuxiang.ye/DN_AI_frame/dataset/lidc/npz_seg/LIDC-IDRI-0825.npz\n"
     ]
    },
    {
     "name": "stderr",
     "output_type": "stream",
     "text": [
      "\r",
      " 81%|████████▏ | 821/1010 [59:31<47:02, 14.93s/it]"
     ]
    },
    {
     "name": "stdout",
     "output_type": "stream",
     "text": [
      "LIDC-IDRI-0825\n"
     ]
    },
    {
     "name": "stderr",
     "output_type": "stream",
     "text": [
      "100%|██████████| 3/3 [00:00<00:00,  5.36it/s]\n"
     ]
    },
    {
     "name": "stdout",
     "output_type": "stream",
     "text": [
      "/home/mengdi/yuxiang.ye/DN_AI_frame/dataset/lidc/npz_seg/LIDC-IDRI-0826.npz\n"
     ]
    },
    {
     "name": "stderr",
     "output_type": "stream",
     "text": [
      "\r",
      " 81%|████████▏ | 822/1010 [59:42<43:04, 13.75s/it]"
     ]
    },
    {
     "name": "stdout",
     "output_type": "stream",
     "text": [
      "LIDC-IDRI-0826\n",
      "/home/mengdi/yuxiang.ye/DN_AI_frame/dataset/lidc/npz_seg/LIDC-IDRI-0827.npz\n",
      "LIDC-IDRI-0827\n"
     ]
    },
    {
     "name": "stderr",
     "output_type": "stream",
     "text": [
      "100%|██████████| 6/6 [00:00<00:00,  6.45it/s]s/it]\n",
      "100%|██████████| 12/12 [00:01<00:00,  5.05it/s]\n",
      " 82%|████████▏ | 824/1010 [1:01:36<2:03:57, 39.99s/it]"
     ]
    },
    {
     "name": "stdout",
     "output_type": "stream",
     "text": [
      "/home/mengdi/yuxiang.ye/DN_AI_frame/dataset/lidc/npz_seg/LIDC-IDRI-0828.npz\n",
      "LIDC-IDRI-0828\n",
      "/home/mengdi/yuxiang.ye/DN_AI_frame/dataset/lidc/npz_seg/LIDC-IDRI-0829.npz\n",
      "LIDC-IDRI-0829\n"
     ]
    },
    {
     "name": "stderr",
     "output_type": "stream",
     "text": [
      "100%|██████████| 3/3 [00:08<00:00,  2.82s/it]8.24s/it]\n",
      "100%|██████████| 4/4 [00:00<00:00, 21.91it/s]\n"
     ]
    },
    {
     "name": "stdout",
     "output_type": "stream",
     "text": [
      "/home/mengdi/yuxiang.ye/DN_AI_frame/dataset/lidc/npz_seg/LIDC-IDRI-0830.npz\n",
      "LIDC-IDRI-0830\n"
     ]
    },
    {
     "name": "stderr",
     "output_type": "stream",
     "text": [
      "\r",
      " 82%|████████▏ | 826/1010 [1:03:10<2:26:18, 47.71s/it]"
     ]
    },
    {
     "name": "stdout",
     "output_type": "stream",
     "text": [
      "/home/mengdi/yuxiang.ye/DN_AI_frame/dataset/lidc/npz_seg/LIDC-IDRI-0831.npz\n"
     ]
    },
    {
     "name": "stderr",
     "output_type": "stream",
     "text": [
      "\r",
      " 82%|████████▏ | 827/1010 [1:03:13<1:44:52, 34.39s/it]"
     ]
    },
    {
     "name": "stdout",
     "output_type": "stream",
     "text": [
      "LIDC-IDRI-0831\n"
     ]
    },
    {
     "name": "stderr",
     "output_type": "stream",
     "text": [
      "100%|██████████| 3/3 [00:00<00:00, 14.24it/s]\n",
      "100%|██████████| 1/1 [00:00<00:00, 12.99it/s]\n"
     ]
    },
    {
     "name": "stdout",
     "output_type": "stream",
     "text": [
      "/home/mengdi/yuxiang.ye/DN_AI_frame/dataset/lidc/npz_seg/LIDC-IDRI-0832.npz\n"
     ]
    },
    {
     "name": "stderr",
     "output_type": "stream",
     "text": [
      "\r",
      " 82%|████████▏ | 828/1010 [1:03:33<1:31:31, 30.17s/it]"
     ]
    },
    {
     "name": "stdout",
     "output_type": "stream",
     "text": [
      "LIDC-IDRI-0832\n"
     ]
    },
    {
     "name": "stderr",
     "output_type": "stream",
     "text": [
      "100%|██████████| 6/6 [00:00<00:00, 15.43it/s]\n"
     ]
    },
    {
     "name": "stdout",
     "output_type": "stream",
     "text": [
      "/home/mengdi/yuxiang.ye/DN_AI_frame/dataset/lidc/npz_seg/LIDC-IDRI-0833.npz\n",
      "LIDC-IDRI-0833\n"
     ]
    },
    {
     "name": "stderr",
     "output_type": "stream",
     "text": [
      "100%|██████████| 1/1 [00:00<00:00, 17.32it/s]2.38s/it]\n",
      " 82%|████████▏ | 830/1010 [1:05:39<2:27:47, 49.26s/it]"
     ]
    },
    {
     "name": "stdout",
     "output_type": "stream",
     "text": [
      "/home/mengdi/yuxiang.ye/DN_AI_frame/dataset/lidc/npz_seg/LIDC-IDRI-0834.npz\n"
     ]
    },
    {
     "name": "stderr",
     "output_type": "stream",
     "text": [
      "\r",
      " 82%|████████▏ | 831/1010 [1:05:40<1:43:15, 34.61s/it]"
     ]
    },
    {
     "name": "stdout",
     "output_type": "stream",
     "text": [
      "/home/mengdi/yuxiang.ye/DN_AI_frame/dataset/lidc/npz_seg/LIDC-IDRI-0835.npz\n",
      "LIDC-IDRI-0835\n"
     ]
    },
    {
     "name": "stderr",
     "output_type": "stream",
     "text": [
      "\r",
      " 82%|████████▏ | 832/1010 [1:05:40<1:11:59, 24.27s/it]"
     ]
    },
    {
     "name": "stdout",
     "output_type": "stream",
     "text": [
      "/home/mengdi/yuxiang.ye/DN_AI_frame/dataset/lidc/npz_seg/LIDC-IDRI-0836.npz\n",
      "LIDC-IDRI-0836\n"
     ]
    },
    {
     "name": "stderr",
     "output_type": "stream",
     "text": [
      "100%|██████████| 6/6 [00:00<00:00,  4.10it/s]\n",
      "100%|██████████| 8/8 [00:01<00:00,  6.46it/s]\n"
     ]
    },
    {
     "name": "stdout",
     "output_type": "stream",
     "text": [
      "/home/mengdi/yuxiang.ye/DN_AI_frame/dataset/lidc/npz_seg/LIDC-IDRI-0837.npz\n",
      "LIDC-IDRI-0837\n"
     ]
    },
    {
     "name": "stderr",
     "output_type": "stream",
     "text": [
      "\r",
      " 82%|████████▏ | 833/1010 [1:06:08<1:15:15, 25.51s/it]"
     ]
    },
    {
     "name": "stdout",
     "output_type": "stream",
     "text": [
      "/home/mengdi/yuxiang.ye/DN_AI_frame/dataset/lidc/npz_seg/LIDC-IDRI-0838.npz\n",
      "LIDC-IDRI-0838\n"
     ]
    },
    {
     "name": "stderr",
     "output_type": "stream",
     "text": [
      "100%|██████████| 9/9 [00:03<00:00,  2.48it/s]29s/it]  \n",
      "100%|██████████| 16/16 [00:06<00:00,  2.14it/s]\n"
     ]
    },
    {
     "name": "stdout",
     "output_type": "stream",
     "text": [
      "/home/mengdi/yuxiang.ye/DN_AI_frame/dataset/lidc/npz_seg/LIDC-IDRI-0839.npz\n",
      "LIDC-IDRI-0839\n"
     ]
    },
    {
     "name": "stderr",
     "output_type": "stream",
     "text": [
      "\r",
      " 83%|████████▎ | 835/1010 [1:08:57<3:01:30, 62.23s/it]"
     ]
    },
    {
     "name": "stdout",
     "output_type": "stream",
     "text": [
      "/home/mengdi/yuxiang.ye/DN_AI_frame/dataset/lidc/npz_seg/LIDC-IDRI-0840.npz\n"
     ]
    },
    {
     "name": "stderr",
     "output_type": "stream",
     "text": [
      "\r",
      " 83%|████████▎ | 836/1010 [1:09:08<2:16:26, 47.05s/it]"
     ]
    },
    {
     "name": "stdout",
     "output_type": "stream",
     "text": [
      "LIDC-IDRI-0840\n"
     ]
    },
    {
     "name": "stderr",
     "output_type": "stream",
     "text": [
      "100%|██████████| 1/1 [00:00<00:00,  1.67it/s]\n",
      "0it [00:00, ?it/s]\n"
     ]
    },
    {
     "name": "stdout",
     "output_type": "stream",
     "text": [
      "/home/mengdi/yuxiang.ye/DN_AI_frame/dataset/lidc/npz_seg/LIDC-IDRI-0841.npz\n",
      "LIDC-IDRI-0841\n"
     ]
    },
    {
     "name": "stderr",
     "output_type": "stream",
     "text": [
      "100%|██████████| 3/3 [00:00<00:00, 28.24it/s]5.12s/it]\n"
     ]
    },
    {
     "name": "stdout",
     "output_type": "stream",
     "text": [
      "/home/mengdi/yuxiang.ye/DN_AI_frame/dataset/lidc/npz_seg/LIDC-IDRI-0842.npz\n",
      "LIDC-IDRI-0842\n"
     ]
    },
    {
     "name": "stderr",
     "output_type": "stream",
     "text": [
      "100%|██████████| 4/4 [00:00<00:00, 44.70it/s]0.76s/it]\n"
     ]
    },
    {
     "name": "stdout",
     "output_type": "stream",
     "text": [
      "/home/mengdi/yuxiang.ye/DN_AI_frame/dataset/lidc/npz_seg/LIDC-IDRI-0843.npz\n"
     ]
    },
    {
     "name": "stderr",
     "output_type": "stream",
     "text": [
      "\r",
      " 83%|████████▎ | 839/1010 [1:10:49<1:46:41, 37.44s/it]"
     ]
    },
    {
     "name": "stdout",
     "output_type": "stream",
     "text": [
      "LIDC-IDRI-0843\n",
      "/home/mengdi/yuxiang.ye/DN_AI_frame/dataset/lidc/npz_seg/LIDC-IDRI-0844.npz\n",
      "LIDC-IDRI-0844\n"
     ]
    },
    {
     "name": "stderr",
     "output_type": "stream",
     "text": [
      "100%|██████████| 8/8 [00:03<00:00,  3.22it/s]9.25s/it]\n",
      "100%|██████████| 22/22 [00:05<00:00,  5.44it/s]\n",
      " 83%|████████▎ | 841/1010 [1:13:10<2:48:07, 59.69s/it]"
     ]
    },
    {
     "name": "stdout",
     "output_type": "stream",
     "text": [
      "/home/mengdi/yuxiang.ye/DN_AI_frame/dataset/lidc/npz_seg/LIDC-IDRI-0845.npz\n",
      "LIDC-IDRI-0845\n"
     ]
    },
    {
     "name": "stderr",
     "output_type": "stream",
     "text": [
      "\r",
      " 83%|████████▎ | 842/1010 [1:14:22<2:57:07, 63.26s/it]"
     ]
    },
    {
     "name": "stdout",
     "output_type": "stream",
     "text": [
      "/home/mengdi/yuxiang.ye/DN_AI_frame/dataset/lidc/npz_seg/LIDC-IDRI-0846.npz\n",
      "LIDC-IDRI-0846\n"
     ]
    },
    {
     "name": "stderr",
     "output_type": "stream",
     "text": [
      "100%|██████████| 6/6 [00:00<00:00,  1.75it/s]\n",
      "100%|██████████| 5/5 [00:01<00:00,  3.35it/s]\n"
     ]
    },
    {
     "name": "stdout",
     "output_type": "stream",
     "text": [
      "/home/mengdi/yuxiang.ye/DN_AI_frame/dataset/lidc/npz_seg/LIDC-IDRI-0847.npz\n"
     ]
    },
    {
     "name": "stderr",
     "output_type": "stream",
     "text": [
      "\r",
      " 83%|████████▎ | 843/1010 [1:15:16<2:48:50, 60.66s/it]"
     ]
    },
    {
     "name": "stdout",
     "output_type": "stream",
     "text": [
      "LIDC-IDRI-0847\n",
      "/home/mengdi/yuxiang.ye/DN_AI_frame/dataset/lidc/npz_seg/LIDC-IDRI-0848.npz\n",
      "LIDC-IDRI-0848\n"
     ]
    },
    {
     "name": "stderr",
     "output_type": "stream",
     "text": [
      "100%|██████████| 1/1 [00:00<00:00, 32.74it/s]3.26s/it]\n",
      "100%|██████████| 3/3 [00:00<00:00, 12.53it/s]\n"
     ]
    },
    {
     "name": "stdout",
     "output_type": "stream",
     "text": [
      "/home/mengdi/yuxiang.ye/DN_AI_frame/dataset/lidc/npz_seg/LIDC-IDRI-0849.npz\n"
     ]
    },
    {
     "name": "stderr",
     "output_type": "stream",
     "text": [
      "\r",
      " 84%|████████▎ | 845/1010 [1:15:40<1:40:34, 36.58s/it]"
     ]
    },
    {
     "name": "stdout",
     "output_type": "stream",
     "text": [
      "LIDC-IDRI-0849\n"
     ]
    },
    {
     "name": "stderr",
     "output_type": "stream",
     "text": [
      "100%|██████████| 15/15 [00:10<00:00,  2.16it/s]\n"
     ]
    },
    {
     "name": "stdout",
     "output_type": "stream",
     "text": [
      "/home/mengdi/yuxiang.ye/DN_AI_frame/dataset/lidc/npz_seg/LIDC-IDRI-0850.npz\n",
      "LIDC-IDRI-0850\n"
     ]
    },
    {
     "name": "stderr",
     "output_type": "stream",
     "text": [
      "100%|██████████| 9/9 [00:02<00:00,  4.21it/s]8.27s/it]\n",
      " 84%|████████▍ | 847/1010 [1:17:32<2:09:37, 47.71s/it]"
     ]
    },
    {
     "name": "stdout",
     "output_type": "stream",
     "text": [
      "/home/mengdi/yuxiang.ye/DN_AI_frame/dataset/lidc/npz_seg/LIDC-IDRI-0851.npz\n",
      "LIDC-IDRI-0851\n",
      "/home/mengdi/yuxiang.ye/DN_AI_frame/dataset/lidc/npz_seg/LIDC-IDRI-0852.npz\n",
      "LIDC-IDRI-0852\n"
     ]
    },
    {
     "name": "stderr",
     "output_type": "stream",
     "text": [
      "100%|██████████| 6/6 [00:01<00:00,  5.20it/s]3.54s/it]\n",
      "100%|██████████| 11/11 [00:01<00:00,  5.75it/s]\n"
     ]
    },
    {
     "name": "stdout",
     "output_type": "stream",
     "text": [
      "/home/mengdi/yuxiang.ye/DN_AI_frame/dataset/lidc/npz_seg/LIDC-IDRI-0853.npz\n"
     ]
    },
    {
     "name": "stderr",
     "output_type": "stream",
     "text": [
      "\r",
      " 84%|████████▍ | 849/1010 [1:18:35<1:45:37, 39.36s/it]"
     ]
    },
    {
     "name": "stdout",
     "output_type": "stream",
     "text": [
      "LIDC-IDRI-0853\n"
     ]
    },
    {
     "name": "stderr",
     "output_type": "stream",
     "text": [
      "0it [00:00, ?it/s]\n"
     ]
    },
    {
     "name": "stdout",
     "output_type": "stream",
     "text": [
      "/home/mengdi/yuxiang.ye/DN_AI_frame/dataset/lidc/npz_seg/LIDC-IDRI-0854.npz\n"
     ]
    },
    {
     "name": "stderr",
     "output_type": "stream",
     "text": [
      "\r",
      " 84%|████████▍ | 850/1010 [1:18:47<1:22:42, 31.02s/it]"
     ]
    },
    {
     "name": "stdout",
     "output_type": "stream",
     "text": [
      "LIDC-IDRI-0854\n",
      "/home/mengdi/yuxiang.ye/DN_AI_frame/dataset/lidc/npz_seg/LIDC-IDRI-0855.npz\n"
     ]
    },
    {
     "name": "stderr",
     "output_type": "stream",
     "text": [
      "\r",
      " 84%|████████▍ | 851/1010 [1:18:57<1:05:37, 24.76s/it]"
     ]
    },
    {
     "name": "stdout",
     "output_type": "stream",
     "text": [
      "LIDC-IDRI-0855\n"
     ]
    },
    {
     "name": "stderr",
     "output_type": "stream",
     "text": [
      "100%|██████████| 13/13 [00:02<00:00,  5.85it/s]\n",
      "100%|██████████| 40/40 [00:02<00:00, 19.04it/s]\n"
     ]
    },
    {
     "name": "stdout",
     "output_type": "stream",
     "text": [
      "/home/mengdi/yuxiang.ye/DN_AI_frame/dataset/lidc/npz_seg/LIDC-IDRI-0856.npz\n",
      "LIDC-IDRI-0856\n"
     ]
    },
    {
     "name": "stderr",
     "output_type": "stream",
     "text": [
      "100%|██████████| 1/1 [00:03<00:00,  3.13s/it]6.75s/it]\n",
      " 84%|████████▍ | 853/1010 [1:21:59<2:47:29, 64.01s/it]"
     ]
    },
    {
     "name": "stdout",
     "output_type": "stream",
     "text": [
      "/home/mengdi/yuxiang.ye/DN_AI_frame/dataset/lidc/npz_seg/LIDC-IDRI-0857.npz\n",
      "LIDC-IDRI-0857\n"
     ]
    },
    {
     "name": "stderr",
     "output_type": "stream",
     "text": [
      "\r",
      " 85%|████████▍ | 854/1010 [1:24:07<3:36:16, 83.18s/it]"
     ]
    },
    {
     "name": "stdout",
     "output_type": "stream",
     "text": [
      "/home/mengdi/yuxiang.ye/DN_AI_frame/dataset/lidc/npz_seg/LIDC-IDRI-0858.npz\n",
      "LIDC-IDRI-0858\n"
     ]
    },
    {
     "name": "stderr",
     "output_type": "stream",
     "text": [
      "100%|██████████| 5/5 [00:02<00:00,  1.36it/s]\n",
      "100%|██████████| 32/32 [00:10<00:00,  3.00it/s]\n"
     ]
    },
    {
     "name": "stdout",
     "output_type": "stream",
     "text": [
      "/home/mengdi/yuxiang.ye/DN_AI_frame/dataset/lidc/npz_seg/LIDC-IDRI-0859.npz\n",
      "LIDC-IDRI-0859\n"
     ]
    },
    {
     "name": "stderr",
     "output_type": "stream",
     "text": [
      "\r",
      " 85%|████████▍ | 855/1010 [1:29:24<6:36:07, 153.34s/it]"
     ]
    },
    {
     "name": "stdout",
     "output_type": "stream",
     "text": [
      "/home/mengdi/yuxiang.ye/DN_AI_frame/dataset/lidc/npz_seg/LIDC-IDRI-0860.npz\n",
      "LIDC-IDRI-0860\n"
     ]
    },
    {
     "name": "stderr",
     "output_type": "stream",
     "text": [
      "100%|██████████| 3/3 [00:00<00:00,  6.26it/s]17.97s/it]\n",
      "100%|██████████| 8/8 [00:01<00:00,  4.64it/s]\n"
     ]
    },
    {
     "name": "stdout",
     "output_type": "stream",
     "text": [
      "/home/mengdi/yuxiang.ye/DN_AI_frame/dataset/lidc/npz_seg/LIDC-IDRI-0861.npz\n",
      "LIDC-IDRI-0861\n"
     ]
    },
    {
     "name": "stderr",
     "output_type": "stream",
     "text": [
      "\r",
      " 85%|████████▍ | 857/1010 [1:30:28<3:51:57, 90.96s/it] "
     ]
    },
    {
     "name": "stdout",
     "output_type": "stream",
     "text": [
      "/home/mengdi/yuxiang.ye/DN_AI_frame/dataset/lidc/npz_seg/LIDC-IDRI-0862.npz\n",
      "LIDC-IDRI-0862\n"
     ]
    },
    {
     "name": "stderr",
     "output_type": "stream",
     "text": [
      "100%|██████████| 7/7 [00:01<00:00,  2.54it/s]4.51s/it]\n",
      "0it [00:00, ?it/s]\n"
     ]
    },
    {
     "name": "stdout",
     "output_type": "stream",
     "text": [
      "/home/mengdi/yuxiang.ye/DN_AI_frame/dataset/lidc/npz_seg/LIDC-IDRI-0863.npz\n"
     ]
    },
    {
     "name": "stderr",
     "output_type": "stream",
     "text": [
      "\r",
      " 85%|████████▌ | 859/1010 [1:31:02<2:17:13, 54.53s/it]"
     ]
    },
    {
     "name": "stdout",
     "output_type": "stream",
     "text": [
      "LIDC-IDRI-0863\n",
      "/home/mengdi/yuxiang.ye/DN_AI_frame/dataset/lidc/npz_seg/LIDC-IDRI-0864.npz\n",
      "LIDC-IDRI-0864\n"
     ]
    },
    {
     "name": "stderr",
     "output_type": "stream",
     "text": [
      "100%|██████████| 4/4 [00:00<00:00, 20.75it/s]4.35s/it]\n",
      "100%|██████████| 8/8 [00:01<00:00,  3.61it/s]\n"
     ]
    },
    {
     "name": "stdout",
     "output_type": "stream",
     "text": [
      "/home/mengdi/yuxiang.ye/DN_AI_frame/dataset/lidc/npz_seg/LIDC-IDRI-0865.npz\n"
     ]
    },
    {
     "name": "stderr",
     "output_type": "stream",
     "text": [
      "\r",
      " 85%|████████▌ | 861/1010 [1:32:01<1:45:58, 42.68s/it]"
     ]
    },
    {
     "name": "stdout",
     "output_type": "stream",
     "text": [
      "LIDC-IDRI-0865\n"
     ]
    },
    {
     "name": "stderr",
     "output_type": "stream",
     "text": [
      "100%|██████████| 5/5 [00:01<00:00,  3.43it/s]\n",
      " 85%|████████▌ | 862/1010 [1:32:25<1:31:36, 37.14s/it]"
     ]
    },
    {
     "name": "stdout",
     "output_type": "stream",
     "text": [
      "/home/mengdi/yuxiang.ye/DN_AI_frame/dataset/lidc/npz_seg/LIDC-IDRI-0866.npz\n",
      "LIDC-IDRI-0866\n",
      "/home/mengdi/yuxiang.ye/DN_AI_frame/dataset/lidc/npz_seg/LIDC-IDRI-0867.npz\n",
      "LIDC-IDRI-0867\n"
     ]
    },
    {
     "name": "stderr",
     "output_type": "stream",
     "text": [
      "100%|██████████| 20/20 [00:04<00:00,  4.57it/s]50s/it]\n",
      "100%|██████████| 8/8 [00:07<00:00,  1.52it/s]\n",
      " 86%|████████▌ | 864/1010 [1:34:51<2:28:47, 61.15s/it]"
     ]
    },
    {
     "name": "stdout",
     "output_type": "stream",
     "text": [
      "/home/mengdi/yuxiang.ye/DN_AI_frame/dataset/lidc/npz_seg/LIDC-IDRI-0868.npz\n",
      "LIDC-IDRI-0868\n"
     ]
    },
    {
     "name": "stderr",
     "output_type": "stream",
     "text": [
      "100%|██████████| 6/6 [00:01<00:00,  5.41it/s]\n"
     ]
    },
    {
     "name": "stdout",
     "output_type": "stream",
     "text": [
      "/home/mengdi/yuxiang.ye/DN_AI_frame/dataset/lidc/npz_seg/LIDC-IDRI-0869.npz\n",
      "LIDC-IDRI-0869\n"
     ]
    },
    {
     "name": "stderr",
     "output_type": "stream",
     "text": [
      "100%|██████████| 10/10 [00:06<00:00,  1.58it/s]64s/it]\n"
     ]
    },
    {
     "name": "stdout",
     "output_type": "stream",
     "text": [
      "/home/mengdi/yuxiang.ye/DN_AI_frame/dataset/lidc/npz_seg/LIDC-IDRI-0870.npz\n"
     ]
    },
    {
     "name": "stderr",
     "output_type": "stream",
     "text": [
      "\r",
      " 86%|████████▌ | 866/1010 [1:36:24<2:09:18, 53.88s/it]"
     ]
    },
    {
     "name": "stdout",
     "output_type": "stream",
     "text": [
      "LIDC-IDRI-0870\n",
      "/home/mengdi/yuxiang.ye/DN_AI_frame/dataset/lidc/npz_seg/LIDC-IDRI-0871.npz\n",
      "LIDC-IDRI-0871\n"
     ]
    },
    {
     "name": "stderr",
     "output_type": "stream",
     "text": [
      "100%|██████████| 28/28 [00:02<00:00, 10.64it/s]09s/it]\n",
      "100%|██████████| 24/24 [00:01<00:00, 12.62it/s]\n"
     ]
    },
    {
     "name": "stdout",
     "output_type": "stream",
     "text": [
      "/home/mengdi/yuxiang.ye/DN_AI_frame/dataset/lidc/npz_seg/LIDC-IDRI-0872.npz\n",
      "LIDC-IDRI-0872\n"
     ]
    },
    {
     "name": "stderr",
     "output_type": "stream",
     "text": [
      "100%|██████████| 4/4 [00:00<00:00, 23.92it/s]5.80s/it]\n"
     ]
    },
    {
     "name": "stdout",
     "output_type": "stream",
     "text": [
      "/home/mengdi/yuxiang.ye/DN_AI_frame/dataset/lidc/npz_seg/LIDC-IDRI-0873.npz\n",
      "LIDC-IDRI-0873\n"
     ]
    },
    {
     "name": "stderr",
     "output_type": "stream",
     "text": [
      "100%|██████████| 1/1 [00:00<00:00, 18.87it/s]5.33s/it]\n"
     ]
    },
    {
     "name": "stdout",
     "output_type": "stream",
     "text": [
      "/home/mengdi/yuxiang.ye/DN_AI_frame/dataset/lidc/npz_seg/LIDC-IDRI-0874.npz\n"
     ]
    },
    {
     "name": "stderr",
     "output_type": "stream",
     "text": [
      "\r",
      " 86%|████████▌ | 870/1010 [1:38:16<1:11:22, 30.59s/it]"
     ]
    },
    {
     "name": "stdout",
     "output_type": "stream",
     "text": [
      "LIDC-IDRI-0874\n",
      "/home/mengdi/yuxiang.ye/DN_AI_frame/dataset/lidc/npz_seg/LIDC-IDRI-0875.npz\n",
      "LIDC-IDRI-0875\n"
     ]
    },
    {
     "name": "stderr",
     "output_type": "stream",
     "text": [
      "100%|██████████| 5/5 [00:01<00:00,  2.75it/s]61s/it]  \n",
      "100%|██████████| 9/9 [00:17<00:00,  1.98s/it]\n"
     ]
    },
    {
     "name": "stdout",
     "output_type": "stream",
     "text": [
      "/home/mengdi/yuxiang.ye/DN_AI_frame/dataset/lidc/npz_seg/LIDC-IDRI-0876.npz\n",
      "LIDC-IDRI-0876\n"
     ]
    },
    {
     "name": "stderr",
     "output_type": "stream",
     "text": [
      "0it [00:00, ?it/s]72/1010 [1:39:30<1:23:44, 36.41s/it]\n"
     ]
    },
    {
     "name": "stdout",
     "output_type": "stream",
     "text": [
      "/home/mengdi/yuxiang.ye/DN_AI_frame/dataset/lidc/npz_seg/LIDC-IDRI-0877.npz\n"
     ]
    },
    {
     "name": "stderr",
     "output_type": "stream",
     "text": [
      "\r",
      " 86%|████████▋ | 873/1010 [1:42:14<2:50:31, 74.69s/it]"
     ]
    },
    {
     "name": "stdout",
     "output_type": "stream",
     "text": [
      "LIDC-IDRI-0877\n"
     ]
    },
    {
     "name": "stderr",
     "output_type": "stream",
     "text": [
      "0it [00:00, ?it/s]\n"
     ]
    },
    {
     "name": "stdout",
     "output_type": "stream",
     "text": [
      "/home/mengdi/yuxiang.ye/DN_AI_frame/dataset/lidc/npz_seg/LIDC-IDRI-0878.npz\n",
      "LIDC-IDRI-0878\n"
     ]
    },
    {
     "name": "stderr",
     "output_type": "stream",
     "text": [
      "\r",
      " 87%|████████▋ | 874/1010 [1:43:07<2:35:07, 68.44s/it]"
     ]
    },
    {
     "name": "stdout",
     "output_type": "stream",
     "text": [
      "/home/mengdi/yuxiang.ye/DN_AI_frame/dataset/lidc/npz_seg/LIDC-IDRI-0879.npz\n"
     ]
    },
    {
     "name": "stderr",
     "output_type": "stream",
     "text": [
      "\r",
      " 87%|████████▋ | 875/1010 [1:43:14<1:52:06, 49.82s/it]"
     ]
    },
    {
     "name": "stdout",
     "output_type": "stream",
     "text": [
      "LIDC-IDRI-0879\n"
     ]
    },
    {
     "name": "stderr",
     "output_type": "stream",
     "text": [
      "0it [00:00, ?it/s]\n",
      "100%|██████████| 16/16 [00:01<00:00,  7.55it/s]\n"
     ]
    },
    {
     "name": "stdout",
     "output_type": "stream",
     "text": [
      "/home/mengdi/yuxiang.ye/DN_AI_frame/dataset/lidc/npz_seg/LIDC-IDRI-0880.npz\n"
     ]
    },
    {
     "name": "stderr",
     "output_type": "stream",
     "text": [
      "\r",
      " 87%|████████▋ | 876/1010 [1:43:27<1:26:57, 38.94s/it]"
     ]
    },
    {
     "name": "stdout",
     "output_type": "stream",
     "text": [
      "LIDC-IDRI-0880\n"
     ]
    },
    {
     "name": "stderr",
     "output_type": "stream",
     "text": [
      "100%|██████████| 7/7 [00:00<00:00, 13.69it/s]\n"
     ]
    },
    {
     "name": "stdout",
     "output_type": "stream",
     "text": [
      "/home/mengdi/yuxiang.ye/DN_AI_frame/dataset/lidc/npz_seg/LIDC-IDRI-0881.npz\n",
      "LIDC-IDRI-0881\n"
     ]
    },
    {
     "name": "stderr",
     "output_type": "stream",
     "text": [
      "0it [00:00, ?it/s]77/1010 [1:44:04<1:24:35, 38.16s/it]\n"
     ]
    },
    {
     "name": "stdout",
     "output_type": "stream",
     "text": [
      "/home/mengdi/yuxiang.ye/DN_AI_frame/dataset/lidc/npz_seg/LIDC-IDRI-0882.npz\n",
      "LIDC-IDRI-0882\n"
     ]
    },
    {
     "name": "stderr",
     "output_type": "stream",
     "text": [
      "\r",
      " 87%|████████▋ | 878/1010 [1:44:22<1:10:55, 32.24s/it]"
     ]
    },
    {
     "name": "stdout",
     "output_type": "stream",
     "text": [
      "/home/mengdi/yuxiang.ye/DN_AI_frame/dataset/lidc/npz_seg/LIDC-IDRI-0883.npz\n",
      "LIDC-IDRI-0883\n"
     ]
    },
    {
     "name": "stderr",
     "output_type": "stream",
     "text": [
      "100%|██████████| 5/5 [00:00<00:00, 10.92it/s]27s/it]  \n",
      "100%|██████████| 3/3 [00:00<00:00,  5.43it/s]\n"
     ]
    },
    {
     "name": "stdout",
     "output_type": "stream",
     "text": [
      "/home/mengdi/yuxiang.ye/DN_AI_frame/dataset/lidc/npz_seg/LIDC-IDRI-0884.npz\n",
      "LIDC-IDRI-0884\n"
     ]
    },
    {
     "name": "stderr",
     "output_type": "stream",
     "text": [
      "\r",
      " 87%|████████▋ | 880/1010 [1:45:22<1:12:53, 33.64s/it]"
     ]
    },
    {
     "name": "stdout",
     "output_type": "stream",
     "text": [
      "/home/mengdi/yuxiang.ye/DN_AI_frame/dataset/lidc/npz_seg/LIDC-IDRI-0885.npz\n"
     ]
    },
    {
     "name": "stderr",
     "output_type": "stream",
     "text": [
      "\r",
      " 87%|████████▋ | 881/1010 [1:45:38<1:00:53, 28.32s/it]"
     ]
    },
    {
     "name": "stdout",
     "output_type": "stream",
     "text": [
      "LIDC-IDRI-0885\n"
     ]
    },
    {
     "name": "stderr",
     "output_type": "stream",
     "text": [
      "0it [00:00, ?it/s]\n",
      "100%|██████████| 5/5 [00:03<00:00,  1.35it/s]\n"
     ]
    },
    {
     "name": "stdout",
     "output_type": "stream",
     "text": [
      "/home/mengdi/yuxiang.ye/DN_AI_frame/dataset/lidc/npz_seg/LIDC-IDRI-0886.npz\n",
      "LIDC-IDRI-0886\n"
     ]
    },
    {
     "name": "stderr",
     "output_type": "stream",
     "text": [
      "100%|██████████| 10/10 [00:00<00:00, 12.91it/s]08s/it]\n"
     ]
    },
    {
     "name": "stdout",
     "output_type": "stream",
     "text": [
      "/home/mengdi/yuxiang.ye/DN_AI_frame/dataset/lidc/npz_seg/LIDC-IDRI-0887.npz\n"
     ]
    },
    {
     "name": "stderr",
     "output_type": "stream",
     "text": [
      "\r",
      " 87%|████████▋ | 883/1010 [1:46:25<52:14, 24.68s/it]  "
     ]
    },
    {
     "name": "stdout",
     "output_type": "stream",
     "text": [
      "LIDC-IDRI-0887\n"
     ]
    },
    {
     "name": "stderr",
     "output_type": "stream",
     "text": [
      "0it [00:00, ?it/s]\n"
     ]
    },
    {
     "name": "stdout",
     "output_type": "stream",
     "text": [
      "/home/mengdi/yuxiang.ye/DN_AI_frame/dataset/lidc/npz_seg/LIDC-IDRI-0888.npz\n",
      "LIDC-IDRI-0888\n"
     ]
    },
    {
     "name": "stderr",
     "output_type": "stream",
     "text": [
      "\r",
      " 88%|████████▊ | 884/1010 [1:47:02<59:31, 28.34s/it]"
     ]
    },
    {
     "name": "stdout",
     "output_type": "stream",
     "text": [
      "/home/mengdi/yuxiang.ye/DN_AI_frame/dataset/lidc/npz_seg/LIDC-IDRI-0889.npz\n",
      "LIDC-IDRI-0889\n"
     ]
    },
    {
     "name": "stderr",
     "output_type": "stream",
     "text": [
      "0it [00:00, ?it/s]85/1010 [1:47:23<54:17, 26.06s/it]\n",
      "100%|██████████| 3/3 [00:01<00:00,  1.81it/s]\n",
      " 88%|████████▊ | 886/1010 [1:48:14<1:09:18, 33.54s/it]"
     ]
    },
    {
     "name": "stdout",
     "output_type": "stream",
     "text": [
      "/home/mengdi/yuxiang.ye/DN_AI_frame/dataset/lidc/npz_seg/LIDC-IDRI-0890.npz\n",
      "LIDC-IDRI-0890\n"
     ]
    },
    {
     "name": "stderr",
     "output_type": "stream",
     "text": [
      "\r",
      " 88%|████████▊ | 887/1010 [1:48:40<1:04:09, 31.30s/it]"
     ]
    },
    {
     "name": "stdout",
     "output_type": "stream",
     "text": [
      "/home/mengdi/yuxiang.ye/DN_AI_frame/dataset/lidc/npz_seg/LIDC-IDRI-0891.npz\n",
      "LIDC-IDRI-0891\n"
     ]
    },
    {
     "name": "stderr",
     "output_type": "stream",
     "text": [
      "100%|██████████| 7/7 [00:03<00:00,  1.30it/s]\n",
      "0it [00:00, ?it/s]\n"
     ]
    },
    {
     "name": "stdout",
     "output_type": "stream",
     "text": [
      "/home/mengdi/yuxiang.ye/DN_AI_frame/dataset/lidc/npz_seg/LIDC-IDRI-0892.npz\n"
     ]
    },
    {
     "name": "stderr",
     "output_type": "stream",
     "text": [
      "\r",
      " 88%|████████▊ | 888/1010 [1:49:51<1:27:32, 43.06s/it]"
     ]
    },
    {
     "name": "stdout",
     "output_type": "stream",
     "text": [
      "LIDC-IDRI-0892\n",
      "/home/mengdi/yuxiang.ye/DN_AI_frame/dataset/lidc/npz_seg/LIDC-IDRI-0893.npz\n"
     ]
    },
    {
     "name": "stderr",
     "output_type": "stream",
     "text": [
      "\r",
      " 88%|████████▊ | 889/1010 [1:50:10<1:12:47, 36.09s/it]"
     ]
    },
    {
     "name": "stdout",
     "output_type": "stream",
     "text": [
      "LIDC-IDRI-0893\n"
     ]
    },
    {
     "name": "stderr",
     "output_type": "stream",
     "text": [
      "100%|██████████| 16/16 [00:03<00:00,  6.60it/s]\n"
     ]
    },
    {
     "name": "stdout",
     "output_type": "stream",
     "text": [
      "/home/mengdi/yuxiang.ye/DN_AI_frame/dataset/lidc/npz_seg/LIDC-IDRI-0894.npz\n",
      "LIDC-IDRI-0894\n"
     ]
    },
    {
     "name": "stderr",
     "output_type": "stream",
     "text": [
      "100%|██████████| 9/9 [00:04<00:00,  2.23it/s]2.97s/it]\n",
      "100%|██████████| 13/13 [00:02<00:00,  2.81it/s]\n"
     ]
    },
    {
     "name": "stdout",
     "output_type": "stream",
     "text": [
      "/home/mengdi/yuxiang.ye/DN_AI_frame/dataset/lidc/npz_seg/LIDC-IDRI-0895.npz\n",
      "LIDC-IDRI-0895\n"
     ]
    },
    {
     "name": "stderr",
     "output_type": "stream",
     "text": [
      " 88%|████████▊ | 892/1010 [1:53:02<1:42:18, 52.02s/it]"
     ]
    },
    {
     "name": "stdout",
     "output_type": "stream",
     "text": [
      "/home/mengdi/yuxiang.ye/DN_AI_frame/dataset/lidc/npz_seg/LIDC-IDRI-0896.npz\n",
      "LIDC-IDRI-0896\n"
     ]
    },
    {
     "name": "stderr",
     "output_type": "stream",
     "text": [
      "100%|██████████| 6/6 [00:01<00:00,  3.77it/s]\n",
      "100%|██████████| 7/7 [00:02<00:00,  2.37it/s]\n"
     ]
    },
    {
     "name": "stdout",
     "output_type": "stream",
     "text": [
      "/home/mengdi/yuxiang.ye/DN_AI_frame/dataset/lidc/npz_seg/LIDC-IDRI-0897.npz\n",
      "LIDC-IDRI-0897\n"
     ]
    },
    {
     "name": "stderr",
     "output_type": "stream",
     "text": [
      "0it [00:00, ?it/s]93/1010 [1:54:31<2:03:26, 63.31s/it]\n",
      " 89%|████████▊ | 894/1010 [1:56:56<2:49:50, 87.85s/it]"
     ]
    },
    {
     "name": "stdout",
     "output_type": "stream",
     "text": [
      "/home/mengdi/yuxiang.ye/DN_AI_frame/dataset/lidc/npz_seg/LIDC-IDRI-0898.npz\n",
      "LIDC-IDRI-0898\n"
     ]
    },
    {
     "name": "stderr",
     "output_type": "stream",
     "text": [
      "100%|██████████| 7/7 [00:00<00:00,  6.94it/s]\n"
     ]
    },
    {
     "name": "stdout",
     "output_type": "stream",
     "text": [
      "/home/mengdi/yuxiang.ye/DN_AI_frame/dataset/lidc/npz_seg/LIDC-IDRI-0899.npz\n"
     ]
    },
    {
     "name": "stderr",
     "output_type": "stream",
     "text": [
      "\r",
      " 89%|████████▊ | 895/1010 [1:57:31<2:17:44, 71.87s/it]"
     ]
    },
    {
     "name": "stdout",
     "output_type": "stream",
     "text": [
      "LIDC-IDRI-0899\n"
     ]
    },
    {
     "name": "stderr",
     "output_type": "stream",
     "text": [
      "100%|██████████| 3/3 [00:00<00:00, 28.79it/s]\n"
     ]
    },
    {
     "name": "stdout",
     "output_type": "stream",
     "text": [
      "/home/mengdi/yuxiang.ye/DN_AI_frame/dataset/lidc/npz_seg/LIDC-IDRI-0900.npz\n"
     ]
    },
    {
     "name": "stderr",
     "output_type": "stream",
     "text": [
      "\r",
      " 89%|████████▊ | 896/1010 [1:57:41<1:41:04, 53.20s/it]"
     ]
    },
    {
     "name": "stdout",
     "output_type": "stream",
     "text": [
      "LIDC-IDRI-0900\n",
      "/home/mengdi/yuxiang.ye/DN_AI_frame/dataset/lidc/npz_seg/LIDC-IDRI-0901.npz\n",
      "LIDC-IDRI-0901\n"
     ]
    },
    {
     "name": "stderr",
     "output_type": "stream",
     "text": [
      "0it [00:00, ?it/s]97/1010 [1:57:53<1:17:02, 40.91s/it]\n",
      "0it [00:00, ?it/s]\n"
     ]
    },
    {
     "name": "stdout",
     "output_type": "stream",
     "text": [
      "/home/mengdi/yuxiang.ye/DN_AI_frame/dataset/lidc/npz_seg/LIDC-IDRI-0902.npz\n"
     ]
    },
    {
     "name": "stderr",
     "output_type": "stream",
     "text": [
      "\r",
      " 89%|████████▉ | 898/1010 [1:58:07<1:01:37, 33.02s/it]"
     ]
    },
    {
     "name": "stdout",
     "output_type": "stream",
     "text": [
      "LIDC-IDRI-0902\n"
     ]
    },
    {
     "name": "stderr",
     "output_type": "stream",
     "text": [
      "100%|██████████| 8/8 [00:03<00:00,  2.47it/s]\n",
      " 89%|████████▉ | 899/1010 [2:00:01<1:45:34, 57.07s/it]"
     ]
    },
    {
     "name": "stdout",
     "output_type": "stream",
     "text": [
      "/home/mengdi/yuxiang.ye/DN_AI_frame/dataset/lidc/npz_seg/LIDC-IDRI-0903.npz\n"
     ]
    },
    {
     "name": "stderr",
     "output_type": "stream",
     "text": [
      "\r",
      " 89%|████████▉ | 900/1010 [2:00:02<1:14:13, 40.48s/it]"
     ]
    },
    {
     "name": "stdout",
     "output_type": "stream",
     "text": [
      "/home/mengdi/yuxiang.ye/DN_AI_frame/dataset/lidc/npz_seg/LIDC-IDRI-0904.npz\n",
      "/home/mengdi/yuxiang.ye/DN_AI_frame/dataset/lidc/npz_seg/LIDC-IDRI-0905.npz\n"
     ]
    },
    {
     "name": "stderr",
     "output_type": "stream",
     "text": [
      " 89%|████████▉ | 902/1010 [2:00:03<35:54, 19.95s/it]  "
     ]
    },
    {
     "name": "stdout",
     "output_type": "stream",
     "text": [
      "/home/mengdi/yuxiang.ye/DN_AI_frame/dataset/lidc/npz_seg/LIDC-IDRI-0914.npz\n"
     ]
    },
    {
     "name": "stderr",
     "output_type": "stream",
     "text": [
      "\r",
      " 89%|████████▉ | 903/1010 [2:00:03<25:04, 14.06s/it]"
     ]
    },
    {
     "name": "stdout",
     "output_type": "stream",
     "text": [
      "/home/mengdi/yuxiang.ye/DN_AI_frame/dataset/lidc/npz_seg/LIDC-IDRI-0906.npz\n"
     ]
    },
    {
     "name": "stderr",
     "output_type": "stream",
     "text": [
      "\r",
      " 90%|████████▉ | 904/1010 [2:00:04<17:56, 10.15s/it]"
     ]
    },
    {
     "name": "stdout",
     "output_type": "stream",
     "text": [
      "/home/mengdi/yuxiang.ye/DN_AI_frame/dataset/lidc/npz_seg/LIDC-IDRI-0907.npz\n",
      "/home/mengdi/yuxiang.ye/DN_AI_frame/dataset/lidc/npz_seg/LIDC-IDRI-0908.npz\n",
      "/home/mengdi/yuxiang.ye/DN_AI_frame/dataset/lidc/npz_seg/LIDC-IDRI-0909.npz\n",
      "/home/mengdi/yuxiang.ye/DN_AI_frame/dataset/lidc/npz_seg/LIDC-IDRI-0910.npz\n",
      "/home/mengdi/yuxiang.ye/DN_AI_frame/dataset/lidc/npz_seg/LIDC-IDRI-0911.npz\n",
      "/home/mengdi/yuxiang.ye/DN_AI_frame/dataset/lidc/npz_seg/LIDC-IDRI-0912.npz\n",
      "/home/mengdi/yuxiang.ye/DN_AI_frame/dataset/lidc/npz_seg/LIDC-IDRI-0913.npz\n",
      "/home/mengdi/yuxiang.ye/DN_AI_frame/dataset/lidc/npz_seg/LIDC-IDRI-0915.npz\n",
      "/home/mengdi/yuxiang.ye/DN_AI_frame/dataset/lidc/npz_seg/LIDC-IDRI-0916.npz\n",
      "/home/mengdi/yuxiang.ye/DN_AI_frame/dataset/lidc/npz_seg/LIDC-IDRI-0917.npz\n",
      "/home/mengdi/yuxiang.ye/DN_AI_frame/dataset/lidc/npz_seg/LIDC-IDRI-0918.npz\n",
      "/home/mengdi/yuxiang.ye/DN_AI_frame/dataset/lidc/npz_seg/LIDC-IDRI-0919.npz\n",
      "/home/mengdi/yuxiang.ye/DN_AI_frame/dataset/lidc/npz_seg/LIDC-IDRI-0920.npz\n",
      "/home/mengdi/yuxiang.ye/DN_AI_frame/dataset/lidc/npz_seg/LIDC-IDRI-0921.npz\n",
      "/home/mengdi/yuxiang.ye/DN_AI_frame/dataset/lidc/npz_seg/LIDC-IDRI-0922.npz\n",
      "/home/mengdi/yuxiang.ye/DN_AI_frame/dataset/lidc/npz_seg/LIDC-IDRI-0923.npz\n",
      "/home/mengdi/yuxiang.ye/DN_AI_frame/dataset/lidc/npz_seg/LIDC-IDRI-0924.npz\n",
      "/home/mengdi/yuxiang.ye/DN_AI_frame/dataset/lidc/npz_seg/LIDC-IDRI-0925.npz\n",
      "/home/mengdi/yuxiang.ye/DN_AI_frame/dataset/lidc/npz_seg/LIDC-IDRI-0926.npz\n",
      "/home/mengdi/yuxiang.ye/DN_AI_frame/dataset/lidc/npz_seg/LIDC-IDRI-0927.npz\n",
      "/home/mengdi/yuxiang.ye/DN_AI_frame/dataset/lidc/npz_seg/LIDC-IDRI-0928.npz\n",
      "/home/mengdi/yuxiang.ye/DN_AI_frame/dataset/lidc/npz_seg/LIDC-IDRI-0929.npz\n",
      "/home/mengdi/yuxiang.ye/DN_AI_frame/dataset/lidc/npz_seg/LIDC-IDRI-0930.npz\n",
      "/home/mengdi/yuxiang.ye/DN_AI_frame/dataset/lidc/npz_seg/LIDC-IDRI-0931.npz\n",
      "/home/mengdi/yuxiang.ye/DN_AI_frame/dataset/lidc/npz_seg/LIDC-IDRI-0932.npz\n"
     ]
    },
    {
     "name": "stderr",
     "output_type": "stream",
     "text": [
      "\r",
      " 92%|█████████▏| 929/1010 [2:00:04<09:35,  7.11s/it]"
     ]
    },
    {
     "name": "stdout",
     "output_type": "stream",
     "text": [
      "/home/mengdi/yuxiang.ye/DN_AI_frame/dataset/lidc/npz_seg/LIDC-IDRI-0933.npz\n",
      "/home/mengdi/yuxiang.ye/DN_AI_frame/dataset/lidc/npz_seg/LIDC-IDRI-0934.npz\n",
      "/home/mengdi/yuxiang.ye/DN_AI_frame/dataset/lidc/npz_seg/LIDC-IDRI-0935.npz\n",
      "/home/mengdi/yuxiang.ye/DN_AI_frame/dataset/lidc/npz_seg/LIDC-IDRI-0936.npz\n",
      "/home/mengdi/yuxiang.ye/DN_AI_frame/dataset/lidc/npz_seg/LIDC-IDRI-0937.npz\n",
      "/home/mengdi/yuxiang.ye/DN_AI_frame/dataset/lidc/npz_seg/LIDC-IDRI-0938.npz\n",
      "/home/mengdi/yuxiang.ye/DN_AI_frame/dataset/lidc/npz_seg/LIDC-IDRI-0939.npz\n",
      "/home/mengdi/yuxiang.ye/DN_AI_frame/dataset/lidc/npz_seg/LIDC-IDRI-0940.npz\n",
      "/home/mengdi/yuxiang.ye/DN_AI_frame/dataset/lidc/npz_seg/LIDC-IDRI-0941.npz\n",
      "/home/mengdi/yuxiang.ye/DN_AI_frame/dataset/lidc/npz_seg/LIDC-IDRI-0942.npz\n",
      "/home/mengdi/yuxiang.ye/DN_AI_frame/dataset/lidc/npz_seg/LIDC-IDRI-0943.npz\n",
      "/home/mengdi/yuxiang.ye/DN_AI_frame/dataset/lidc/npz_seg/LIDC-IDRI-0944.npz\n",
      "/home/mengdi/yuxiang.ye/DN_AI_frame/dataset/lidc/npz_seg/LIDC-IDRI-0945.npz\n",
      "/home/mengdi/yuxiang.ye/DN_AI_frame/dataset/lidc/npz_seg/LIDC-IDRI-0946.npz\n",
      "/home/mengdi/yuxiang.ye/DN_AI_frame/dataset/lidc/npz_seg/LIDC-IDRI-0949.npz\n",
      "/home/mengdi/yuxiang.ye/DN_AI_frame/dataset/lidc/npz_seg/LIDC-IDRI-0947.npz\n",
      "/home/mengdi/yuxiang.ye/DN_AI_frame/dataset/lidc/npz_seg/LIDC-IDRI-0948.npz\n",
      "/home/mengdi/yuxiang.ye/DN_AI_frame/dataset/lidc/npz_seg/LIDC-IDRI-0950.npz\n",
      "/home/mengdi/yuxiang.ye/DN_AI_frame/dataset/lidc/npz_seg/LIDC-IDRI-0951.npz\n",
      "/home/mengdi/yuxiang.ye/DN_AI_frame/dataset/lidc/npz_seg/LIDC-IDRI-0952.npz\n",
      "/home/mengdi/yuxiang.ye/DN_AI_frame/dataset/lidc/npz_seg/LIDC-IDRI-0953.npz\n",
      "/home/mengdi/yuxiang.ye/DN_AI_frame/dataset/lidc/npz_seg/LIDC-IDRI-0954.npz\n",
      "/home/mengdi/yuxiang.ye/DN_AI_frame/dataset/lidc/npz_seg/LIDC-IDRI-0955.npz\n",
      "/home/mengdi/yuxiang.ye/DN_AI_frame/dataset/lidc/npz_seg/LIDC-IDRI-0956.npz\n",
      "/home/mengdi/yuxiang.ye/DN_AI_frame/dataset/lidc/npz_seg/LIDC-IDRI-0957.npz\n",
      "/home/mengdi/yuxiang.ye/DN_AI_frame/dataset/lidc/npz_seg/LIDC-IDRI-0958.npz\n",
      "/home/mengdi/yuxiang.ye/DN_AI_frame/dataset/lidc/npz_seg/LIDC-IDRI-0959.npz\n",
      "/home/mengdi/yuxiang.ye/DN_AI_frame/dataset/lidc/npz_seg/LIDC-IDRI-0960.npz\n",
      "/home/mengdi/yuxiang.ye/DN_AI_frame/dataset/lidc/npz_seg/LIDC-IDRI-0961.npz\n"
     ]
    },
    {
     "name": "stderr",
     "output_type": "stream",
     "text": [
      "\r",
      " 95%|█████████▍| 957/1010 [2:00:05<04:23,  4.98s/it]"
     ]
    },
    {
     "name": "stdout",
     "output_type": "stream",
     "text": [
      "/home/mengdi/yuxiang.ye/DN_AI_frame/dataset/lidc/npz_seg/LIDC-IDRI-0970.npz\n"
     ]
    },
    {
     "name": "stderr",
     "output_type": "stream",
     "text": [
      "\r",
      " 96%|█████████▌| 967/1010 [2:00:06<02:31,  3.51s/it]"
     ]
    },
    {
     "name": "stdout",
     "output_type": "stream",
     "text": [
      "/home/mengdi/yuxiang.ye/DN_AI_frame/dataset/lidc/npz_seg/LIDC-IDRI-0962.npz\n",
      "/home/mengdi/yuxiang.ye/DN_AI_frame/dataset/lidc/npz_seg/LIDC-IDRI-0963.npz\n",
      "/home/mengdi/yuxiang.ye/DN_AI_frame/dataset/lidc/npz_seg/LIDC-IDRI-0964.npz\n",
      "/home/mengdi/yuxiang.ye/DN_AI_frame/dataset/lidc/npz_seg/LIDC-IDRI-0965.npz\n",
      "/home/mengdi/yuxiang.ye/DN_AI_frame/dataset/lidc/npz_seg/LIDC-IDRI-0966.npz\n",
      "/home/mengdi/yuxiang.ye/DN_AI_frame/dataset/lidc/npz_seg/LIDC-IDRI-0967.npz\n",
      "/home/mengdi/yuxiang.ye/DN_AI_frame/dataset/lidc/npz_seg/LIDC-IDRI-0968.npz\n",
      "/home/mengdi/yuxiang.ye/DN_AI_frame/dataset/lidc/npz_seg/LIDC-IDRI-0969.npz\n",
      "/home/mengdi/yuxiang.ye/DN_AI_frame/dataset/lidc/npz_seg/LIDC-IDRI-0971.npz\n",
      "/home/mengdi/yuxiang.ye/DN_AI_frame/dataset/lidc/npz_seg/LIDC-IDRI-0972.npz\n",
      "/home/mengdi/yuxiang.ye/DN_AI_frame/dataset/lidc/npz_seg/LIDC-IDRI-0973.npz\n",
      "/home/mengdi/yuxiang.ye/DN_AI_frame/dataset/lidc/npz_seg/LIDC-IDRI-0974.npz\n",
      "/home/mengdi/yuxiang.ye/DN_AI_frame/dataset/lidc/npz_seg/LIDC-IDRI-0975.npz\n",
      "/home/mengdi/yuxiang.ye/DN_AI_frame/dataset/lidc/npz_seg/LIDC-IDRI-0976.npz\n",
      "/home/mengdi/yuxiang.ye/DN_AI_frame/dataset/lidc/npz_seg/LIDC-IDRI-0977.npz\n",
      "/home/mengdi/yuxiang.ye/DN_AI_frame/dataset/lidc/npz_seg/LIDC-IDRI-0978.npz\n",
      "/home/mengdi/yuxiang.ye/DN_AI_frame/dataset/lidc/npz_seg/LIDC-IDRI-0979.npz\n",
      "/home/mengdi/yuxiang.ye/DN_AI_frame/dataset/lidc/npz_seg/LIDC-IDRI-0980.npz\n",
      "/home/mengdi/yuxiang.ye/DN_AI_frame/dataset/lidc/npz_seg/LIDC-IDRI-0981.npz\n",
      "/home/mengdi/yuxiang.ye/DN_AI_frame/dataset/lidc/npz_seg/LIDC-IDRI-0982.npz\n",
      "/home/mengdi/yuxiang.ye/DN_AI_frame/dataset/lidc/npz_seg/LIDC-IDRI-0983.npz\n",
      "/home/mengdi/yuxiang.ye/DN_AI_frame/dataset/lidc/npz_seg/LIDC-IDRI-0984.npz\n",
      "/home/mengdi/yuxiang.ye/DN_AI_frame/dataset/lidc/npz_seg/LIDC-IDRI-0985.npz\n",
      "/home/mengdi/yuxiang.ye/DN_AI_frame/dataset/lidc/npz_seg/LIDC-IDRI-0986.npz\n",
      "/home/mengdi/yuxiang.ye/DN_AI_frame/dataset/lidc/npz_seg/LIDC-IDRI-0987.npz\n",
      "/home/mengdi/yuxiang.ye/DN_AI_frame/dataset/lidc/npz_seg/LIDC-IDRI-0988.npz\n",
      "/home/mengdi/yuxiang.ye/DN_AI_frame/dataset/lidc/npz_seg/LIDC-IDRI-0989.npz\n",
      "/home/mengdi/yuxiang.ye/DN_AI_frame/dataset/lidc/npz_seg/LIDC-IDRI-0990.npz\n",
      "/home/mengdi/yuxiang.ye/DN_AI_frame/dataset/lidc/npz_seg/LIDC-IDRI-0991.npz\n",
      "/home/mengdi/yuxiang.ye/DN_AI_frame/dataset/lidc/npz_seg/LIDC-IDRI-0992.npz\n",
      "/home/mengdi/yuxiang.ye/DN_AI_frame/dataset/lidc/npz_seg/LIDC-IDRI-0993.npz\n",
      "/home/mengdi/yuxiang.ye/DN_AI_frame/dataset/lidc/npz_seg/LIDC-IDRI-0994.npz\n",
      "/home/mengdi/yuxiang.ye/DN_AI_frame/dataset/lidc/npz_seg/LIDC-IDRI-0995.npz\n",
      "/home/mengdi/yuxiang.ye/DN_AI_frame/dataset/lidc/npz_seg/LIDC-IDRI-0996.npz\n",
      "/home/mengdi/yuxiang.ye/DN_AI_frame/dataset/lidc/npz_seg/LIDC-IDRI-0997.npz\n",
      "/home/mengdi/yuxiang.ye/DN_AI_frame/dataset/lidc/npz_seg/LIDC-IDRI-0998.npz\n",
      "/home/mengdi/yuxiang.ye/DN_AI_frame/dataset/lidc/npz_seg/LIDC-IDRI-0999.npz\n",
      "/home/mengdi/yuxiang.ye/DN_AI_frame/dataset/lidc/npz_seg/LIDC-IDRI-1000.npz\n",
      "/home/mengdi/yuxiang.ye/DN_AI_frame/dataset/lidc/npz_seg/LIDC-IDRI-1001.npz\n",
      "/home/mengdi/yuxiang.ye/DN_AI_frame/dataset/lidc/npz_seg/LIDC-IDRI-1002.npz\n",
      "/home/mengdi/yuxiang.ye/DN_AI_frame/dataset/lidc/npz_seg/LIDC-IDRI-1003.npz\n",
      "/home/mengdi/yuxiang.ye/DN_AI_frame/dataset/lidc/npz_seg/LIDC-IDRI-1004.npz\n",
      "/home/mengdi/yuxiang.ye/DN_AI_frame/dataset/lidc/npz_seg/LIDC-IDRI-1005.npz\n",
      "/home/mengdi/yuxiang.ye/DN_AI_frame/dataset/lidc/npz_seg/LIDC-IDRI-1006.npz\n",
      "/home/mengdi/yuxiang.ye/DN_AI_frame/dataset/lidc/npz_seg/LIDC-IDRI-1007.npz\n",
      "/home/mengdi/yuxiang.ye/DN_AI_frame/dataset/lidc/npz_seg/LIDC-IDRI-1008.npz\n",
      "/home/mengdi/yuxiang.ye/DN_AI_frame/dataset/lidc/npz_seg/LIDC-IDRI-1009.npz\n",
      "/home/mengdi/yuxiang.ye/DN_AI_frame/dataset/lidc/npz_seg/LIDC-IDRI-1010.npz\n"
     ]
    },
    {
     "name": "stderr",
     "output_type": "stream",
     "text": [
      "\r",
      "100%|█████████▉| 1006/1010 [2:00:06<00:09,  2.46s/it]"
     ]
    },
    {
     "name": "stdout",
     "output_type": "stream",
     "text": [
      "/home/mengdi/yuxiang.ye/DN_AI_frame/dataset/lidc/npz_seg/LIDC-IDRI-1012.npz\n",
      "/home/mengdi/yuxiang.ye/DN_AI_frame/dataset/lidc/npz_seg/LIDC-IDRI-1011.npz\n"
     ]
    },
    {
     "name": "stderr",
     "output_type": "stream",
     "text": [
      "100%|██████████| 1010/1010 [2:00:56<00:00,  5.51s/it]\n"
     ]
    }
   ],
   "source": [
    "from tqdm import tqdm\n",
    "with ProcessPoolExecutor(max_workers=2) as executor:\n",
    "    futures = {executor.submit(task, arg) for arg in lidc_files}\n",
    "    try:\n",
    "        for f in tqdm(as_completed(futures),total=len(lidc_files)):\n",
    "            err = f.exception()\n",
    "            if err is not None:\n",
    "               raise err\n",
    "    except KeyboardInterrupt:\n",
    "        print(\"stopped by hand\")    "
   ]
  },
  {
   "cell_type": "markdown",
   "metadata": {},
   "source": [
    "# create lidc medical_info"
   ]
  },
  {
   "cell_type": "code",
   "execution_count": 90,
   "metadata": {},
   "outputs": [
    {
     "name": "stdout",
     "output_type": "stream",
     "text": [
      "LIDC-IDRI-0001\n",
      "LIDC-IDRI-0002\n",
      "LIDC-IDRI-0003\n",
      "LIDC-IDRI-0004\n",
      "LIDC-IDRI-0005\n",
      "LIDC-IDRI-0006\n",
      "LIDC-IDRI-0007\n",
      "LIDC-IDRI-0008\n",
      "LIDC-IDRI-0009\n",
      "LIDC-IDRI-0010\n",
      "LIDC-IDRI-0011\n",
      "LIDC-IDRI-0012\n",
      "LIDC-IDRI-0013\n",
      "LIDC-IDRI-0014\n",
      "LIDC-IDRI-0015\n",
      "LIDC-IDRI-0016\n",
      "LIDC-IDRI-0017\n",
      "LIDC-IDRI-0018\n",
      "LIDC-IDRI-0019\n",
      "LIDC-IDRI-0020\n",
      "LIDC-IDRI-0021\n",
      "LIDC-IDRI-0022\n",
      "LIDC-IDRI-0023\n",
      "LIDC-IDRI-0024\n",
      "LIDC-IDRI-0025\n",
      "LIDC-IDRI-0026\n",
      "LIDC-IDRI-0027\n",
      "LIDC-IDRI-0028\n",
      "LIDC-IDRI-0029\n",
      "LIDC-IDRI-0030\n",
      "LIDC-IDRI-0031\n",
      "LIDC-IDRI-0032\n",
      "LIDC-IDRI-0033\n",
      "LIDC-IDRI-0034\n",
      "LIDC-IDRI-0035\n",
      "LIDC-IDRI-0036\n",
      "LIDC-IDRI-0037\n",
      "LIDC-IDRI-0038\n",
      "LIDC-IDRI-0039\n",
      "LIDC-IDRI-0040\n",
      "LIDC-IDRI-0041\n",
      "LIDC-IDRI-0042\n",
      "LIDC-IDRI-0043\n",
      "LIDC-IDRI-0044\n",
      "LIDC-IDRI-0045\n",
      "LIDC-IDRI-0046\n",
      "LIDC-IDRI-0047\n",
      "LIDC-IDRI-0048\n",
      "LIDC-IDRI-0049\n",
      "LIDC-IDRI-0050\n",
      "LIDC-IDRI-0051\n",
      "LIDC-IDRI-0052\n",
      "LIDC-IDRI-0053\n",
      "LIDC-IDRI-0054\n",
      "LIDC-IDRI-0055\n",
      "LIDC-IDRI-0056\n",
      "LIDC-IDRI-0057\n",
      "LIDC-IDRI-0058\n",
      "LIDC-IDRI-0059\n",
      "LIDC-IDRI-0060\n",
      "LIDC-IDRI-0061\n",
      "LIDC-IDRI-0062\n",
      "LIDC-IDRI-0063\n",
      "LIDC-IDRI-0064\n",
      "LIDC-IDRI-0065\n",
      "LIDC-IDRI-0066\n",
      "LIDC-IDRI-0067\n",
      "LIDC-IDRI-0068\n",
      "LIDC-IDRI-0069\n",
      "LIDC-IDRI-0070\n",
      "LIDC-IDRI-0071\n",
      "LIDC-IDRI-0072\n",
      "LIDC-IDRI-0073\n",
      "LIDC-IDRI-0074\n",
      "LIDC-IDRI-0075\n",
      "LIDC-IDRI-0076\n",
      "LIDC-IDRI-0077\n",
      "LIDC-IDRI-0078\n",
      "LIDC-IDRI-0079\n",
      "LIDC-IDRI-0080\n",
      "LIDC-IDRI-0081\n",
      "LIDC-IDRI-0082\n",
      "LIDC-IDRI-0083\n",
      "LIDC-IDRI-0084\n",
      "LIDC-IDRI-0085\n",
      "LIDC-IDRI-0086\n",
      "LIDC-IDRI-0087\n",
      "LIDC-IDRI-0088\n",
      "LIDC-IDRI-0089\n",
      "LIDC-IDRI-0090\n",
      "LIDC-IDRI-0091\n",
      "LIDC-IDRI-0092\n",
      "LIDC-IDRI-0093\n",
      "LIDC-IDRI-0094\n",
      "LIDC-IDRI-0095\n",
      "LIDC-IDRI-0096\n",
      "LIDC-IDRI-0097\n",
      "LIDC-IDRI-0098\n",
      "LIDC-IDRI-0099\n",
      "LIDC-IDRI-0100\n",
      "LIDC-IDRI-0101\n",
      "LIDC-IDRI-0102\n",
      "LIDC-IDRI-0103\n",
      "LIDC-IDRI-0104\n",
      "LIDC-IDRI-0105\n",
      "LIDC-IDRI-0106\n",
      "LIDC-IDRI-0107\n",
      "LIDC-IDRI-0108\n",
      "LIDC-IDRI-0109\n",
      "LIDC-IDRI-0110\n",
      "LIDC-IDRI-0111\n",
      "LIDC-IDRI-0112\n",
      "LIDC-IDRI-0113\n",
      "LIDC-IDRI-0114\n",
      "LIDC-IDRI-0115\n",
      "LIDC-IDRI-0116\n",
      "LIDC-IDRI-0117\n",
      "LIDC-IDRI-0118\n",
      "LIDC-IDRI-0119\n",
      "LIDC-IDRI-0120\n",
      "LIDC-IDRI-0121\n",
      "LIDC-IDRI-0122\n",
      "LIDC-IDRI-0123\n",
      "LIDC-IDRI-0124\n",
      "LIDC-IDRI-0125\n",
      "LIDC-IDRI-0126\n",
      "LIDC-IDRI-0127\n",
      "LIDC-IDRI-0128\n",
      "LIDC-IDRI-0129\n",
      "LIDC-IDRI-0130\n",
      "LIDC-IDRI-0131\n",
      "LIDC-IDRI-0132\n",
      "LIDC-IDRI-0133\n",
      "LIDC-IDRI-0134\n",
      "LIDC-IDRI-0135\n",
      "LIDC-IDRI-0136\n",
      "LIDC-IDRI-0137\n",
      "LIDC-IDRI-0138\n",
      "LIDC-IDRI-0139\n",
      "LIDC-IDRI-0140\n",
      "LIDC-IDRI-0141\n",
      "LIDC-IDRI-0142\n",
      "LIDC-IDRI-0143\n",
      "LIDC-IDRI-0144\n",
      "LIDC-IDRI-0145\n",
      "LIDC-IDRI-0146\n",
      "LIDC-IDRI-0147\n",
      "LIDC-IDRI-0148\n",
      "LIDC-IDRI-0149\n",
      "LIDC-IDRI-0150\n",
      "LIDC-IDRI-0151\n",
      "LIDC-IDRI-0152\n",
      "LIDC-IDRI-0153\n",
      "LIDC-IDRI-0154\n",
      "LIDC-IDRI-0155\n",
      "LIDC-IDRI-0156\n",
      "LIDC-IDRI-0157\n",
      "LIDC-IDRI-0158\n",
      "LIDC-IDRI-0159\n",
      "LIDC-IDRI-0160\n",
      "LIDC-IDRI-0161\n",
      "LIDC-IDRI-0162\n",
      "LIDC-IDRI-0163\n",
      "LIDC-IDRI-0164\n",
      "LIDC-IDRI-0165\n",
      "LIDC-IDRI-0166\n",
      "LIDC-IDRI-0167\n",
      "LIDC-IDRI-0168\n",
      "LIDC-IDRI-0169\n",
      "LIDC-IDRI-0170\n",
      "LIDC-IDRI-0171\n",
      "LIDC-IDRI-0172\n",
      "LIDC-IDRI-0173\n",
      "LIDC-IDRI-0174\n",
      "LIDC-IDRI-0175\n",
      "LIDC-IDRI-0176\n",
      "LIDC-IDRI-0177\n",
      "LIDC-IDRI-0178\n",
      "LIDC-IDRI-0179\n",
      "LIDC-IDRI-0180\n",
      "LIDC-IDRI-0181\n",
      "LIDC-IDRI-0182\n",
      "LIDC-IDRI-0183\n",
      "LIDC-IDRI-0184\n",
      "LIDC-IDRI-0185\n",
      "LIDC-IDRI-0186\n",
      "LIDC-IDRI-0187\n",
      "LIDC-IDRI-0188\n",
      "LIDC-IDRI-0189\n",
      "LIDC-IDRI-0190\n",
      "LIDC-IDRI-0191\n",
      "LIDC-IDRI-0192\n",
      "LIDC-IDRI-0193\n",
      "LIDC-IDRI-0194\n",
      "LIDC-IDRI-0195\n",
      "LIDC-IDRI-0196\n",
      "LIDC-IDRI-0197\n",
      "LIDC-IDRI-0198\n",
      "LIDC-IDRI-0199\n",
      "LIDC-IDRI-0200\n",
      "LIDC-IDRI-0201\n",
      "LIDC-IDRI-0202\n",
      "LIDC-IDRI-0203\n",
      "LIDC-IDRI-0204\n",
      "LIDC-IDRI-0205\n",
      "LIDC-IDRI-0206\n",
      "LIDC-IDRI-0207\n",
      "LIDC-IDRI-0208\n",
      "LIDC-IDRI-0209\n",
      "LIDC-IDRI-0210\n",
      "LIDC-IDRI-0211\n",
      "LIDC-IDRI-0212\n",
      "LIDC-IDRI-0213\n",
      "LIDC-IDRI-0214\n",
      "LIDC-IDRI-0215\n",
      "LIDC-IDRI-0216\n",
      "LIDC-IDRI-0217\n",
      "LIDC-IDRI-0218\n",
      "LIDC-IDRI-0219\n",
      "LIDC-IDRI-0220\n",
      "LIDC-IDRI-0221\n",
      "LIDC-IDRI-0222\n",
      "LIDC-IDRI-0223\n",
      "LIDC-IDRI-0224\n",
      "LIDC-IDRI-0225\n",
      "LIDC-IDRI-0226\n",
      "LIDC-IDRI-0227\n",
      "LIDC-IDRI-0228\n",
      "LIDC-IDRI-0229\n",
      "LIDC-IDRI-0230\n",
      "LIDC-IDRI-0231\n",
      "LIDC-IDRI-0232\n",
      "LIDC-IDRI-0233\n",
      "LIDC-IDRI-0234\n",
      "LIDC-IDRI-0235\n",
      "LIDC-IDRI-0236\n",
      "LIDC-IDRI-0237\n",
      "LIDC-IDRI-0239\n",
      "LIDC-IDRI-0240\n",
      "LIDC-IDRI-0241\n",
      "LIDC-IDRI-0242\n",
      "LIDC-IDRI-0243\n",
      "LIDC-IDRI-0244\n",
      "LIDC-IDRI-0245\n",
      "LIDC-IDRI-0246\n",
      "LIDC-IDRI-0247\n",
      "LIDC-IDRI-0248\n",
      "LIDC-IDRI-0249\n",
      "LIDC-IDRI-0250\n",
      "LIDC-IDRI-0251\n",
      "LIDC-IDRI-0252\n",
      "LIDC-IDRI-0253\n",
      "LIDC-IDRI-0254\n",
      "LIDC-IDRI-0255\n",
      "LIDC-IDRI-0256\n",
      "LIDC-IDRI-0257\n",
      "LIDC-IDRI-0258\n",
      "LIDC-IDRI-0259\n",
      "LIDC-IDRI-0260\n",
      "LIDC-IDRI-0261\n",
      "LIDC-IDRI-0262\n",
      "LIDC-IDRI-0263\n",
      "LIDC-IDRI-0264\n",
      "LIDC-IDRI-0265\n",
      "LIDC-IDRI-0266\n",
      "LIDC-IDRI-0267\n",
      "LIDC-IDRI-0268\n",
      "LIDC-IDRI-0269\n",
      "LIDC-IDRI-0270\n",
      "LIDC-IDRI-0271\n",
      "LIDC-IDRI-0272\n",
      "LIDC-IDRI-0273\n",
      "LIDC-IDRI-0274\n",
      "LIDC-IDRI-0275\n",
      "LIDC-IDRI-0276\n",
      "LIDC-IDRI-0277\n",
      "LIDC-IDRI-0278\n",
      "LIDC-IDRI-0279\n",
      "LIDC-IDRI-0280\n",
      "LIDC-IDRI-0281\n",
      "LIDC-IDRI-0282\n",
      "LIDC-IDRI-0283\n",
      "LIDC-IDRI-0284\n",
      "LIDC-IDRI-0285\n",
      "LIDC-IDRI-0286\n",
      "LIDC-IDRI-0287\n",
      "LIDC-IDRI-0288\n",
      "LIDC-IDRI-0289\n",
      "LIDC-IDRI-0290\n",
      "LIDC-IDRI-0291\n",
      "LIDC-IDRI-0292\n",
      "LIDC-IDRI-0293\n",
      "LIDC-IDRI-0294\n",
      "LIDC-IDRI-0295\n",
      "LIDC-IDRI-0296\n",
      "LIDC-IDRI-0297\n",
      "LIDC-IDRI-0298\n",
      "LIDC-IDRI-0299\n",
      "LIDC-IDRI-0300\n",
      "LIDC-IDRI-0301\n",
      "LIDC-IDRI-0302\n",
      "LIDC-IDRI-0303\n",
      "LIDC-IDRI-0304\n",
      "LIDC-IDRI-0305\n",
      "LIDC-IDRI-0306\n",
      "LIDC-IDRI-0307\n",
      "LIDC-IDRI-0308\n",
      "LIDC-IDRI-0309\n",
      "LIDC-IDRI-0310\n",
      "LIDC-IDRI-0311\n",
      "LIDC-IDRI-0312\n",
      "LIDC-IDRI-0313\n",
      "LIDC-IDRI-0314\n",
      "LIDC-IDRI-0315\n",
      "LIDC-IDRI-0316\n",
      "LIDC-IDRI-0317\n",
      "LIDC-IDRI-0318\n",
      "LIDC-IDRI-0319\n",
      "LIDC-IDRI-0320\n",
      "LIDC-IDRI-0321\n",
      "LIDC-IDRI-0322\n",
      "LIDC-IDRI-0323\n",
      "LIDC-IDRI-0324\n",
      "LIDC-IDRI-0325\n",
      "LIDC-IDRI-0326\n",
      "LIDC-IDRI-0327\n",
      "LIDC-IDRI-0328\n",
      "LIDC-IDRI-0329\n",
      "LIDC-IDRI-0330\n",
      "LIDC-IDRI-0331\n",
      "LIDC-IDRI-0332\n",
      "LIDC-IDRI-0333\n",
      "LIDC-IDRI-0334\n",
      "LIDC-IDRI-0335\n",
      "LIDC-IDRI-0336\n",
      "LIDC-IDRI-0337\n",
      "LIDC-IDRI-0338\n",
      "LIDC-IDRI-0339\n",
      "LIDC-IDRI-0340\n",
      "LIDC-IDRI-0341\n",
      "LIDC-IDRI-0342\n",
      "LIDC-IDRI-0343\n",
      "LIDC-IDRI-0344\n",
      "LIDC-IDRI-0345\n",
      "LIDC-IDRI-0346\n",
      "LIDC-IDRI-0347\n",
      "LIDC-IDRI-0348\n",
      "LIDC-IDRI-0349\n",
      "LIDC-IDRI-0350\n",
      "LIDC-IDRI-0351\n",
      "LIDC-IDRI-0352\n",
      "LIDC-IDRI-0353\n",
      "LIDC-IDRI-0354\n",
      "LIDC-IDRI-0355\n",
      "LIDC-IDRI-0356\n",
      "LIDC-IDRI-0357\n",
      "LIDC-IDRI-0358\n",
      "LIDC-IDRI-0359\n",
      "LIDC-IDRI-0360\n",
      "LIDC-IDRI-0361\n",
      "LIDC-IDRI-0362\n",
      "LIDC-IDRI-0363\n",
      "LIDC-IDRI-0364\n",
      "LIDC-IDRI-0365\n",
      "LIDC-IDRI-0366\n",
      "LIDC-IDRI-0367\n",
      "LIDC-IDRI-0368\n",
      "LIDC-IDRI-0369\n",
      "LIDC-IDRI-0370\n",
      "LIDC-IDRI-0371\n",
      "LIDC-IDRI-0372\n",
      "LIDC-IDRI-0373\n",
      "LIDC-IDRI-0374\n",
      "LIDC-IDRI-0375\n",
      "LIDC-IDRI-0376\n",
      "LIDC-IDRI-0377\n",
      "LIDC-IDRI-0378\n",
      "LIDC-IDRI-0379\n",
      "LIDC-IDRI-0380\n",
      "LIDC-IDRI-0381\n",
      "LIDC-IDRI-0382\n",
      "LIDC-IDRI-0383\n",
      "LIDC-IDRI-0384\n",
      "LIDC-IDRI-0385\n",
      "LIDC-IDRI-0386\n",
      "LIDC-IDRI-0387\n",
      "LIDC-IDRI-0388\n",
      "LIDC-IDRI-0389\n",
      "LIDC-IDRI-0390\n",
      "LIDC-IDRI-0391\n",
      "LIDC-IDRI-0392\n",
      "LIDC-IDRI-0393\n",
      "LIDC-IDRI-0394\n",
      "LIDC-IDRI-0395\n",
      "LIDC-IDRI-0396\n",
      "LIDC-IDRI-0397\n",
      "LIDC-IDRI-0398\n",
      "LIDC-IDRI-0399\n",
      "LIDC-IDRI-0400\n",
      "LIDC-IDRI-0401\n",
      "LIDC-IDRI-0402\n",
      "LIDC-IDRI-0403\n",
      "LIDC-IDRI-0404\n",
      "LIDC-IDRI-0405\n",
      "LIDC-IDRI-0406\n",
      "LIDC-IDRI-0407\n",
      "LIDC-IDRI-0408\n",
      "LIDC-IDRI-0409\n",
      "LIDC-IDRI-0410\n",
      "LIDC-IDRI-0411\n",
      "LIDC-IDRI-0412\n",
      "LIDC-IDRI-0413\n",
      "LIDC-IDRI-0414\n",
      "LIDC-IDRI-0415\n",
      "LIDC-IDRI-0416\n",
      "LIDC-IDRI-0417\n",
      "LIDC-IDRI-0418\n",
      "LIDC-IDRI-0419\n",
      "LIDC-IDRI-0420\n",
      "LIDC-IDRI-0421\n",
      "LIDC-IDRI-0422\n",
      "LIDC-IDRI-0423\n",
      "LIDC-IDRI-0424\n",
      "LIDC-IDRI-0425\n",
      "LIDC-IDRI-0426\n",
      "LIDC-IDRI-0427\n",
      "LIDC-IDRI-0428\n",
      "LIDC-IDRI-0429\n",
      "LIDC-IDRI-0430\n",
      "LIDC-IDRI-0431\n",
      "LIDC-IDRI-0432\n",
      "LIDC-IDRI-0433\n",
      "LIDC-IDRI-0434\n",
      "LIDC-IDRI-0435\n",
      "LIDC-IDRI-0436\n",
      "LIDC-IDRI-0437\n",
      "LIDC-IDRI-0438\n",
      "LIDC-IDRI-0439\n",
      "LIDC-IDRI-0440\n",
      "LIDC-IDRI-0441\n",
      "LIDC-IDRI-0442\n",
      "LIDC-IDRI-0443\n",
      "LIDC-IDRI-0444\n",
      "LIDC-IDRI-0445\n",
      "LIDC-IDRI-0446\n",
      "LIDC-IDRI-0447\n",
      "LIDC-IDRI-0448\n",
      "LIDC-IDRI-0449\n",
      "LIDC-IDRI-0450\n",
      "LIDC-IDRI-0451\n",
      "LIDC-IDRI-0452\n",
      "LIDC-IDRI-0453\n",
      "LIDC-IDRI-0454\n",
      "LIDC-IDRI-0455\n",
      "LIDC-IDRI-0456\n",
      "LIDC-IDRI-0457\n",
      "LIDC-IDRI-0458\n",
      "LIDC-IDRI-0459\n",
      "LIDC-IDRI-0460\n",
      "LIDC-IDRI-0461\n",
      "LIDC-IDRI-0462\n",
      "LIDC-IDRI-0463\n",
      "LIDC-IDRI-0464\n",
      "LIDC-IDRI-0465\n",
      "LIDC-IDRI-0466\n",
      "LIDC-IDRI-0467\n",
      "LIDC-IDRI-0468\n",
      "LIDC-IDRI-0469\n",
      "LIDC-IDRI-0470\n",
      "LIDC-IDRI-0471\n",
      "LIDC-IDRI-0472\n",
      "LIDC-IDRI-0473\n",
      "LIDC-IDRI-0474\n",
      "LIDC-IDRI-0475\n",
      "LIDC-IDRI-0476\n",
      "LIDC-IDRI-0477\n",
      "LIDC-IDRI-0478\n",
      "LIDC-IDRI-0479\n",
      "LIDC-IDRI-0480\n",
      "LIDC-IDRI-0481\n",
      "LIDC-IDRI-0482\n",
      "LIDC-IDRI-0483\n",
      "LIDC-IDRI-0484\n",
      "LIDC-IDRI-0485\n",
      "LIDC-IDRI-0486\n",
      "LIDC-IDRI-0487\n",
      "LIDC-IDRI-0488\n",
      "LIDC-IDRI-0489\n",
      "LIDC-IDRI-0490\n",
      "LIDC-IDRI-0491\n",
      "LIDC-IDRI-0492\n",
      "LIDC-IDRI-0493\n",
      "LIDC-IDRI-0494\n",
      "LIDC-IDRI-0495\n",
      "LIDC-IDRI-0496\n",
      "LIDC-IDRI-0497\n",
      "LIDC-IDRI-0498\n",
      "LIDC-IDRI-0499\n",
      "LIDC-IDRI-0500\n",
      "LIDC-IDRI-0501\n",
      "LIDC-IDRI-0502\n",
      "LIDC-IDRI-0503\n",
      "LIDC-IDRI-0504\n",
      "LIDC-IDRI-0505\n",
      "LIDC-IDRI-0506\n",
      "LIDC-IDRI-0507\n",
      "LIDC-IDRI-0508\n",
      "LIDC-IDRI-0509\n",
      "LIDC-IDRI-0510\n",
      "LIDC-IDRI-0511\n",
      "LIDC-IDRI-0512\n",
      "LIDC-IDRI-0513\n",
      "LIDC-IDRI-0514\n",
      "LIDC-IDRI-0515\n",
      "LIDC-IDRI-0516\n",
      "LIDC-IDRI-0517\n",
      "LIDC-IDRI-0518\n",
      "LIDC-IDRI-0519\n",
      "LIDC-IDRI-0520\n",
      "LIDC-IDRI-0521\n",
      "LIDC-IDRI-0522\n",
      "LIDC-IDRI-0523\n",
      "LIDC-IDRI-0524\n",
      "LIDC-IDRI-0525\n",
      "LIDC-IDRI-0526\n",
      "LIDC-IDRI-0527\n",
      "LIDC-IDRI-0528\n",
      "LIDC-IDRI-0529\n",
      "LIDC-IDRI-0530\n",
      "LIDC-IDRI-0531\n",
      "LIDC-IDRI-0532\n",
      "LIDC-IDRI-0533\n",
      "LIDC-IDRI-0534\n",
      "LIDC-IDRI-0535\n",
      "LIDC-IDRI-0536\n",
      "LIDC-IDRI-0537\n",
      "LIDC-IDRI-0538\n",
      "LIDC-IDRI-0539\n",
      "LIDC-IDRI-0540\n",
      "LIDC-IDRI-0541\n",
      "LIDC-IDRI-0542\n",
      "LIDC-IDRI-0543\n",
      "LIDC-IDRI-0544\n",
      "LIDC-IDRI-0545\n",
      "LIDC-IDRI-0546\n",
      "LIDC-IDRI-0547\n",
      "LIDC-IDRI-0548\n"
     ]
    },
    {
     "name": "stdout",
     "output_type": "stream",
     "text": [
      "LIDC-IDRI-0549\n",
      "LIDC-IDRI-0550\n",
      "LIDC-IDRI-0551\n",
      "LIDC-IDRI-0552\n",
      "LIDC-IDRI-0553\n",
      "LIDC-IDRI-0554\n",
      "LIDC-IDRI-0555\n",
      "LIDC-IDRI-0556\n",
      "LIDC-IDRI-0557\n",
      "LIDC-IDRI-0558\n",
      "LIDC-IDRI-0559\n",
      "LIDC-IDRI-0560\n",
      "LIDC-IDRI-0561\n",
      "LIDC-IDRI-0562\n",
      "LIDC-IDRI-0563\n",
      "LIDC-IDRI-0564\n",
      "LIDC-IDRI-0565\n",
      "LIDC-IDRI-0566\n",
      "LIDC-IDRI-0567\n",
      "LIDC-IDRI-0568\n",
      "LIDC-IDRI-0569\n",
      "LIDC-IDRI-0570\n",
      "LIDC-IDRI-0571\n",
      "LIDC-IDRI-0572\n",
      "LIDC-IDRI-0573\n",
      "LIDC-IDRI-0574\n",
      "LIDC-IDRI-0575\n",
      "LIDC-IDRI-0576\n",
      "LIDC-IDRI-0577\n",
      "LIDC-IDRI-0578\n",
      "LIDC-IDRI-0579\n",
      "LIDC-IDRI-0580\n",
      "LIDC-IDRI-0581\n",
      "LIDC-IDRI-0582\n",
      "LIDC-IDRI-0583\n",
      "LIDC-IDRI-0584\n",
      "LIDC-IDRI-0586\n",
      "LIDC-IDRI-0587\n",
      "LIDC-IDRI-0588\n",
      "LIDC-IDRI-0589\n",
      "LIDC-IDRI-0590\n",
      "LIDC-IDRI-0591\n",
      "LIDC-IDRI-0592\n",
      "LIDC-IDRI-0593\n",
      "LIDC-IDRI-0594\n",
      "LIDC-IDRI-0595\n",
      "LIDC-IDRI-0596\n",
      "LIDC-IDRI-0597\n",
      "LIDC-IDRI-0598\n",
      "LIDC-IDRI-0599\n",
      "LIDC-IDRI-0600\n",
      "LIDC-IDRI-0601\n",
      "LIDC-IDRI-0602\n",
      "LIDC-IDRI-0603\n",
      "LIDC-IDRI-0604\n",
      "LIDC-IDRI-0605\n",
      "LIDC-IDRI-0606\n",
      "LIDC-IDRI-0607\n",
      "LIDC-IDRI-0608\n",
      "LIDC-IDRI-0609\n",
      "LIDC-IDRI-0610\n",
      "LIDC-IDRI-0611\n",
      "LIDC-IDRI-0612\n",
      "LIDC-IDRI-0613\n",
      "LIDC-IDRI-0614\n",
      "LIDC-IDRI-0615\n",
      "LIDC-IDRI-0616\n",
      "LIDC-IDRI-0617\n",
      "LIDC-IDRI-0618\n",
      "LIDC-IDRI-0619\n",
      "LIDC-IDRI-0620\n",
      "LIDC-IDRI-0621\n",
      "LIDC-IDRI-0622\n",
      "LIDC-IDRI-0623\n",
      "LIDC-IDRI-0624\n",
      "LIDC-IDRI-0625\n",
      "LIDC-IDRI-0626\n",
      "LIDC-IDRI-0627\n",
      "LIDC-IDRI-0628\n",
      "LIDC-IDRI-0629\n",
      "LIDC-IDRI-0630\n",
      "LIDC-IDRI-0631\n",
      "LIDC-IDRI-0632\n",
      "LIDC-IDRI-0633\n",
      "LIDC-IDRI-0634\n",
      "LIDC-IDRI-0635\n",
      "LIDC-IDRI-0636\n",
      "LIDC-IDRI-0637\n",
      "LIDC-IDRI-0638\n",
      "LIDC-IDRI-0639\n",
      "LIDC-IDRI-0640\n",
      "LIDC-IDRI-0641\n",
      "LIDC-IDRI-0642\n",
      "LIDC-IDRI-0643\n",
      "LIDC-IDRI-0644\n",
      "LIDC-IDRI-0645\n",
      "LIDC-IDRI-0646\n",
      "LIDC-IDRI-0647\n",
      "LIDC-IDRI-0648\n",
      "LIDC-IDRI-0649\n",
      "LIDC-IDRI-0650\n",
      "LIDC-IDRI-0651\n",
      "LIDC-IDRI-0652\n",
      "LIDC-IDRI-0653\n",
      "LIDC-IDRI-0654\n",
      "LIDC-IDRI-0655\n",
      "LIDC-IDRI-0656\n",
      "LIDC-IDRI-0657\n",
      "LIDC-IDRI-0658\n",
      "LIDC-IDRI-0659\n",
      "LIDC-IDRI-0660\n",
      "LIDC-IDRI-0661\n",
      "LIDC-IDRI-0662\n",
      "LIDC-IDRI-0663\n",
      "LIDC-IDRI-0664\n",
      "LIDC-IDRI-0665\n",
      "LIDC-IDRI-0666\n",
      "LIDC-IDRI-0667\n",
      "LIDC-IDRI-0668\n",
      "LIDC-IDRI-0669\n",
      "LIDC-IDRI-0670\n",
      "LIDC-IDRI-0671\n",
      "LIDC-IDRI-0672\n",
      "LIDC-IDRI-0673\n",
      "LIDC-IDRI-0674\n",
      "LIDC-IDRI-0675\n",
      "LIDC-IDRI-0676\n",
      "LIDC-IDRI-0677\n",
      "LIDC-IDRI-0678\n",
      "LIDC-IDRI-0679\n",
      "LIDC-IDRI-0680\n",
      "LIDC-IDRI-0681\n",
      "LIDC-IDRI-0682\n",
      "LIDC-IDRI-0683\n",
      "LIDC-IDRI-0684\n",
      "LIDC-IDRI-0685\n",
      "LIDC-IDRI-0686\n",
      "LIDC-IDRI-0687\n",
      "LIDC-IDRI-0688\n",
      "LIDC-IDRI-0689\n",
      "LIDC-IDRI-0690\n",
      "LIDC-IDRI-0691\n",
      "LIDC-IDRI-0692\n",
      "LIDC-IDRI-0693\n",
      "LIDC-IDRI-0694\n",
      "LIDC-IDRI-0695\n",
      "LIDC-IDRI-0696\n",
      "LIDC-IDRI-0697\n",
      "LIDC-IDRI-0698\n",
      "LIDC-IDRI-0699\n",
      "LIDC-IDRI-0700\n",
      "LIDC-IDRI-0701\n",
      "LIDC-IDRI-0702\n",
      "LIDC-IDRI-0703\n",
      "LIDC-IDRI-0704\n",
      "LIDC-IDRI-0705\n",
      "LIDC-IDRI-0706\n",
      "LIDC-IDRI-0707\n",
      "LIDC-IDRI-0708\n",
      "LIDC-IDRI-0709\n",
      "LIDC-IDRI-0710\n",
      "LIDC-IDRI-0711\n",
      "LIDC-IDRI-0712\n",
      "LIDC-IDRI-0713\n",
      "LIDC-IDRI-0714\n",
      "LIDC-IDRI-0715\n",
      "LIDC-IDRI-0716\n",
      "LIDC-IDRI-0717\n",
      "LIDC-IDRI-0718\n",
      "LIDC-IDRI-0719\n",
      "LIDC-IDRI-0720\n",
      "LIDC-IDRI-0721\n",
      "LIDC-IDRI-0722\n",
      "LIDC-IDRI-0723\n",
      "LIDC-IDRI-0724\n",
      "LIDC-IDRI-0725\n",
      "LIDC-IDRI-0726\n",
      "LIDC-IDRI-0727\n",
      "LIDC-IDRI-0728\n",
      "LIDC-IDRI-0729\n",
      "LIDC-IDRI-0730\n",
      "LIDC-IDRI-0731\n",
      "LIDC-IDRI-0732\n",
      "LIDC-IDRI-0733\n",
      "LIDC-IDRI-0734\n",
      "LIDC-IDRI-0735\n",
      "LIDC-IDRI-0736\n",
      "LIDC-IDRI-0737\n",
      "LIDC-IDRI-0738\n",
      "LIDC-IDRI-0739\n",
      "LIDC-IDRI-0740\n",
      "LIDC-IDRI-0741\n",
      "LIDC-IDRI-0742\n",
      "LIDC-IDRI-0743\n",
      "LIDC-IDRI-0744\n",
      "LIDC-IDRI-0745\n",
      "LIDC-IDRI-0746\n",
      "LIDC-IDRI-0747\n",
      "LIDC-IDRI-0748\n",
      "LIDC-IDRI-0749\n",
      "LIDC-IDRI-0750\n",
      "LIDC-IDRI-0751\n",
      "LIDC-IDRI-0752\n",
      "LIDC-IDRI-0753\n",
      "LIDC-IDRI-0754\n",
      "LIDC-IDRI-0755\n",
      "LIDC-IDRI-0756\n",
      "LIDC-IDRI-0757\n",
      "LIDC-IDRI-0758\n",
      "LIDC-IDRI-0759\n",
      "LIDC-IDRI-0760\n",
      "LIDC-IDRI-0761\n",
      "LIDC-IDRI-0762\n",
      "LIDC-IDRI-0763\n",
      "LIDC-IDRI-0764\n",
      "LIDC-IDRI-0765\n",
      "LIDC-IDRI-0766\n",
      "LIDC-IDRI-0767\n",
      "LIDC-IDRI-0768\n",
      "LIDC-IDRI-0769\n",
      "LIDC-IDRI-0770\n",
      "LIDC-IDRI-0771\n",
      "LIDC-IDRI-0772\n",
      "LIDC-IDRI-0773\n",
      "LIDC-IDRI-0774\n",
      "LIDC-IDRI-0775\n",
      "LIDC-IDRI-0776\n",
      "LIDC-IDRI-0777\n",
      "LIDC-IDRI-0778\n",
      "LIDC-IDRI-0779\n",
      "LIDC-IDRI-0780\n",
      "LIDC-IDRI-0781\n",
      "LIDC-IDRI-0782\n",
      "LIDC-IDRI-0783\n",
      "LIDC-IDRI-0784\n",
      "LIDC-IDRI-0785\n",
      "LIDC-IDRI-0786\n",
      "LIDC-IDRI-0787\n",
      "LIDC-IDRI-0788\n",
      "LIDC-IDRI-0789\n",
      "LIDC-IDRI-0790\n",
      "LIDC-IDRI-0791\n",
      "LIDC-IDRI-0792\n",
      "LIDC-IDRI-0793\n",
      "LIDC-IDRI-0794\n",
      "LIDC-IDRI-0795\n",
      "LIDC-IDRI-0796\n",
      "LIDC-IDRI-0797\n",
      "LIDC-IDRI-0798\n",
      "LIDC-IDRI-0799\n",
      "LIDC-IDRI-0800\n",
      "LIDC-IDRI-0801\n",
      "LIDC-IDRI-0802\n",
      "LIDC-IDRI-0803\n",
      "LIDC-IDRI-0804\n",
      "LIDC-IDRI-0805\n",
      "LIDC-IDRI-0806\n",
      "LIDC-IDRI-0807\n",
      "LIDC-IDRI-0808\n",
      "LIDC-IDRI-0809\n",
      "LIDC-IDRI-0810\n",
      "LIDC-IDRI-0811\n",
      "LIDC-IDRI-0812\n",
      "LIDC-IDRI-0813\n",
      "LIDC-IDRI-0814\n",
      "LIDC-IDRI-0815\n",
      "LIDC-IDRI-0816\n",
      "LIDC-IDRI-0817\n",
      "LIDC-IDRI-0818\n",
      "LIDC-IDRI-0819\n",
      "LIDC-IDRI-0820\n",
      "LIDC-IDRI-0821\n",
      "LIDC-IDRI-0822\n",
      "LIDC-IDRI-0823\n",
      "LIDC-IDRI-0824\n",
      "LIDC-IDRI-0825\n",
      "LIDC-IDRI-0826\n",
      "LIDC-IDRI-0827\n",
      "LIDC-IDRI-0828\n",
      "LIDC-IDRI-0829\n",
      "LIDC-IDRI-0830\n",
      "LIDC-IDRI-0831\n",
      "LIDC-IDRI-0832\n",
      "LIDC-IDRI-0833\n",
      "LIDC-IDRI-0834\n",
      "LIDC-IDRI-0835\n",
      "LIDC-IDRI-0836\n",
      "LIDC-IDRI-0837\n",
      "LIDC-IDRI-0838\n",
      "LIDC-IDRI-0839\n",
      "LIDC-IDRI-0840\n",
      "LIDC-IDRI-0841\n",
      "LIDC-IDRI-0842\n",
      "LIDC-IDRI-0843\n",
      "LIDC-IDRI-0844\n",
      "LIDC-IDRI-0845\n",
      "LIDC-IDRI-0846\n",
      "LIDC-IDRI-0847\n",
      "LIDC-IDRI-0848\n",
      "LIDC-IDRI-0849\n",
      "LIDC-IDRI-0850\n",
      "LIDC-IDRI-0851\n",
      "LIDC-IDRI-0852\n",
      "LIDC-IDRI-0853\n",
      "LIDC-IDRI-0854\n",
      "LIDC-IDRI-0855\n",
      "LIDC-IDRI-0856\n",
      "LIDC-IDRI-0857\n",
      "LIDC-IDRI-0858\n",
      "LIDC-IDRI-0859\n",
      "LIDC-IDRI-0860\n",
      "LIDC-IDRI-0861\n",
      "LIDC-IDRI-0862\n",
      "LIDC-IDRI-0863\n",
      "LIDC-IDRI-0864\n",
      "LIDC-IDRI-0865\n",
      "LIDC-IDRI-0866\n",
      "LIDC-IDRI-0867\n",
      "LIDC-IDRI-0868\n",
      "LIDC-IDRI-0869\n",
      "LIDC-IDRI-0870\n",
      "LIDC-IDRI-0871\n",
      "LIDC-IDRI-0872\n",
      "LIDC-IDRI-0873\n",
      "LIDC-IDRI-0874\n",
      "LIDC-IDRI-0875\n",
      "LIDC-IDRI-0876\n",
      "LIDC-IDRI-0877\n",
      "LIDC-IDRI-0878\n",
      "LIDC-IDRI-0879\n",
      "LIDC-IDRI-0880\n",
      "LIDC-IDRI-0881\n",
      "LIDC-IDRI-0882\n",
      "LIDC-IDRI-0883\n",
      "LIDC-IDRI-0884\n",
      "LIDC-IDRI-0885\n",
      "LIDC-IDRI-0886\n",
      "LIDC-IDRI-0887\n",
      "LIDC-IDRI-0888\n",
      "LIDC-IDRI-0889\n",
      "LIDC-IDRI-0890\n",
      "LIDC-IDRI-0891\n",
      "LIDC-IDRI-0892\n",
      "LIDC-IDRI-0893\n",
      "LIDC-IDRI-0894\n",
      "LIDC-IDRI-0895\n",
      "LIDC-IDRI-0896\n",
      "LIDC-IDRI-0897\n",
      "LIDC-IDRI-0898\n",
      "LIDC-IDRI-0899\n",
      "LIDC-IDRI-0900\n",
      "LIDC-IDRI-0901\n",
      "LIDC-IDRI-0902\n",
      "LIDC-IDRI-0903\n",
      "LIDC-IDRI-0904\n",
      "LIDC-IDRI-0905\n",
      "LIDC-IDRI-0906\n",
      "LIDC-IDRI-0907\n",
      "LIDC-IDRI-0908\n",
      "LIDC-IDRI-0909\n",
      "LIDC-IDRI-0910\n",
      "LIDC-IDRI-0911\n",
      "LIDC-IDRI-0912\n",
      "LIDC-IDRI-0913\n",
      "LIDC-IDRI-0914\n",
      "LIDC-IDRI-0915\n",
      "LIDC-IDRI-0916\n",
      "LIDC-IDRI-0917\n",
      "LIDC-IDRI-0918\n",
      "LIDC-IDRI-0919\n",
      "LIDC-IDRI-0920\n",
      "LIDC-IDRI-0921\n",
      "LIDC-IDRI-0922\n",
      "LIDC-IDRI-0923\n",
      "LIDC-IDRI-0924\n",
      "LIDC-IDRI-0925\n",
      "LIDC-IDRI-0926\n",
      "LIDC-IDRI-0927\n",
      "LIDC-IDRI-0928\n",
      "LIDC-IDRI-0929\n",
      "LIDC-IDRI-0930\n",
      "LIDC-IDRI-0931\n",
      "LIDC-IDRI-0932\n",
      "LIDC-IDRI-0933\n",
      "LIDC-IDRI-0934\n",
      "LIDC-IDRI-0935\n",
      "LIDC-IDRI-0936\n",
      "LIDC-IDRI-0937\n",
      "LIDC-IDRI-0938\n",
      "LIDC-IDRI-0939\n",
      "LIDC-IDRI-0940\n",
      "LIDC-IDRI-0941\n",
      "LIDC-IDRI-0942\n",
      "LIDC-IDRI-0943\n",
      "LIDC-IDRI-0944\n",
      "LIDC-IDRI-0945\n",
      "LIDC-IDRI-0946\n",
      "LIDC-IDRI-0947\n",
      "LIDC-IDRI-0948\n",
      "LIDC-IDRI-0949\n",
      "LIDC-IDRI-0950\n",
      "LIDC-IDRI-0951\n",
      "LIDC-IDRI-0952\n",
      "LIDC-IDRI-0953\n",
      "LIDC-IDRI-0954\n",
      "LIDC-IDRI-0955\n",
      "LIDC-IDRI-0956\n",
      "LIDC-IDRI-0957\n",
      "LIDC-IDRI-0958\n",
      "LIDC-IDRI-0959\n",
      "LIDC-IDRI-0960\n",
      "LIDC-IDRI-0961\n",
      "LIDC-IDRI-0962\n",
      "LIDC-IDRI-0963\n",
      "LIDC-IDRI-0964\n",
      "LIDC-IDRI-0965\n",
      "LIDC-IDRI-0966\n",
      "LIDC-IDRI-0967\n",
      "LIDC-IDRI-0968\n",
      "LIDC-IDRI-0969\n",
      "LIDC-IDRI-0970\n",
      "LIDC-IDRI-0971\n",
      "LIDC-IDRI-0972\n",
      "LIDC-IDRI-0973\n",
      "LIDC-IDRI-0974\n",
      "LIDC-IDRI-0975\n",
      "LIDC-IDRI-0976\n",
      "LIDC-IDRI-0977\n",
      "LIDC-IDRI-0978\n",
      "LIDC-IDRI-0979\n",
      "LIDC-IDRI-0980\n",
      "LIDC-IDRI-0981\n",
      "LIDC-IDRI-0982\n",
      "LIDC-IDRI-0983\n",
      "LIDC-IDRI-0984\n",
      "LIDC-IDRI-0985\n",
      "LIDC-IDRI-0986\n",
      "LIDC-IDRI-0987\n",
      "LIDC-IDRI-0988\n",
      "LIDC-IDRI-0989\n",
      "LIDC-IDRI-0990\n",
      "LIDC-IDRI-0991\n",
      "LIDC-IDRI-0992\n",
      "LIDC-IDRI-0993\n",
      "LIDC-IDRI-0994\n",
      "LIDC-IDRI-0995\n",
      "LIDC-IDRI-0996\n",
      "LIDC-IDRI-0997\n",
      "LIDC-IDRI-0998\n",
      "LIDC-IDRI-0999\n",
      "LIDC-IDRI-1000\n",
      "LIDC-IDRI-1001\n",
      "LIDC-IDRI-1002\n",
      "LIDC-IDRI-1003\n",
      "LIDC-IDRI-1004\n",
      "LIDC-IDRI-1005\n",
      "LIDC-IDRI-1006\n",
      "LIDC-IDRI-1007\n",
      "LIDC-IDRI-1008\n",
      "LIDC-IDRI-1009\n",
      "LIDC-IDRI-1010\n",
      "LIDC-IDRI-1011\n",
      "LIDC-IDRI-1012\n"
     ]
    }
   ],
   "source": [
    "meidical_info_list = []\n",
    "for lidc_f in lidc_files:\n",
    "    seriesuid = os.path.basename(lidc_f)\n",
    "    print(seriesuid)\n",
    "    lidcpath = PathParser(lidc_f).lidcpath\n",
    "    ds = Series([lidcpath], None)\n",
    "    meidical_info = [seriesuid] + list(ds.Dcm_series_origin + ds.Dcm_series_spacing + ds.Dcm_series_size) + \\\n",
    "    [ds.Dcm_series_direction[0], ds.Dcm_series_direction[4], ds.Dcm_series_direction[8]]\n",
    "    meidical_info_list.append(meidical_info)"
   ]
  },
  {
   "cell_type": "code",
   "execution_count": 93,
   "metadata": {
    "collapsed": true
   },
   "outputs": [],
   "source": [
    "colorsumns = ['seriesuid', 'origin_x', 'origin_y', 'origin_z', 'space_x', 'space_y', \n",
    "           'space_z', 'size_x', 'size_y', 'size_z','direct_x','direct_y','direct_z']"
   ]
  },
  {
   "cell_type": "code",
   "execution_count": 95,
   "metadata": {
    "collapsed": true
   },
   "outputs": [],
   "source": [
    "pd.DataFrame(meidical_info_list, columns=columns).to_csv(\"/home/mengdi/yuxiang.ye/DN_AI_frame/workspace/lidc/lidc_medical_info.csv\", index=None)"
   ]
  },
  {
   "cell_type": "code",
   "execution_count": null,
   "metadata": {
    "collapsed": true
   },
   "outputs": [],
   "source": []
  }
 ],
 "metadata": {
  "anaconda-cloud": {},
  "kernelspec": {
   "display_name": "Python [conda env:anaconda3]",
   "language": "python",
   "name": "conda-env-anaconda3-py"
  },
  "language_info": {
   "codemirror_mode": {
    "name": "ipython",
    "version": 3
   },
   "file_extension": ".py",
   "mimetype": "text/x-python",
   "name": "python",
   "nbconvert_exporter": "python",
   "pygments_lexer": "ipython3",
   "version": "3.5.2"
  }
 },
 "nbformat": 4,
 "nbformat_minor": 2
}
